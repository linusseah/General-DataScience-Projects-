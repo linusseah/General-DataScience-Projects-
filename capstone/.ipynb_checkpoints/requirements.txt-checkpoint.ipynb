{
 "cells": [
  {
   "cell_type": "code",
   "execution_count": null,
   "metadata": {},
   "outputs": [],
   "source": [
    "Click==7.0\n",
    "Flask==1.1.1\n",
    "gunicorn==19.9.0\n",
    "itsdangerous==1.1.0\n",
    "Jinja2==2.10.1\n",
    "MarkupSafe==1.1.1\n",
    "Werkzeug==0.15.6"
   ]
  }
 ],
 "metadata": {
  "kernelspec": {
   "display_name": "Python 3",
   "language": "python",
   "name": "python3"
  },
  "language_info": {
   "codemirror_mode": {
    "name": "ipython",
    "version": 3
   },
   "file_extension": ".py",
   "mimetype": "text/x-python",
   "name": "python",
   "nbconvert_exporter": "python",
   "pygments_lexer": "ipython3",
   "version": "3.7.4"
  }
 },
 "nbformat": 4,
 "nbformat_minor": 2
}
