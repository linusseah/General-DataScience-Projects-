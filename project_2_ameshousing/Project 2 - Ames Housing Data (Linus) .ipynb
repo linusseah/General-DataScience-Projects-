{
 "cells": [
  {
   "cell_type": "markdown",
   "metadata": {},
   "source": [
    "# Project 2 - Ames Housing Data and Kaggle Challenge"
   ]
  },
  {
   "cell_type": "markdown",
   "metadata": {},
   "source": [
    "**Overview:**\n",
    "\n",
    "1) Project Objectives:\n",
    "- Generate a regression model to predict housing prices; specifically for the kaggle challenge (& as a benchmark of the effectiveness of the model) to achieve the lowest RMSE\n",
    "\n",
    "2) Exploratory data analysis\n",
    "- ensure that data points were cast in the correct datatypes \n",
    "- identified all null values in the dataset and carried out further inspection\n",
    "- plotted heatmap, pairplot, histogram and boxplots to understand the general distribution of data and presence of outliers \n",
    "\n",
    "3) Clean up dataset\n",
    "- did not remove any null values at the initial stage as it was too numerous  \n",
    "- renamed column names to standardize naming  \n",
    "- split data set into numerical and categorical variables \n",
    "\n",
    "4) Transform variables\n",
    "- split categorical variables into nominal, ordinal and binary  \n",
    "- performed mean encoding on nominal variables, ordinal encoding on oridnal variables and hot-encoding on binary variables\n",
    "\n",
    "5) Feature Selection \n",
    "- ran regressions (for numerical variables) and selected the most highly correlated variables\n",
    "- ran regressions separately for ordinal and nominal vars and selected the most highly correlated ones \n",
    "- selected the top numerical, ordinal, nominal and all binary vars as the final feature set for the model\n",
    "\n",
    "6) Train/test/split \n",
    "- used sklearn's tts to split, train and test, with 80% of the dataset used for training and the rest for testing\n",
    "\n",
    "7) Scale variables\n",
    "- used sklearn's standard Scaler for scaling - fitted using the training set. \n",
    "\n",
    "8) Evaluate, test and fit model :\n",
    "- K-fold cross valuation using 10 folds. K-fold cross R^2 scores were pretty consistent  \n",
    "- mean cross valuation R^2 score was also approx the same as the model R^2 score when fitted on a lin reg model\n",
    "- fitted using a OLS stat model to generate other stats too \n",
    "\n",
    "\n",
    "9) Regularize & tuned hyperparameters:\n",
    "- Ridge regression\n",
    "- Lasso regression\n",
    "- Hyperparameter tuning using grid search \n",
    "\n",
    "9) Final checks & final model selection:\n",
    "- compared (adjusted) R^2 and RMSE scores different mdoels and selected the best (adjusted) R^2 score \n",
    "\n",
    "10) Generate predictions on general (test) dataset: \n",
    "- Performed the same set of transformations on the test set predictor variables as we did on the training set predictor variables\n",
    "\n",
    "Group 3: Fiona, Kelvyn, Samuel "
   ]
  },
  {
   "cell_type": "markdown",
   "metadata": {},
   "source": [
    "**Importing Libraries**"
   ]
  },
  {
   "cell_type": "code",
   "execution_count": 3,
   "metadata": {},
   "outputs": [],
   "source": [
    "import pandas as pd\n",
    "import numpy as np\n",
    "import seaborn as sns \n",
    "import matplotlib.pyplot as plt\n",
    "\n",
    "from sklearn.model_selection import train_test_split, KFold, cross_val_score\n",
    "from sklearn.linear_model import LinearRegression, LassoCV, RidgeCV\n",
    "from sklearn.preprocessing import StandardScaler\n",
    "from sklearn.metrics import r2_score\n"
   ]
  },
  {
   "cell_type": "markdown",
   "metadata": {},
   "source": [
    "**Loading the Data**"
   ]
  },
  {
   "cell_type": "code",
   "execution_count": 4,
   "metadata": {},
   "outputs": [],
   "source": [
    "#ames_train contains all of the training data for your model.\n",
    "\n",
    "#ames_test target variable (SalePrice) is removed from the test set \n",
    "#this data contains the test data for your model. You will feed this data into your regression model to make predictions.\n",
    "\n",
    "ames_train = \"./datasets/train.csv\"\n",
    "ames_test = \"./datasets/test.csv\"\n",
    "\n",
    "ames_train = pd.read_csv(ames_train)\n",
    "ames_test = pd.read_csv(ames_test)\n",
    "\n",
    "#note to self: test set does not contain true target variable values so we can't score it \n",
    "#just work with the training data set to train and test "
   ]
  },
  {
   "cell_type": "markdown",
   "metadata": {},
   "source": [
    "**Data cleaning: Initial check**\n",
    "\n",
    "Check the following in the cells below:\n",
    "1. Do we have any null values?\n",
    "2. Are any numerical columns being read in as `object`?"
   ]
  },
  {
   "cell_type": "code",
   "execution_count": 8,
   "metadata": {},
   "outputs": [
    {
     "data": {
      "text/plain": [
       "(2051, 81)"
      ]
     },
     "execution_count": 8,
     "metadata": {},
     "output_type": "execute_result"
    }
   ],
   "source": [
    "ames_train.shape"
   ]
  },
  {
   "cell_type": "code",
   "execution_count": 9,
   "metadata": {
    "scrolled": true
   },
   "outputs": [
    {
     "data": {
      "text/plain": [
       "(879, 80)"
      ]
     },
     "execution_count": 9,
     "metadata": {},
     "output_type": "execute_result"
    }
   ],
   "source": [
    "ames_test.shape #note that the test set contains one less column: the Sales price target variable "
   ]
  },
  {
   "cell_type": "code",
   "execution_count": 11,
   "metadata": {},
   "outputs": [
    {
     "data": {
      "text/html": [
       "<div>\n",
       "<style scoped>\n",
       "    .dataframe tbody tr th:only-of-type {\n",
       "        vertical-align: middle;\n",
       "    }\n",
       "\n",
       "    .dataframe tbody tr th {\n",
       "        vertical-align: top;\n",
       "    }\n",
       "\n",
       "    .dataframe thead th {\n",
       "        text-align: right;\n",
       "    }\n",
       "</style>\n",
       "<table border=\"1\" class=\"dataframe\">\n",
       "  <thead>\n",
       "    <tr style=\"text-align: right;\">\n",
       "      <th></th>\n",
       "      <th>Id</th>\n",
       "      <th>PID</th>\n",
       "      <th>MS SubClass</th>\n",
       "      <th>MS Zoning</th>\n",
       "      <th>Lot Frontage</th>\n",
       "      <th>Lot Area</th>\n",
       "      <th>Street</th>\n",
       "      <th>Alley</th>\n",
       "      <th>Lot Shape</th>\n",
       "      <th>Land Contour</th>\n",
       "      <th>...</th>\n",
       "      <th>Screen Porch</th>\n",
       "      <th>Pool Area</th>\n",
       "      <th>Pool QC</th>\n",
       "      <th>Fence</th>\n",
       "      <th>Misc Feature</th>\n",
       "      <th>Misc Val</th>\n",
       "      <th>Mo Sold</th>\n",
       "      <th>Yr Sold</th>\n",
       "      <th>Sale Type</th>\n",
       "      <th>SalePrice</th>\n",
       "    </tr>\n",
       "  </thead>\n",
       "  <tbody>\n",
       "    <tr>\n",
       "      <td>0</td>\n",
       "      <td>109</td>\n",
       "      <td>533352170</td>\n",
       "      <td>60</td>\n",
       "      <td>RL</td>\n",
       "      <td>NaN</td>\n",
       "      <td>13517</td>\n",
       "      <td>Pave</td>\n",
       "      <td>NaN</td>\n",
       "      <td>IR1</td>\n",
       "      <td>Lvl</td>\n",
       "      <td>...</td>\n",
       "      <td>0</td>\n",
       "      <td>0</td>\n",
       "      <td>NaN</td>\n",
       "      <td>NaN</td>\n",
       "      <td>NaN</td>\n",
       "      <td>0</td>\n",
       "      <td>3</td>\n",
       "      <td>2010</td>\n",
       "      <td>WD</td>\n",
       "      <td>130500</td>\n",
       "    </tr>\n",
       "    <tr>\n",
       "      <td>1</td>\n",
       "      <td>544</td>\n",
       "      <td>531379050</td>\n",
       "      <td>60</td>\n",
       "      <td>RL</td>\n",
       "      <td>43.0</td>\n",
       "      <td>11492</td>\n",
       "      <td>Pave</td>\n",
       "      <td>NaN</td>\n",
       "      <td>IR1</td>\n",
       "      <td>Lvl</td>\n",
       "      <td>...</td>\n",
       "      <td>0</td>\n",
       "      <td>0</td>\n",
       "      <td>NaN</td>\n",
       "      <td>NaN</td>\n",
       "      <td>NaN</td>\n",
       "      <td>0</td>\n",
       "      <td>4</td>\n",
       "      <td>2009</td>\n",
       "      <td>WD</td>\n",
       "      <td>220000</td>\n",
       "    </tr>\n",
       "    <tr>\n",
       "      <td>2</td>\n",
       "      <td>153</td>\n",
       "      <td>535304180</td>\n",
       "      <td>20</td>\n",
       "      <td>RL</td>\n",
       "      <td>68.0</td>\n",
       "      <td>7922</td>\n",
       "      <td>Pave</td>\n",
       "      <td>NaN</td>\n",
       "      <td>Reg</td>\n",
       "      <td>Lvl</td>\n",
       "      <td>...</td>\n",
       "      <td>0</td>\n",
       "      <td>0</td>\n",
       "      <td>NaN</td>\n",
       "      <td>NaN</td>\n",
       "      <td>NaN</td>\n",
       "      <td>0</td>\n",
       "      <td>1</td>\n",
       "      <td>2010</td>\n",
       "      <td>WD</td>\n",
       "      <td>109000</td>\n",
       "    </tr>\n",
       "    <tr>\n",
       "      <td>3</td>\n",
       "      <td>318</td>\n",
       "      <td>916386060</td>\n",
       "      <td>60</td>\n",
       "      <td>RL</td>\n",
       "      <td>73.0</td>\n",
       "      <td>9802</td>\n",
       "      <td>Pave</td>\n",
       "      <td>NaN</td>\n",
       "      <td>Reg</td>\n",
       "      <td>Lvl</td>\n",
       "      <td>...</td>\n",
       "      <td>0</td>\n",
       "      <td>0</td>\n",
       "      <td>NaN</td>\n",
       "      <td>NaN</td>\n",
       "      <td>NaN</td>\n",
       "      <td>0</td>\n",
       "      <td>4</td>\n",
       "      <td>2010</td>\n",
       "      <td>WD</td>\n",
       "      <td>174000</td>\n",
       "    </tr>\n",
       "    <tr>\n",
       "      <td>4</td>\n",
       "      <td>255</td>\n",
       "      <td>906425045</td>\n",
       "      <td>50</td>\n",
       "      <td>RL</td>\n",
       "      <td>82.0</td>\n",
       "      <td>14235</td>\n",
       "      <td>Pave</td>\n",
       "      <td>NaN</td>\n",
       "      <td>IR1</td>\n",
       "      <td>Lvl</td>\n",
       "      <td>...</td>\n",
       "      <td>0</td>\n",
       "      <td>0</td>\n",
       "      <td>NaN</td>\n",
       "      <td>NaN</td>\n",
       "      <td>NaN</td>\n",
       "      <td>0</td>\n",
       "      <td>3</td>\n",
       "      <td>2010</td>\n",
       "      <td>WD</td>\n",
       "      <td>138500</td>\n",
       "    </tr>\n",
       "  </tbody>\n",
       "</table>\n",
       "<p>5 rows × 81 columns</p>\n",
       "</div>"
      ],
      "text/plain": [
       "    Id        PID  MS SubClass MS Zoning  Lot Frontage  Lot Area Street Alley  \\\n",
       "0  109  533352170           60        RL           NaN     13517   Pave   NaN   \n",
       "1  544  531379050           60        RL          43.0     11492   Pave   NaN   \n",
       "2  153  535304180           20        RL          68.0      7922   Pave   NaN   \n",
       "3  318  916386060           60        RL          73.0      9802   Pave   NaN   \n",
       "4  255  906425045           50        RL          82.0     14235   Pave   NaN   \n",
       "\n",
       "  Lot Shape Land Contour  ... Screen Porch Pool Area Pool QC Fence  \\\n",
       "0       IR1          Lvl  ...            0         0     NaN   NaN   \n",
       "1       IR1          Lvl  ...            0         0     NaN   NaN   \n",
       "2       Reg          Lvl  ...            0         0     NaN   NaN   \n",
       "3       Reg          Lvl  ...            0         0     NaN   NaN   \n",
       "4       IR1          Lvl  ...            0         0     NaN   NaN   \n",
       "\n",
       "  Misc Feature Misc Val Mo Sold Yr Sold  Sale Type  SalePrice  \n",
       "0          NaN        0       3    2010        WD      130500  \n",
       "1          NaN        0       4    2009        WD      220000  \n",
       "2          NaN        0       1    2010        WD      109000  \n",
       "3          NaN        0       4    2010        WD      174000  \n",
       "4          NaN        0       3    2010        WD      138500  \n",
       "\n",
       "[5 rows x 81 columns]"
      ]
     },
     "execution_count": 11,
     "metadata": {},
     "output_type": "execute_result"
    }
   ],
   "source": [
    "ames_train.head()"
   ]
  },
  {
   "cell_type": "code",
   "execution_count": 435,
   "metadata": {
    "scrolled": false
   },
   "outputs": [
    {
     "name": "stdout",
     "output_type": "stream",
     "text": [
      "<class 'pandas.core.frame.DataFrame'>\n",
      "RangeIndex: 2051 entries, 0 to 2050\n",
      "Data columns (total 81 columns):\n",
      "id                 2051 non-null int64\n",
      "pid                2051 non-null int64\n",
      "ms_subclass        2051 non-null int64\n",
      "ms_zoning          2051 non-null object\n",
      "lot_frontage       1721 non-null float64\n",
      "lot_area           2051 non-null int64\n",
      "street             2051 non-null object\n",
      "alley              140 non-null object\n",
      "lot_shape          2051 non-null object\n",
      "land_contour       2051 non-null object\n",
      "utilities          2051 non-null object\n",
      "lot_config         2051 non-null object\n",
      "land_slope         2051 non-null object\n",
      "neighborhood       2051 non-null object\n",
      "condition_1        2051 non-null object\n",
      "condition_2        2051 non-null object\n",
      "bldg_type          2051 non-null object\n",
      "house_style        2051 non-null object\n",
      "overall_qual       2051 non-null int64\n",
      "overall_cond       2051 non-null int64\n",
      "year_built         2051 non-null int64\n",
      "year_remod/add     2051 non-null int64\n",
      "roof_style         2051 non-null object\n",
      "roof_matl          2051 non-null object\n",
      "exterior_1st       2051 non-null object\n",
      "exterior_2nd       2051 non-null object\n",
      "mas_vnr_type       2029 non-null object\n",
      "mas_vnr_area       2029 non-null float64\n",
      "exter_qual         2051 non-null object\n",
      "exter_cond         2051 non-null object\n",
      "foundation         2051 non-null object\n",
      "bsmt_qual          1996 non-null object\n",
      "bsmt_cond          1996 non-null object\n",
      "bsmt_exposure      1993 non-null object\n",
      "bsmtfin_type_1     1996 non-null object\n",
      "bsmtfin_sf_1       2050 non-null float64\n",
      "bsmtfin_type_2     1995 non-null object\n",
      "bsmtfin_sf_2       2050 non-null float64\n",
      "bsmt_unf_sf        2050 non-null float64\n",
      "total_bsmt_sf      2050 non-null float64\n",
      "heating            2051 non-null object\n",
      "heating_qc         2051 non-null object\n",
      "central_air        2051 non-null object\n",
      "electrical         2051 non-null object\n",
      "1st_flr_sf         2051 non-null int64\n",
      "2nd_flr_sf         2051 non-null int64\n",
      "low_qual_fin_sf    2051 non-null int64\n",
      "gr_liv_area        2051 non-null int64\n",
      "bsmt_full_bath     2049 non-null float64\n",
      "bsmt_half_bath     2049 non-null float64\n",
      "full_bath          2051 non-null int64\n",
      "half_bath          2051 non-null int64\n",
      "bedroom_abvgr      2051 non-null int64\n",
      "kitchen_abvgr      2051 non-null int64\n",
      "kitchen_qual       2051 non-null object\n",
      "totrms_abvgrd      2051 non-null int64\n",
      "functional         2051 non-null object\n",
      "fireplaces         2051 non-null int64\n",
      "fireplace_qu       1051 non-null object\n",
      "garage_type        1938 non-null object\n",
      "garage_yr_blt      1937 non-null float64\n",
      "garage_finish      1937 non-null object\n",
      "garage_cars        2050 non-null float64\n",
      "garage_area        2050 non-null float64\n",
      "garage_qual        1937 non-null object\n",
      "garage_cond        1937 non-null object\n",
      "paved_drive        2051 non-null object\n",
      "wood_deck_sf       2051 non-null int64\n",
      "open_porch_sf      2051 non-null int64\n",
      "enclosed_porch     2051 non-null int64\n",
      "3ssn_porch         2051 non-null int64\n",
      "screen_porch       2051 non-null int64\n",
      "pool_area          2051 non-null int64\n",
      "pool_qc            9 non-null object\n",
      "fence              400 non-null object\n",
      "misc_feature       65 non-null object\n",
      "misc_val           2051 non-null int64\n",
      "mo_sold            2051 non-null int64\n",
      "yr_sold            2051 non-null int64\n",
      "sale_type          2051 non-null object\n",
      "saleprice          2051 non-null int64\n",
      "dtypes: float64(11), int64(28), object(42)\n",
      "memory usage: 1.3+ MB\n"
     ]
    }
   ],
   "source": [
    "ames_train.info()"
   ]
  },
  {
   "cell_type": "markdown",
   "metadata": {},
   "source": [
    "- There are quite a few categorical variables with high number of NaN values that require further inspection.\n",
    "- Almost half of the 81 variables are categorical variables.  \n",
    "- Cross referenced data types with the data dictionary on kaggle - data types seem consistent with data input (i.e. numerical types are int64 or float64 and categorical types are objects\n",
    "- I am creating a dictionary below because this command does not return the full list of null values "
   ]
  },
  {
   "cell_type": "code",
   "execution_count": 140,
   "metadata": {},
   "outputs": [],
   "source": [
    "null_values = ames_train.isnull().sum()"
   ]
  },
  {
   "cell_type": "code",
   "execution_count": 39,
   "metadata": {},
   "outputs": [
    {
     "data": {
      "text/plain": [
       "Index(['Id', 'PID', 'MS SubClass', 'MS Zoning', 'Lot Frontage', 'Lot Area',\n",
       "       'Street', 'Alley', 'Lot Shape', 'Land Contour', 'Utilities',\n",
       "       'Lot Config', 'Land Slope', 'Neighborhood', 'Condition 1',\n",
       "       'Condition 2', 'Bldg Type', 'House Style', 'Overall Qual',\n",
       "       'Overall Cond', 'Year Built', 'Year Remod/Add', 'Roof Style',\n",
       "       'Roof Matl', 'Exterior 1st', 'Exterior 2nd', 'Mas Vnr Type',\n",
       "       'Mas Vnr Area', 'Exter Qual', 'Exter Cond', 'Foundation', 'Bsmt Qual',\n",
       "       'Bsmt Cond', 'Bsmt Exposure', 'BsmtFin Type 1', 'BsmtFin SF 1',\n",
       "       'BsmtFin Type 2', 'BsmtFin SF 2', 'Bsmt Unf SF', 'Total Bsmt SF',\n",
       "       'Heating', 'Heating QC', 'Central Air', 'Electrical', '1st Flr SF',\n",
       "       '2nd Flr SF', 'Low Qual Fin SF', 'Gr Liv Area', 'Bsmt Full Bath',\n",
       "       'Bsmt Half Bath', 'Full Bath', 'Half Bath', 'Bedroom AbvGr',\n",
       "       'Kitchen AbvGr', 'Kitchen Qual', 'TotRms AbvGrd', 'Functional',\n",
       "       'Fireplaces', 'Fireplace Qu', 'Garage Type', 'Garage Yr Blt',\n",
       "       'Garage Finish', 'Garage Cars', 'Garage Area', 'Garage Qual',\n",
       "       'Garage Cond', 'Paved Drive', 'Wood Deck SF', 'Open Porch SF',\n",
       "       'Enclosed Porch', '3Ssn Porch', 'Screen Porch', 'Pool Area', 'Pool QC',\n",
       "       'Fence', 'Misc Feature', 'Misc Val', 'Mo Sold', 'Yr Sold', 'Sale Type',\n",
       "       'SalePrice'],\n",
       "      dtype='object')"
      ]
     },
     "execution_count": 39,
     "metadata": {},
     "output_type": "execute_result"
    }
   ],
   "source": [
    "null_values.index"
   ]
  },
  {
   "cell_type": "code",
   "execution_count": 40,
   "metadata": {},
   "outputs": [],
   "source": [
    "names = ['Id', 'PID', 'MS SubClass', 'MS Zoning', 'Lot Frontage', 'Lot Area',\n",
    "       'Street', 'Alley', 'Lot Shape', 'Land Contour', 'Utilities',\n",
    "       'Lot Config', 'Land Slope', 'Neighborhood', 'Condition 1',\n",
    "       'Condition 2', 'Bldg Type', 'House Style', 'Overall Qual',\n",
    "       'Overall Cond', 'Year Built', 'Year Remod/Add', 'Roof Style',\n",
    "       'Roof Matl', 'Exterior 1st', 'Exterior 2nd', 'Mas Vnr Type',\n",
    "       'Mas Vnr Area', 'Exter Qual', 'Exter Cond', 'Foundation', 'Bsmt Qual',\n",
    "       'Bsmt Cond', 'Bsmt Exposure', 'BsmtFin Type 1', 'BsmtFin SF 1',\n",
    "       'BsmtFin Type 2', 'BsmtFin SF 2', 'Bsmt Unf SF', 'Total Bsmt SF',\n",
    "       'Heating', 'Heating QC', 'Central Air', 'Electrical', '1st Flr SF',\n",
    "       '2nd Flr SF', 'Low Qual Fin SF', 'Gr Liv Area', 'Bsmt Full Bath',\n",
    "       'Bsmt Half Bath', 'Full Bath', 'Half Bath', 'Bedroom AbvGr',\n",
    "       'Kitchen AbvGr', 'Kitchen Qual', 'TotRms AbvGrd', 'Functional',\n",
    "       'Fireplaces', 'Fireplace Qu', 'Garage Type', 'Garage Yr Blt',\n",
    "       'Garage Finish', 'Garage Cars', 'Garage Area', 'Garage Qual',\n",
    "       'Garage Cond', 'Paved Drive', 'Wood Deck SF', 'Open Porch SF',\n",
    "       'Enclosed Porch', '3Ssn Porch', 'Screen Porch', 'Pool Area', 'Pool QC',\n",
    "       'Fence', 'Misc Feature', 'Misc Val', 'Mo Sold', 'Yr Sold', 'Sale Type',\n",
    "       'SalePrice']"
   ]
  },
  {
   "cell_type": "code",
   "execution_count": 41,
   "metadata": {
    "scrolled": true
   },
   "outputs": [],
   "source": [
    "values = []\n",
    "for i in null_values:\n",
    "    values.append(i)\n",
    "\n",
    "null_values = zip(names,values)"
   ]
  },
  {
   "cell_type": "markdown",
   "metadata": {},
   "source": [
    "There are actually quite a lot of null values:\n",
    "- 'Pool QC': 2042\n",
    "- 'Fence': 1651\n",
    "- 'Misc Feature': 1986\n",
    "- 'Fireplace Qu': 1000\n",
    "- 'Alley': 1911\n",
    "- 'Lot Frontage': 330"
   ]
  },
  {
   "cell_type": "code",
   "execution_count": 42,
   "metadata": {
    "scrolled": true
   },
   "outputs": [
    {
     "data": {
      "text/plain": [
       "{'Id': 0,\n",
       " 'PID': 0,\n",
       " 'MS SubClass': 0,\n",
       " 'MS Zoning': 0,\n",
       " 'Lot Frontage': 330,\n",
       " 'Lot Area': 0,\n",
       " 'Street': 0,\n",
       " 'Alley': 1911,\n",
       " 'Lot Shape': 0,\n",
       " 'Land Contour': 0,\n",
       " 'Utilities': 0,\n",
       " 'Lot Config': 0,\n",
       " 'Land Slope': 0,\n",
       " 'Neighborhood': 0,\n",
       " 'Condition 1': 0,\n",
       " 'Condition 2': 0,\n",
       " 'Bldg Type': 0,\n",
       " 'House Style': 0,\n",
       " 'Overall Qual': 0,\n",
       " 'Overall Cond': 0,\n",
       " 'Year Built': 0,\n",
       " 'Year Remod/Add': 0,\n",
       " 'Roof Style': 0,\n",
       " 'Roof Matl': 0,\n",
       " 'Exterior 1st': 0,\n",
       " 'Exterior 2nd': 0,\n",
       " 'Mas Vnr Type': 22,\n",
       " 'Mas Vnr Area': 22,\n",
       " 'Exter Qual': 0,\n",
       " 'Exter Cond': 0,\n",
       " 'Foundation': 0,\n",
       " 'Bsmt Qual': 55,\n",
       " 'Bsmt Cond': 55,\n",
       " 'Bsmt Exposure': 58,\n",
       " 'BsmtFin Type 1': 55,\n",
       " 'BsmtFin SF 1': 1,\n",
       " 'BsmtFin Type 2': 56,\n",
       " 'BsmtFin SF 2': 1,\n",
       " 'Bsmt Unf SF': 1,\n",
       " 'Total Bsmt SF': 1,\n",
       " 'Heating': 0,\n",
       " 'Heating QC': 0,\n",
       " 'Central Air': 0,\n",
       " 'Electrical': 0,\n",
       " '1st Flr SF': 0,\n",
       " '2nd Flr SF': 0,\n",
       " 'Low Qual Fin SF': 0,\n",
       " 'Gr Liv Area': 0,\n",
       " 'Bsmt Full Bath': 2,\n",
       " 'Bsmt Half Bath': 2,\n",
       " 'Full Bath': 0,\n",
       " 'Half Bath': 0,\n",
       " 'Bedroom AbvGr': 0,\n",
       " 'Kitchen AbvGr': 0,\n",
       " 'Kitchen Qual': 0,\n",
       " 'TotRms AbvGrd': 0,\n",
       " 'Functional': 0,\n",
       " 'Fireplaces': 0,\n",
       " 'Fireplace Qu': 1000,\n",
       " 'Garage Type': 113,\n",
       " 'Garage Yr Blt': 114,\n",
       " 'Garage Finish': 114,\n",
       " 'Garage Cars': 1,\n",
       " 'Garage Area': 1,\n",
       " 'Garage Qual': 114,\n",
       " 'Garage Cond': 114,\n",
       " 'Paved Drive': 0,\n",
       " 'Wood Deck SF': 0,\n",
       " 'Open Porch SF': 0,\n",
       " 'Enclosed Porch': 0,\n",
       " '3Ssn Porch': 0,\n",
       " 'Screen Porch': 0,\n",
       " 'Pool Area': 0,\n",
       " 'Pool QC': 2042,\n",
       " 'Fence': 1651,\n",
       " 'Misc Feature': 1986,\n",
       " 'Misc Val': 0,\n",
       " 'Mo Sold': 0,\n",
       " 'Yr Sold': 0,\n",
       " 'Sale Type': 0,\n",
       " 'SalePrice': 0}"
      ]
     },
     "execution_count": 42,
     "metadata": {},
     "output_type": "execute_result"
    }
   ],
   "source": [
    "dict(null_values)\n",
    "#is there a faster way to view all the null values by thier column names? (df.isnull().sum() doesn't print out\n",
    "#the entire list)"
   ]
  },
  {
   "cell_type": "markdown",
   "metadata": {},
   "source": [
    "**Renaming columns for consistency and easier retrieval**"
   ]
  },
  {
   "cell_type": "code",
   "execution_count": 43,
   "metadata": {},
   "outputs": [],
   "source": [
    "ames_train.columns = [x.lower().replace(' ','_') for x in ames_train.columns]"
   ]
  },
  {
   "cell_type": "markdown",
   "metadata": {},
   "source": [
    "**Trying to understand columns with high NA counts better**"
   ]
  },
  {
   "cell_type": "code",
   "execution_count": 49,
   "metadata": {},
   "outputs": [
    {
     "data": {
      "text/plain": [
       "array([nan, 'Fa', 'Gd', 'Ex', 'TA'], dtype=object)"
      ]
     },
     "execution_count": 49,
     "metadata": {},
     "output_type": "execute_result"
    }
   ],
   "source": [
    "#there are actually quite a lot of null values esp. 'Pool QC': 2042, 'Fence': 1651, 'Misc Feature': 1986,\n",
    "# 'Fireplace Qu': 1000, 'Alley': 1911, 'Lot Frontage': 330,\n",
    "ames_train['pool_qc'].unique()"
   ]
  },
  {
   "cell_type": "code",
   "execution_count": 50,
   "metadata": {},
   "outputs": [
    {
     "data": {
      "text/plain": [
       "Gd    4\n",
       "TA    2\n",
       "Fa    2\n",
       "Ex    1\n",
       "Name: pool_qc, dtype: int64"
      ]
     },
     "execution_count": 50,
     "metadata": {},
     "output_type": "execute_result"
    }
   ],
   "source": [
    "ames_train['pool_qc'].value_counts() \n",
    "# looks like there are only 9 houses that actually has a pool to be graded \n",
    "# NA represents No Pool so it seems like alot of these houses have no pools \n",
    "# might be better to just dummy variable 0 for no pool and 1 for pool regardless of pool grade "
   ]
  },
  {
   "cell_type": "code",
   "execution_count": 52,
   "metadata": {},
   "outputs": [
    {
     "data": {
      "text/plain": [
       "array([nan, 'MnPrv', 'GdPrv', 'GdWo', 'MnWw'], dtype=object)"
      ]
     },
     "execution_count": 52,
     "metadata": {},
     "output_type": "execute_result"
    }
   ],
   "source": [
    "ames_train['fence'].unique()"
   ]
  },
  {
   "cell_type": "code",
   "execution_count": 53,
   "metadata": {},
   "outputs": [
    {
     "data": {
      "text/plain": [
       "MnPrv    227\n",
       "GdPrv     83\n",
       "GdWo      80\n",
       "MnWw      10\n",
       "Name: fence, dtype: int64"
      ]
     },
     "execution_count": 53,
     "metadata": {},
     "output_type": "execute_result"
    }
   ],
   "source": [
    "ames_train['fence'].value_counts() "
   ]
  },
  {
   "cell_type": "code",
   "execution_count": 54,
   "metadata": {},
   "outputs": [
    {
     "data": {
      "text/plain": [
       "array([nan, 'Shed', 'TenC', 'Gar2', 'Othr', 'Elev'], dtype=object)"
      ]
     },
     "execution_count": 54,
     "metadata": {},
     "output_type": "execute_result"
    }
   ],
   "source": [
    "ames_train['misc_feature'].unique()"
   ]
  },
  {
   "cell_type": "code",
   "execution_count": 55,
   "metadata": {},
   "outputs": [
    {
     "data": {
      "text/plain": [
       "Shed    56\n",
       "Gar2     4\n",
       "Othr     3\n",
       "TenC     1\n",
       "Elev     1\n",
       "Name: misc_feature, dtype: int64"
      ]
     },
     "execution_count": 55,
     "metadata": {},
     "output_type": "execute_result"
    }
   ],
   "source": [
    "ames_train['misc_feature'].value_counts() "
   ]
  },
  {
   "cell_type": "code",
   "execution_count": 59,
   "metadata": {},
   "outputs": [
    {
     "data": {
      "text/plain": [
       "array([nan, 'TA', 'Gd', 'Po', 'Ex', 'Fa'], dtype=object)"
      ]
     },
     "execution_count": 59,
     "metadata": {},
     "output_type": "execute_result"
    }
   ],
   "source": [
    "ames_train['fireplace_qu'].unique()"
   ]
  },
  {
   "cell_type": "code",
   "execution_count": 60,
   "metadata": {},
   "outputs": [
    {
     "data": {
      "text/plain": [
       "Gd    523\n",
       "TA    407\n",
       "Fa     59\n",
       "Ex     31\n",
       "Po     31\n",
       "Name: fireplace_qu, dtype: int64"
      ]
     },
     "execution_count": 60,
     "metadata": {},
     "output_type": "execute_result"
    }
   ],
   "source": [
    "ames_train['fireplace_qu'].value_counts() "
   ]
  },
  {
   "cell_type": "code",
   "execution_count": 61,
   "metadata": {},
   "outputs": [
    {
     "data": {
      "text/plain": [
       "array([nan, 'Pave', 'Grvl'], dtype=object)"
      ]
     },
     "execution_count": 61,
     "metadata": {},
     "output_type": "execute_result"
    }
   ],
   "source": [
    "ames_train['alley'].unique()"
   ]
  },
  {
   "cell_type": "code",
   "execution_count": 62,
   "metadata": {
    "scrolled": false
   },
   "outputs": [
    {
     "data": {
      "text/plain": [
       "Grvl    85\n",
       "Pave    55\n",
       "Name: alley, dtype: int64"
      ]
     },
     "execution_count": 62,
     "metadata": {},
     "output_type": "execute_result"
    }
   ],
   "source": [
    "ames_train['alley'].value_counts() "
   ]
  },
  {
   "cell_type": "code",
   "execution_count": 63,
   "metadata": {},
   "outputs": [
    {
     "data": {
      "text/plain": [
       "array([ nan,  43.,  68.,  73.,  82., 137.,  35.,  70.,  21.,  64., 120.,\n",
       "        24.,  74.,  93.,  34.,  80.,  71.,  72., 109.,  40., 103., 100.,\n",
       "        92.,  65.,  75.,  60.,  30.,  79.,  41., 105., 107.,  81.,  36.,\n",
       "        63.,  32.,  94.,  44.,  50.,  48.,  67.,  88.,  83.,  53.,  58.,\n",
       "        57.,  52.,  87., 134.,  56.,  54., 140.,  78.,  85.,  90.,  96.,\n",
       "        62.,  49.,  59., 155.,  91.,  61.,  86., 128.,  77.,  42.,  89.,\n",
       "        51.,  69.,  55., 112.,  76., 125.,  98., 113., 102.,  22., 122.,\n",
       "        84., 119., 118.,  66.,  95., 108., 195., 106.,  39., 110., 130.,\n",
       "        97.,  45.,  37., 123.,  38., 129., 115.,  47., 114., 104.,  46.,\n",
       "       121., 124., 313., 141., 101.,  99., 160., 174.,  26., 144., 138.,\n",
       "       111.,  25.,  33., 200., 150., 117., 153., 116., 135.])"
      ]
     },
     "execution_count": 63,
     "metadata": {},
     "output_type": "execute_result"
    }
   ],
   "source": [
    "ames_train['lot_frontage'].unique()"
   ]
  },
  {
   "cell_type": "code",
   "execution_count": 64,
   "metadata": {},
   "outputs": [
    {
     "data": {
      "text/plain": [
       "60.0     179\n",
       "70.0      96\n",
       "80.0      94\n",
       "50.0      90\n",
       "65.0      71\n",
       "        ... \n",
       "22.0       1\n",
       "155.0      1\n",
       "153.0      1\n",
       "119.0      1\n",
       "135.0      1\n",
       "Name: lot_frontage, Length: 118, dtype: int64"
      ]
     },
     "execution_count": 64,
     "metadata": {},
     "output_type": "execute_result"
    }
   ],
   "source": [
    "ames_train['lot_frontage'].value_counts() "
   ]
  },
  {
   "cell_type": "markdown",
   "metadata": {},
   "source": [
    "Seems like all null values are Nan or Null meaning that a majority of these houses surveyed simply do not have any of those features. No problematic terms like NA or 0 or empty values. I will probably not use these variables as individual predictor variables for now in constructing my model as it probably won't be a strong predictor given that there are so many non-values. Could potentially think of using them as interaction or dummy variables (e.g. big house + swimming pool) \n",
    "\n",
    "However i will not drop the entire row values as they would remove too significant a chunk of data from the training dataset. Neither will i drop these specific columns because as mentioned, they could be useful for studying specific categorical or interactive predictions.\n",
    "\n",
    "Additionally, pool_qc, fireplace_qu and fence have ordinal variables so we could potentially map them against an ordered list of increasing magnitudes "
   ]
  },
  {
   "cell_type": "code",
   "execution_count": 67,
   "metadata": {
    "scrolled": true
   },
   "outputs": [
    {
     "data": {
      "text/plain": [
       "(2051, 81)"
      ]
     },
     "execution_count": 67,
     "metadata": {},
     "output_type": "execute_result"
    }
   ],
   "source": [
    "ames_train.shape"
   ]
  },
  {
   "cell_type": "markdown",
   "metadata": {},
   "source": [
    "**Subsetting the data (initial survey)**\n",
    "\n",
    "Selecting a subset of data based on an initial survey of all the variables in the given ames_train dataset based on variables which i think are more relevant for analysis (based on eyeballing/intuition). "
   ]
  },
  {
   "cell_type": "code",
   "execution_count": 84,
   "metadata": {},
   "outputs": [],
   "source": [
    "#created a subset dataset of 14 variables: 8 categorical and 6 continuous (inclusive of target variable sale px)\n",
    "at_trunc_col = ['saleprice','lot_area','lot_shape',  'utilities','condition_1','bldg_type', 'overall_qual',\n",
    "       'year_built', 'exter_cond', 'foundation','heating', 'mo_sold', 'yr_sold', 'sale_type']\n",
    "\n",
    "#cat vars = ['lot_shape', 'utilities','condition_1','bldg_type','exter_cond','foundation','heating', 'sale_type']\n",
    "#continuous var = ['saleprice',lot_area','overall_qual','year_built', 'mo_sold', 'yr_sold']\n",
    "#y = 'saleprice'"
   ]
  },
  {
   "cell_type": "code",
   "execution_count": 85,
   "metadata": {},
   "outputs": [
    {
     "data": {
      "text/html": [
       "<div>\n",
       "<style scoped>\n",
       "    .dataframe tbody tr th:only-of-type {\n",
       "        vertical-align: middle;\n",
       "    }\n",
       "\n",
       "    .dataframe tbody tr th {\n",
       "        vertical-align: top;\n",
       "    }\n",
       "\n",
       "    .dataframe thead th {\n",
       "        text-align: right;\n",
       "    }\n",
       "</style>\n",
       "<table border=\"1\" class=\"dataframe\">\n",
       "  <thead>\n",
       "    <tr style=\"text-align: right;\">\n",
       "      <th></th>\n",
       "      <th>saleprice</th>\n",
       "      <th>lot_area</th>\n",
       "      <th>lot_shape</th>\n",
       "      <th>utilities</th>\n",
       "      <th>condition_1</th>\n",
       "      <th>bldg_type</th>\n",
       "      <th>overall_qual</th>\n",
       "      <th>year_built</th>\n",
       "      <th>exter_cond</th>\n",
       "      <th>foundation</th>\n",
       "      <th>heating</th>\n",
       "      <th>mo_sold</th>\n",
       "      <th>yr_sold</th>\n",
       "      <th>sale_type</th>\n",
       "    </tr>\n",
       "  </thead>\n",
       "  <tbody>\n",
       "    <tr>\n",
       "      <td>0</td>\n",
       "      <td>130500</td>\n",
       "      <td>13517</td>\n",
       "      <td>IR1</td>\n",
       "      <td>AllPub</td>\n",
       "      <td>RRAe</td>\n",
       "      <td>1Fam</td>\n",
       "      <td>6</td>\n",
       "      <td>1976</td>\n",
       "      <td>TA</td>\n",
       "      <td>CBlock</td>\n",
       "      <td>GasA</td>\n",
       "      <td>3</td>\n",
       "      <td>2010</td>\n",
       "      <td>WD</td>\n",
       "    </tr>\n",
       "    <tr>\n",
       "      <td>1</td>\n",
       "      <td>220000</td>\n",
       "      <td>11492</td>\n",
       "      <td>IR1</td>\n",
       "      <td>AllPub</td>\n",
       "      <td>Norm</td>\n",
       "      <td>1Fam</td>\n",
       "      <td>7</td>\n",
       "      <td>1996</td>\n",
       "      <td>TA</td>\n",
       "      <td>PConc</td>\n",
       "      <td>GasA</td>\n",
       "      <td>4</td>\n",
       "      <td>2009</td>\n",
       "      <td>WD</td>\n",
       "    </tr>\n",
       "    <tr>\n",
       "      <td>2</td>\n",
       "      <td>109000</td>\n",
       "      <td>7922</td>\n",
       "      <td>Reg</td>\n",
       "      <td>AllPub</td>\n",
       "      <td>Norm</td>\n",
       "      <td>1Fam</td>\n",
       "      <td>5</td>\n",
       "      <td>1953</td>\n",
       "      <td>Gd</td>\n",
       "      <td>CBlock</td>\n",
       "      <td>GasA</td>\n",
       "      <td>1</td>\n",
       "      <td>2010</td>\n",
       "      <td>WD</td>\n",
       "    </tr>\n",
       "    <tr>\n",
       "      <td>3</td>\n",
       "      <td>174000</td>\n",
       "      <td>9802</td>\n",
       "      <td>Reg</td>\n",
       "      <td>AllPub</td>\n",
       "      <td>Norm</td>\n",
       "      <td>1Fam</td>\n",
       "      <td>5</td>\n",
       "      <td>2006</td>\n",
       "      <td>TA</td>\n",
       "      <td>PConc</td>\n",
       "      <td>GasA</td>\n",
       "      <td>4</td>\n",
       "      <td>2010</td>\n",
       "      <td>WD</td>\n",
       "    </tr>\n",
       "    <tr>\n",
       "      <td>4</td>\n",
       "      <td>138500</td>\n",
       "      <td>14235</td>\n",
       "      <td>IR1</td>\n",
       "      <td>AllPub</td>\n",
       "      <td>Norm</td>\n",
       "      <td>1Fam</td>\n",
       "      <td>6</td>\n",
       "      <td>1900</td>\n",
       "      <td>TA</td>\n",
       "      <td>PConc</td>\n",
       "      <td>GasA</td>\n",
       "      <td>3</td>\n",
       "      <td>2010</td>\n",
       "      <td>WD</td>\n",
       "    </tr>\n",
       "  </tbody>\n",
       "</table>\n",
       "</div>"
      ],
      "text/plain": [
       "   saleprice  lot_area lot_shape utilities condition_1 bldg_type  \\\n",
       "0     130500     13517       IR1    AllPub        RRAe      1Fam   \n",
       "1     220000     11492       IR1    AllPub        Norm      1Fam   \n",
       "2     109000      7922       Reg    AllPub        Norm      1Fam   \n",
       "3     174000      9802       Reg    AllPub        Norm      1Fam   \n",
       "4     138500     14235       IR1    AllPub        Norm      1Fam   \n",
       "\n",
       "   overall_qual  year_built exter_cond foundation heating  mo_sold  yr_sold  \\\n",
       "0             6        1976         TA     CBlock    GasA        3     2010   \n",
       "1             7        1996         TA      PConc    GasA        4     2009   \n",
       "2             5        1953         Gd     CBlock    GasA        1     2010   \n",
       "3             5        2006         TA      PConc    GasA        4     2010   \n",
       "4             6        1900         TA      PConc    GasA        3     2010   \n",
       "\n",
       "  sale_type  \n",
       "0       WD   \n",
       "1       WD   \n",
       "2       WD   \n",
       "3       WD   \n",
       "4       WD   "
      ]
     },
     "execution_count": 85,
     "metadata": {},
     "output_type": "execute_result"
    }
   ],
   "source": [
    "at_trunc = ames_train[at_trunc_col]\n",
    "at_trunc.head()"
   ]
  },
  {
   "cell_type": "markdown",
   "metadata": {},
   "source": [
    "**Plotting a heatmap of my truncated dataset**"
   ]
  },
  {
   "cell_type": "code",
   "execution_count": 86,
   "metadata": {},
   "outputs": [
    {
     "data": {
      "text/html": [
       "<div>\n",
       "<style scoped>\n",
       "    .dataframe tbody tr th:only-of-type {\n",
       "        vertical-align: middle;\n",
       "    }\n",
       "\n",
       "    .dataframe tbody tr th {\n",
       "        vertical-align: top;\n",
       "    }\n",
       "\n",
       "    .dataframe thead th {\n",
       "        text-align: right;\n",
       "    }\n",
       "</style>\n",
       "<table border=\"1\" class=\"dataframe\">\n",
       "  <thead>\n",
       "    <tr style=\"text-align: right;\">\n",
       "      <th></th>\n",
       "      <th>saleprice</th>\n",
       "      <th>lot_area</th>\n",
       "      <th>overall_qual</th>\n",
       "      <th>year_built</th>\n",
       "      <th>mo_sold</th>\n",
       "      <th>yr_sold</th>\n",
       "    </tr>\n",
       "  </thead>\n",
       "  <tbody>\n",
       "    <tr>\n",
       "      <td>saleprice</td>\n",
       "      <td>1.000000</td>\n",
       "      <td>0.296566</td>\n",
       "      <td>0.800207</td>\n",
       "      <td>0.571849</td>\n",
       "      <td>0.032735</td>\n",
       "      <td>-0.015203</td>\n",
       "    </tr>\n",
       "    <tr>\n",
       "      <td>lot_area</td>\n",
       "      <td>0.296566</td>\n",
       "      <td>1.000000</td>\n",
       "      <td>0.105824</td>\n",
       "      <td>0.036002</td>\n",
       "      <td>0.003197</td>\n",
       "      <td>-0.029454</td>\n",
       "    </tr>\n",
       "    <tr>\n",
       "      <td>overall_qual</td>\n",
       "      <td>0.800207</td>\n",
       "      <td>0.105824</td>\n",
       "      <td>1.000000</td>\n",
       "      <td>0.602964</td>\n",
       "      <td>0.019242</td>\n",
       "      <td>-0.011578</td>\n",
       "    </tr>\n",
       "    <tr>\n",
       "      <td>year_built</td>\n",
       "      <td>0.571849</td>\n",
       "      <td>0.036002</td>\n",
       "      <td>0.602964</td>\n",
       "      <td>1.000000</td>\n",
       "      <td>-0.007083</td>\n",
       "      <td>-0.003559</td>\n",
       "    </tr>\n",
       "    <tr>\n",
       "      <td>mo_sold</td>\n",
       "      <td>0.032735</td>\n",
       "      <td>0.003197</td>\n",
       "      <td>0.019242</td>\n",
       "      <td>-0.007083</td>\n",
       "      <td>1.000000</td>\n",
       "      <td>-0.147494</td>\n",
       "    </tr>\n",
       "    <tr>\n",
       "      <td>yr_sold</td>\n",
       "      <td>-0.015203</td>\n",
       "      <td>-0.029454</td>\n",
       "      <td>-0.011578</td>\n",
       "      <td>-0.003559</td>\n",
       "      <td>-0.147494</td>\n",
       "      <td>1.000000</td>\n",
       "    </tr>\n",
       "  </tbody>\n",
       "</table>\n",
       "</div>"
      ],
      "text/plain": [
       "              saleprice  lot_area  overall_qual  year_built   mo_sold  \\\n",
       "saleprice      1.000000  0.296566      0.800207    0.571849  0.032735   \n",
       "lot_area       0.296566  1.000000      0.105824    0.036002  0.003197   \n",
       "overall_qual   0.800207  0.105824      1.000000    0.602964  0.019242   \n",
       "year_built     0.571849  0.036002      0.602964    1.000000 -0.007083   \n",
       "mo_sold        0.032735  0.003197      0.019242   -0.007083  1.000000   \n",
       "yr_sold       -0.015203 -0.029454     -0.011578   -0.003559 -0.147494   \n",
       "\n",
       "               yr_sold  \n",
       "saleprice    -0.015203  \n",
       "lot_area     -0.029454  \n",
       "overall_qual -0.011578  \n",
       "year_built   -0.003559  \n",
       "mo_sold      -0.147494  \n",
       "yr_sold       1.000000  "
      ]
     },
     "execution_count": 86,
     "metadata": {},
     "output_type": "execute_result"
    }
   ],
   "source": [
    "at_trunc_reg = at_trunc.corr()\n",
    "at_trunc_reg"
   ]
  },
  {
   "cell_type": "markdown",
   "metadata": {},
   "source": [
    "**Note to self: heat map currently only shows correlations between continuous variables**\n",
    "\n",
    "overall_quality and year_built show the strongest positive correlations with sale price, as expected. lot_area surprisingly doesn't show a very high coefficient. \n",
    "\n",
    "Time of sale (i.e. month/year sold) also does not return any strong coefficient indicating that there is no detected seasonality of sales "
   ]
  },
  {
   "cell_type": "code",
   "execution_count": 103,
   "metadata": {},
   "outputs": [
    {
     "data": {
      "image/png": "[encoded data removed]",
      "text/plain": [
       "<Figure size 720x576 with 2 Axes>"
      ]
     },
     "metadata": {
      "needs_background": "light"
     },
     "output_type": "display_data"
    }
   ],
   "source": [
    "import seaborn as sns \n",
    "\n",
    "plt.subplots(figsize=(10,8))\n",
    "\n",
    "mask = np.zeros_like(at_trunc_reg)\n",
    "mask[np.triu_indices_from(mask)] = True\n",
    "with sns.axes_style(\"white\"):\n",
    "    ax = sns.heatmap(at_trunc_reg, mask=mask, vmax=.3, square=True, annot=True)\n",
    "    bottom, top = ax.get_ylim() #add these code to prevent the heatmap from getting cut off\n",
    "    ax.set_ylim(bottom+0.5, top-0.5)"
   ]
  },
  {
   "cell_type": "markdown",
   "metadata": {},
   "source": [
    "**Plotting a pairplot on the truncated dataset**"
   ]
  },
  {
   "cell_type": "code",
   "execution_count": 88,
   "metadata": {},
   "outputs": [],
   "source": [
    "x = ['lot_area','overall_qual','year_built', 'mo_sold', 'yr_sold']\n",
    "y = ['saleprice']"
   ]
  },
  {
   "cell_type": "code",
   "execution_count": 89,
   "metadata": {},
   "outputs": [
    {
     "data": {
      "image/png": "[encoded data removed]",
      "text/plain": [
       "<Figure size 900x180 with 5 Axes>"
      ]
     },
     "metadata": {
      "needs_background": "light"
     },
     "output_type": "display_data"
    }
   ],
   "source": [
    "sns.pairplot(ames_train, x_vars = x, y_vars = y);"
   ]
  },
  {
   "cell_type": "markdown",
   "metadata": {},
   "source": [
    "**Creating Histograms of all numerical columns**"
   ]
  },
  {
   "cell_type": "markdown",
   "metadata": {},
   "source": [
    "A majority of the numerical variables are not normally distributed with the exception of mo_sold and maybe overall_qual. Most of them are right skewed.  "
   ]
  },
  {
   "cell_type": "code",
   "execution_count": 141,
   "metadata": {
    "scrolled": true
   },
   "outputs": [
    {
     "data": {
      "image/png": "[encoded data removed]",
      "text/plain": [
       "<Figure size 1440x1440 with 42 Axes>"
      ]
     },
     "metadata": {
      "needs_background": "light"
     },
     "output_type": "display_data"
    }
   ],
   "source": [
    "ames_train.hist(figsize=(20,20));\n",
    "#to consider how we have be transforming these distributions"
   ]
  },
  {
   "cell_type": "markdown",
   "metadata": {},
   "source": [
    "**Selecting for all numerical columns in the ames_train dataset**"
   ]
  },
  {
   "cell_type": "code",
   "execution_count": 100,
   "metadata": {},
   "outputs": [],
   "source": [
    "ames_allnum = ames_train.select_dtypes(include=['float64','int64'])"
   ]
  },
  {
   "cell_type": "code",
   "execution_count": 105,
   "metadata": {},
   "outputs": [
    {
     "data": {
      "text/plain": [
       "(2051, 39)"
      ]
     },
     "execution_count": 105,
     "metadata": {},
     "output_type": "execute_result"
    }
   ],
   "source": [
    "ames_allnum.shape\n",
    "#there are 39 numerical columns "
   ]
  },
  {
   "cell_type": "code",
   "execution_count": 102,
   "metadata": {
    "scrolled": true
   },
   "outputs": [
    {
     "name": "stdout",
     "output_type": "stream",
     "text": [
      "<class 'pandas.core.frame.DataFrame'>\n",
      "RangeIndex: 2051 entries, 0 to 2050\n",
      "Data columns (total 39 columns):\n",
      "id                 2051 non-null int64\n",
      "pid                2051 non-null int64\n",
      "ms_subclass        2051 non-null int64\n",
      "lot_frontage       1721 non-null float64\n",
      "lot_area           2051 non-null int64\n",
      "overall_qual       2051 non-null int64\n",
      "overall_cond       2051 non-null int64\n",
      "year_built         2051 non-null int64\n",
      "year_remod/add     2051 non-null int64\n",
      "mas_vnr_area       2029 non-null float64\n",
      "bsmtfin_sf_1       2050 non-null float64\n",
      "bsmtfin_sf_2       2050 non-null float64\n",
      "bsmt_unf_sf        2050 non-null float64\n",
      "total_bsmt_sf      2050 non-null float64\n",
      "1st_flr_sf         2051 non-null int64\n",
      "2nd_flr_sf         2051 non-null int64\n",
      "low_qual_fin_sf    2051 non-null int64\n",
      "gr_liv_area        2051 non-null int64\n",
      "bsmt_full_bath     2049 non-null float64\n",
      "bsmt_half_bath     2049 non-null float64\n",
      "full_bath          2051 non-null int64\n",
      "half_bath          2051 non-null int64\n",
      "bedroom_abvgr      2051 non-null int64\n",
      "kitchen_abvgr      2051 non-null int64\n",
      "totrms_abvgrd      2051 non-null int64\n",
      "fireplaces         2051 non-null int64\n",
      "garage_yr_blt      1937 non-null float64\n",
      "garage_cars        2050 non-null float64\n",
      "garage_area        2050 non-null float64\n",
      "wood_deck_sf       2051 non-null int64\n",
      "open_porch_sf      2051 non-null int64\n",
      "enclosed_porch     2051 non-null int64\n",
      "3ssn_porch         2051 non-null int64\n",
      "screen_porch       2051 non-null int64\n",
      "pool_area          2051 non-null int64\n",
      "misc_val           2051 non-null int64\n",
      "mo_sold            2051 non-null int64\n",
      "yr_sold            2051 non-null int64\n",
      "saleprice          2051 non-null int64\n",
      "dtypes: float64(11), int64(28)\n",
      "memory usage: 625.0 KB\n"
     ]
    }
   ],
   "source": [
    "ames_allnum.info()"
   ]
  },
  {
   "cell_type": "markdown",
   "metadata": {},
   "source": [
    "**Going to run reg and plot boxplots and pairplots for all num columns as well to get a better understanding of the variables**"
   ]
  },
  {
   "cell_type": "markdown",
   "metadata": {},
   "source": [
    "I am just going to select the top few correlated values (>0.55) against the target variable saleprice isntead of plotting all the variables in a heatmap because there are too many variables for the diagram to be meaningfully interpreted. "
   ]
  },
  {
   "cell_type": "code",
   "execution_count": 107,
   "metadata": {
    "scrolled": true
   },
   "outputs": [
    {
     "data": {
      "text/plain": [
       "pid               -0.255052\n",
       "enclosed_porch    -0.135656\n",
       "kitchen_abvgr     -0.125444\n",
       "overall_cond      -0.097019\n",
       "ms_subclass       -0.087335\n",
       "id                -0.051398\n",
       "bsmt_half_bath    -0.045328\n",
       "low_qual_fin_sf   -0.041594\n",
       "yr_sold           -0.015203\n",
       "misc_val          -0.007375\n",
       "bsmtfin_sf_2       0.016255\n",
       "pool_area          0.023106\n",
       "mo_sold            0.032735\n",
       "3ssn_porch         0.048732\n",
       "screen_porch       0.134581\n",
       "bedroom_abvgr      0.137067\n",
       "bsmt_unf_sf        0.190210\n",
       "2nd_flr_sf         0.248452\n",
       "half_bath          0.283001\n",
       "bsmt_full_bath     0.283662\n",
       "lot_area           0.296566\n",
       "wood_deck_sf       0.326490\n",
       "open_porch_sf      0.333476\n",
       "lot_frontage       0.341842\n",
       "bsmtfin_sf_1       0.423519\n",
       "fireplaces         0.471093\n",
       "totrms_abvgrd      0.504014\n",
       "mas_vnr_area       0.512230\n",
       "garage_yr_blt      0.533922\n",
       "full_bath          0.537969\n",
       "year_remod/add     0.550370\n",
       "year_built         0.571849\n",
       "1st_flr_sf         0.618486\n",
       "total_bsmt_sf      0.628925\n",
       "garage_cars        0.648220\n",
       "garage_area        0.650270\n",
       "gr_liv_area        0.697038\n",
       "overall_qual       0.800207\n",
       "saleprice          1.000000\n",
       "Name: saleprice, dtype: float64"
      ]
     },
     "execution_count": 107,
     "metadata": {},
     "output_type": "execute_result"
    }
   ],
   "source": [
    "at_allnum_reg = ames_allnum.corr()\n",
    "at_allnum_reg['saleprice'].sort_values()\n",
    "#since we are most interested in looking at how the variou independent num vars interact with our target var salesprice"
   ]
  },
  {
   "cell_type": "markdown",
   "metadata": {},
   "source": [
    "Quite a few of the top correlated variables below are relatively correlated with each other. But i will leave these variables in for now to create my base model and then remove the more highly correlated variables to see how the score changes "
   ]
  },
  {
   "cell_type": "code",
   "execution_count": 132,
   "metadata": {},
   "outputs": [],
   "source": [
    "#The most correlated variables are positively correlated. The negatively correlated coefficients are qtuie small\n",
    "top_corr = ['overall_qual', 'gr_liv_area','garage_area','garage_cars','total_bsmt_sf','1st_flr_sf','year_built',\n",
    "           'year_remod/add']\n",
    "\n",
    "#gr_liv_area: above ground living area square feet\n",
    "#garage_area and garage_cars are highly correlated so going to choose one \n",
    "#year remod is the same as year constructed if there has been no remodelling done (correlation is relatively high)\n",
    "#so going to just choose year_built\n",
    "#gr_liv_area and 1st_flr_sf are also pretty correlated so might have to remove later on"
   ]
  },
  {
   "cell_type": "code",
   "execution_count": 389,
   "metadata": {},
   "outputs": [],
   "source": [
    "#creating new top_corr_num dataframe\n",
    "top_corr_num = pd.DataFrame(columns=['init'])\n",
    "\n",
    "for i in top_corr:\n",
    "    top_corr_num[i] = ames_allnum[i]"
   ]
  },
  {
   "cell_type": "code",
   "execution_count": 390,
   "metadata": {},
   "outputs": [],
   "source": [
    "top_corr_num.drop('init',axis=1,inplace=True)"
   ]
  },
  {
   "cell_type": "code",
   "execution_count": 391,
   "metadata": {},
   "outputs": [
    {
     "data": {
      "text/html": [
       "<div>\n",
       "<style scoped>\n",
       "    .dataframe tbody tr th:only-of-type {\n",
       "        vertical-align: middle;\n",
       "    }\n",
       "\n",
       "    .dataframe tbody tr th {\n",
       "        vertical-align: top;\n",
       "    }\n",
       "\n",
       "    .dataframe thead th {\n",
       "        text-align: right;\n",
       "    }\n",
       "</style>\n",
       "<table border=\"1\" class=\"dataframe\">\n",
       "  <thead>\n",
       "    <tr style=\"text-align: right;\">\n",
       "      <th></th>\n",
       "      <th>overall_qual</th>\n",
       "      <th>gr_liv_area</th>\n",
       "      <th>garage_area</th>\n",
       "      <th>garage_cars</th>\n",
       "      <th>total_bsmt_sf</th>\n",
       "      <th>1st_flr_sf</th>\n",
       "      <th>year_built</th>\n",
       "      <th>year_remod/add</th>\n",
       "    </tr>\n",
       "  </thead>\n",
       "  <tbody>\n",
       "    <tr>\n",
       "      <td>0</td>\n",
       "      <td>6</td>\n",
       "      <td>1479</td>\n",
       "      <td>475.0</td>\n",
       "      <td>2.0</td>\n",
       "      <td>725.0</td>\n",
       "      <td>725</td>\n",
       "      <td>1976</td>\n",
       "      <td>2005</td>\n",
       "    </tr>\n",
       "    <tr>\n",
       "      <td>1</td>\n",
       "      <td>7</td>\n",
       "      <td>2122</td>\n",
       "      <td>559.0</td>\n",
       "      <td>2.0</td>\n",
       "      <td>913.0</td>\n",
       "      <td>913</td>\n",
       "      <td>1996</td>\n",
       "      <td>1997</td>\n",
       "    </tr>\n",
       "    <tr>\n",
       "      <td>2</td>\n",
       "      <td>5</td>\n",
       "      <td>1057</td>\n",
       "      <td>246.0</td>\n",
       "      <td>1.0</td>\n",
       "      <td>1057.0</td>\n",
       "      <td>1057</td>\n",
       "      <td>1953</td>\n",
       "      <td>2007</td>\n",
       "    </tr>\n",
       "    <tr>\n",
       "      <td>3</td>\n",
       "      <td>5</td>\n",
       "      <td>1444</td>\n",
       "      <td>400.0</td>\n",
       "      <td>2.0</td>\n",
       "      <td>384.0</td>\n",
       "      <td>744</td>\n",
       "      <td>2006</td>\n",
       "      <td>2007</td>\n",
       "    </tr>\n",
       "    <tr>\n",
       "      <td>4</td>\n",
       "      <td>6</td>\n",
       "      <td>1445</td>\n",
       "      <td>484.0</td>\n",
       "      <td>2.0</td>\n",
       "      <td>676.0</td>\n",
       "      <td>831</td>\n",
       "      <td>1900</td>\n",
       "      <td>1993</td>\n",
       "    </tr>\n",
       "  </tbody>\n",
       "</table>\n",
       "</div>"
      ],
      "text/plain": [
       "   overall_qual  gr_liv_area  garage_area  garage_cars  total_bsmt_sf  \\\n",
       "0             6         1479        475.0          2.0          725.0   \n",
       "1             7         2122        559.0          2.0          913.0   \n",
       "2             5         1057        246.0          1.0         1057.0   \n",
       "3             5         1444        400.0          2.0          384.0   \n",
       "4             6         1445        484.0          2.0          676.0   \n",
       "\n",
       "   1st_flr_sf  year_built  year_remod/add  \n",
       "0         725        1976            2005  \n",
       "1         913        1996            1997  \n",
       "2        1057        1953            2007  \n",
       "3         744        2006            2007  \n",
       "4         831        1900            1993  "
      ]
     },
     "execution_count": 391,
     "metadata": {},
     "output_type": "execute_result"
    }
   ],
   "source": [
    "top_corr_num.head()"
   ]
  },
  {
   "cell_type": "markdown",
   "metadata": {},
   "source": [
    "Putting some of the top corr variable regression scores here to highlight those with higher correlations"
   ]
  },
  {
   "cell_type": "code",
   "execution_count": 116,
   "metadata": {
    "scrolled": true
   },
   "outputs": [
    {
     "data": {
      "text/plain": [
       "0.8931802937075785"
      ]
     },
     "execution_count": 116,
     "metadata": {},
     "output_type": "execute_result"
    }
   ],
   "source": [
    "at_allnum_reg['garage_area']['garage_cars']"
   ]
  },
  {
   "cell_type": "code",
   "execution_count": 120,
   "metadata": {},
   "outputs": [
    {
     "data": {
      "text/plain": [
       "0.5624406787474514"
      ]
     },
     "execution_count": 120,
     "metadata": {},
     "output_type": "execute_result"
    }
   ],
   "source": [
    "at_allnum_reg['gr_liv_area']['1st_flr_sf']"
   ]
  },
  {
   "cell_type": "code",
   "execution_count": 118,
   "metadata": {},
   "outputs": [
    {
     "data": {
      "text/plain": [
       "0.6291163808227803"
      ]
     },
     "execution_count": 118,
     "metadata": {},
     "output_type": "execute_result"
    }
   ],
   "source": [
    "at_allnum_reg['year_built']['year_remod/add']"
   ]
  },
  {
   "cell_type": "markdown",
   "metadata": {},
   "source": [
    "**Plotting pairplot & boxplot for top correlated variables against saleprice**"
   ]
  },
  {
   "cell_type": "code",
   "execution_count": 133,
   "metadata": {
    "scrolled": true
   },
   "outputs": [
    {
     "data": {
      "image/png": "[encoded data removed]",
      "text/plain": [
       "<Figure size 1440x180 with 8 Axes>"
      ]
     },
     "metadata": {
      "needs_background": "light"
     },
     "output_type": "display_data"
    }
   ],
   "source": [
    "sns.pairplot(ames_train, x_vars = top_corr, y_vars = ['saleprice']);"
   ]
  },
  {
   "cell_type": "markdown",
   "metadata": {},
   "source": [
    "Identifying potential outliers amongst the shortlisted numerical variables "
   ]
  },
  {
   "cell_type": "code",
   "execution_count": 137,
   "metadata": {
    "scrolled": true
   },
   "outputs": [
    {
     "data": {
      "image/png": "[encoded data removed]",
      "text/plain": [
       "<Figure size 1800x360 with 1 Axes>"
      ]
     },
     "metadata": {
      "needs_background": "light"
     },
     "output_type": "display_data"
    }
   ],
   "source": [
    "ames_allnum[top_corr].boxplot(figsize=(25,5));"
   ]
  },
  {
   "cell_type": "markdown",
   "metadata": {},
   "source": [
    "Plotting the maximum, minimum and standard deviations of the top correlated numerical variables just to eyeball the general data distributions - but not that helpful"
   ]
  },
  {
   "cell_type": "code",
   "execution_count": 145,
   "metadata": {},
   "outputs": [
    {
     "data": {
      "image/png": "[encoded data removed]",
      "text/plain": [
       "<Figure size 1080x360 with 1 Axes>"
      ]
     },
     "metadata": {
      "needs_background": "light"
     },
     "output_type": "display_data"
    }
   ],
   "source": [
    "ames_allnum[top_corr].max().plot(figsize = (15,5));\n",
    "ames_allnum[top_corr].min().plot(figsize = (15,5));\n",
    "ames_allnum[top_corr].std().plot(figsize = (15,5));"
   ]
  },
  {
   "cell_type": "markdown",
   "metadata": {},
   "source": [
    "**Dealing with the categorical variables** "
   ]
  },
  {
   "cell_type": "markdown",
   "metadata": {},
   "source": [
    "ames_allnum_name = ['id', 'pid', 'ms_subclass', 'lot_frontage', 'lot_area', 'overall_qual',\n",
    "       'overall_cond', 'year_built', 'year_remod/add', 'mas_vnr_area',\n",
    "       'bsmtfin_sf_1', 'bsmtfin_sf_2', 'bsmt_unf_sf', 'total_bsmt_sf',\n",
    "       '1st_flr_sf', '2nd_flr_sf', 'low_qual_fin_sf', 'gr_liv_area',\n",
    "       'bsmt_full_bath', 'bsmt_half_bath', 'full_bath', 'half_bath',\n",
    "       'bedroom_abvgr', 'kitchen_abvgr', 'totrms_abvgrd', 'fireplaces',\n",
    "       'garage_yr_blt', 'garage_cars', 'garage_area', 'wood_deck_sf',\n",
    "       'open_porch_sf', 'enclosed_porch', '3ssn_porch', 'screen_porch',\n",
    "       'pool_area', 'misc_val', 'mo_sold', 'yr_sold', 'saleprice']"
   ]
  },
  {
   "cell_type": "code",
   "execution_count": 164,
   "metadata": {
    "scrolled": true
   },
   "outputs": [],
   "source": [
    "#i am not sure why the commands below both do not work \n",
    "#ames_allcat = ames_train[[k for k in ames_train.columns not in ames_allnum_name]]\n",
    "#ames_allcat = ames_train[[k for k in ames_train.columns not in ames_allnum.columns]]"
   ]
  },
  {
   "cell_type": "code",
   "execution_count": 165,
   "metadata": {},
   "outputs": [],
   "source": [
    "ames_allcat = ames_train.select_dtypes(include=['object'])"
   ]
  },
  {
   "cell_type": "code",
   "execution_count": 156,
   "metadata": {
    "scrolled": false
   },
   "outputs": [
    {
     "data": {
      "text/plain": [
       "(2051, 81)"
      ]
     },
     "execution_count": 156,
     "metadata": {},
     "output_type": "execute_result"
    }
   ],
   "source": [
    "ames_train.shape"
   ]
  },
  {
   "cell_type": "code",
   "execution_count": 155,
   "metadata": {
    "scrolled": true
   },
   "outputs": [
    {
     "data": {
      "text/plain": [
       "(2051, 39)"
      ]
     },
     "execution_count": 155,
     "metadata": {},
     "output_type": "execute_result"
    }
   ],
   "source": [
    "ames_allnum.shape"
   ]
  },
  {
   "cell_type": "code",
   "execution_count": 166,
   "metadata": {
    "scrolled": true
   },
   "outputs": [
    {
     "data": {
      "text/plain": [
       "(2051, 42)"
      ]
     },
     "execution_count": 166,
     "metadata": {},
     "output_type": "execute_result"
    }
   ],
   "source": [
    "ames_allcat.shape\n",
    "#notice that this is the complement of allnum (81-39 =42)"
   ]
  },
  {
   "cell_type": "code",
   "execution_count": 167,
   "metadata": {},
   "outputs": [
    {
     "name": "stdout",
     "output_type": "stream",
     "text": [
      "<class 'pandas.core.frame.DataFrame'>\n",
      "RangeIndex: 2051 entries, 0 to 2050\n",
      "Data columns (total 42 columns):\n",
      "ms_zoning         2051 non-null object\n",
      "street            2051 non-null object\n",
      "alley             140 non-null object\n",
      "lot_shape         2051 non-null object\n",
      "land_contour      2051 non-null object\n",
      "utilities         2051 non-null object\n",
      "lot_config        2051 non-null object\n",
      "land_slope        2051 non-null object\n",
      "neighborhood      2051 non-null object\n",
      "condition_1       2051 non-null object\n",
      "condition_2       2051 non-null object\n",
      "bldg_type         2051 non-null object\n",
      "house_style       2051 non-null object\n",
      "roof_style        2051 non-null object\n",
      "roof_matl         2051 non-null object\n",
      "exterior_1st      2051 non-null object\n",
      "exterior_2nd      2051 non-null object\n",
      "mas_vnr_type      2029 non-null object\n",
      "exter_qual        2051 non-null object\n",
      "exter_cond        2051 non-null object\n",
      "foundation        2051 non-null object\n",
      "bsmt_qual         1996 non-null object\n",
      "bsmt_cond         1996 non-null object\n",
      "bsmt_exposure     1993 non-null object\n",
      "bsmtfin_type_1    1996 non-null object\n",
      "bsmtfin_type_2    1995 non-null object\n",
      "heating           2051 non-null object\n",
      "heating_qc        2051 non-null object\n",
      "central_air       2051 non-null object\n",
      "electrical        2051 non-null object\n",
      "kitchen_qual      2051 non-null object\n",
      "functional        2051 non-null object\n",
      "fireplace_qu      1051 non-null object\n",
      "garage_type       1938 non-null object\n",
      "garage_finish     1937 non-null object\n",
      "garage_qual       1937 non-null object\n",
      "garage_cond       1937 non-null object\n",
      "paved_drive       2051 non-null object\n",
      "pool_qc           9 non-null object\n",
      "fence             400 non-null object\n",
      "misc_feature      65 non-null object\n",
      "sale_type         2051 non-null object\n",
      "dtypes: object(42)\n",
      "memory usage: 673.1+ KB\n"
     ]
    }
   ],
   "source": [
    "ames_allcat.info() #we have selected for all the categorical object type variables "
   ]
  },
  {
   "cell_type": "markdown",
   "metadata": {},
   "source": [
    "**Further segmenting the categorical variables into Ordinal, binary or nominal** "
   ]
  },
  {
   "cell_type": "code",
   "execution_count": 211,
   "metadata": {},
   "outputs": [],
   "source": [
    "ames_cat_ordinal = ['lot_shape','utilities','exter_qual','exter_cond','bsmt_qual','bsmt_cond',\n",
    "                   'bsmtfin_type_1','bsmtfin_type_2', 'heating_qc','kitchen_qual','functional',\n",
    "                   'fireplace_qu','garage_finish','garage_qual','garage_cond','pool_qc',\n",
    "                   'fence']\n",
    "\n",
    "#scale 1 being the worst \n",
    "#lotshape 1 irregular - 4 regular\n",
    "#utilities 1 elo 4 allpub\n",
    "#exterqual 1 poor 5 excellent \n",
    "#extercond 1 poor 5 excellent \n",
    "#bsmtqual 1poor 5 excellent\n",
    "#bsmtcond 1poor 5 excellent\n",
    "#bsmtfin_type_1 1 unfinished 6 good living quarters\n",
    "#bsmtfin_type_2 1 unfinished 6 good living quarters\n",
    "#heatingqc 1 poor 5 excellent \n",
    "#kitchenqual 1 poor 5 excellent \n",
    "#functional 1 salvage only 8 typical functionality \n",
    "#fireplacequ 1 poor 5 excellent\n",
    "#garagefinish 1 unfinished 3 finished\n",
    "#garagequal 1 poor 5 excellent\n",
    "#garagecond 1 poor 5 excellent\n",
    "#poolqc 1 fair 4 excellent\n",
    "#fence 1 min wood/wire 4 good privacy \n",
    "\n",
    "ames_cat_binary = ['central_air', 'paved_drive','misc_feature']\n",
    "\n",
    "#paveddrive has 3 categories but we can convert partial to a No \n",
    "#could treat miscfeature as a bonus (i.e. if a houe has any misc feature it gets a 1)\n",
    "#we could also potentially treat fireplacequ, poolqc and fence as binary features too because majority of homes \n",
    "#do not have these features anyway"
   ]
  },
  {
   "cell_type": "code",
   "execution_count": 212,
   "metadata": {},
   "outputs": [],
   "source": [
    "ames_cat_other = ames_cat_binary + ames_cat_ordinal"
   ]
  },
  {
   "cell_type": "code",
   "execution_count": 213,
   "metadata": {},
   "outputs": [],
   "source": [
    "ames_cat_nominal = ames_allcat[[k for k in ames_allcat.columns if k not in ames_cat_other]]"
   ]
  },
  {
   "cell_type": "code",
   "execution_count": 214,
   "metadata": {
    "scrolled": true
   },
   "outputs": [],
   "source": [
    "ames_cat_ordinal = ames_allcat[ames_cat_ordinal]"
   ]
  },
  {
   "cell_type": "code",
   "execution_count": 215,
   "metadata": {},
   "outputs": [],
   "source": [
    "ames_cat_binary = ames_allcat[ames_cat_binary]"
   ]
  },
  {
   "cell_type": "code",
   "execution_count": 217,
   "metadata": {
    "scrolled": true
   },
   "outputs": [
    {
     "name": "stdout",
     "output_type": "stream",
     "text": [
      "All Cat variables: (2051, 42)\n",
      "All Ordinal variables: (2051, 17)\n",
      "All Binary variables: (2051, 3)\n",
      "All Nominal variables: (2051, 22)\n"
     ]
    }
   ],
   "source": [
    "print(\"All Cat variables:\", ames_allcat.shape)\n",
    "print(\"All Ordinal variables:\",ames_cat_ordinal.shape)\n",
    "print(\"All Binary variables:\",ames_cat_binary.shape)\n",
    "print(\"All Nominal variables:\",ames_cat_nominal.shape)"
   ]
  },
  {
   "cell_type": "markdown",
   "metadata": {},
   "source": [
    "**Transforming Categorial Variables**\n",
    "\n",
    "I will attempt to employ different methods to transform the different groups of categorical variables, then subsequently fit them into a model and then select the method that achieves the best score.\n",
    "\n",
    "Current plan is to use:\n",
    "- Mean encoding for nominal variables\n",
    "- Dummy variable for binary variables `scale before creating dummies`\n",
    "- Ordinal encoding for ordinal variables\n",
    "\n",
    "Once all these categorical variables have been transformed into numeric types, i will be able to run .corr() regressions on all of them and sieve out the more important ones from there and combine it with the top correlated numerical variables to form my feature 'longlist'\n",
    "\n",
    "After which I could run the VIF on the feature 'longlist' and cull those that exhibit multicollinearity. OR i could just fit everything into a model, get my baseline score. \n",
    "\n",
    "After that, cull via VIF selection, then use Lasso and then calculate my new score to compare against the baseline \n"
   ]
  },
  {
   "cell_type": "markdown",
   "metadata": {},
   "source": [
    "**Method 1: Mean Encoding for nominal variables**\n",
    "\n",
    "- Potential pitfall: this method is infamous for eventual overfitting \n",
    "- How to counter: ensure that variables are scaled / employ VIF / Lasso later \n",
    "\n",
    "\n",
    "*From a mathematical point of view, mean encoding represents a probability of your target variable, conditional on each value of the feature. In a way, it embodies the target variable in its encoded value\n",
    "\n",
    "https://towardsdatascience.com/why-you-should-try-mean-encoding-17057262cd0"
   ]
  },
  {
   "cell_type": "code",
   "execution_count": 260,
   "metadata": {
    "scrolled": true
   },
   "outputs": [
    {
     "data": {
      "text/plain": [
       "Index(['ms_zoning', 'street', 'alley', 'land_contour', 'lot_config',\n",
       "       'land_slope', 'neighborhood', 'condition_1', 'condition_2', 'bldg_type',\n",
       "       'house_style', 'roof_style', 'roof_matl', 'exterior_1st',\n",
       "       'exterior_2nd', 'mas_vnr_type', 'foundation', 'bsmt_exposure',\n",
       "       'heating', 'electrical', 'garage_type', 'sale_type'],\n",
       "      dtype='object')"
      ]
     },
     "execution_count": 260,
     "metadata": {},
     "output_type": "execute_result"
    }
   ],
   "source": [
    "ames_cat_nominal.columns"
   ]
  },
  {
   "cell_type": "code",
   "execution_count": 1033,
   "metadata": {},
   "outputs": [
    {
     "data": {
      "text/html": [
       "<div>\n",
       "<style scoped>\n",
       "    .dataframe tbody tr th:only-of-type {\n",
       "        vertical-align: middle;\n",
       "    }\n",
       "\n",
       "    .dataframe tbody tr th {\n",
       "        vertical-align: top;\n",
       "    }\n",
       "\n",
       "    .dataframe thead th {\n",
       "        text-align: right;\n",
       "    }\n",
       "</style>\n",
       "<table border=\"1\" class=\"dataframe\">\n",
       "  <thead>\n",
       "    <tr style=\"text-align: right;\">\n",
       "      <th></th>\n",
       "      <th>ms_zoning</th>\n",
       "      <th>street</th>\n",
       "      <th>alley</th>\n",
       "      <th>land_contour</th>\n",
       "      <th>lot_config</th>\n",
       "      <th>land_slope</th>\n",
       "      <th>neighborhood</th>\n",
       "      <th>condition_1</th>\n",
       "      <th>condition_2</th>\n",
       "      <th>bldg_type</th>\n",
       "      <th>...</th>\n",
       "      <th>roof_matl</th>\n",
       "      <th>exterior_1st</th>\n",
       "      <th>exterior_2nd</th>\n",
       "      <th>mas_vnr_type</th>\n",
       "      <th>foundation</th>\n",
       "      <th>bsmt_exposure</th>\n",
       "      <th>heating</th>\n",
       "      <th>electrical</th>\n",
       "      <th>garage_type</th>\n",
       "      <th>sale_type</th>\n",
       "    </tr>\n",
       "  </thead>\n",
       "  <tbody>\n",
       "    <tr>\n",
       "      <td>0</td>\n",
       "      <td>RL</td>\n",
       "      <td>Pave</td>\n",
       "      <td>NaN</td>\n",
       "      <td>Lvl</td>\n",
       "      <td>CulDSac</td>\n",
       "      <td>Gtl</td>\n",
       "      <td>Sawyer</td>\n",
       "      <td>RRAe</td>\n",
       "      <td>Norm</td>\n",
       "      <td>1Fam</td>\n",
       "      <td>...</td>\n",
       "      <td>CompShg</td>\n",
       "      <td>HdBoard</td>\n",
       "      <td>Plywood</td>\n",
       "      <td>BrkFace</td>\n",
       "      <td>CBlock</td>\n",
       "      <td>No</td>\n",
       "      <td>GasA</td>\n",
       "      <td>SBrkr</td>\n",
       "      <td>Attchd</td>\n",
       "      <td>WD</td>\n",
       "    </tr>\n",
       "    <tr>\n",
       "      <td>1</td>\n",
       "      <td>RL</td>\n",
       "      <td>Pave</td>\n",
       "      <td>NaN</td>\n",
       "      <td>Lvl</td>\n",
       "      <td>CulDSac</td>\n",
       "      <td>Gtl</td>\n",
       "      <td>SawyerW</td>\n",
       "      <td>Norm</td>\n",
       "      <td>Norm</td>\n",
       "      <td>1Fam</td>\n",
       "      <td>...</td>\n",
       "      <td>CompShg</td>\n",
       "      <td>VinylSd</td>\n",
       "      <td>VinylSd</td>\n",
       "      <td>BrkFace</td>\n",
       "      <td>PConc</td>\n",
       "      <td>No</td>\n",
       "      <td>GasA</td>\n",
       "      <td>SBrkr</td>\n",
       "      <td>Attchd</td>\n",
       "      <td>WD</td>\n",
       "    </tr>\n",
       "    <tr>\n",
       "      <td>2</td>\n",
       "      <td>RL</td>\n",
       "      <td>Pave</td>\n",
       "      <td>NaN</td>\n",
       "      <td>Lvl</td>\n",
       "      <td>Inside</td>\n",
       "      <td>Gtl</td>\n",
       "      <td>NAmes</td>\n",
       "      <td>Norm</td>\n",
       "      <td>Norm</td>\n",
       "      <td>1Fam</td>\n",
       "      <td>...</td>\n",
       "      <td>CompShg</td>\n",
       "      <td>VinylSd</td>\n",
       "      <td>VinylSd</td>\n",
       "      <td>None</td>\n",
       "      <td>CBlock</td>\n",
       "      <td>No</td>\n",
       "      <td>GasA</td>\n",
       "      <td>SBrkr</td>\n",
       "      <td>Detchd</td>\n",
       "      <td>WD</td>\n",
       "    </tr>\n",
       "    <tr>\n",
       "      <td>3</td>\n",
       "      <td>RL</td>\n",
       "      <td>Pave</td>\n",
       "      <td>NaN</td>\n",
       "      <td>Lvl</td>\n",
       "      <td>Inside</td>\n",
       "      <td>Gtl</td>\n",
       "      <td>Timber</td>\n",
       "      <td>Norm</td>\n",
       "      <td>Norm</td>\n",
       "      <td>1Fam</td>\n",
       "      <td>...</td>\n",
       "      <td>CompShg</td>\n",
       "      <td>VinylSd</td>\n",
       "      <td>VinylSd</td>\n",
       "      <td>None</td>\n",
       "      <td>PConc</td>\n",
       "      <td>No</td>\n",
       "      <td>GasA</td>\n",
       "      <td>SBrkr</td>\n",
       "      <td>BuiltIn</td>\n",
       "      <td>WD</td>\n",
       "    </tr>\n",
       "    <tr>\n",
       "      <td>4</td>\n",
       "      <td>RL</td>\n",
       "      <td>Pave</td>\n",
       "      <td>NaN</td>\n",
       "      <td>Lvl</td>\n",
       "      <td>Inside</td>\n",
       "      <td>Gtl</td>\n",
       "      <td>SawyerW</td>\n",
       "      <td>Norm</td>\n",
       "      <td>Norm</td>\n",
       "      <td>1Fam</td>\n",
       "      <td>...</td>\n",
       "      <td>CompShg</td>\n",
       "      <td>Wd Sdng</td>\n",
       "      <td>Plywood</td>\n",
       "      <td>None</td>\n",
       "      <td>PConc</td>\n",
       "      <td>No</td>\n",
       "      <td>GasA</td>\n",
       "      <td>SBrkr</td>\n",
       "      <td>Detchd</td>\n",
       "      <td>WD</td>\n",
       "    </tr>\n",
       "  </tbody>\n",
       "</table>\n",
       "<p>5 rows × 22 columns</p>\n",
       "</div>"
      ],
      "text/plain": [
       "  ms_zoning street alley land_contour lot_config land_slope neighborhood  \\\n",
       "0        RL   Pave   NaN          Lvl    CulDSac        Gtl       Sawyer   \n",
       "1        RL   Pave   NaN          Lvl    CulDSac        Gtl      SawyerW   \n",
       "2        RL   Pave   NaN          Lvl     Inside        Gtl        NAmes   \n",
       "3        RL   Pave   NaN          Lvl     Inside        Gtl       Timber   \n",
       "4        RL   Pave   NaN          Lvl     Inside        Gtl      SawyerW   \n",
       "\n",
       "  condition_1 condition_2 bldg_type  ... roof_matl exterior_1st exterior_2nd  \\\n",
       "0        RRAe        Norm      1Fam  ...   CompShg      HdBoard      Plywood   \n",
       "1        Norm        Norm      1Fam  ...   CompShg      VinylSd      VinylSd   \n",
       "2        Norm        Norm      1Fam  ...   CompShg      VinylSd      VinylSd   \n",
       "3        Norm        Norm      1Fam  ...   CompShg      VinylSd      VinylSd   \n",
       "4        Norm        Norm      1Fam  ...   CompShg      Wd Sdng      Plywood   \n",
       "\n",
       "  mas_vnr_type foundation bsmt_exposure heating electrical garage_type  \\\n",
       "0      BrkFace     CBlock            No    GasA      SBrkr      Attchd   \n",
       "1      BrkFace      PConc            No    GasA      SBrkr      Attchd   \n",
       "2         None     CBlock            No    GasA      SBrkr      Detchd   \n",
       "3         None      PConc            No    GasA      SBrkr     BuiltIn   \n",
       "4         None      PConc            No    GasA      SBrkr      Detchd   \n",
       "\n",
       "  sale_type  \n",
       "0       WD   \n",
       "1       WD   \n",
       "2       WD   \n",
       "3       WD   \n",
       "4       WD   \n",
       "\n",
       "[5 rows x 22 columns]"
      ]
     },
     "execution_count": 1033,
     "metadata": {},
     "output_type": "execute_result"
    }
   ],
   "source": [
    "ames_cat_nominal.head()"
   ]
  },
  {
   "cell_type": "code",
   "execution_count": 261,
   "metadata": {},
   "outputs": [],
   "source": [
    "nominal_tf = pd.DataFrame(columns=['init'])\n",
    "#creating an empty dataframe here to add transformed variables to for each categorical variable type \n",
    "#in this case starting with the nominal categorical variable types "
   ]
  },
  {
   "cell_type": "code",
   "execution_count": 262,
   "metadata": {},
   "outputs": [],
   "source": [
    "#'saleprice' is our target here \n",
    "#what mean_encode does is to record the total number of counts per category and the respective sum of its \n",
    "#target variable. Subseqeuntly the sum of target variable per category is divided by its count \n",
    "#meaning that \n",
    "\n",
    "def mean_encode(col):\n",
    "    mean_en = ames_train.groupby(col)['saleprice'].mean()\n",
    "    nominal_tf[col+'_mean_enc'] = ames_cat_nominal[col].map(mean_en)\n",
    "    "
   ]
  },
  {
   "cell_type": "code",
   "execution_count": 263,
   "metadata": {},
   "outputs": [],
   "source": [
    "#testing out mean_encode function with one of the variables \n",
    "mean_encode('ms_zoning')"
   ]
  },
  {
   "cell_type": "code",
   "execution_count": 264,
   "metadata": {},
   "outputs": [
    {
     "data": {
      "text/plain": [
       "array([191235.16458073, 129119.14240506, 218618.31683168,  78010.89473684,\n",
       "        47300.        , 148859.57142857,  57625.        ])"
      ]
     },
     "execution_count": 264,
     "metadata": {},
     "output_type": "execute_result"
    }
   ],
   "source": [
    "#checking out what has been encoded into this column \n",
    "nominal_tf['ms_zoning_mean_enc'].unique()"
   ]
  },
  {
   "cell_type": "code",
   "execution_count": 265,
   "metadata": {},
   "outputs": [
    {
     "data": {
      "text/html": [
       "<div>\n",
       "<style scoped>\n",
       "    .dataframe tbody tr th:only-of-type {\n",
       "        vertical-align: middle;\n",
       "    }\n",
       "\n",
       "    .dataframe tbody tr th {\n",
       "        vertical-align: top;\n",
       "    }\n",
       "\n",
       "    .dataframe thead th {\n",
       "        text-align: right;\n",
       "    }\n",
       "</style>\n",
       "<table border=\"1\" class=\"dataframe\">\n",
       "  <thead>\n",
       "    <tr style=\"text-align: right;\">\n",
       "      <th></th>\n",
       "      <th>ms_zoning_mean_enc</th>\n",
       "    </tr>\n",
       "  </thead>\n",
       "  <tbody>\n",
       "    <tr>\n",
       "      <td>count</td>\n",
       "      <td>2051.000000</td>\n",
       "    </tr>\n",
       "    <tr>\n",
       "      <td>mean</td>\n",
       "      <td>181469.701609</td>\n",
       "    </tr>\n",
       "    <tr>\n",
       "      <td>std</td>\n",
       "      <td>26387.329525</td>\n",
       "    </tr>\n",
       "    <tr>\n",
       "      <td>min</td>\n",
       "      <td>47300.000000</td>\n",
       "    </tr>\n",
       "    <tr>\n",
       "      <td>25%</td>\n",
       "      <td>191235.164581</td>\n",
       "    </tr>\n",
       "    <tr>\n",
       "      <td>50%</td>\n",
       "      <td>191235.164581</td>\n",
       "    </tr>\n",
       "    <tr>\n",
       "      <td>75%</td>\n",
       "      <td>191235.164581</td>\n",
       "    </tr>\n",
       "    <tr>\n",
       "      <td>max</td>\n",
       "      <td>218618.316832</td>\n",
       "    </tr>\n",
       "  </tbody>\n",
       "</table>\n",
       "</div>"
      ],
      "text/plain": [
       "       ms_zoning_mean_enc\n",
       "count         2051.000000\n",
       "mean        181469.701609\n",
       "std          26387.329525\n",
       "min          47300.000000\n",
       "25%         191235.164581\n",
       "50%         191235.164581\n",
       "75%         191235.164581\n",
       "max         218618.316832"
      ]
     },
     "execution_count": 265,
     "metadata": {},
     "output_type": "execute_result"
    }
   ],
   "source": [
    "nominal_tf.describe()"
   ]
  },
  {
   "cell_type": "code",
   "execution_count": 274,
   "metadata": {},
   "outputs": [],
   "source": [
    "#ames_cat_nominal.apply(mean_encode)\n",
    "#note that this will not work because apply function passes in your entire dataframe into the function, which you\n",
    "#have currently only built to take in column names "
   ]
  },
  {
   "cell_type": "code",
   "execution_count": 275,
   "metadata": {},
   "outputs": [],
   "source": [
    "nom_names = ['ms_zoning', 'street', 'alley', 'land_contour', 'lot_config',\n",
    "       'land_slope', 'neighborhood', 'condition_1', 'condition_2', 'bldg_type',\n",
    "       'house_style', 'roof_style', 'roof_matl', 'exterior_1st',\n",
    "       'exterior_2nd', 'mas_vnr_type', 'foundation', 'bsmt_exposure',\n",
    "       'heating', 'electrical', 'garage_type', 'sale_type']"
   ]
  },
  {
   "cell_type": "code",
   "execution_count": 277,
   "metadata": {},
   "outputs": [],
   "source": [
    "for i in nom_names:\n",
    "    mean_encode(i)"
   ]
  },
  {
   "cell_type": "code",
   "execution_count": 284,
   "metadata": {},
   "outputs": [],
   "source": [
    "#we can drop the 'init' placeholder column now that we have populated our dataframe \n",
    "nominal_tf.drop('init',axis=1,inplace=True)"
   ]
  },
  {
   "cell_type": "markdown",
   "metadata": {},
   "source": [
    "Nominal_tf is a dataframe containing the mean encoded values of all the nominal categorical variables in the ames housing dataset"
   ]
  },
  {
   "cell_type": "code",
   "execution_count": 434,
   "metadata": {
    "scrolled": false
   },
   "outputs": [
    {
     "data": {
      "text/html": [
       "<div>\n",
       "<style scoped>\n",
       "    .dataframe tbody tr th:only-of-type {\n",
       "        vertical-align: middle;\n",
       "    }\n",
       "\n",
       "    .dataframe tbody tr th {\n",
       "        vertical-align: top;\n",
       "    }\n",
       "\n",
       "    .dataframe thead th {\n",
       "        text-align: right;\n",
       "    }\n",
       "</style>\n",
       "<table border=\"1\" class=\"dataframe\">\n",
       "  <thead>\n",
       "    <tr style=\"text-align: right;\">\n",
       "      <th></th>\n",
       "      <th>ms_zoning_mean_enc</th>\n",
       "      <th>street_mean_enc</th>\n",
       "      <th>alley_mean_enc</th>\n",
       "      <th>land_contour_mean_enc</th>\n",
       "      <th>lot_config_mean_enc</th>\n",
       "      <th>land_slope_mean_enc</th>\n",
       "      <th>neighborhood_mean_enc</th>\n",
       "      <th>condition_1_mean_enc</th>\n",
       "      <th>condition_2_mean_enc</th>\n",
       "      <th>bldg_type_mean_enc</th>\n",
       "      <th>...</th>\n",
       "      <th>roof_matl_mean_enc</th>\n",
       "      <th>exterior_1st_mean_enc</th>\n",
       "      <th>exterior_2nd_mean_enc</th>\n",
       "      <th>mas_vnr_type_mean_enc</th>\n",
       "      <th>foundation_mean_enc</th>\n",
       "      <th>bsmt_exposure_mean_enc</th>\n",
       "      <th>heating_mean_enc</th>\n",
       "      <th>electrical_mean_enc</th>\n",
       "      <th>garage_type_mean_enc</th>\n",
       "      <th>sale_type_mean_enc</th>\n",
       "    </tr>\n",
       "  </thead>\n",
       "  <tbody>\n",
       "    <tr>\n",
       "      <td>0</td>\n",
       "      <td>191235.164581</td>\n",
       "      <td>181793.565558</td>\n",
       "      <td>NaN</td>\n",
       "      <td>178998.56484</td>\n",
       "      <td>230744.358779</td>\n",
       "      <td>180358.476703</td>\n",
       "      <td>137181.909910</td>\n",
       "      <td>139685.714286</td>\n",
       "      <td>181382.075556</td>\n",
       "      <td>185275.685882</td>\n",
       "      <td>...</td>\n",
       "      <td>180849.197037</td>\n",
       "      <td>159582.473333</td>\n",
       "      <td>166485.713514</td>\n",
       "      <td>212161.436508</td>\n",
       "      <td>148415.530707</td>\n",
       "      <td>164533.532487</td>\n",
       "      <td>182422.47671</td>\n",
       "      <td>187770.382227</td>\n",
       "      <td>205040.195383</td>\n",
       "      <td>174912.251544</td>\n",
       "    </tr>\n",
       "    <tr>\n",
       "      <td>1</td>\n",
       "      <td>191235.164581</td>\n",
       "      <td>181793.565558</td>\n",
       "      <td>NaN</td>\n",
       "      <td>178998.56484</td>\n",
       "      <td>230744.358779</td>\n",
       "      <td>180358.476703</td>\n",
       "      <td>187760.160920</td>\n",
       "      <td>185007.310130</td>\n",
       "      <td>181382.075556</td>\n",
       "      <td>185275.685882</td>\n",
       "      <td>...</td>\n",
       "      <td>180849.197037</td>\n",
       "      <td>218174.082873</td>\n",
       "      <td>217798.685160</td>\n",
       "      <td>212161.436508</td>\n",
       "      <td>227676.483801</td>\n",
       "      <td>164533.532487</td>\n",
       "      <td>182422.47671</td>\n",
       "      <td>187770.382227</td>\n",
       "      <td>205040.195383</td>\n",
       "      <td>174912.251544</td>\n",
       "    </tr>\n",
       "    <tr>\n",
       "      <td>2</td>\n",
       "      <td>191235.164581</td>\n",
       "      <td>181793.565558</td>\n",
       "      <td>NaN</td>\n",
       "      <td>178998.56484</td>\n",
       "      <td>177537.014637</td>\n",
       "      <td>180358.476703</td>\n",
       "      <td>145905.816129</td>\n",
       "      <td>185007.310130</td>\n",
       "      <td>181382.075556</td>\n",
       "      <td>185275.685882</td>\n",
       "      <td>...</td>\n",
       "      <td>180849.197037</td>\n",
       "      <td>218174.082873</td>\n",
       "      <td>217798.685160</td>\n",
       "      <td>153679.275862</td>\n",
       "      <td>148415.530707</td>\n",
       "      <td>164533.532487</td>\n",
       "      <td>182422.47671</td>\n",
       "      <td>187770.382227</td>\n",
       "      <td>132132.947761</td>\n",
       "      <td>174912.251544</td>\n",
       "    </tr>\n",
       "    <tr>\n",
       "      <td>3</td>\n",
       "      <td>191235.164581</td>\n",
       "      <td>181793.565558</td>\n",
       "      <td>NaN</td>\n",
       "      <td>178998.56484</td>\n",
       "      <td>177537.014637</td>\n",
       "      <td>180358.476703</td>\n",
       "      <td>241051.354167</td>\n",
       "      <td>185007.310130</td>\n",
       "      <td>181382.075556</td>\n",
       "      <td>185275.685882</td>\n",
       "      <td>...</td>\n",
       "      <td>180849.197037</td>\n",
       "      <td>218174.082873</td>\n",
       "      <td>217798.685160</td>\n",
       "      <td>153679.275862</td>\n",
       "      <td>227676.483801</td>\n",
       "      <td>164533.532487</td>\n",
       "      <td>182422.47671</td>\n",
       "      <td>187770.382227</td>\n",
       "      <td>247883.522727</td>\n",
       "      <td>174912.251544</td>\n",
       "    </tr>\n",
       "    <tr>\n",
       "      <td>4</td>\n",
       "      <td>191235.164581</td>\n",
       "      <td>181793.565558</td>\n",
       "      <td>NaN</td>\n",
       "      <td>178998.56484</td>\n",
       "      <td>177537.014637</td>\n",
       "      <td>180358.476703</td>\n",
       "      <td>187760.160920</td>\n",
       "      <td>185007.310130</td>\n",
       "      <td>181382.075556</td>\n",
       "      <td>185275.685882</td>\n",
       "      <td>...</td>\n",
       "      <td>180849.197037</td>\n",
       "      <td>142940.887681</td>\n",
       "      <td>166485.713514</td>\n",
       "      <td>153679.275862</td>\n",
       "      <td>227676.483801</td>\n",
       "      <td>164533.532487</td>\n",
       "      <td>182422.47671</td>\n",
       "      <td>187770.382227</td>\n",
       "      <td>132132.947761</td>\n",
       "      <td>174912.251544</td>\n",
       "    </tr>\n",
       "  </tbody>\n",
       "</table>\n",
       "<p>5 rows × 22 columns</p>\n",
       "</div>"
      ],
      "text/plain": [
       "   ms_zoning_mean_enc  street_mean_enc  alley_mean_enc  land_contour_mean_enc  \\\n",
       "0       191235.164581    181793.565558             NaN           178998.56484   \n",
       "1       191235.164581    181793.565558             NaN           178998.56484   \n",
       "2       191235.164581    181793.565558             NaN           178998.56484   \n",
       "3       191235.164581    181793.565558             NaN           178998.56484   \n",
       "4       191235.164581    181793.565558             NaN           178998.56484   \n",
       "\n",
       "   lot_config_mean_enc  land_slope_mean_enc  neighborhood_mean_enc  \\\n",
       "0        230744.358779        180358.476703          137181.909910   \n",
       "1        230744.358779        180358.476703          187760.160920   \n",
       "2        177537.014637        180358.476703          145905.816129   \n",
       "3        177537.014637        180358.476703          241051.354167   \n",
       "4        177537.014637        180358.476703          187760.160920   \n",
       "\n",
       "   condition_1_mean_enc  condition_2_mean_enc  bldg_type_mean_enc  ...  \\\n",
       "0         139685.714286         181382.075556       185275.685882  ...   \n",
       "1         185007.310130         181382.075556       185275.685882  ...   \n",
       "2         185007.310130         181382.075556       185275.685882  ...   \n",
       "3         185007.310130         181382.075556       185275.685882  ...   \n",
       "4         185007.310130         181382.075556       185275.685882  ...   \n",
       "\n",
       "   roof_matl_mean_enc  exterior_1st_mean_enc  exterior_2nd_mean_enc  \\\n",
       "0       180849.197037          159582.473333          166485.713514   \n",
       "1       180849.197037          218174.082873          217798.685160   \n",
       "2       180849.197037          218174.082873          217798.685160   \n",
       "3       180849.197037          218174.082873          217798.685160   \n",
       "4       180849.197037          142940.887681          166485.713514   \n",
       "\n",
       "   mas_vnr_type_mean_enc  foundation_mean_enc  bsmt_exposure_mean_enc  \\\n",
       "0          212161.436508        148415.530707           164533.532487   \n",
       "1          212161.436508        227676.483801           164533.532487   \n",
       "2          153679.275862        148415.530707           164533.532487   \n",
       "3          153679.275862        227676.483801           164533.532487   \n",
       "4          153679.275862        227676.483801           164533.532487   \n",
       "\n",
       "   heating_mean_enc  electrical_mean_enc  garage_type_mean_enc  \\\n",
       "0      182422.47671        187770.382227         205040.195383   \n",
       "1      182422.47671        187770.382227         205040.195383   \n",
       "2      182422.47671        187770.382227         132132.947761   \n",
       "3      182422.47671        187770.382227         247883.522727   \n",
       "4      182422.47671        187770.382227         132132.947761   \n",
       "\n",
       "   sale_type_mean_enc  \n",
       "0       174912.251544  \n",
       "1       174912.251544  \n",
       "2       174912.251544  \n",
       "3       174912.251544  \n",
       "4       174912.251544  \n",
       "\n",
       "[5 rows x 22 columns]"
      ]
     },
     "execution_count": 434,
     "metadata": {},
     "output_type": "execute_result"
    }
   ],
   "source": [
    "nominal_tf.head()"
   ]
  },
  {
   "cell_type": "code",
   "execution_count": 315,
   "metadata": {},
   "outputs": [
    {
     "data": {
      "text/plain": [
       "(2051, 22)"
      ]
     },
     "execution_count": 315,
     "metadata": {},
     "output_type": "execute_result"
    }
   ],
   "source": [
    "ames_cat_nominal.shape #ensuring that no variables have been left out, comparing to the unencoded dataframe"
   ]
  },
  {
   "cell_type": "code",
   "execution_count": 287,
   "metadata": {},
   "outputs": [
    {
     "data": {
      "text/plain": [
       "(2051, 22)"
      ]
     },
     "execution_count": 287,
     "metadata": {},
     "output_type": "execute_result"
    }
   ],
   "source": [
    "nominal_tf.shape"
   ]
  },
  {
   "cell_type": "markdown",
   "metadata": {},
   "source": [
    "**Method 2: Ordinal Encoding for ordinal variables**\n",
    "\n",
    "- Potential pitfall: this method assumes some kind of equivalence in differences for each unit increase \n",
    "- How to counter:\n",
    "\n",
    "**Ordinal Scales (scale 1 being the worst)** \n",
    "<http://jse.amstat.org/v19n3/decock/DataDocumentation.txt>\n",
    "\n",
    "**Order rank 3**\n",
    "- garagefinish 1 unfinished 3 finished\n",
    "\n",
    "**Order rank 4** (custom dict)\n",
    "- lotshape 1 irregular - 4 regular\n",
    "- utilities 1 elo 4 allpub\n",
    "- poolqc 1 fair 4 excellent\n",
    "- fence 1 min wood/wire 4 good privacy \n",
    "\n",
    "**Order rank 5** (standard dict)\n",
    "- exterqual 1 poor 5 excellent \n",
    "- extercond 1 poor 5 excellent \n",
    "- bsmtqual 1poor 5 excellent\n",
    "- bsmtcond 1poor 5 excellent\n",
    "- heatingqc 1 poor 5 excellent \n",
    "- kitchenqual 1 poor 5 excellent \n",
    "- fireplacequ 1 poor 5 excellent\n",
    "- garagequal 1 poor 5 excellent\n",
    "- garagecond 1 poor 5 excellent\n",
    "\n",
    "**Order rank 6**\n",
    "- bsmtfin_type_1 1 unfinished 6 good living quarters\n",
    "- bsmtfin_type_2 1 unfinished 6 good living quarters\n",
    "\n",
    "**Order rank 8**\n",
    "- functional 1 salvage only 8 typical functionality \n"
   ]
  },
  {
   "cell_type": "code",
   "execution_count": 289,
   "metadata": {},
   "outputs": [
    {
     "data": {
      "text/plain": [
       "(2051, 17)"
      ]
     },
     "execution_count": 289,
     "metadata": {},
     "output_type": "execute_result"
    }
   ],
   "source": [
    "ames_cat_ordinal.shape"
   ]
  },
  {
   "cell_type": "code",
   "execution_count": 288,
   "metadata": {
    "scrolled": true
   },
   "outputs": [
    {
     "data": {
      "text/html": [
       "<div>\n",
       "<style scoped>\n",
       "    .dataframe tbody tr th:only-of-type {\n",
       "        vertical-align: middle;\n",
       "    }\n",
       "\n",
       "    .dataframe tbody tr th {\n",
       "        vertical-align: top;\n",
       "    }\n",
       "\n",
       "    .dataframe thead th {\n",
       "        text-align: right;\n",
       "    }\n",
       "</style>\n",
       "<table border=\"1\" class=\"dataframe\">\n",
       "  <thead>\n",
       "    <tr style=\"text-align: right;\">\n",
       "      <th></th>\n",
       "      <th>lot_shape</th>\n",
       "      <th>utilities</th>\n",
       "      <th>exter_qual</th>\n",
       "      <th>exter_cond</th>\n",
       "      <th>bsmt_qual</th>\n",
       "      <th>bsmt_cond</th>\n",
       "      <th>bsmtfin_type_1</th>\n",
       "      <th>bsmtfin_type_2</th>\n",
       "      <th>heating_qc</th>\n",
       "      <th>kitchen_qual</th>\n",
       "      <th>functional</th>\n",
       "      <th>fireplace_qu</th>\n",
       "      <th>garage_finish</th>\n",
       "      <th>garage_qual</th>\n",
       "      <th>garage_cond</th>\n",
       "      <th>pool_qc</th>\n",
       "      <th>fence</th>\n",
       "    </tr>\n",
       "  </thead>\n",
       "  <tbody>\n",
       "    <tr>\n",
       "      <td>0</td>\n",
       "      <td>IR1</td>\n",
       "      <td>AllPub</td>\n",
       "      <td>Gd</td>\n",
       "      <td>TA</td>\n",
       "      <td>TA</td>\n",
       "      <td>TA</td>\n",
       "      <td>GLQ</td>\n",
       "      <td>Unf</td>\n",
       "      <td>Ex</td>\n",
       "      <td>Gd</td>\n",
       "      <td>Typ</td>\n",
       "      <td>NaN</td>\n",
       "      <td>RFn</td>\n",
       "      <td>TA</td>\n",
       "      <td>TA</td>\n",
       "      <td>NaN</td>\n",
       "      <td>NaN</td>\n",
       "    </tr>\n",
       "    <tr>\n",
       "      <td>1</td>\n",
       "      <td>IR1</td>\n",
       "      <td>AllPub</td>\n",
       "      <td>Gd</td>\n",
       "      <td>TA</td>\n",
       "      <td>Gd</td>\n",
       "      <td>TA</td>\n",
       "      <td>GLQ</td>\n",
       "      <td>Unf</td>\n",
       "      <td>Ex</td>\n",
       "      <td>Gd</td>\n",
       "      <td>Typ</td>\n",
       "      <td>TA</td>\n",
       "      <td>RFn</td>\n",
       "      <td>TA</td>\n",
       "      <td>TA</td>\n",
       "      <td>NaN</td>\n",
       "      <td>NaN</td>\n",
       "    </tr>\n",
       "    <tr>\n",
       "      <td>2</td>\n",
       "      <td>Reg</td>\n",
       "      <td>AllPub</td>\n",
       "      <td>TA</td>\n",
       "      <td>Gd</td>\n",
       "      <td>TA</td>\n",
       "      <td>TA</td>\n",
       "      <td>GLQ</td>\n",
       "      <td>Unf</td>\n",
       "      <td>TA</td>\n",
       "      <td>Gd</td>\n",
       "      <td>Typ</td>\n",
       "      <td>NaN</td>\n",
       "      <td>Unf</td>\n",
       "      <td>TA</td>\n",
       "      <td>TA</td>\n",
       "      <td>NaN</td>\n",
       "      <td>NaN</td>\n",
       "    </tr>\n",
       "    <tr>\n",
       "      <td>3</td>\n",
       "      <td>Reg</td>\n",
       "      <td>AllPub</td>\n",
       "      <td>TA</td>\n",
       "      <td>TA</td>\n",
       "      <td>Gd</td>\n",
       "      <td>TA</td>\n",
       "      <td>Unf</td>\n",
       "      <td>Unf</td>\n",
       "      <td>Gd</td>\n",
       "      <td>TA</td>\n",
       "      <td>Typ</td>\n",
       "      <td>NaN</td>\n",
       "      <td>Fin</td>\n",
       "      <td>TA</td>\n",
       "      <td>TA</td>\n",
       "      <td>NaN</td>\n",
       "      <td>NaN</td>\n",
       "    </tr>\n",
       "    <tr>\n",
       "      <td>4</td>\n",
       "      <td>IR1</td>\n",
       "      <td>AllPub</td>\n",
       "      <td>TA</td>\n",
       "      <td>TA</td>\n",
       "      <td>Fa</td>\n",
       "      <td>Gd</td>\n",
       "      <td>Unf</td>\n",
       "      <td>Unf</td>\n",
       "      <td>TA</td>\n",
       "      <td>TA</td>\n",
       "      <td>Typ</td>\n",
       "      <td>NaN</td>\n",
       "      <td>Unf</td>\n",
       "      <td>TA</td>\n",
       "      <td>TA</td>\n",
       "      <td>NaN</td>\n",
       "      <td>NaN</td>\n",
       "    </tr>\n",
       "  </tbody>\n",
       "</table>\n",
       "</div>"
      ],
      "text/plain": [
       "  lot_shape utilities exter_qual exter_cond bsmt_qual bsmt_cond  \\\n",
       "0       IR1    AllPub         Gd         TA        TA        TA   \n",
       "1       IR1    AllPub         Gd         TA        Gd        TA   \n",
       "2       Reg    AllPub         TA         Gd        TA        TA   \n",
       "3       Reg    AllPub         TA         TA        Gd        TA   \n",
       "4       IR1    AllPub         TA         TA        Fa        Gd   \n",
       "\n",
       "  bsmtfin_type_1 bsmtfin_type_2 heating_qc kitchen_qual functional  \\\n",
       "0            GLQ            Unf         Ex           Gd        Typ   \n",
       "1            GLQ            Unf         Ex           Gd        Typ   \n",
       "2            GLQ            Unf         TA           Gd        Typ   \n",
       "3            Unf            Unf         Gd           TA        Typ   \n",
       "4            Unf            Unf         TA           TA        Typ   \n",
       "\n",
       "  fireplace_qu garage_finish garage_qual garage_cond pool_qc fence  \n",
       "0          NaN           RFn          TA          TA     NaN   NaN  \n",
       "1           TA           RFn          TA          TA     NaN   NaN  \n",
       "2          NaN           Unf          TA          TA     NaN   NaN  \n",
       "3          NaN           Fin          TA          TA     NaN   NaN  \n",
       "4          NaN           Unf          TA          TA     NaN   NaN  "
      ]
     },
     "execution_count": 288,
     "metadata": {},
     "output_type": "execute_result"
    }
   ],
   "source": [
    "ames_cat_ordinal.head()"
   ]
  },
  {
   "cell_type": "markdown",
   "metadata": {},
   "source": [
    "Need to create dictionaries to assign orders to each variable"
   ]
  },
  {
   "cell_type": "code",
   "execution_count": 291,
   "metadata": {},
   "outputs": [
    {
     "data": {
      "text/plain": [
       "array(['TA', 'Fa', nan, 'Po', 'Gd', 'Ex'], dtype=object)"
      ]
     },
     "execution_count": 291,
     "metadata": {},
     "output_type": "execute_result"
    }
   ],
   "source": [
    "ames_cat_ordinal['garage_cond'].unique()"
   ]
  },
  {
   "cell_type": "code",
   "execution_count": 293,
   "metadata": {},
   "outputs": [],
   "source": [
    "#custom dict\n",
    "garage_dict = {'Unf':1,'RFn':2,'Fin':3}"
   ]
  },
  {
   "cell_type": "code",
   "execution_count": 294,
   "metadata": {},
   "outputs": [],
   "source": [
    "#standard dicts for those with 4 and 5 ranks \n",
    "rank4_dict = {'Fa': 1,'TA':2,'Gd':3,'Ex':4}\n",
    "rank5_dict = {'Po': 1,'Fa': 2,'TA':3,'Gd':4,'Ex':5}\n",
    "             "
   ]
  },
  {
   "cell_type": "code",
   "execution_count": 295,
   "metadata": {},
   "outputs": [],
   "source": [
    "#custom dicts\n",
    "lotshape_dict = {'IR3':1,'IR2':2,'IR1':3,'Reg':4}\n",
    "utils_dict = {'ELO':1,'NoSeWa':2,'NoSewr':3,'AllPub':4}\n",
    "fence_dict = {'MnWw':1,'GdWo':2,'MnPrv':3,'GdPrv':4}"
   ]
  },
  {
   "cell_type": "code",
   "execution_count": 296,
   "metadata": {},
   "outputs": [],
   "source": [
    "bsmt_dict = {'Unf':1,'LwQ':2,'Rec':3,'BLQ':4,'ALQ':5,'GLQ':6}"
   ]
  },
  {
   "cell_type": "code",
   "execution_count": 298,
   "metadata": {},
   "outputs": [],
   "source": [
    "functional_dict = {'Sal':1,'Sev':2,'Maj2':3,'Maj1':4,'Mod':5,'Min2':6,'Min1':7,'Typ':8}"
   ]
  },
  {
   "cell_type": "markdown",
   "metadata": {},
   "source": [
    "Assigning dictionary ordinal values to ordinal category variables "
   ]
  },
  {
   "cell_type": "code",
   "execution_count": 292,
   "metadata": {},
   "outputs": [],
   "source": [
    "ordinal_tf = pd.DataFrame(columns=['init']) #creating an empty dataframe to store my transformed ordinal variables"
   ]
  },
  {
   "cell_type": "code",
   "execution_count": 299,
   "metadata": {},
   "outputs": [],
   "source": [
    "ordinal_tf['garage_finish_ord'] = ames_cat_ordinal['garage_finish'].map(garage_dict)"
   ]
  },
  {
   "cell_type": "code",
   "execution_count": 300,
   "metadata": {},
   "outputs": [
    {
     "data": {
      "text/html": [
       "<div>\n",
       "<style scoped>\n",
       "    .dataframe tbody tr th:only-of-type {\n",
       "        vertical-align: middle;\n",
       "    }\n",
       "\n",
       "    .dataframe tbody tr th {\n",
       "        vertical-align: top;\n",
       "    }\n",
       "\n",
       "    .dataframe thead th {\n",
       "        text-align: right;\n",
       "    }\n",
       "</style>\n",
       "<table border=\"1\" class=\"dataframe\">\n",
       "  <thead>\n",
       "    <tr style=\"text-align: right;\">\n",
       "      <th></th>\n",
       "      <th>init</th>\n",
       "      <th>garage_finish_ord</th>\n",
       "    </tr>\n",
       "  </thead>\n",
       "  <tbody>\n",
       "    <tr>\n",
       "      <td>0</td>\n",
       "      <td>NaN</td>\n",
       "      <td>2.0</td>\n",
       "    </tr>\n",
       "    <tr>\n",
       "      <td>1</td>\n",
       "      <td>NaN</td>\n",
       "      <td>2.0</td>\n",
       "    </tr>\n",
       "    <tr>\n",
       "      <td>2</td>\n",
       "      <td>NaN</td>\n",
       "      <td>1.0</td>\n",
       "    </tr>\n",
       "    <tr>\n",
       "      <td>3</td>\n",
       "      <td>NaN</td>\n",
       "      <td>3.0</td>\n",
       "    </tr>\n",
       "    <tr>\n",
       "      <td>4</td>\n",
       "      <td>NaN</td>\n",
       "      <td>1.0</td>\n",
       "    </tr>\n",
       "  </tbody>\n",
       "</table>\n",
       "</div>"
      ],
      "text/plain": [
       "  init  garage_finish_ord\n",
       "0  NaN                2.0\n",
       "1  NaN                2.0\n",
       "2  NaN                1.0\n",
       "3  NaN                3.0\n",
       "4  NaN                1.0"
      ]
     },
     "execution_count": 300,
     "metadata": {},
     "output_type": "execute_result"
    }
   ],
   "source": [
    "ordinal_tf.head() #checking to ensure that we have correctly mapped over our ordinal values "
   ]
  },
  {
   "cell_type": "markdown",
   "metadata": {},
   "source": [
    "Rank 3 and 4s"
   ]
  },
  {
   "cell_type": "code",
   "execution_count": 301,
   "metadata": {},
   "outputs": [],
   "source": [
    "ordinal_tf['lot_shape_ord'] = ames_cat_ordinal['lot_shape'].map(lotshape_dict)"
   ]
  },
  {
   "cell_type": "code",
   "execution_count": 302,
   "metadata": {},
   "outputs": [],
   "source": [
    "ordinal_tf['utilities_ord'] = ames_cat_ordinal['utilities'].map(utils_dict)"
   ]
  },
  {
   "cell_type": "code",
   "execution_count": 303,
   "metadata": {},
   "outputs": [],
   "source": [
    "ordinal_tf['fence_ord'] = ames_cat_ordinal['fence'].map(fence_dict)"
   ]
  },
  {
   "cell_type": "code",
   "execution_count": 304,
   "metadata": {},
   "outputs": [],
   "source": [
    "ordinal_tf['pool_qc_ord'] = ames_cat_ordinal['pool_qc'].map(rank4_dict)"
   ]
  },
  {
   "cell_type": "markdown",
   "metadata": {},
   "source": [
    "Rank 5s and more"
   ]
  },
  {
   "cell_type": "code",
   "execution_count": 318,
   "metadata": {},
   "outputs": [],
   "source": [
    "rank5_names = ['exter_qual','exter_cond','bsmt_qual','bsmt_cond','heating_qc',\n",
    "              'kitchen_qual','fireplace_qu','garage_qual','garage_cond']"
   ]
  },
  {
   "cell_type": "code",
   "execution_count": 319,
   "metadata": {},
   "outputs": [],
   "source": [
    "def ord_encode(col):\n",
    "    ordinal_tf[col+'_ord'] = ames_cat_ordinal[col].map(rank5_dict)"
   ]
  },
  {
   "cell_type": "code",
   "execution_count": 320,
   "metadata": {},
   "outputs": [],
   "source": [
    "for i in rank5_names:\n",
    "    ord_encode(i)"
   ]
  },
  {
   "cell_type": "code",
   "execution_count": 362,
   "metadata": {
    "scrolled": true
   },
   "outputs": [],
   "source": [
    "rank6_names = ['bsmtfin_type_1','bsmtfin_type_2']\n",
    "\n",
    "def ord_encode2(col):\n",
    "    ordinal_tf[col+'_ord'] = ames_cat_ordinal[col].map(bsmt_dict)\n",
    "\n",
    "for i in rank6_names:\n",
    "    ord_encode2(i)"
   ]
  },
  {
   "cell_type": "code",
   "execution_count": 310,
   "metadata": {},
   "outputs": [],
   "source": [
    "ordinal_tf['functional_ord'] = ames_cat_ordinal['functional'].map(functional_dict)"
   ]
  },
  {
   "cell_type": "code",
   "execution_count": 323,
   "metadata": {},
   "outputs": [],
   "source": [
    "ordinal_tf.drop('init',axis=1,inplace=True)"
   ]
  },
  {
   "cell_type": "markdown",
   "metadata": {},
   "source": [
    "**checking on completed ordinal dataframe**"
   ]
  },
  {
   "cell_type": "code",
   "execution_count": 313,
   "metadata": {},
   "outputs": [
    {
     "data": {
      "text/plain": [
       "(2051, 17)"
      ]
     },
     "execution_count": 313,
     "metadata": {},
     "output_type": "execute_result"
    }
   ],
   "source": [
    "ames_cat_ordinal.shape"
   ]
  },
  {
   "cell_type": "code",
   "execution_count": 324,
   "metadata": {
    "scrolled": true
   },
   "outputs": [
    {
     "data": {
      "text/plain": [
       "(2051, 17)"
      ]
     },
     "execution_count": 324,
     "metadata": {},
     "output_type": "execute_result"
    }
   ],
   "source": [
    "ordinal_tf.shape"
   ]
  },
  {
   "cell_type": "code",
   "execution_count": 325,
   "metadata": {},
   "outputs": [
    {
     "data": {
      "text/html": [
       "<div>\n",
       "<style scoped>\n",
       "    .dataframe tbody tr th:only-of-type {\n",
       "        vertical-align: middle;\n",
       "    }\n",
       "\n",
       "    .dataframe tbody tr th {\n",
       "        vertical-align: top;\n",
       "    }\n",
       "\n",
       "    .dataframe thead th {\n",
       "        text-align: right;\n",
       "    }\n",
       "</style>\n",
       "<table border=\"1\" class=\"dataframe\">\n",
       "  <thead>\n",
       "    <tr style=\"text-align: right;\">\n",
       "      <th></th>\n",
       "      <th>garage_finish_ord</th>\n",
       "      <th>lot_shape_ord</th>\n",
       "      <th>utilities_ord</th>\n",
       "      <th>fence_ord</th>\n",
       "      <th>pool_qc_ord</th>\n",
       "      <th>exter_qual_ord</th>\n",
       "      <th>exter_cond_ord</th>\n",
       "      <th>bsmt_cond_ord</th>\n",
       "      <th>heating_qc_ord</th>\n",
       "      <th>kitchen_qual_ord</th>\n",
       "      <th>fireplace_qu_ord</th>\n",
       "      <th>garage_qual_ord</th>\n",
       "      <th>garage_cond_ord</th>\n",
       "      <th>bsmtfin_type_1_ord</th>\n",
       "      <th>bsmtfin_type_2_ord</th>\n",
       "      <th>functional_ord</th>\n",
       "      <th>bsmt_qual_ord</th>\n",
       "    </tr>\n",
       "  </thead>\n",
       "  <tbody>\n",
       "    <tr>\n",
       "      <td>0</td>\n",
       "      <td>2.0</td>\n",
       "      <td>3</td>\n",
       "      <td>4</td>\n",
       "      <td>NaN</td>\n",
       "      <td>NaN</td>\n",
       "      <td>4</td>\n",
       "      <td>3</td>\n",
       "      <td>3.0</td>\n",
       "      <td>5</td>\n",
       "      <td>4</td>\n",
       "      <td>NaN</td>\n",
       "      <td>3.0</td>\n",
       "      <td>3.0</td>\n",
       "      <td>NaN</td>\n",
       "      <td>NaN</td>\n",
       "      <td>8</td>\n",
       "      <td>3.0</td>\n",
       "    </tr>\n",
       "    <tr>\n",
       "      <td>1</td>\n",
       "      <td>2.0</td>\n",
       "      <td>3</td>\n",
       "      <td>4</td>\n",
       "      <td>NaN</td>\n",
       "      <td>NaN</td>\n",
       "      <td>4</td>\n",
       "      <td>3</td>\n",
       "      <td>3.0</td>\n",
       "      <td>5</td>\n",
       "      <td>4</td>\n",
       "      <td>3.0</td>\n",
       "      <td>3.0</td>\n",
       "      <td>3.0</td>\n",
       "      <td>NaN</td>\n",
       "      <td>NaN</td>\n",
       "      <td>8</td>\n",
       "      <td>4.0</td>\n",
       "    </tr>\n",
       "    <tr>\n",
       "      <td>2</td>\n",
       "      <td>1.0</td>\n",
       "      <td>4</td>\n",
       "      <td>4</td>\n",
       "      <td>NaN</td>\n",
       "      <td>NaN</td>\n",
       "      <td>3</td>\n",
       "      <td>4</td>\n",
       "      <td>3.0</td>\n",
       "      <td>3</td>\n",
       "      <td>4</td>\n",
       "      <td>NaN</td>\n",
       "      <td>3.0</td>\n",
       "      <td>3.0</td>\n",
       "      <td>NaN</td>\n",
       "      <td>NaN</td>\n",
       "      <td>8</td>\n",
       "      <td>3.0</td>\n",
       "    </tr>\n",
       "    <tr>\n",
       "      <td>3</td>\n",
       "      <td>3.0</td>\n",
       "      <td>4</td>\n",
       "      <td>4</td>\n",
       "      <td>NaN</td>\n",
       "      <td>NaN</td>\n",
       "      <td>3</td>\n",
       "      <td>3</td>\n",
       "      <td>3.0</td>\n",
       "      <td>4</td>\n",
       "      <td>3</td>\n",
       "      <td>NaN</td>\n",
       "      <td>3.0</td>\n",
       "      <td>3.0</td>\n",
       "      <td>NaN</td>\n",
       "      <td>NaN</td>\n",
       "      <td>8</td>\n",
       "      <td>4.0</td>\n",
       "    </tr>\n",
       "    <tr>\n",
       "      <td>4</td>\n",
       "      <td>1.0</td>\n",
       "      <td>3</td>\n",
       "      <td>4</td>\n",
       "      <td>NaN</td>\n",
       "      <td>NaN</td>\n",
       "      <td>3</td>\n",
       "      <td>3</td>\n",
       "      <td>4.0</td>\n",
       "      <td>3</td>\n",
       "      <td>3</td>\n",
       "      <td>NaN</td>\n",
       "      <td>3.0</td>\n",
       "      <td>3.0</td>\n",
       "      <td>NaN</td>\n",
       "      <td>NaN</td>\n",
       "      <td>8</td>\n",
       "      <td>2.0</td>\n",
       "    </tr>\n",
       "  </tbody>\n",
       "</table>\n",
       "</div>"
      ],
      "text/plain": [
       "   garage_finish_ord  lot_shape_ord  utilities_ord  fence_ord  pool_qc_ord  \\\n",
       "0                2.0              3              4        NaN          NaN   \n",
       "1                2.0              3              4        NaN          NaN   \n",
       "2                1.0              4              4        NaN          NaN   \n",
       "3                3.0              4              4        NaN          NaN   \n",
       "4                1.0              3              4        NaN          NaN   \n",
       "\n",
       "   exter_qual_ord  exter_cond_ord  bsmt_cond_ord  heating_qc_ord  \\\n",
       "0               4               3            3.0               5   \n",
       "1               4               3            3.0               5   \n",
       "2               3               4            3.0               3   \n",
       "3               3               3            3.0               4   \n",
       "4               3               3            4.0               3   \n",
       "\n",
       "   kitchen_qual_ord  fireplace_qu_ord  garage_qual_ord  garage_cond_ord  \\\n",
       "0                 4               NaN              3.0              3.0   \n",
       "1                 4               3.0              3.0              3.0   \n",
       "2                 4               NaN              3.0              3.0   \n",
       "3                 3               NaN              3.0              3.0   \n",
       "4                 3               NaN              3.0              3.0   \n",
       "\n",
       "   bsmtfin_type_1_ord  bsmtfin_type_2_ord  functional_ord  bsmt_qual_ord  \n",
       "0                 NaN                 NaN               8            3.0  \n",
       "1                 NaN                 NaN               8            4.0  \n",
       "2                 NaN                 NaN               8            3.0  \n",
       "3                 NaN                 NaN               8            4.0  \n",
       "4                 NaN                 NaN               8            2.0  "
      ]
     },
     "execution_count": 325,
     "metadata": {},
     "output_type": "execute_result"
    }
   ],
   "source": [
    "ordinal_tf.head()"
   ]
  },
  {
   "cell_type": "markdown",
   "metadata": {},
   "source": [
    "**Method 3: Dummy Variables for binary variables**"
   ]
  },
  {
   "cell_type": "code",
   "execution_count": 316,
   "metadata": {
    "scrolled": false
   },
   "outputs": [
    {
     "data": {
      "text/html": [
       "<div>\n",
       "<style scoped>\n",
       "    .dataframe tbody tr th:only-of-type {\n",
       "        vertical-align: middle;\n",
       "    }\n",
       "\n",
       "    .dataframe tbody tr th {\n",
       "        vertical-align: top;\n",
       "    }\n",
       "\n",
       "    .dataframe thead th {\n",
       "        text-align: right;\n",
       "    }\n",
       "</style>\n",
       "<table border=\"1\" class=\"dataframe\">\n",
       "  <thead>\n",
       "    <tr style=\"text-align: right;\">\n",
       "      <th></th>\n",
       "      <th>central_air</th>\n",
       "      <th>paved_drive</th>\n",
       "      <th>misc_feature</th>\n",
       "    </tr>\n",
       "  </thead>\n",
       "  <tbody>\n",
       "    <tr>\n",
       "      <td>0</td>\n",
       "      <td>Y</td>\n",
       "      <td>Y</td>\n",
       "      <td>NaN</td>\n",
       "    </tr>\n",
       "    <tr>\n",
       "      <td>1</td>\n",
       "      <td>Y</td>\n",
       "      <td>Y</td>\n",
       "      <td>NaN</td>\n",
       "    </tr>\n",
       "    <tr>\n",
       "      <td>2</td>\n",
       "      <td>Y</td>\n",
       "      <td>Y</td>\n",
       "      <td>NaN</td>\n",
       "    </tr>\n",
       "    <tr>\n",
       "      <td>3</td>\n",
       "      <td>Y</td>\n",
       "      <td>Y</td>\n",
       "      <td>NaN</td>\n",
       "    </tr>\n",
       "    <tr>\n",
       "      <td>4</td>\n",
       "      <td>Y</td>\n",
       "      <td>N</td>\n",
       "      <td>NaN</td>\n",
       "    </tr>\n",
       "  </tbody>\n",
       "</table>\n",
       "</div>"
      ],
      "text/plain": [
       "  central_air paved_drive misc_feature\n",
       "0           Y           Y          NaN\n",
       "1           Y           Y          NaN\n",
       "2           Y           Y          NaN\n",
       "3           Y           Y          NaN\n",
       "4           Y           N          NaN"
      ]
     },
     "execution_count": 316,
     "metadata": {},
     "output_type": "execute_result"
    }
   ],
   "source": [
    "ames_cat_binary.head()"
   ]
  },
  {
   "cell_type": "code",
   "execution_count": 327,
   "metadata": {},
   "outputs": [],
   "source": [
    "binary_tf = pd.DataFrame(columns=['init']) #creating an empty dataframe to store my transformed ordinal variables"
   ]
  },
  {
   "cell_type": "code",
   "execution_count": 422,
   "metadata": {},
   "outputs": [],
   "source": [
    "binary_tf['central_air_dum'] = [1 if i == 'Y' else 0 for i in ames_cat_binary['central_air']]\n",
    "\n",
    "#binary_tf['init'] = [1 if np.isnan(i) else 0 for i in ames_cat_binary['central_air'].values]\n",
    "#trying to understand if the nan values can be converted using a boolean statement \n",
    "#the code above does not work though "
   ]
  },
  {
   "cell_type": "code",
   "execution_count": 329,
   "metadata": {},
   "outputs": [
    {
     "data": {
      "text/html": [
       "<div>\n",
       "<style scoped>\n",
       "    .dataframe tbody tr th:only-of-type {\n",
       "        vertical-align: middle;\n",
       "    }\n",
       "\n",
       "    .dataframe tbody tr th {\n",
       "        vertical-align: top;\n",
       "    }\n",
       "\n",
       "    .dataframe thead th {\n",
       "        text-align: right;\n",
       "    }\n",
       "</style>\n",
       "<table border=\"1\" class=\"dataframe\">\n",
       "  <thead>\n",
       "    <tr style=\"text-align: right;\">\n",
       "      <th></th>\n",
       "      <th>init</th>\n",
       "      <th>central_air_dum</th>\n",
       "    </tr>\n",
       "  </thead>\n",
       "  <tbody>\n",
       "    <tr>\n",
       "      <td>0</td>\n",
       "      <td>NaN</td>\n",
       "      <td>1</td>\n",
       "    </tr>\n",
       "    <tr>\n",
       "      <td>1</td>\n",
       "      <td>NaN</td>\n",
       "      <td>1</td>\n",
       "    </tr>\n",
       "    <tr>\n",
       "      <td>2</td>\n",
       "      <td>NaN</td>\n",
       "      <td>1</td>\n",
       "    </tr>\n",
       "    <tr>\n",
       "      <td>3</td>\n",
       "      <td>NaN</td>\n",
       "      <td>1</td>\n",
       "    </tr>\n",
       "    <tr>\n",
       "      <td>4</td>\n",
       "      <td>NaN</td>\n",
       "      <td>1</td>\n",
       "    </tr>\n",
       "  </tbody>\n",
       "</table>\n",
       "</div>"
      ],
      "text/plain": [
       "  init  central_air_dum\n",
       "0  NaN                1\n",
       "1  NaN                1\n",
       "2  NaN                1\n",
       "3  NaN                1\n",
       "4  NaN                1"
      ]
     },
     "execution_count": 329,
     "metadata": {},
     "output_type": "execute_result"
    }
   ],
   "source": [
    "binary_tf.head()"
   ]
  },
  {
   "cell_type": "code",
   "execution_count": 330,
   "metadata": {},
   "outputs": [],
   "source": [
    "binary_tf['paved_drive_dum'] = [1 if i == 'Y' else 0 for i in ames_cat_binary['paved_drive']]"
   ]
  },
  {
   "cell_type": "code",
   "execution_count": 343,
   "metadata": {},
   "outputs": [],
   "source": [
    "binary_tf['misc_feature_dum'] = [1 if i in ['Elev','Gar2','Othr','Shed','TenC'] \n",
    "                                 else 0 for i in ames_cat_binary['misc_feature']]\n",
    "#find out how to code for NaN values e.g. 0 if i == 'NaN' > this code did not work "
   ]
  },
  {
   "cell_type": "code",
   "execution_count": 332,
   "metadata": {},
   "outputs": [],
   "source": [
    "binary_tf.drop('init',axis=1,inplace=True)"
   ]
  },
  {
   "cell_type": "code",
   "execution_count": 333,
   "metadata": {},
   "outputs": [
    {
     "data": {
      "text/plain": [
       "(2051, 3)"
      ]
     },
     "execution_count": 333,
     "metadata": {},
     "output_type": "execute_result"
    }
   ],
   "source": [
    "ames_cat_binary.shape"
   ]
  },
  {
   "cell_type": "code",
   "execution_count": 334,
   "metadata": {},
   "outputs": [
    {
     "data": {
      "text/plain": [
       "(2051, 3)"
      ]
     },
     "execution_count": 334,
     "metadata": {},
     "output_type": "execute_result"
    }
   ],
   "source": [
    "binary_tf.shape"
   ]
  },
  {
   "cell_type": "code",
   "execution_count": 344,
   "metadata": {},
   "outputs": [
    {
     "data": {
      "text/html": [
       "<div>\n",
       "<style scoped>\n",
       "    .dataframe tbody tr th:only-of-type {\n",
       "        vertical-align: middle;\n",
       "    }\n",
       "\n",
       "    .dataframe tbody tr th {\n",
       "        vertical-align: top;\n",
       "    }\n",
       "\n",
       "    .dataframe thead th {\n",
       "        text-align: right;\n",
       "    }\n",
       "</style>\n",
       "<table border=\"1\" class=\"dataframe\">\n",
       "  <thead>\n",
       "    <tr style=\"text-align: right;\">\n",
       "      <th></th>\n",
       "      <th>central_air_dum</th>\n",
       "      <th>paved_drive_dum</th>\n",
       "      <th>misc_feature_dum</th>\n",
       "    </tr>\n",
       "  </thead>\n",
       "  <tbody>\n",
       "    <tr>\n",
       "      <td>0</td>\n",
       "      <td>1</td>\n",
       "      <td>1</td>\n",
       "      <td>0</td>\n",
       "    </tr>\n",
       "    <tr>\n",
       "      <td>1</td>\n",
       "      <td>1</td>\n",
       "      <td>1</td>\n",
       "      <td>0</td>\n",
       "    </tr>\n",
       "    <tr>\n",
       "      <td>2</td>\n",
       "      <td>1</td>\n",
       "      <td>1</td>\n",
       "      <td>0</td>\n",
       "    </tr>\n",
       "    <tr>\n",
       "      <td>3</td>\n",
       "      <td>1</td>\n",
       "      <td>1</td>\n",
       "      <td>0</td>\n",
       "    </tr>\n",
       "    <tr>\n",
       "      <td>4</td>\n",
       "      <td>1</td>\n",
       "      <td>0</td>\n",
       "      <td>0</td>\n",
       "    </tr>\n",
       "  </tbody>\n",
       "</table>\n",
       "</div>"
      ],
      "text/plain": [
       "   central_air_dum  paved_drive_dum  misc_feature_dum\n",
       "0                1                1                 0\n",
       "1                1                1                 0\n",
       "2                1                1                 0\n",
       "3                1                1                 0\n",
       "4                1                0                 0"
      ]
     },
     "execution_count": 344,
     "metadata": {},
     "output_type": "execute_result"
    }
   ],
   "source": [
    "binary_tf.head()"
   ]
  },
  {
   "cell_type": "markdown",
   "metadata": {},
   "source": [
    "**At this stage we have encoded all our categorical variables into 3 separate data frames: Nominal, Ordinal and Binary. I am now going to combine the Nominal and Ordinal dataframes so that i can scale them separately from the binary dataframe**"
   ]
  },
  {
   "cell_type": "code",
   "execution_count": 363,
   "metadata": {},
   "outputs": [],
   "source": [
    "ames_nom_ord = pd.concat([nominal_tf, ordinal_tf], axis=1)"
   ]
  },
  {
   "cell_type": "code",
   "execution_count": 347,
   "metadata": {},
   "outputs": [
    {
     "data": {
      "text/plain": [
       "(2051, 39)"
      ]
     },
     "execution_count": 347,
     "metadata": {},
     "output_type": "execute_result"
    }
   ],
   "source": [
    "ames_nom_ord.shape #sense check "
   ]
  },
  {
   "cell_type": "code",
   "execution_count": 348,
   "metadata": {},
   "outputs": [
    {
     "data": {
      "text/plain": [
       "(2051, 22)"
      ]
     },
     "execution_count": 348,
     "metadata": {},
     "output_type": "execute_result"
    }
   ],
   "source": [
    "nominal_tf.shape"
   ]
  },
  {
   "cell_type": "code",
   "execution_count": 349,
   "metadata": {},
   "outputs": [
    {
     "data": {
      "text/plain": [
       "(2051, 17)"
      ]
     },
     "execution_count": 349,
     "metadata": {},
     "output_type": "execute_result"
    }
   ],
   "source": [
    "ordinal_tf.shape"
   ]
  },
  {
   "cell_type": "markdown",
   "metadata": {},
   "source": [
    "Adding the target variable 'salesprice' into the combined nominal and ordinal dataframe"
   ]
  },
  {
   "cell_type": "code",
   "execution_count": 364,
   "metadata": {},
   "outputs": [],
   "source": [
    "ames_nom_ord['target'] = ames_train['saleprice']"
   ]
  },
  {
   "cell_type": "markdown",
   "metadata": {},
   "source": [
    "Going to replicate the analysis we did above with our numerical variables to figure out which of the transformed categorical variables are more highly correlated with saleprice "
   ]
  },
  {
   "cell_type": "code",
   "execution_count": 367,
   "metadata": {},
   "outputs": [],
   "source": [
    "ames_nomord_reg = ames_nom_ord.corr()"
   ]
  },
  {
   "cell_type": "code",
   "execution_count": 368,
   "metadata": {},
   "outputs": [
    {
     "data": {
      "text/plain": [
       "lot_shape_ord            -0.294542\n",
       "bsmtfin_type_2_ord       -0.021038\n",
       "utilities_ord             0.026404\n",
       "exter_cond_ord            0.036418\n",
       "land_slope_mean_enc       0.063163\n",
       "street_mean_enc           0.069841\n",
       "roof_matl_mean_enc        0.110623\n",
       "heating_mean_enc          0.111181\n",
       "functional_ord            0.125682\n",
       "garage_cond_ord           0.152981\n",
       "condition_2_mean_enc      0.161266\n",
       "lot_config_mean_enc       0.164137\n",
       "bsmt_cond_ord             0.176309\n",
       "bldg_type_mean_enc        0.201220\n",
       "garage_qual_ord           0.209884\n",
       "fence_ord                 0.217405\n",
       "condition_1_mean_enc      0.222024\n",
       "land_contour_mean_enc     0.233183\n",
       "electrical_mean_enc       0.257219\n",
       "roof_style_mean_enc       0.268874\n",
       "house_style_mean_enc      0.274636\n",
       "fireplace_qu_ord          0.321086\n",
       "bsmtfin_type_1_ord        0.324551\n",
       "ms_zoning_mean_enc        0.332927\n",
       "sale_type_mean_enc        0.377781\n",
       "exterior_2nd_mean_enc     0.420871\n",
       "bsmt_exposure_mean_enc    0.421535\n",
       "pool_qc_ord               0.422219\n",
       "exterior_1st_mean_enc     0.438345\n",
       "heating_qc_ord            0.458354\n",
       "mas_vnr_type_mean_enc     0.460091\n",
       "garage_type_mean_enc      0.467798\n",
       "garage_finish_ord         0.525776\n",
       "foundation_mean_enc       0.537040\n",
       "alley_mean_enc            0.549612\n",
       "bsmt_qual_ord             0.678307\n",
       "kitchen_qual_ord          0.692336\n",
       "exter_qual_ord            0.712146\n",
       "neighborhood_mean_enc     0.760650\n",
       "target                    1.000000\n",
       "Name: target, dtype: float64"
      ]
     },
     "execution_count": 368,
     "metadata": {},
     "output_type": "execute_result"
    }
   ],
   "source": [
    "ames_nomord_reg['target'].sort_values()"
   ]
  },
  {
   "cell_type": "code",
   "execution_count": 370,
   "metadata": {},
   "outputs": [],
   "source": [
    "#adding anything that has >= 0.5 correlation coefficient and a few negatively correlated ones\n",
    "top_nomord = ['neighbourhood_mean_enc','exter_qual_ord','kitchen_qual_ord','bsmt_qual_ord',\n",
    "             'alley_mean_enc','foundation_mean_enc','garage_finish_ord','lot_shape_ord']"
   ]
  },
  {
   "cell_type": "code",
   "execution_count": 399,
   "metadata": {
    "scrolled": true
   },
   "outputs": [
    {
     "data": {
      "text/plain": [
       "(2051, 8)"
      ]
     },
     "execution_count": 399,
     "metadata": {},
     "output_type": "execute_result"
    }
   ],
   "source": [
    "#subsetting the top nom and ord vars into a new df \n",
    "top_nomord_df = ames_nom_ord.loc[:,top_nomord]\n",
    "top_nomord_df.shape"
   ]
  },
  {
   "cell_type": "markdown",
   "metadata": {},
   "source": [
    "**Model Prep: Creating feature matrix (x) and target vector (y)**"
   ]
  },
  {
   "cell_type": "markdown",
   "metadata": {},
   "source": [
    "Creating our final list of features: top numerical and ordinal, nominal cat, and dummy variables"
   ]
  },
  {
   "cell_type": "markdown",
   "metadata": {},
   "source": [
    "For reference to rmb what the top numerical vars are: \n",
    "top_corr = ['overall_qual', 'gr_liv_area','garage_area','garage_cars','total_bsmt_sf','1st_flr_sf','year_built',\n",
    "           'year_remod/add']"
   ]
  },
  {
   "cell_type": "code",
   "execution_count": 401,
   "metadata": {},
   "outputs": [
    {
     "data": {
      "text/plain": [
       "(2051, 8)"
      ]
     },
     "execution_count": 401,
     "metadata": {},
     "output_type": "execute_result"
    }
   ],
   "source": [
    "top_corr_num.shape"
   ]
  },
  {
   "cell_type": "markdown",
   "metadata": {},
   "source": [
    "**Combining top features into a single df**"
   ]
  },
  {
   "cell_type": "code",
   "execution_count": 405,
   "metadata": {},
   "outputs": [],
   "source": [
    "all_features = pd.concat([top_corr_num , top_nomord_df, binary_tf], axis=1)\n",
    "#combining num, ord and nom vars into a single df. Adding these vars first to scale, then add dummy vars after \n",
    "#slight problem:\n",
    "#i have to train-test-split and scale based on the tts train set. however if i append dummy vars after, \n",
    "#then it would not have been trained-tested or split so... i have no choice but to tts and scale it tgd?\n",
    "#but this would mean that my dummy vars would have to be scaled to some weird value? "
   ]
  },
  {
   "cell_type": "code",
   "execution_count": 406,
   "metadata": {},
   "outputs": [
    {
     "data": {
      "text/plain": [
       "(2051, 19)"
      ]
     },
     "execution_count": 406,
     "metadata": {},
     "output_type": "execute_result"
    }
   ],
   "source": [
    "all_features.shape #sense check - all 19 columns are in place so that's good"
   ]
  },
  {
   "cell_type": "code",
   "execution_count": 407,
   "metadata": {
    "scrolled": true
   },
   "outputs": [
    {
     "data": {
      "text/html": [
       "<div>\n",
       "<style scoped>\n",
       "    .dataframe tbody tr th:only-of-type {\n",
       "        vertical-align: middle;\n",
       "    }\n",
       "\n",
       "    .dataframe tbody tr th {\n",
       "        vertical-align: top;\n",
       "    }\n",
       "\n",
       "    .dataframe thead th {\n",
       "        text-align: right;\n",
       "    }\n",
       "</style>\n",
       "<table border=\"1\" class=\"dataframe\">\n",
       "  <thead>\n",
       "    <tr style=\"text-align: right;\">\n",
       "      <th></th>\n",
       "      <th>overall_qual</th>\n",
       "      <th>gr_liv_area</th>\n",
       "      <th>garage_area</th>\n",
       "      <th>garage_cars</th>\n",
       "      <th>total_bsmt_sf</th>\n",
       "      <th>1st_flr_sf</th>\n",
       "      <th>year_built</th>\n",
       "      <th>year_remod/add</th>\n",
       "      <th>neighbourhood_mean_enc</th>\n",
       "      <th>exter_qual_ord</th>\n",
       "      <th>kitchen_qual_ord</th>\n",
       "      <th>bsmt_qual_ord</th>\n",
       "      <th>alley_mean_enc</th>\n",
       "      <th>foundation_mean_enc</th>\n",
       "      <th>garage_finish_ord</th>\n",
       "      <th>lot_shape_ord</th>\n",
       "      <th>central_air_dum</th>\n",
       "      <th>paved_drive_dum</th>\n",
       "      <th>misc_feature_dum</th>\n",
       "    </tr>\n",
       "  </thead>\n",
       "  <tbody>\n",
       "    <tr>\n",
       "      <td>0</td>\n",
       "      <td>6</td>\n",
       "      <td>1479</td>\n",
       "      <td>475.0</td>\n",
       "      <td>2.0</td>\n",
       "      <td>725.0</td>\n",
       "      <td>725</td>\n",
       "      <td>1976</td>\n",
       "      <td>2005</td>\n",
       "      <td>NaN</td>\n",
       "      <td>4</td>\n",
       "      <td>4</td>\n",
       "      <td>3.0</td>\n",
       "      <td>NaN</td>\n",
       "      <td>148415.530707</td>\n",
       "      <td>2.0</td>\n",
       "      <td>3</td>\n",
       "      <td>1</td>\n",
       "      <td>1</td>\n",
       "      <td>0</td>\n",
       "    </tr>\n",
       "    <tr>\n",
       "      <td>1</td>\n",
       "      <td>7</td>\n",
       "      <td>2122</td>\n",
       "      <td>559.0</td>\n",
       "      <td>2.0</td>\n",
       "      <td>913.0</td>\n",
       "      <td>913</td>\n",
       "      <td>1996</td>\n",
       "      <td>1997</td>\n",
       "      <td>NaN</td>\n",
       "      <td>4</td>\n",
       "      <td>4</td>\n",
       "      <td>4.0</td>\n",
       "      <td>NaN</td>\n",
       "      <td>227676.483801</td>\n",
       "      <td>2.0</td>\n",
       "      <td>3</td>\n",
       "      <td>1</td>\n",
       "      <td>1</td>\n",
       "      <td>0</td>\n",
       "    </tr>\n",
       "    <tr>\n",
       "      <td>2</td>\n",
       "      <td>5</td>\n",
       "      <td>1057</td>\n",
       "      <td>246.0</td>\n",
       "      <td>1.0</td>\n",
       "      <td>1057.0</td>\n",
       "      <td>1057</td>\n",
       "      <td>1953</td>\n",
       "      <td>2007</td>\n",
       "      <td>NaN</td>\n",
       "      <td>3</td>\n",
       "      <td>4</td>\n",
       "      <td>3.0</td>\n",
       "      <td>NaN</td>\n",
       "      <td>148415.530707</td>\n",
       "      <td>1.0</td>\n",
       "      <td>4</td>\n",
       "      <td>1</td>\n",
       "      <td>1</td>\n",
       "      <td>0</td>\n",
       "    </tr>\n",
       "    <tr>\n",
       "      <td>3</td>\n",
       "      <td>5</td>\n",
       "      <td>1444</td>\n",
       "      <td>400.0</td>\n",
       "      <td>2.0</td>\n",
       "      <td>384.0</td>\n",
       "      <td>744</td>\n",
       "      <td>2006</td>\n",
       "      <td>2007</td>\n",
       "      <td>NaN</td>\n",
       "      <td>3</td>\n",
       "      <td>3</td>\n",
       "      <td>4.0</td>\n",
       "      <td>NaN</td>\n",
       "      <td>227676.483801</td>\n",
       "      <td>3.0</td>\n",
       "      <td>4</td>\n",
       "      <td>1</td>\n",
       "      <td>1</td>\n",
       "      <td>0</td>\n",
       "    </tr>\n",
       "    <tr>\n",
       "      <td>4</td>\n",
       "      <td>6</td>\n",
       "      <td>1445</td>\n",
       "      <td>484.0</td>\n",
       "      <td>2.0</td>\n",
       "      <td>676.0</td>\n",
       "      <td>831</td>\n",
       "      <td>1900</td>\n",
       "      <td>1993</td>\n",
       "      <td>NaN</td>\n",
       "      <td>3</td>\n",
       "      <td>3</td>\n",
       "      <td>2.0</td>\n",
       "      <td>NaN</td>\n",
       "      <td>227676.483801</td>\n",
       "      <td>1.0</td>\n",
       "      <td>3</td>\n",
       "      <td>1</td>\n",
       "      <td>0</td>\n",
       "      <td>0</td>\n",
       "    </tr>\n",
       "  </tbody>\n",
       "</table>\n",
       "</div>"
      ],
      "text/plain": [
       "   overall_qual  gr_liv_area  garage_area  garage_cars  total_bsmt_sf  \\\n",
       "0             6         1479        475.0          2.0          725.0   \n",
       "1             7         2122        559.0          2.0          913.0   \n",
       "2             5         1057        246.0          1.0         1057.0   \n",
       "3             5         1444        400.0          2.0          384.0   \n",
       "4             6         1445        484.0          2.0          676.0   \n",
       "\n",
       "   1st_flr_sf  year_built  year_remod/add  neighbourhood_mean_enc  \\\n",
       "0         725        1976            2005                     NaN   \n",
       "1         913        1996            1997                     NaN   \n",
       "2        1057        1953            2007                     NaN   \n",
       "3         744        2006            2007                     NaN   \n",
       "4         831        1900            1993                     NaN   \n",
       "\n",
       "   exter_qual_ord  kitchen_qual_ord  bsmt_qual_ord  alley_mean_enc  \\\n",
       "0               4                 4            3.0             NaN   \n",
       "1               4                 4            4.0             NaN   \n",
       "2               3                 4            3.0             NaN   \n",
       "3               3                 3            4.0             NaN   \n",
       "4               3                 3            2.0             NaN   \n",
       "\n",
       "   foundation_mean_enc  garage_finish_ord  lot_shape_ord  central_air_dum  \\\n",
       "0        148415.530707                2.0              3                1   \n",
       "1        227676.483801                2.0              3                1   \n",
       "2        148415.530707                1.0              4                1   \n",
       "3        227676.483801                3.0              4                1   \n",
       "4        227676.483801                1.0              3                1   \n",
       "\n",
       "   paved_drive_dum  misc_feature_dum  \n",
       "0                1                 0  \n",
       "1                1                 0  \n",
       "2                1                 0  \n",
       "3                1                 0  \n",
       "4                0                 0  "
      ]
     },
     "execution_count": 407,
     "metadata": {},
     "output_type": "execute_result"
    }
   ],
   "source": [
    "all_features.head()"
   ]
  },
  {
   "cell_type": "markdown",
   "metadata": {},
   "source": [
    "Going to remove all the NaN values from the dataframe"
   ]
  },
  {
   "cell_type": "code",
   "execution_count": 424,
   "metadata": {},
   "outputs": [],
   "source": [
    "all_features.fillna(0,inplace=True)"
   ]
  },
  {
   "cell_type": "code",
   "execution_count": 425,
   "metadata": {},
   "outputs": [
    {
     "data": {
      "text/plain": [
       "overall_qual              0\n",
       "gr_liv_area               0\n",
       "garage_area               0\n",
       "garage_cars               0\n",
       "total_bsmt_sf             0\n",
       "1st_flr_sf                0\n",
       "year_built                0\n",
       "year_remod/add            0\n",
       "neighbourhood_mean_enc    0\n",
       "exter_qual_ord            0\n",
       "kitchen_qual_ord          0\n",
       "bsmt_qual_ord             0\n",
       "alley_mean_enc            0\n",
       "foundation_mean_enc       0\n",
       "garage_finish_ord         0\n",
       "lot_shape_ord             0\n",
       "central_air_dum           0\n",
       "paved_drive_dum           0\n",
       "misc_feature_dum          0\n",
       "dtype: int64"
      ]
     },
     "execution_count": 425,
     "metadata": {},
     "output_type": "execute_result"
    }
   ],
   "source": [
    "all_features.isnull().sum()"
   ]
  },
  {
   "cell_type": "markdown",
   "metadata": {},
   "source": [
    "**Train Test Split**"
   ]
  },
  {
   "cell_type": "code",
   "execution_count": 436,
   "metadata": {},
   "outputs": [],
   "source": [
    "X = all_features\n",
    "y = ames_train['saleprice']"
   ]
  },
  {
   "cell_type": "code",
   "execution_count": 437,
   "metadata": {},
   "outputs": [],
   "source": [
    "X_train, X_test, y_train, y_test = train_test_split(X, y, test_size=0.2, random_state=42)"
   ]
  },
  {
   "cell_type": "code",
   "execution_count": 443,
   "metadata": {},
   "outputs": [
    {
     "name": "stdout",
     "output_type": "stream",
     "text": [
      "X train shape, Y train shape : (1640, 19) (1640,)\n",
      "X test shape, Y test shape : (411, 19) (411,)\n"
     ]
    }
   ],
   "source": [
    "#checking to ensure that 80% of the data has been allocated to the training set and 20% to the test set. \n",
    "print (\"X train shape, Y train shape :\", X_train.shape, y_train.shape)\n",
    "print (\"X test shape, Y test shape :\", X_test.shape, y_test.shape)"
   ]
  },
  {
   "cell_type": "markdown",
   "metadata": {},
   "source": [
    "**Scaling top Numerical, Ordinal and Nominal categorical variables**"
   ]
  },
  {
   "cell_type": "code",
   "execution_count": 438,
   "metadata": {},
   "outputs": [],
   "source": [
    "ss = StandardScaler()"
   ]
  },
  {
   "cell_type": "code",
   "execution_count": 439,
   "metadata": {},
   "outputs": [],
   "source": [
    "X_train_ss = ss.fit_transform(X_train)\n",
    "#fitting the scaler model to our training set "
   ]
  },
  {
   "cell_type": "code",
   "execution_count": 440,
   "metadata": {},
   "outputs": [],
   "source": [
    "X_test_ss = ss.transform(X_test)\n",
    "#using the fitted model to scale our test set "
   ]
  },
  {
   "cell_type": "markdown",
   "metadata": {},
   "source": [
    "**Instantiating our models**\n",
    "\n",
    "We'll be using `LinearRegression`, `LassoCV` and `RidgeCV`, so we'll need to create instances of all three models."
   ]
  },
  {
   "cell_type": "code",
   "execution_count": 441,
   "metadata": {},
   "outputs": [],
   "source": [
    "lr = LinearRegression()"
   ]
  },
  {
   "cell_type": "code",
   "execution_count": 444,
   "metadata": {},
   "outputs": [],
   "source": [
    "#this will be our basic model\n",
    "model = lr.fit(X_train_ss, y_train)"
   ]
  },
  {
   "cell_type": "code",
   "execution_count": 555,
   "metadata": {},
   "outputs": [
    {
     "name": "stderr",
     "output_type": "stream",
     "text": [
      "/opt/anaconda3/lib/python3.7/site-packages/numpy/core/fromnumeric.py:2495: FutureWarning: Method .ptp is deprecated and will be removed in a future version. Use numpy.ptp instead.\n",
      "  return ptp(axis=axis, out=out, **kwargs)\n"
     ]
    }
   ],
   "source": [
    "#creating a baseline stat model too to glean more info\n",
    "import statsmodels.api as sm\n",
    "\n",
    "X_stat = sm.add_constant(X)\n",
    "#y is defined above alr\n",
    "\n",
    "stat_model = sm.OLS(y, X_stat)\n",
    "stat_model = stat_model.fit()"
   ]
  },
  {
   "cell_type": "markdown",
   "metadata": {},
   "source": [
    "**Baseline Model Evaluation**"
   ]
  },
  {
   "cell_type": "code",
   "execution_count": 445,
   "metadata": {},
   "outputs": [
    {
     "name": "stdout",
     "output_type": "stream",
     "text": [
      "Baseline Model train_score: 0.8020482376099151\n"
     ]
    }
   ],
   "source": [
    "train_score = lr.score(X_train_ss, y_train)\n",
    "print(\"Baseline Model train_score:\", train_score)"
   ]
  },
  {
   "cell_type": "code",
   "execution_count": 446,
   "metadata": {},
   "outputs": [
    {
     "name": "stdout",
     "output_type": "stream",
     "text": [
      "Baseline Model test_score: 0.8555231576919783\n"
     ]
    }
   ],
   "source": [
    "test_score = lr.score(X_test_ss, y_test)\n",
    "print(\"Baseline Model test_score:\", test_score)"
   ]
  },
  {
   "cell_type": "markdown",
   "metadata": {},
   "source": [
    "**RMSE**"
   ]
  },
  {
   "cell_type": "code",
   "execution_count": 452,
   "metadata": {},
   "outputs": [
    {
     "name": "stdout",
     "output_type": "stream",
     "text": [
      "Baseline Model RMSE: 29298.6586225011\n"
     ]
    }
   ],
   "source": [
    "from sklearn.metrics import mean_squared_error\n",
    "\n",
    "y_pred = lr.predict(X_test_ss)\n",
    "\n",
    "#mean_squared_error(y_true, y_pred)\n",
    "baseline_MSE = mean_squared_error(y_test, y_pred)\n",
    "baseline_RMSE = np.sqrt(baseline_MSE)\n",
    "\n",
    "print(\"Baseline Model RMSE:\", baseline_RMSE)"
   ]
  },
  {
   "cell_type": "code",
   "execution_count": 448,
   "metadata": {
    "scrolled": true
   },
   "outputs": [
    {
     "data": {
      "text/html": [
       "<table class=\"simpletable\">\n",
       "<caption>OLS Regression Results</caption>\n",
       "<tr>\n",
       "  <th>Dep. Variable:</th>        <td>saleprice</td>    <th>  R-squared:         </th> <td>   0.813</td> \n",
       "</tr>\n",
       "<tr>\n",
       "  <th>Model:</th>                   <td>OLS</td>       <th>  Adj. R-squared:    </th> <td>   0.811</td> \n",
       "</tr>\n",
       "<tr>\n",
       "  <th>Method:</th>             <td>Least Squares</td>  <th>  F-statistic:       </th> <td>   489.5</td> \n",
       "</tr>\n",
       "<tr>\n",
       "  <th>Date:</th>             <td>Thu, 21 Nov 2019</td> <th>  Prob (F-statistic):</th>  <td>  0.00</td>  \n",
       "</tr>\n",
       "<tr>\n",
       "  <th>Time:</th>                 <td>23:15:28</td>     <th>  Log-Likelihood:    </th> <td> -24329.</td> \n",
       "</tr>\n",
       "<tr>\n",
       "  <th>No. Observations:</th>      <td>  2051</td>      <th>  AIC:               </th> <td>4.870e+04</td>\n",
       "</tr>\n",
       "<tr>\n",
       "  <th>Df Residuals:</th>          <td>  2032</td>      <th>  BIC:               </th> <td>4.880e+04</td>\n",
       "</tr>\n",
       "<tr>\n",
       "  <th>Df Model:</th>              <td>    18</td>      <th>                     </th>     <td> </td>    \n",
       "</tr>\n",
       "<tr>\n",
       "  <th>Covariance Type:</th>      <td>nonrobust</td>    <th>                     </th>     <td> </td>    \n",
       "</tr>\n",
       "</table>\n",
       "<table class=\"simpletable\">\n",
       "<tr>\n",
       "             <td></td>               <th>coef</th>     <th>std err</th>      <th>t</th>      <th>P>|t|</th>  <th>[0.025</th>    <th>0.975]</th>  \n",
       "</tr>\n",
       "<tr>\n",
       "  <th>const</th>                  <td>-3.359e+05</td> <td> 1.21e+05</td> <td>   -2.767</td> <td> 0.006</td> <td>-5.74e+05</td> <td>-9.78e+04</td>\n",
       "</tr>\n",
       "<tr>\n",
       "  <th>overall_qual</th>           <td> 1.328e+04</td> <td> 1006.748</td> <td>   13.189</td> <td> 0.000</td> <td> 1.13e+04</td> <td> 1.53e+04</td>\n",
       "</tr>\n",
       "<tr>\n",
       "  <th>gr_liv_area</th>            <td>   41.0037</td> <td>    2.148</td> <td>   19.088</td> <td> 0.000</td> <td>   36.791</td> <td>   45.217</td>\n",
       "</tr>\n",
       "<tr>\n",
       "  <th>garage_area</th>            <td>   33.0787</td> <td>    8.256</td> <td>    4.007</td> <td> 0.000</td> <td>   16.888</td> <td>   49.269</td>\n",
       "</tr>\n",
       "<tr>\n",
       "  <th>garage_cars</th>            <td> 3808.6386</td> <td> 2397.545</td> <td>    1.589</td> <td> 0.112</td> <td> -893.264</td> <td> 8510.542</td>\n",
       "</tr>\n",
       "<tr>\n",
       "  <th>total_bsmt_sf</th>          <td>    7.3242</td> <td>    3.649</td> <td>    2.007</td> <td> 0.045</td> <td>    0.168</td> <td>   14.480</td>\n",
       "</tr>\n",
       "<tr>\n",
       "  <th>1st_flr_sf</th>             <td>   22.6912</td> <td>    4.004</td> <td>    5.667</td> <td> 0.000</td> <td>   14.838</td> <td>   30.544</td>\n",
       "</tr>\n",
       "<tr>\n",
       "  <th>year_built</th>             <td>   31.0538</td> <td>   47.482</td> <td>    0.654</td> <td> 0.513</td> <td>  -62.066</td> <td>  124.173</td>\n",
       "</tr>\n",
       "<tr>\n",
       "  <th>year_remod/add</th>         <td>   69.2855</td> <td>   54.246</td> <td>    1.277</td> <td> 0.202</td> <td>  -37.097</td> <td>  175.668</td>\n",
       "</tr>\n",
       "<tr>\n",
       "  <th>neighbourhood_mean_enc</th> <td>-3.045e-10</td> <td>  1.1e-10</td> <td>   -2.778</td> <td> 0.006</td> <td>-5.19e-10</td> <td>-8.95e-11</td>\n",
       "</tr>\n",
       "<tr>\n",
       "  <th>exter_qual_ord</th>         <td> 1.501e+04</td> <td> 2301.513</td> <td>    6.522</td> <td> 0.000</td> <td> 1.05e+04</td> <td> 1.95e+04</td>\n",
       "</tr>\n",
       "<tr>\n",
       "  <th>kitchen_qual_ord</th>       <td> 1.486e+04</td> <td> 1852.082</td> <td>    8.023</td> <td> 0.000</td> <td> 1.12e+04</td> <td> 1.85e+04</td>\n",
       "</tr>\n",
       "<tr>\n",
       "  <th>bsmt_qual_ord</th>          <td> 8059.5153</td> <td> 1452.029</td> <td>    5.551</td> <td> 0.000</td> <td> 5211.895</td> <td> 1.09e+04</td>\n",
       "</tr>\n",
       "<tr>\n",
       "  <th>alley_mean_enc</th>         <td>   -0.1060</td> <td>    0.022</td> <td>   -4.808</td> <td> 0.000</td> <td>   -0.149</td> <td>   -0.063</td>\n",
       "</tr>\n",
       "<tr>\n",
       "  <th>foundation_mean_enc</th>    <td>   -0.0135</td> <td>    0.029</td> <td>   -0.470</td> <td> 0.638</td> <td>   -0.070</td> <td>    0.043</td>\n",
       "</tr>\n",
       "<tr>\n",
       "  <th>garage_finish_ord</th>      <td> 2408.8745</td> <td> 1181.089</td> <td>    2.040</td> <td> 0.042</td> <td>   92.604</td> <td> 4725.145</td>\n",
       "</tr>\n",
       "<tr>\n",
       "  <th>lot_shape_ord</th>          <td>-3223.2406</td> <td> 1433.652</td> <td>   -2.248</td> <td> 0.025</td> <td>-6034.821</td> <td> -411.660</td>\n",
       "</tr>\n",
       "<tr>\n",
       "  <th>central_air_dum</th>        <td>-1312.4906</td> <td> 3417.409</td> <td>   -0.384</td> <td> 0.701</td> <td>-8014.482</td> <td> 5389.501</td>\n",
       "</tr>\n",
       "<tr>\n",
       "  <th>paved_drive_dum</th>        <td>  197.1003</td> <td> 3112.480</td> <td>    0.063</td> <td> 0.950</td> <td>-5906.883</td> <td> 6301.084</td>\n",
       "</tr>\n",
       "<tr>\n",
       "  <th>misc_feature_dum</th>       <td>-5302.3653</td> <td> 4373.543</td> <td>   -1.212</td> <td> 0.226</td> <td>-1.39e+04</td> <td> 3274.731</td>\n",
       "</tr>\n",
       "</table>\n",
       "<table class=\"simpletable\">\n",
       "<tr>\n",
       "  <th>Omnibus:</th>       <td>830.311</td> <th>  Durbin-Watson:     </th> <td>   2.032</td> \n",
       "</tr>\n",
       "<tr>\n",
       "  <th>Prob(Omnibus):</th> <td> 0.000</td>  <th>  Jarque-Bera (JB):  </th> <td>78807.169</td>\n",
       "</tr>\n",
       "<tr>\n",
       "  <th>Skew:</th>          <td>-0.952</td>  <th>  Prob(JB):          </th> <td>    0.00</td> \n",
       "</tr>\n",
       "<tr>\n",
       "  <th>Kurtosis:</th>      <td>33.307</td>  <th>  Cond. No.          </th> <td>7.39e+21</td> \n",
       "</tr>\n",
       "</table><br/><br/>Warnings:<br/>[1] Standard Errors assume that the covariance matrix of the errors is correctly specified.<br/>[2] The smallest eigenvalue is 1.31e-30. This might indicate that there are<br/>strong multicollinearity problems or that the design matrix is singular."
      ],
      "text/plain": [
       "<class 'statsmodels.iolib.summary.Summary'>\n",
       "\"\"\"\n",
       "                            OLS Regression Results                            \n",
       "==============================================================================\n",
       "Dep. Variable:              saleprice   R-squared:                       0.813\n",
       "Model:                            OLS   Adj. R-squared:                  0.811\n",
       "Method:                 Least Squares   F-statistic:                     489.5\n",
       "Date:                Thu, 21 Nov 2019   Prob (F-statistic):               0.00\n",
       "Time:                        23:15:28   Log-Likelihood:                -24329.\n",
       "No. Observations:                2051   AIC:                         4.870e+04\n",
       "Df Residuals:                    2032   BIC:                         4.880e+04\n",
       "Df Model:                          18                                         \n",
       "Covariance Type:            nonrobust                                         \n",
       "==========================================================================================\n",
       "                             coef    std err          t      P>|t|      [0.025      0.975]\n",
       "------------------------------------------------------------------------------------------\n",
       "const                  -3.359e+05   1.21e+05     -2.767      0.006   -5.74e+05   -9.78e+04\n",
       "overall_qual            1.328e+04   1006.748     13.189      0.000    1.13e+04    1.53e+04\n",
       "gr_liv_area               41.0037      2.148     19.088      0.000      36.791      45.217\n",
       "garage_area               33.0787      8.256      4.007      0.000      16.888      49.269\n",
       "garage_cars             3808.6386   2397.545      1.589      0.112    -893.264    8510.542\n",
       "total_bsmt_sf              7.3242      3.649      2.007      0.045       0.168      14.480\n",
       "1st_flr_sf                22.6912      4.004      5.667      0.000      14.838      30.544\n",
       "year_built                31.0538     47.482      0.654      0.513     -62.066     124.173\n",
       "year_remod/add            69.2855     54.246      1.277      0.202     -37.097     175.668\n",
       "neighbourhood_mean_enc -3.045e-10    1.1e-10     -2.778      0.006   -5.19e-10   -8.95e-11\n",
       "exter_qual_ord          1.501e+04   2301.513      6.522      0.000    1.05e+04    1.95e+04\n",
       "kitchen_qual_ord        1.486e+04   1852.082      8.023      0.000    1.12e+04    1.85e+04\n",
       "bsmt_qual_ord           8059.5153   1452.029      5.551      0.000    5211.895    1.09e+04\n",
       "alley_mean_enc            -0.1060      0.022     -4.808      0.000      -0.149      -0.063\n",
       "foundation_mean_enc       -0.0135      0.029     -0.470      0.638      -0.070       0.043\n",
       "garage_finish_ord       2408.8745   1181.089      2.040      0.042      92.604    4725.145\n",
       "lot_shape_ord          -3223.2406   1433.652     -2.248      0.025   -6034.821    -411.660\n",
       "central_air_dum        -1312.4906   3417.409     -0.384      0.701   -8014.482    5389.501\n",
       "paved_drive_dum          197.1003   3112.480      0.063      0.950   -5906.883    6301.084\n",
       "misc_feature_dum       -5302.3653   4373.543     -1.212      0.226   -1.39e+04    3274.731\n",
       "==============================================================================\n",
       "Omnibus:                      830.311   Durbin-Watson:                   2.032\n",
       "Prob(Omnibus):                  0.000   Jarque-Bera (JB):            78807.169\n",
       "Skew:                          -0.952   Prob(JB):                         0.00\n",
       "Kurtosis:                      33.307   Cond. No.                     7.39e+21\n",
       "==============================================================================\n",
       "\n",
       "Warnings:\n",
       "[1] Standard Errors assume that the covariance matrix of the errors is correctly specified.\n",
       "[2] The smallest eigenvalue is 1.31e-30. This might indicate that there are\n",
       "strong multicollinearity problems or that the design matrix is singular.\n",
       "\"\"\""
      ]
     },
     "execution_count": 448,
     "metadata": {},
     "output_type": "execute_result"
    }
   ],
   "source": [
    "stat_model.summary()"
   ]
  },
  {
   "cell_type": "code",
   "execution_count": 449,
   "metadata": {},
   "outputs": [],
   "source": [
    "#these 7 variables have high t-test p values. strange that year built appears insignificant as it previously ran \n",
    "#a high correlation against the target var\n",
    "#garage_cars 0.112\n",
    "#yearbuilt 0.513\n",
    "#yearremod 0.202\n",
    "#foundation 0.638\n",
    "#centra_air 0.701\n",
    "#paved 0.950\n",
    "#misc_feature 0.226"
   ]
  },
  {
   "cell_type": "markdown",
   "metadata": {},
   "source": [
    "**K-Fold Cross Validation** "
   ]
  },
  {
   "cell_type": "code",
   "execution_count": 442,
   "metadata": {},
   "outputs": [
    {
     "name": "stdout",
     "output_type": "stream",
     "text": [
      "[0.86485124 0.83015069 0.79762124 0.81684913 0.81939452 0.82564035\n",
      " 0.84166456 0.71798323 0.49109148 0.82608055]\n",
      "0.7831326986160876\n"
     ]
    }
   ],
   "source": [
    "lr_scores = cross_val_score(lr, X_train, y_train, cv=10)\n",
    "print(lr_scores)\n",
    "print(lr_scores.mean())"
   ]
  },
  {
   "cell_type": "markdown",
   "metadata": {},
   "source": [
    "The K-fold scores seem rather consistent indicating low variance. The mean score of 0.78 is a relatively strong score too. This is a relatively good start for a base model. "
   ]
  },
  {
   "cell_type": "markdown",
   "metadata": {},
   "source": [
    "**Short Checkpoint Summary** \n",
    "\n",
    "At this point, we have fitted our first baseline model, which has been fitted using a linear regression model using the top num corr vars and the top ordinal, nominal and binary categorical vars that have been transformed to num vars. All variables have also been scaled using standardscaler( )\n",
    "\n",
    "There are currently 19 variables in this baseline model, of which 11 are categorial and 8 are numerical. 19 out of the original 81 variables so that's about 25% of the total number of initial variables. \n",
    "\n",
    "The R-score is looking positive for now at 0.8 and the k-fold cross validation results also indicate that the model does not have high variance. \n",
    "\n",
    "The statsmodel OLS model scores similarly provided positive R^2 score of 0.813 and an adjusted R^2 of 0.811. The F-stat score is also highly significant at 0.00 indicating that the fitted model is performing better than the naive model. However the individual variable t-test p-values show that 7 of the 19 variables are >0.05 which imply that they are not significant in predicting house saleprice. \n",
    "\n",
    "My current baseline model RMSE is 29,298 which is relatively decent compared to other kagglers on the leaderboard.\n",
    "\n",
    "\n",
    "However, given that i had employed mean encoding on my ordinal categorical variables earlier, i should check the model for multicollinearity using Variance Inflation Factor (VIF) and will also employ Ridge and Lasso regularization to see how that changes the R^2 scores. \n",
    "\n",
    "I will also recursively remove the variables that have high T-test p values and evaluate the impact on the R^2 score."
   ]
  },
  {
   "cell_type": "markdown",
   "metadata": {},
   "source": [
    "**Regularization using Ridge and Lasso regressions**\n",
    "\n",
    "Will also optimize for hyper parameters using Gridsearch"
   ]
  },
  {
   "cell_type": "markdown",
   "metadata": {},
   "source": [
    "**Ridge Regression**"
   ]
  },
  {
   "cell_type": "code",
   "execution_count": 453,
   "metadata": {},
   "outputs": [],
   "source": [
    "#importing Ridge regression and Gridsearch \n",
    "from sklearn.linear_model import LinearRegression, Ridge, RidgeCV\n",
    "from sklearn.model_selection import GridSearchCV"
   ]
  },
  {
   "cell_type": "code",
   "execution_count": 459,
   "metadata": {},
   "outputs": [],
   "source": [
    "# np.logspace gives us points between specified orders of magnitude on a logarithmic scale. It is base 10.\n",
    "#generated a list of 200 alpha values\n",
    "r_alphas = np.logspace(0, 5, 200)\n",
    "ridge_parameters = {'alpha': r_alphas }"
   ]
  },
  {
   "cell_type": "code",
   "execution_count": 462,
   "metadata": {},
   "outputs": [
    {
     "data": {
      "text/plain": [
       "array([1.        , 1.05956018, 1.12266777, 1.18953407, 1.26038293,\n",
       "       1.33545156, 1.4149913 , 1.49926843, 1.58856513, 1.68318035])"
      ]
     },
     "execution_count": 462,
     "metadata": {},
     "output_type": "execute_result"
    }
   ],
   "source": [
    "r_alphas[:10]"
   ]
  },
  {
   "cell_type": "code",
   "execution_count": 460,
   "metadata": {},
   "outputs": [],
   "source": [
    "#using Gridsearch to find the optimal alpha value for ridge regression\n",
    "ridge_gridsearch = GridSearchCV(Ridge(), ridge_parameters, cv = 5, verbose=1)"
   ]
  },
  {
   "cell_type": "code",
   "execution_count": 461,
   "metadata": {},
   "outputs": [
    {
     "name": "stdout",
     "output_type": "stream",
     "text": [
      "Fitting 5 folds for each of 200 candidates, totalling 1000 fits\n"
     ]
    },
    {
     "name": "stderr",
     "output_type": "stream",
     "text": [
      "[Parallel(n_jobs=1)]: Using backend SequentialBackend with 1 concurrent workers.\n",
      "[Parallel(n_jobs=1)]: Done 1000 out of 1000 | elapsed:    1.8s finished\n"
     ]
    }
   ],
   "source": [
    "ridge_gridsearch = ridge_gridsearch.fit(X_train_ss, y_train)"
   ]
  },
  {
   "cell_type": "code",
   "execution_count": 463,
   "metadata": {},
   "outputs": [
    {
     "data": {
      "text/plain": [
       "0.7851570569267872"
      ]
     },
     "execution_count": 463,
     "metadata": {},
     "output_type": "execute_result"
    }
   ],
   "source": [
    "#finding the best ridge score \n",
    "#the best score is lower than my baseline score so... i'm not sure whether that implies that there is no \n",
    "#multicollinearity and hence the model cannot be improved, or i have not put in the right alpha values \n",
    "ridge_gridsearch.best_score_"
   ]
  },
  {
   "cell_type": "code",
   "execution_count": 483,
   "metadata": {},
   "outputs": [],
   "source": [
    "#i will attempt to use different alpha values \n",
    "r_alphas = np.logspace(-10, 100, 200)\n",
    "ridge_parameters = {'alpha': r_alphas }"
   ]
  },
  {
   "cell_type": "code",
   "execution_count": 484,
   "metadata": {
    "scrolled": true
   },
   "outputs": [
    {
     "name": "stdout",
     "output_type": "stream",
     "text": [
      "Fitting 5 folds for each of 200 candidates, totalling 1000 fits\n"
     ]
    },
    {
     "name": "stderr",
     "output_type": "stream",
     "text": [
      "[Parallel(n_jobs=1)]: Using backend SequentialBackend with 1 concurrent workers.\n",
      "[Parallel(n_jobs=1)]: Done 1000 out of 1000 | elapsed:    1.9s finished\n"
     ]
    },
    {
     "data": {
      "text/plain": [
       "0.7851570569267872"
      ]
     },
     "execution_count": 484,
     "metadata": {},
     "output_type": "execute_result"
    }
   ],
   "source": [
    "#seems like expanding the range of alpha values that i'm optimizing on does not have an impact on the best score \n",
    "ridge_gridsearch = ridge_gridsearch.fit(X_train_ss, y_train)\n",
    "ridge_gridsearch.best_score_"
   ]
  },
  {
   "cell_type": "code",
   "execution_count": 489,
   "metadata": {},
   "outputs": [
    {
     "name": "stdout",
     "output_type": "stream",
     "text": [
      "Best fit Ridge Score: 0.8538839109527178\n"
     ]
    }
   ],
   "source": [
    "best_fit_ridge = ridge_gridsearch.best_estimator_ \n",
    "best_fit_ridgescore = best_fit_ridge.score(X_test_ss,y_test)\n",
    "print(\"Best fit Ridge Score:\", best_fit_ridgescore)"
   ]
  },
  {
   "cell_type": "markdown",
   "metadata": {},
   "source": [
    "Understanding how the Ridge regression has evaluated the variables by studying the magnitude of the coefficients "
   ]
  },
  {
   "cell_type": "code",
   "execution_count": 1038,
   "metadata": {
    "scrolled": true
   },
   "outputs": [
    {
     "data": {
      "text/plain": [
       "array([16179.6978119 , 18832.13099504,  5612.73615169,  5177.9352955 ,\n",
       "        4392.2880607 ,  8195.18912854,   418.17449168,  2135.2664303 ,\n",
       "           0.        ,  9517.76948128,  9424.23298118,  6746.57170738,\n",
       "       -3458.91888179,   539.19520139,  2672.08461008, -1716.06481571,\n",
       "         256.51151508,   580.21563777, -1205.45113147])"
      ]
     },
     "execution_count": 1038,
     "metadata": {},
     "output_type": "execute_result"
    }
   ],
   "source": [
    "best_fit_ridge.coef_"
   ]
  },
  {
   "cell_type": "markdown",
   "metadata": {},
   "source": [
    "**Lasso Regression**"
   ]
  },
  {
   "cell_type": "code",
   "execution_count": 472,
   "metadata": {},
   "outputs": [],
   "source": [
    "from sklearn.linear_model import Lasso"
   ]
  },
  {
   "cell_type": "code",
   "execution_count": 473,
   "metadata": {},
   "outputs": [],
   "source": [
    "l_alphas = np.arange(0.001, 0.15, 0.0025)\n",
    "lasso_parameters = {'alpha': l_alphas }"
   ]
  },
  {
   "cell_type": "code",
   "execution_count": 474,
   "metadata": {},
   "outputs": [],
   "source": [
    "#using Gridsearch to find the optimal alpha value for ridge regression\n",
    "lasso_gridsearch = GridSearchCV(Lasso(), lasso_parameters, cv = 5, verbose=1)"
   ]
  },
  {
   "cell_type": "code",
   "execution_count": 475,
   "metadata": {},
   "outputs": [
    {
     "name": "stdout",
     "output_type": "stream",
     "text": [
      "Fitting 5 folds for each of 60 candidates, totalling 300 fits\n"
     ]
    },
    {
     "name": "stderr",
     "output_type": "stream",
     "text": [
      "[Parallel(n_jobs=1)]: Using backend SequentialBackend with 1 concurrent workers.\n",
      "[Parallel(n_jobs=1)]: Done 300 out of 300 | elapsed:    0.8s finished\n"
     ]
    }
   ],
   "source": [
    "lasso_gridsearch = lasso_gridsearch.fit(X_train_ss, y_train)"
   ]
  },
  {
   "cell_type": "code",
   "execution_count": 476,
   "metadata": {},
   "outputs": [
    {
     "data": {
      "text/plain": [
       "0.7810944398609075"
      ]
     },
     "execution_count": 476,
     "metadata": {},
     "output_type": "execute_result"
    }
   ],
   "source": [
    "lasso_gridsearch.best_score_"
   ]
  },
  {
   "cell_type": "code",
   "execution_count": 477,
   "metadata": {},
   "outputs": [],
   "source": [
    "#changing up my alpha values - similar to ridge regression - doesn't improve my baseline score \n",
    "l_alphas = np.arange(0.01, 1.5, 0.025)\n",
    "lasso_parameters = {'alpha': l_alphas }"
   ]
  },
  {
   "cell_type": "code",
   "execution_count": 478,
   "metadata": {},
   "outputs": [
    {
     "name": "stdout",
     "output_type": "stream",
     "text": [
      "Fitting 5 folds for each of 60 candidates, totalling 300 fits\n"
     ]
    },
    {
     "name": "stderr",
     "output_type": "stream",
     "text": [
      "[Parallel(n_jobs=1)]: Using backend SequentialBackend with 1 concurrent workers.\n",
      "[Parallel(n_jobs=1)]: Done 300 out of 300 | elapsed:    0.8s finished\n"
     ]
    },
    {
     "data": {
      "text/plain": [
       "0.7810944398609075"
      ]
     },
     "execution_count": 478,
     "metadata": {},
     "output_type": "execute_result"
    }
   ],
   "source": [
    "lasso_gridsearch = lasso_gridsearch.fit(X_train_ss, y_train)\n",
    "lasso_gridsearch.best_score_"
   ]
  },
  {
   "cell_type": "code",
   "execution_count": 485,
   "metadata": {},
   "outputs": [
    {
     "data": {
      "text/plain": [
       "{'alpha': 0.1485}"
      ]
     },
     "execution_count": 485,
     "metadata": {},
     "output_type": "execute_result"
    }
   ],
   "source": [
    "lasso_gridsearch.best_params_"
   ]
  },
  {
   "cell_type": "code",
   "execution_count": 491,
   "metadata": {
    "scrolled": true
   },
   "outputs": [
    {
     "name": "stdout",
     "output_type": "stream",
     "text": [
      "Best Fit Laso Score: 0.8555235910676661\n"
     ]
    }
   ],
   "source": [
    "best_fit_lasso = lasso_gridsearch.best_estimator_ \n",
    "best_fit_lasso_score = best_fit_lasso.score(X_test_ss,y_test)\n",
    "print(\"Best Fit Laso Score:\", best_fit_lasso_score)"
   ]
  },
  {
   "cell_type": "markdown",
   "metadata": {},
   "source": [
    "Understanding how the lasso regression has evaluated the variables by studying the magnitude of the coefficients "
   ]
  },
  {
   "cell_type": "code",
   "execution_count": 1036,
   "metadata": {
    "scrolled": false
   },
   "outputs": [
    {
     "data": {
      "text/plain": [
       "array([18573.05684001, 20708.3136956 ,  5655.1369921 ,  4565.53380324,\n",
       "        2724.51246834,  8775.49925488,   -65.98542413,  1365.83970571,\n",
       "           0.        ,  9861.56421426,  9494.7712503 ,  7677.3728718 ,\n",
       "       -4013.7194659 ,  -323.89037509,  2146.11631557, -1502.45932924,\n",
       "         226.24061034,   428.95515519, -1326.39199473])"
      ]
     },
     "execution_count": 1036,
     "metadata": {},
     "output_type": "execute_result"
    }
   ],
   "source": [
    "best_fit_lasso.coef_"
   ]
  },
  {
   "cell_type": "code",
   "execution_count": 1037,
   "metadata": {},
   "outputs": [
    {
     "data": {
      "text/plain": [
       "Index(['overall_qual', 'gr_liv_area', 'garage_area', 'garage_cars',\n",
       "       'total_bsmt_sf', '1st_flr_sf', 'year_built', 'year_remod/add',\n",
       "       'neighbourhood_mean_enc', 'exter_qual_ord', 'kitchen_qual_ord',\n",
       "       'bsmt_qual_ord', 'alley_mean_enc', 'foundation_mean_enc',\n",
       "       'garage_finish_ord', 'lot_shape_ord', 'central_air_dum',\n",
       "       'paved_drive_dum', 'misc_feature_dum'],\n",
       "      dtype='object')"
      ]
     },
     "execution_count": 1037,
     "metadata": {},
     "output_type": "execute_result"
    }
   ],
   "source": [
    "all_features.columns"
   ]
  },
  {
   "cell_type": "markdown",
   "metadata": {},
   "source": [
    "**Results summary** \n",
    "\n",
    "My best fit ridge regression test scores (0.853), lasso regression score (0.855) and lin reg baseline model score (0.855) are all approxiamtely similar. \n",
    "\n",
    "I will just be adopting my baseline lin reg model then since it is less computationally expensive and achieves a similar score to the regularised model. \n",
    "\n",
    "The coefs from both the Ridge and Lasso regressions show that the 'neighbourhood_mean_enc' function is insignificant - however the OLS fitted model shows that the same function is statistically significant based on it's T-test p-value. \n"
   ]
  },
  {
   "cell_type": "markdown",
   "metadata": {},
   "source": [
    "**Additional cleaning** \n",
    "\n",
    "recursive feature elimination? Manually removing the variables with high T-test p-values based on my Statsmodel OLS scores.\n",
    "\n",
    "maybe test out some interactions."
   ]
  },
  {
   "cell_type": "code",
   "execution_count": null,
   "metadata": {},
   "outputs": [],
   "source": [
    "#Removing these because they have high T-test p-values \n",
    "#garage_cars 0.112\n",
    "#yearbuilt 0.513\n",
    "#yearremod 0.202\n",
    "#foundation 0.638\n",
    "#centra_air 0.701\n",
    "#paved 0.950\n",
    "#misc_feature 0.226\n",
    "\n",
    "#Round 2 results after removing the above \n",
    "#total_bsmt_sq returned 0.09 so i am going to remove this too "
   ]
  },
  {
   "cell_type": "code",
   "execution_count": 544,
   "metadata": {},
   "outputs": [
    {
     "data": {
      "text/plain": [
       "(2051, 19)"
      ]
     },
     "execution_count": 544,
     "metadata": {},
     "output_type": "execute_result"
    }
   ],
   "source": [
    "all_features.shape"
   ]
  },
  {
   "cell_type": "code",
   "execution_count": 545,
   "metadata": {},
   "outputs": [
    {
     "data": {
      "text/plain": [
       "Index(['overall_qual', 'gr_liv_area', 'garage_area', 'garage_cars',\n",
       "       'total_bsmt_sf', '1st_flr_sf', 'year_built', 'year_remod/add',\n",
       "       'neighbourhood_mean_enc', 'exter_qual_ord', 'kitchen_qual_ord',\n",
       "       'bsmt_qual_ord', 'alley_mean_enc', 'foundation_mean_enc',\n",
       "       'garage_finish_ord', 'lot_shape_ord', 'central_air_dum',\n",
       "       'paved_drive_dum', 'misc_feature_dum'],\n",
       "      dtype='object')"
      ]
     },
     "execution_count": 545,
     "metadata": {},
     "output_type": "execute_result"
    }
   ],
   "source": [
    "all_features.columns"
   ]
  },
  {
   "cell_type": "code",
   "execution_count": 955,
   "metadata": {},
   "outputs": [],
   "source": [
    "all_features2 = ['overall_qual', 'gr_liv_area', 'garage_area', \n",
    "                 '1st_flr_sf', 'exter_qual_ord','kitchen_qual_ord',\n",
    "                 'bsmt_qual_ord','garage_finish_ord']"
   ]
  },
  {
   "cell_type": "code",
   "execution_count": 956,
   "metadata": {},
   "outputs": [],
   "source": [
    "all_features2 = all_features[[k for k in all_features2]]"
   ]
  },
  {
   "cell_type": "code",
   "execution_count": 957,
   "metadata": {},
   "outputs": [
    {
     "data": {
      "text/plain": [
       "(2051, 8)"
      ]
     },
     "execution_count": 957,
     "metadata": {},
     "output_type": "execute_result"
    }
   ],
   "source": [
    "all_features2.shape"
   ]
  },
  {
   "cell_type": "markdown",
   "metadata": {},
   "source": [
    "Replacing Alley and Neighborhood mean_encode with dummy variables "
   ]
  },
  {
   "cell_type": "code",
   "execution_count": 958,
   "metadata": {},
   "outputs": [],
   "source": [
    "nh_dummy = pd.get_dummies(ames_train['neighborhood'], drop_first=True)\n",
    "#generating n-1 dummy variables\n",
    "\n",
    "alley_dummy = pd.get_dummies(ames_train['alley'], drop_first=True)"
   ]
  },
  {
   "cell_type": "code",
   "execution_count": 959,
   "metadata": {},
   "outputs": [
    {
     "data": {
      "text/plain": [
       "(2051, 27)"
      ]
     },
     "execution_count": 959,
     "metadata": {},
     "output_type": "execute_result"
    }
   ],
   "source": [
    "nh_dummy.shape"
   ]
  },
  {
   "cell_type": "code",
   "execution_count": 960,
   "metadata": {},
   "outputs": [
    {
     "data": {
      "text/plain": [
       "(2051, 1)"
      ]
     },
     "execution_count": 960,
     "metadata": {},
     "output_type": "execute_result"
    }
   ],
   "source": [
    "alley_dummy.shape"
   ]
  },
  {
   "cell_type": "code",
   "execution_count": 961,
   "metadata": {
    "scrolled": false
   },
   "outputs": [
    {
     "data": {
      "text/html": [
       "<div>\n",
       "<style scoped>\n",
       "    .dataframe tbody tr th:only-of-type {\n",
       "        vertical-align: middle;\n",
       "    }\n",
       "\n",
       "    .dataframe tbody tr th {\n",
       "        vertical-align: top;\n",
       "    }\n",
       "\n",
       "    .dataframe thead th {\n",
       "        text-align: right;\n",
       "    }\n",
       "</style>\n",
       "<table border=\"1\" class=\"dataframe\">\n",
       "  <thead>\n",
       "    <tr style=\"text-align: right;\">\n",
       "      <th></th>\n",
       "      <th>Blueste</th>\n",
       "      <th>BrDale</th>\n",
       "      <th>BrkSide</th>\n",
       "      <th>ClearCr</th>\n",
       "      <th>CollgCr</th>\n",
       "      <th>Crawfor</th>\n",
       "      <th>Edwards</th>\n",
       "      <th>Gilbert</th>\n",
       "      <th>Greens</th>\n",
       "      <th>GrnHill</th>\n",
       "      <th>...</th>\n",
       "      <th>NoRidge</th>\n",
       "      <th>NridgHt</th>\n",
       "      <th>OldTown</th>\n",
       "      <th>SWISU</th>\n",
       "      <th>Sawyer</th>\n",
       "      <th>SawyerW</th>\n",
       "      <th>Somerst</th>\n",
       "      <th>StoneBr</th>\n",
       "      <th>Timber</th>\n",
       "      <th>Veenker</th>\n",
       "    </tr>\n",
       "  </thead>\n",
       "  <tbody>\n",
       "    <tr>\n",
       "      <td>0</td>\n",
       "      <td>0</td>\n",
       "      <td>0</td>\n",
       "      <td>0</td>\n",
       "      <td>0</td>\n",
       "      <td>0</td>\n",
       "      <td>0</td>\n",
       "      <td>0</td>\n",
       "      <td>0</td>\n",
       "      <td>0</td>\n",
       "      <td>0</td>\n",
       "      <td>...</td>\n",
       "      <td>0</td>\n",
       "      <td>0</td>\n",
       "      <td>0</td>\n",
       "      <td>0</td>\n",
       "      <td>1</td>\n",
       "      <td>0</td>\n",
       "      <td>0</td>\n",
       "      <td>0</td>\n",
       "      <td>0</td>\n",
       "      <td>0</td>\n",
       "    </tr>\n",
       "    <tr>\n",
       "      <td>1</td>\n",
       "      <td>0</td>\n",
       "      <td>0</td>\n",
       "      <td>0</td>\n",
       "      <td>0</td>\n",
       "      <td>0</td>\n",
       "      <td>0</td>\n",
       "      <td>0</td>\n",
       "      <td>0</td>\n",
       "      <td>0</td>\n",
       "      <td>0</td>\n",
       "      <td>...</td>\n",
       "      <td>0</td>\n",
       "      <td>0</td>\n",
       "      <td>0</td>\n",
       "      <td>0</td>\n",
       "      <td>0</td>\n",
       "      <td>1</td>\n",
       "      <td>0</td>\n",
       "      <td>0</td>\n",
       "      <td>0</td>\n",
       "      <td>0</td>\n",
       "    </tr>\n",
       "    <tr>\n",
       "      <td>2</td>\n",
       "      <td>0</td>\n",
       "      <td>0</td>\n",
       "      <td>0</td>\n",
       "      <td>0</td>\n",
       "      <td>0</td>\n",
       "      <td>0</td>\n",
       "      <td>0</td>\n",
       "      <td>0</td>\n",
       "      <td>0</td>\n",
       "      <td>0</td>\n",
       "      <td>...</td>\n",
       "      <td>0</td>\n",
       "      <td>0</td>\n",
       "      <td>0</td>\n",
       "      <td>0</td>\n",
       "      <td>0</td>\n",
       "      <td>0</td>\n",
       "      <td>0</td>\n",
       "      <td>0</td>\n",
       "      <td>0</td>\n",
       "      <td>0</td>\n",
       "    </tr>\n",
       "    <tr>\n",
       "      <td>3</td>\n",
       "      <td>0</td>\n",
       "      <td>0</td>\n",
       "      <td>0</td>\n",
       "      <td>0</td>\n",
       "      <td>0</td>\n",
       "      <td>0</td>\n",
       "      <td>0</td>\n",
       "      <td>0</td>\n",
       "      <td>0</td>\n",
       "      <td>0</td>\n",
       "      <td>...</td>\n",
       "      <td>0</td>\n",
       "      <td>0</td>\n",
       "      <td>0</td>\n",
       "      <td>0</td>\n",
       "      <td>0</td>\n",
       "      <td>0</td>\n",
       "      <td>0</td>\n",
       "      <td>0</td>\n",
       "      <td>1</td>\n",
       "      <td>0</td>\n",
       "    </tr>\n",
       "    <tr>\n",
       "      <td>4</td>\n",
       "      <td>0</td>\n",
       "      <td>0</td>\n",
       "      <td>0</td>\n",
       "      <td>0</td>\n",
       "      <td>0</td>\n",
       "      <td>0</td>\n",
       "      <td>0</td>\n",
       "      <td>0</td>\n",
       "      <td>0</td>\n",
       "      <td>0</td>\n",
       "      <td>...</td>\n",
       "      <td>0</td>\n",
       "      <td>0</td>\n",
       "      <td>0</td>\n",
       "      <td>0</td>\n",
       "      <td>0</td>\n",
       "      <td>1</td>\n",
       "      <td>0</td>\n",
       "      <td>0</td>\n",
       "      <td>0</td>\n",
       "      <td>0</td>\n",
       "    </tr>\n",
       "  </tbody>\n",
       "</table>\n",
       "<p>5 rows × 27 columns</p>\n",
       "</div>"
      ],
      "text/plain": [
       "   Blueste  BrDale  BrkSide  ClearCr  CollgCr  Crawfor  Edwards  Gilbert  \\\n",
       "0        0       0        0        0        0        0        0        0   \n",
       "1        0       0        0        0        0        0        0        0   \n",
       "2        0       0        0        0        0        0        0        0   \n",
       "3        0       0        0        0        0        0        0        0   \n",
       "4        0       0        0        0        0        0        0        0   \n",
       "\n",
       "   Greens  GrnHill  ...  NoRidge  NridgHt  OldTown  SWISU  Sawyer  SawyerW  \\\n",
       "0       0        0  ...        0        0        0      0       1        0   \n",
       "1       0        0  ...        0        0        0      0       0        1   \n",
       "2       0        0  ...        0        0        0      0       0        0   \n",
       "3       0        0  ...        0        0        0      0       0        0   \n",
       "4       0        0  ...        0        0        0      0       0        1   \n",
       "\n",
       "   Somerst  StoneBr  Timber  Veenker  \n",
       "0        0        0       0        0  \n",
       "1        0        0       0        0  \n",
       "2        0        0       0        0  \n",
       "3        0        0       1        0  \n",
       "4        0        0       0        0  \n",
       "\n",
       "[5 rows x 27 columns]"
      ]
     },
     "execution_count": 961,
     "metadata": {},
     "output_type": "execute_result"
    }
   ],
   "source": [
    "nh_dummy.head()"
   ]
  },
  {
   "cell_type": "markdown",
   "metadata": {},
   "source": [
    "We are dropping these dummy variables due to high T-test p-value "
   ]
  },
  {
   "cell_type": "markdown",
   "metadata": {},
   "source": [
    "i'm not sure why the code below does not work it keeps telling me that those headers are not in my all_feature2 list when they clearly are?... so i'm just going to drop it from the dummy df instead\n",
    "\n",
    "dummy_drop = ['lot_shape_ord','Blueste','BrDale','BrkSide','Edwards','Greens','Landmrk',\n",
    "              'IDOTRR','MeadowV','NPkVill','NWAmes','OldTown','SWISU','Sawyer','Pave']\n",
    "\n",
    "all_features2.drop(dummy_drop, axis=1)\n",
    "\n",
    "going to drop 'GrnHill' too as it is not present in the test set "
   ]
  },
  {
   "cell_type": "code",
   "execution_count": 962,
   "metadata": {},
   "outputs": [],
   "source": [
    "nh_dummy.drop(['Blueste','BrDale','BrkSide','Edwards','Greens','Landmrk','Gilbert',\n",
    "               'IDOTRR','MeadowV','NPkVill','NWAmes','OldTown','SWISU','SawyerW','GrnHill'],axis=1,inplace=True)"
   ]
  },
  {
   "cell_type": "code",
   "execution_count": 963,
   "metadata": {},
   "outputs": [
    {
     "data": {
      "text/plain": [
       "(2051, 12)"
      ]
     },
     "execution_count": 963,
     "metadata": {},
     "output_type": "execute_result"
    }
   ],
   "source": [
    "nh_dummy.shape #checking to ensure that we dropped 14 vars "
   ]
  },
  {
   "cell_type": "code",
   "execution_count": 964,
   "metadata": {},
   "outputs": [
    {
     "data": {
      "text/plain": [
       "(2051, 20)"
      ]
     },
     "execution_count": 964,
     "metadata": {},
     "output_type": "execute_result"
    }
   ],
   "source": [
    "#Concatenating the dummy variable columns with the other binary vars \n",
    "all_features2 = pd.concat([all_features2, nh_dummy], axis=1)\n",
    "all_features2.shape # 8 + 13 = 21 so that should be right \n",
    "\n",
    "#i'm going to leave out alley_dummy because it's has only 1 feature, pave, which has a high t-test p-value"
   ]
  },
  {
   "cell_type": "markdown",
   "metadata": {},
   "source": [
    "**Train Test Split**"
   ]
  },
  {
   "cell_type": "markdown",
   "metadata": {},
   "source": [
    "Adding the houing IDs back here before train test split, removing the IDs from the split before scaling, scale the predictive vars and then add it back in.  -- any better way to deal with the housing IDs???"
   ]
  },
  {
   "cell_type": "code",
   "execution_count": 965,
   "metadata": {},
   "outputs": [],
   "source": [
    "all_features2 = pd.concat([all_features2,ames_train['id']], axis=1)"
   ]
  },
  {
   "cell_type": "code",
   "execution_count": 966,
   "metadata": {},
   "outputs": [
    {
     "data": {
      "text/plain": [
       "Index(['overall_qual', 'gr_liv_area', 'garage_area', '1st_flr_sf',\n",
       "       'exter_qual_ord', 'kitchen_qual_ord', 'bsmt_qual_ord',\n",
       "       'garage_finish_ord', 'ClearCr', 'CollgCr', 'Crawfor', 'Mitchel',\n",
       "       'NAmes', 'NoRidge', 'NridgHt', 'Sawyer', 'Somerst', 'StoneBr', 'Timber',\n",
       "       'Veenker', 'id'],\n",
       "      dtype='object')"
      ]
     },
     "execution_count": 966,
     "metadata": {},
     "output_type": "execute_result"
    }
   ],
   "source": [
    "all_features2.columns"
   ]
  },
  {
   "cell_type": "code",
   "execution_count": 967,
   "metadata": {},
   "outputs": [
    {
     "name": "stdout",
     "output_type": "stream",
     "text": [
      "X train shape, Y train shape : (1640, 21) (1640,)\n",
      "X test shape, Y test shape : (411, 21) (411,)\n"
     ]
    }
   ],
   "source": [
    "X2 = all_features2\n",
    "y = ames_train['saleprice']\n",
    "\n",
    "X2_train, X2_test, y_train, y_test = train_test_split(X2, y, test_size=0.2, random_state=42)\n",
    "\n",
    "#checking to ensure that 80% of the data has been allocated to the training set and 20% to the test set. \n",
    "print (\"X train shape, Y train shape :\", X2_train.shape, y_train.shape)\n",
    "print (\"X test shape, Y test shape :\", X2_test.shape, y_test.shape)"
   ]
  },
  {
   "cell_type": "markdown",
   "metadata": {},
   "source": [
    "Assigning the unscaled train and test ids as separate objects "
   ]
  },
  {
   "cell_type": "code",
   "execution_count": 968,
   "metadata": {},
   "outputs": [],
   "source": [
    "X2_trainid = X2_train['id'] \n",
    "X2_testid = X2_test['id']"
   ]
  },
  {
   "cell_type": "code",
   "execution_count": 969,
   "metadata": {},
   "outputs": [
    {
     "name": "stderr",
     "output_type": "stream",
     "text": [
      "/opt/anaconda3/lib/python3.7/site-packages/pandas/core/frame.py:4102: SettingWithCopyWarning: \n",
      "A value is trying to be set on a copy of a slice from a DataFrame\n",
      "\n",
      "See the caveats in the documentation: http://pandas.pydata.org/pandas-docs/stable/user_guide/indexing.html#returning-a-view-versus-a-copy\n",
      "  errors=errors,\n"
     ]
    }
   ],
   "source": [
    "X2_train.drop('id',axis=1, inplace=True)"
   ]
  },
  {
   "cell_type": "code",
   "execution_count": 970,
   "metadata": {},
   "outputs": [],
   "source": [
    "X2_test.drop('id',axis=1, inplace=True)"
   ]
  },
  {
   "cell_type": "code",
   "execution_count": 971,
   "metadata": {},
   "outputs": [
    {
     "data": {
      "text/plain": [
       "Index(['overall_qual', 'gr_liv_area', 'garage_area', '1st_flr_sf',\n",
       "       'exter_qual_ord', 'kitchen_qual_ord', 'bsmt_qual_ord',\n",
       "       'garage_finish_ord', 'ClearCr', 'CollgCr', 'Crawfor', 'Mitchel',\n",
       "       'NAmes', 'NoRidge', 'NridgHt', 'Sawyer', 'Somerst', 'StoneBr', 'Timber',\n",
       "       'Veenker'],\n",
       "      dtype='object')"
      ]
     },
     "execution_count": 971,
     "metadata": {},
     "output_type": "execute_result"
    }
   ],
   "source": [
    "X2_test.columns"
   ]
  },
  {
   "cell_type": "code",
   "execution_count": 972,
   "metadata": {
    "scrolled": true
   },
   "outputs": [
    {
     "data": {
      "text/plain": [
       "Index(['overall_qual', 'gr_liv_area', 'garage_area', '1st_flr_sf',\n",
       "       'exter_qual_ord', 'kitchen_qual_ord', 'bsmt_qual_ord',\n",
       "       'garage_finish_ord', 'ClearCr', 'CollgCr', 'Crawfor', 'Mitchel',\n",
       "       'NAmes', 'NoRidge', 'NridgHt', 'Sawyer', 'Somerst', 'StoneBr', 'Timber',\n",
       "       'Veenker'],\n",
       "      dtype='object')"
      ]
     },
     "execution_count": 972,
     "metadata": {},
     "output_type": "execute_result"
    }
   ],
   "source": [
    "X2_train.columns"
   ]
  },
  {
   "cell_type": "markdown",
   "metadata": {},
   "source": [
    "**re-inserting id column**\n",
    "\n",
    "Before we scale and fit we are going to drop the house ID columns. Since we have alr stored the train and test ids as separate objects before scaling we can just re-insert it after getting the predicted results "
   ]
  },
  {
   "cell_type": "markdown",
   "metadata": {},
   "source": [
    "**Scaling**"
   ]
  },
  {
   "cell_type": "code",
   "execution_count": 973,
   "metadata": {},
   "outputs": [],
   "source": [
    "ss = StandardScaler()\n",
    "X2_train_ss = ss.fit_transform(X2_train)\n",
    "#fitting the scaler model to our training set \n",
    "X2_test_ss = ss.transform(X2_test)\n",
    "#using the fitted model to scale our test set "
   ]
  },
  {
   "cell_type": "markdown",
   "metadata": {},
   "source": [
    "**Fitting with Lin Reg Model (model2)**"
   ]
  },
  {
   "cell_type": "markdown",
   "metadata": {},
   "source": [
    "A reminder here that the difference btw baseline model 2 and baseline model is that we have removed 8 variables that have high T-test p-values and have also dummified 2 of the nominal variables (instead of the previou mean encoding) "
   ]
  },
  {
   "cell_type": "code",
   "execution_count": 974,
   "metadata": {},
   "outputs": [
    {
     "name": "stdout",
     "output_type": "stream",
     "text": [
      "Baseline Model train_score2: 0.8288091201672623\n",
      "Baseline Model test_score2: 0.8596041754994881\n"
     ]
    }
   ],
   "source": [
    "lr = LinearRegression()\n",
    "#this will be our basic model\n",
    "model2 = lr.fit(X2_train_ss, y_train)\n",
    "\n",
    "train_score2 = lr.score(X2_train_ss, y_train)\n",
    "print(\"Baseline Model train_score2:\", train_score2)\n",
    "\n",
    "test_score2 = lr.score(X2_test_ss, y_test)\n",
    "print(\"Baseline Model test_score2:\", test_score2)\n"
   ]
  },
  {
   "cell_type": "code",
   "execution_count": 978,
   "metadata": {},
   "outputs": [],
   "source": [
    "#creating a baseline stat model too to glean more info\n",
    "import statsmodels.api as sm\n",
    "\n",
    "X2_stat = sm.add_constant(X2)\n",
    "#y is defined above alr\n",
    "\n",
    "stat_model2 = sm.OLS(y, X2_stat)\n",
    "stat_model2 = stat_model2.fit()"
   ]
  },
  {
   "cell_type": "code",
   "execution_count": 976,
   "metadata": {
    "scrolled": true
   },
   "outputs": [
    {
     "data": {
      "text/html": [
       "<table class=\"simpletable\">\n",
       "<caption>OLS Regression Results</caption>\n",
       "<tr>\n",
       "  <th>Dep. Variable:</th>        <td>saleprice</td>    <th>  R-squared:         </th> <td>   0.835</td> \n",
       "</tr>\n",
       "<tr>\n",
       "  <th>Model:</th>                   <td>OLS</td>       <th>  Adj. R-squared:    </th> <td>   0.834</td> \n",
       "</tr>\n",
       "<tr>\n",
       "  <th>Method:</th>             <td>Least Squares</td>  <th>  F-statistic:       </th> <td>   490.1</td> \n",
       "</tr>\n",
       "<tr>\n",
       "  <th>Date:</th>             <td>Sat, 23 Nov 2019</td> <th>  Prob (F-statistic):</th>  <td>  0.00</td>  \n",
       "</tr>\n",
       "<tr>\n",
       "  <th>Time:</th>                 <td>17:19:10</td>     <th>  Log-Likelihood:    </th> <td> -24196.</td> \n",
       "</tr>\n",
       "<tr>\n",
       "  <th>No. Observations:</th>      <td>  2051</td>      <th>  AIC:               </th> <td>4.844e+04</td>\n",
       "</tr>\n",
       "<tr>\n",
       "  <th>Df Residuals:</th>          <td>  2029</td>      <th>  BIC:               </th> <td>4.856e+04</td>\n",
       "</tr>\n",
       "<tr>\n",
       "  <th>Df Model:</th>              <td>    21</td>      <th>                     </th>     <td> </td>    \n",
       "</tr>\n",
       "<tr>\n",
       "  <th>Covariance Type:</th>      <td>nonrobust</td>    <th>                     </th>     <td> </td>    \n",
       "</tr>\n",
       "</table>\n",
       "<table class=\"simpletable\">\n",
       "<tr>\n",
       "          <td></td>             <th>coef</th>     <th>std err</th>      <th>t</th>      <th>P>|t|</th>  <th>[0.025</th>    <th>0.975]</th>  \n",
       "</tr>\n",
       "<tr>\n",
       "  <th>const</th>             <td>-1.286e+05</td> <td> 6201.934</td> <td>  -20.739</td> <td> 0.000</td> <td>-1.41e+05</td> <td>-1.16e+05</td>\n",
       "</tr>\n",
       "<tr>\n",
       "  <th>overall_qual</th>      <td> 1.161e+04</td> <td>  954.174</td> <td>   12.172</td> <td> 0.000</td> <td> 9743.244</td> <td> 1.35e+04</td>\n",
       "</tr>\n",
       "<tr>\n",
       "  <th>gr_liv_area</th>       <td>   39.2082</td> <td>    2.053</td> <td>   19.095</td> <td> 0.000</td> <td>   35.181</td> <td>   43.235</td>\n",
       "</tr>\n",
       "<tr>\n",
       "  <th>garage_area</th>       <td>   37.2453</td> <td>    4.651</td> <td>    8.008</td> <td> 0.000</td> <td>   28.124</td> <td>   46.366</td>\n",
       "</tr>\n",
       "<tr>\n",
       "  <th>1st_flr_sf</th>        <td>   23.9610</td> <td>    2.434</td> <td>    9.846</td> <td> 0.000</td> <td>   19.188</td> <td>   28.734</td>\n",
       "</tr>\n",
       "<tr>\n",
       "  <th>exter_qual_ord</th>    <td> 1.139e+04</td> <td> 2156.694</td> <td>    5.282</td> <td> 0.000</td> <td> 7162.500</td> <td> 1.56e+04</td>\n",
       "</tr>\n",
       "<tr>\n",
       "  <th>kitchen_qual_ord</th>  <td> 1.318e+04</td> <td> 1690.702</td> <td>    7.796</td> <td> 0.000</td> <td> 9864.267</td> <td> 1.65e+04</td>\n",
       "</tr>\n",
       "<tr>\n",
       "  <th>bsmt_qual_ord</th>     <td> 8654.4077</td> <td> 1110.040</td> <td>    7.796</td> <td> 0.000</td> <td> 6477.471</td> <td> 1.08e+04</td>\n",
       "</tr>\n",
       "<tr>\n",
       "  <th>garage_finish_ord</th> <td> 4684.7335</td> <td> 1039.005</td> <td>    4.509</td> <td> 0.000</td> <td> 2647.105</td> <td> 6722.362</td>\n",
       "</tr>\n",
       "<tr>\n",
       "  <th>ClearCr</th>           <td> 2.954e+04</td> <td> 6376.430</td> <td>    4.632</td> <td> 0.000</td> <td>  1.7e+04</td> <td>  4.2e+04</td>\n",
       "</tr>\n",
       "<tr>\n",
       "  <th>CollgCr</th>           <td> 7707.8403</td> <td> 2892.582</td> <td>    2.665</td> <td> 0.008</td> <td> 2035.099</td> <td> 1.34e+04</td>\n",
       "</tr>\n",
       "<tr>\n",
       "  <th>Crawfor</th>           <td> 2.644e+04</td> <td> 4045.836</td> <td>    6.534</td> <td> 0.000</td> <td> 1.85e+04</td> <td> 3.44e+04</td>\n",
       "</tr>\n",
       "<tr>\n",
       "  <th>Mitchel</th>           <td> 1.157e+04</td> <td> 3850.702</td> <td>    3.004</td> <td> 0.003</td> <td> 4015.658</td> <td> 1.91e+04</td>\n",
       "</tr>\n",
       "<tr>\n",
       "  <th>NAmes</th>             <td> 8402.1114</td> <td> 2250.974</td> <td>    3.733</td> <td> 0.000</td> <td> 3987.650</td> <td> 1.28e+04</td>\n",
       "</tr>\n",
       "<tr>\n",
       "  <th>NoRidge</th>           <td> 4.792e+04</td> <td> 5198.019</td> <td>    9.218</td> <td> 0.000</td> <td> 3.77e+04</td> <td> 5.81e+04</td>\n",
       "</tr>\n",
       "<tr>\n",
       "  <th>NridgHt</th>           <td> 5.144e+04</td> <td> 3884.716</td> <td>   13.242</td> <td> 0.000</td> <td> 4.38e+04</td> <td> 5.91e+04</td>\n",
       "</tr>\n",
       "<tr>\n",
       "  <th>Sawyer</th>            <td> 1.073e+04</td> <td> 3340.338</td> <td>    3.213</td> <td> 0.001</td> <td> 4181.928</td> <td> 1.73e+04</td>\n",
       "</tr>\n",
       "<tr>\n",
       "  <th>Somerst</th>           <td> 1.064e+04</td> <td> 3430.536</td> <td>    3.100</td> <td> 0.002</td> <td> 3907.722</td> <td> 1.74e+04</td>\n",
       "</tr>\n",
       "<tr>\n",
       "  <th>StoneBr</th>           <td>  6.48e+04</td> <td> 5752.984</td> <td>   11.264</td> <td> 0.000</td> <td> 5.35e+04</td> <td> 7.61e+04</td>\n",
       "</tr>\n",
       "<tr>\n",
       "  <th>Timber</th>            <td> 1.955e+04</td> <td> 5014.200</td> <td>    3.900</td> <td> 0.000</td> <td> 9720.035</td> <td> 2.94e+04</td>\n",
       "</tr>\n",
       "<tr>\n",
       "  <th>Veenker</th>           <td> 2.588e+04</td> <td> 8056.043</td> <td>    3.213</td> <td> 0.001</td> <td> 1.01e+04</td> <td> 4.17e+04</td>\n",
       "</tr>\n",
       "<tr>\n",
       "  <th>id</th>                <td>    0.2191</td> <td>    0.861</td> <td>    0.254</td> <td> 0.799</td> <td>   -1.470</td> <td>    1.908</td>\n",
       "</tr>\n",
       "</table>\n",
       "<table class=\"simpletable\">\n",
       "<tr>\n",
       "  <th>Omnibus:</th>       <td>684.687</td> <th>  Durbin-Watson:     </th> <td>   2.024</td> \n",
       "</tr>\n",
       "<tr>\n",
       "  <th>Prob(Omnibus):</th> <td> 0.000</td>  <th>  Jarque-Bera (JB):  </th> <td>42601.720</td>\n",
       "</tr>\n",
       "<tr>\n",
       "  <th>Skew:</th>          <td>-0.722</td>  <th>  Prob(JB):          </th> <td>    0.00</td> \n",
       "</tr>\n",
       "<tr>\n",
       "  <th>Kurtosis:</th>      <td>25.281</td>  <th>  Cond. No.          </th> <td>3.06e+04</td> \n",
       "</tr>\n",
       "</table><br/><br/>Warnings:<br/>[1] Standard Errors assume that the covariance matrix of the errors is correctly specified.<br/>[2] The condition number is large, 3.06e+04. This might indicate that there are<br/>strong multicollinearity or other numerical problems."
      ],
      "text/plain": [
       "<class 'statsmodels.iolib.summary.Summary'>\n",
       "\"\"\"\n",
       "                            OLS Regression Results                            \n",
       "==============================================================================\n",
       "Dep. Variable:              saleprice   R-squared:                       0.835\n",
       "Model:                            OLS   Adj. R-squared:                  0.834\n",
       "Method:                 Least Squares   F-statistic:                     490.1\n",
       "Date:                Sat, 23 Nov 2019   Prob (F-statistic):               0.00\n",
       "Time:                        17:19:10   Log-Likelihood:                -24196.\n",
       "No. Observations:                2051   AIC:                         4.844e+04\n",
       "Df Residuals:                    2029   BIC:                         4.856e+04\n",
       "Df Model:                          21                                         \n",
       "Covariance Type:            nonrobust                                         \n",
       "=====================================================================================\n",
       "                        coef    std err          t      P>|t|      [0.025      0.975]\n",
       "-------------------------------------------------------------------------------------\n",
       "const             -1.286e+05   6201.934    -20.739      0.000   -1.41e+05   -1.16e+05\n",
       "overall_qual       1.161e+04    954.174     12.172      0.000    9743.244    1.35e+04\n",
       "gr_liv_area          39.2082      2.053     19.095      0.000      35.181      43.235\n",
       "garage_area          37.2453      4.651      8.008      0.000      28.124      46.366\n",
       "1st_flr_sf           23.9610      2.434      9.846      0.000      19.188      28.734\n",
       "exter_qual_ord     1.139e+04   2156.694      5.282      0.000    7162.500    1.56e+04\n",
       "kitchen_qual_ord   1.318e+04   1690.702      7.796      0.000    9864.267    1.65e+04\n",
       "bsmt_qual_ord      8654.4077   1110.040      7.796      0.000    6477.471    1.08e+04\n",
       "garage_finish_ord  4684.7335   1039.005      4.509      0.000    2647.105    6722.362\n",
       "ClearCr            2.954e+04   6376.430      4.632      0.000     1.7e+04     4.2e+04\n",
       "CollgCr            7707.8403   2892.582      2.665      0.008    2035.099    1.34e+04\n",
       "Crawfor            2.644e+04   4045.836      6.534      0.000    1.85e+04    3.44e+04\n",
       "Mitchel            1.157e+04   3850.702      3.004      0.003    4015.658    1.91e+04\n",
       "NAmes              8402.1114   2250.974      3.733      0.000    3987.650    1.28e+04\n",
       "NoRidge            4.792e+04   5198.019      9.218      0.000    3.77e+04    5.81e+04\n",
       "NridgHt            5.144e+04   3884.716     13.242      0.000    4.38e+04    5.91e+04\n",
       "Sawyer             1.073e+04   3340.338      3.213      0.001    4181.928    1.73e+04\n",
       "Somerst            1.064e+04   3430.536      3.100      0.002    3907.722    1.74e+04\n",
       "StoneBr             6.48e+04   5752.984     11.264      0.000    5.35e+04    7.61e+04\n",
       "Timber             1.955e+04   5014.200      3.900      0.000    9720.035    2.94e+04\n",
       "Veenker            2.588e+04   8056.043      3.213      0.001    1.01e+04    4.17e+04\n",
       "id                    0.2191      0.861      0.254      0.799      -1.470       1.908\n",
       "==============================================================================\n",
       "Omnibus:                      684.687   Durbin-Watson:                   2.024\n",
       "Prob(Omnibus):                  0.000   Jarque-Bera (JB):            42601.720\n",
       "Skew:                          -0.722   Prob(JB):                         0.00\n",
       "Kurtosis:                      25.281   Cond. No.                     3.06e+04\n",
       "==============================================================================\n",
       "\n",
       "Warnings:\n",
       "[1] Standard Errors assume that the covariance matrix of the errors is correctly specified.\n",
       "[2] The condition number is large, 3.06e+04. This might indicate that there are\n",
       "strong multicollinearity or other numerical problems.\n",
       "\"\"\""
      ]
     },
     "execution_count": 976,
     "metadata": {},
     "output_type": "execute_result"
    }
   ],
   "source": [
    "stat_model2.summary()"
   ]
  },
  {
   "cell_type": "markdown",
   "metadata": {},
   "source": [
    "Overall R^2 score deproved slightly from the previous baseline of 0.855 to 0.834 after convering my mean encoded vars to dummy vars. All the T-test p-values are <0.05 now so all seems good. Summary here still shows 'id' even though i've dropped it because the constant will somehow not take in X2_train_ss instead of X2 as an argument"
   ]
  },
  {
   "cell_type": "code",
   "execution_count": 791,
   "metadata": {},
   "outputs": [
    {
     "name": "stdout",
     "output_type": "stream",
     "text": [
      "Baseline Model 2 RMSE: 29298.6586225011\n"
     ]
    }
   ],
   "source": [
    "from sklearn.metrics import mean_squared_error\n",
    "\n",
    "y2_pred = lr.predict(X2_test_ss)\n",
    "\n",
    "#mean_squared_error(y_true, y_pred)\n",
    "baseline_MSE2 = mean_squared_error(y_test, y2_pred)\n",
    "baseline_RMSE2 = np.sqrt(baseline_MSE)\n",
    "\n",
    "print(\"Baseline Model 2 RMSE:\", baseline_RMSE2)"
   ]
  },
  {
   "cell_type": "markdown",
   "metadata": {},
   "source": [
    "Taking a look at the predicted house saleprices agains the actual sale prices for a sense check "
   ]
  },
  {
   "cell_type": "code",
   "execution_count": 801,
   "metadata": {
    "scrolled": true
   },
   "outputs": [
    {
     "data": {
      "text/plain": [
       "array([123696.71744477, 219317.18338715, 310210.97095493, 136935.59647649,\n",
       "       214158.61173057, 366236.19272302, 185170.48494412, 332834.63184433,\n",
       "       139917.53453356,  91347.8086774 ])"
      ]
     },
     "execution_count": 801,
     "metadata": {},
     "output_type": "execute_result"
    }
   ],
   "source": [
    "y2_pred[:10]"
   ]
  },
  {
   "cell_type": "code",
   "execution_count": 802,
   "metadata": {
    "scrolled": false
   },
   "outputs": [
    {
     "data": {
      "text/plain": [
       "0    130500\n",
       "1    220000\n",
       "2    109000\n",
       "3    174000\n",
       "4    138500\n",
       "Name: saleprice, dtype: int64"
      ]
     },
     "execution_count": 802,
     "metadata": {},
     "output_type": "execute_result"
    }
   ],
   "source": [
    "ames_train['saleprice'].head()"
   ]
  },
  {
   "cell_type": "markdown",
   "metadata": {},
   "source": [
    "I am having so much trouble trying to reconvert my housing id column and housing predicted sale price column into a dataframe. both were originally in array format so i converted it into a list, zipped it together (but this results in a tuple in a list) and then i created an index to zip them together to form a dictionary but this does not work either because of the tuple in the list issue "
   ]
  },
  {
   "cell_type": "code",
   "execution_count": 917,
   "metadata": {
    "scrolled": true
   },
   "outputs": [],
   "source": [
    "#X2_testid\n",
    "#we can just re-insert the un-scaled house Ids here because we stored them as a separate object before after they were\n",
    "#spit during the tts stage but before they were scaled \n",
    "model2_pred_df = pd.DataFrame(submit, columns = ['id','predict_saleprice'])"
   ]
  },
  {
   "cell_type": "code",
   "execution_count": 925,
   "metadata": {},
   "outputs": [],
   "source": [
    "#len(X2_testid)\n",
    "X2_testidd = list(X2_testid)"
   ]
  },
  {
   "cell_type": "code",
   "execution_count": 926,
   "metadata": {},
   "outputs": [],
   "source": [
    "y2_predd = list(y2_pred)"
   ]
  },
  {
   "cell_type": "code",
   "execution_count": 927,
   "metadata": {},
   "outputs": [],
   "source": [
    "submit = zip(X2_testidd, y2_predd)\n",
    "#submit = dict(submit)"
   ]
  },
  {
   "cell_type": "code",
   "execution_count": 923,
   "metadata": {},
   "outputs": [],
   "source": [
    "submit = list(submit)\n"
   ]
  },
  {
   "cell_type": "code",
   "execution_count": 914,
   "metadata": {},
   "outputs": [
    {
     "data": {
      "text/plain": [
       "411"
      ]
     },
     "execution_count": 914,
     "metadata": {},
     "output_type": "execute_result"
    }
   ],
   "source": [
    "len(submit)"
   ]
  },
  {
   "cell_type": "code",
   "execution_count": 915,
   "metadata": {},
   "outputs": [],
   "source": [
    "index = [k for k in range(len(submit))]"
   ]
  },
  {
   "cell_type": "code",
   "execution_count": 919,
   "metadata": {},
   "outputs": [],
   "source": [
    "submit = zip(index, submit)\n",
    "submit = dict(submit)\n",
    "#submit"
   ]
  },
  {
   "cell_type": "code",
   "execution_count": 918,
   "metadata": {
    "scrolled": true
   },
   "outputs": [
    {
     "data": {
      "text/html": [
       "<div>\n",
       "<style scoped>\n",
       "    .dataframe tbody tr th:only-of-type {\n",
       "        vertical-align: middle;\n",
       "    }\n",
       "\n",
       "    .dataframe tbody tr th {\n",
       "        vertical-align: top;\n",
       "    }\n",
       "\n",
       "    .dataframe thead th {\n",
       "        text-align: right;\n",
       "    }\n",
       "</style>\n",
       "<table border=\"1\" class=\"dataframe\">\n",
       "  <thead>\n",
       "    <tr style=\"text-align: right;\">\n",
       "      <th></th>\n",
       "      <th>id</th>\n",
       "      <th>predict_saleprice</th>\n",
       "    </tr>\n",
       "  </thead>\n",
       "  <tbody>\n",
       "  </tbody>\n",
       "</table>\n",
       "</div>"
      ],
      "text/plain": [
       "Empty DataFrame\n",
       "Columns: [id, predict_saleprice]\n",
       "Index: []"
      ]
     },
     "execution_count": 918,
     "metadata": {},
     "output_type": "execute_result"
    }
   ],
   "source": [
    "model2_pred_df.head()"
   ]
  },
  {
   "cell_type": "markdown",
   "metadata": {},
   "source": [
    "# Using similar methods applied on train data to clean up test data set and predict Kaggle test set using best fitted model "
   ]
  },
  {
   "cell_type": "code",
   "execution_count": 526,
   "metadata": {},
   "outputs": [],
   "source": [
    "ames_test.columns = [x.lower().replace(' ','_') for x in ames_test.columns]"
   ]
  },
  {
   "cell_type": "code",
   "execution_count": 527,
   "metadata": {},
   "outputs": [],
   "source": [
    "amestest_allnum = ames_test.select_dtypes(include=['float64','int64'])"
   ]
  },
  {
   "cell_type": "code",
   "execution_count": 528,
   "metadata": {},
   "outputs": [],
   "source": [
    "amestest_allcat = ames_test.select_dtypes(include=['object'])"
   ]
  },
  {
   "cell_type": "code",
   "execution_count": 529,
   "metadata": {},
   "outputs": [
    {
     "data": {
      "text/plain": [
       "(879, 38)"
      ]
     },
     "execution_count": 529,
     "metadata": {},
     "output_type": "execute_result"
    }
   ],
   "source": [
    "#sense check - they should add up to 80. 38 + 42 = 80 so all seems fine. train set has 81 but that's because the \n",
    "#target variable sale price has been left out from the test set \n",
    "amestest_allnum.shape"
   ]
  },
  {
   "cell_type": "code",
   "execution_count": 530,
   "metadata": {},
   "outputs": [
    {
     "data": {
      "text/plain": [
       "(879, 42)"
      ]
     },
     "execution_count": 530,
     "metadata": {},
     "output_type": "execute_result"
    }
   ],
   "source": [
    "amestest_allcat.shape"
   ]
  },
  {
   "cell_type": "markdown",
   "metadata": {},
   "source": [
    "**Cleaning up the Categorial Test Data** "
   ]
  },
  {
   "cell_type": "code",
   "execution_count": 531,
   "metadata": {},
   "outputs": [],
   "source": [
    "amestest_cat_ordinal = ['lot_shape','utilities','exter_qual','exter_cond','bsmt_qual','bsmt_cond',\n",
    "                   'bsmtfin_type_1','bsmtfin_type_2', 'heating_qc','kitchen_qual','functional',\n",
    "                   'fireplace_qu','garage_finish','garage_qual','garage_cond','pool_qc',\n",
    "                   'fence']\n",
    "\n",
    "#scale 1 being the worst \n",
    "#lotshape 1 irregular - 4 regular\n",
    "#utilities 1 elo 4 allpub\n",
    "#exterqual 1 poor 5 excellent \n",
    "#extercond 1 poor 5 excellent \n",
    "#bsmtqual 1poor 5 excellent\n",
    "#bsmtcond 1poor 5 excellent\n",
    "#bsmtfin_type_1 1 unfinished 6 good living quarters\n",
    "#bsmtfin_type_2 1 unfinished 6 good living quarters\n",
    "#heatingqc 1 poor 5 excellent \n",
    "#kitchenqual 1 poor 5 excellent \n",
    "#functional 1 salvage only 8 typical functionality \n",
    "#fireplacequ 1 poor 5 excellent\n",
    "#garagefinish 1 unfinished 3 finished\n",
    "#garagequal 1 poor 5 excellent\n",
    "#garagecond 1 poor 5 excellent\n",
    "#poolqc 1 fair 4 excellent\n",
    "#fence 1 min wood/wire 4 good privacy \n",
    "\n",
    "amestest_cat_binary = ['central_air', 'paved_drive','misc_feature']\n",
    "\n",
    "#paveddrive has 3 categories but we can convert partial to a No \n",
    "#could treat miscfeature as a bonus (i.e. if a houe has any misc feature it gets a 1)\n",
    "#we could also potentially treat fireplacequ, poolqc and fence as binary features too because majority of homes \n",
    "#do not have these features anyway"
   ]
  },
  {
   "cell_type": "code",
   "execution_count": 532,
   "metadata": {},
   "outputs": [],
   "source": [
    "amestest_cat_other = amestest_cat_binary + amestest_cat_ordinal"
   ]
  },
  {
   "cell_type": "code",
   "execution_count": 533,
   "metadata": {},
   "outputs": [],
   "source": [
    "amestest_cat_nominal = amestest_allcat[[k for k in amestest_allcat.columns if k not in amestest_cat_other]]"
   ]
  },
  {
   "cell_type": "code",
   "execution_count": 534,
   "metadata": {},
   "outputs": [],
   "source": [
    "amestest_cat_ordinal = amestest_allcat[amestest_cat_ordinal]"
   ]
  },
  {
   "cell_type": "code",
   "execution_count": 535,
   "metadata": {},
   "outputs": [],
   "source": [
    "amestest_cat_binary = amestest_allcat[amestest_cat_binary]"
   ]
  },
  {
   "cell_type": "code",
   "execution_count": 536,
   "metadata": {},
   "outputs": [
    {
     "name": "stdout",
     "output_type": "stream",
     "text": [
      "All Cat variables: (879, 42)\n",
      "All Ordinal variables: (879, 17)\n",
      "All Binary variables: (879, 3)\n",
      "All Nominal variables: (879, 22)\n"
     ]
    }
   ],
   "source": [
    "print(\"All Cat variables:\", amestest_allcat.shape)\n",
    "print(\"All Ordinal variables:\",amestest_cat_ordinal.shape)\n",
    "print(\"All Binary variables:\",amestest_cat_binary.shape)\n",
    "print(\"All Nominal variables:\",amestest_cat_nominal.shape)\n",
    "#sense check: 17 + 3 + 22 = 42 so it adds up. thats good "
   ]
  },
  {
   "cell_type": "markdown",
   "metadata": {},
   "source": [
    "**Cleaning Nominal Test Vars**"
   ]
  },
  {
   "cell_type": "markdown",
   "metadata": {},
   "source": [
    "I just realised that I cannot transform the nominal categorical variables in my test set because it uses mean encoding (which mean encodes based on the observed target variable’s values….. which isn’t present in the test set…..\n",
    "since i've already tested for the most significant vars in my test set i am just going to strip it down to 11 vars and dummify the remaining nominal vars in that final 11. "
   ]
  },
  {
   "cell_type": "markdown",
   "metadata": {},
   "source": [
    "nominaltest_tf = pd.DataFrame(columns=['init'])\n",
    "\n",
    "def mean_encodetest(col):\n",
    "    mean_en = ames_test.groupby(col)['saleprice'].mean()\n",
    "    nominaltest_tf[col+'_mean_enc'] = amestest_cat_nominal[col].map(mean_en)\n",
    "\n",
    "nom_names = ['ms_zoning', 'street', 'alley', 'land_contour', 'lot_config',\n",
    "       'land_slope', 'neighborhood', 'condition_1', 'condition_2', 'bldg_type',\n",
    "       'house_style', 'roof_style', 'roof_matl', 'exterior_1st',\n",
    "       'exterior_2nd', 'mas_vnr_type', 'foundation', 'bsmt_exposure',\n",
    "       'heating', 'electrical', 'garage_type', 'sale_type'] \n",
    "\n",
    "for i in nom_names:\n",
    "    mean_encodetest(i)\n",
    "    \n",
    "#we can drop the 'init' placeholder column now that we have populated our dataframe \n",
    "nominaltest_tf.drop('init',axis=1,inplace=True)"
   ]
  },
  {
   "cell_type": "code",
   "execution_count": 581,
   "metadata": {},
   "outputs": [
    {
     "data": {
      "text/plain": [
       "Index(['overall_qual', 'gr_liv_area', 'garage_area', '1st_flr_sf',\n",
       "       'neighbourhood_mean_enc', 'exter_qual_ord', 'kitchen_qual_ord',\n",
       "       'bsmt_qual_ord', 'alley_mean_enc', 'garage_finish_ord',\n",
       "       'lot_shape_ord'],\n",
       "      dtype='object')"
      ]
     },
     "execution_count": 581,
     "metadata": {},
     "output_type": "execute_result"
    }
   ],
   "source": [
    "#remaining feature columns post 2nd round of cleaning - dropped 8 vars so now i only have 11 \n",
    "all_features2.columns"
   ]
  },
  {
   "cell_type": "code",
   "execution_count": 583,
   "metadata": {},
   "outputs": [
    {
     "data": {
      "text/plain": [
       "(2051, 11)"
      ]
     },
     "execution_count": 583,
     "metadata": {},
     "output_type": "execute_result"
    }
   ],
   "source": [
    "all_features2.shape"
   ]
  },
  {
   "cell_type": "markdown",
   "metadata": {},
   "source": [
    "neighbourhood_mean_enc and alley_mean_enc are the 2 remaining nominal variables in my final feature list - i will have to carry out dummy variable transformation instead of mean encoding on them instead "
   ]
  },
  {
   "cell_type": "markdown",
   "metadata": {},
   "source": [
    "**Cleaning Ordinal Test Vars**"
   ]
  },
  {
   "cell_type": "code",
   "execution_count": 539,
   "metadata": {},
   "outputs": [
    {
     "data": {
      "text/plain": [
       "(879, 17)"
      ]
     },
     "execution_count": 539,
     "metadata": {},
     "output_type": "execute_result"
    }
   ],
   "source": [
    "ordinaltest_tf = pd.DataFrame(columns=['init']) #creating an empty dataframe to store my transformed ordinal variables\n",
    "ordinaltest_tf['garage_finish_ord'] = amestest_cat_ordinal['garage_finish'].map(garage_dict)\n",
    "ordinaltest_tf['lot_shape_ord'] = amestest_cat_ordinal['lot_shape'].map(lotshape_dict)\n",
    "ordinaltest_tf['utilities_ord'] = amestest_cat_ordinal['utilities'].map(utils_dict)\n",
    "ordinaltest_tf['fence_ord'] = amestest_cat_ordinal['fence'].map(fence_dict)\n",
    "ordinaltest_tf['pool_qc_ord'] = amestest_cat_ordinal['pool_qc'].map(rank4_dict)\n",
    "\n",
    "rank5_names = ['exter_qual','exter_cond','bsmt_qual','bsmt_cond','heating_qc',\n",
    "              'kitchen_qual','fireplace_qu','garage_qual','garage_cond']\n",
    "\n",
    "def ord_encodetest(col):\n",
    "    ordinaltest_tf[col+'_ord'] = amestest_cat_ordinal[col].map(rank5_dict)\n",
    "    \n",
    "for i in rank5_names:\n",
    "    ord_encodetest(i)\n",
    "    \n",
    "rank6_names = ['bsmtfin_type_1','bsmtfin_type_2']\n",
    "\n",
    "def ord_encodetest2(col):\n",
    "    ordinaltest_tf[col+'_ord'] = amestest_cat_ordinal[col].map(bsmt_dict)\n",
    "\n",
    "for i in rank6_names:\n",
    "    ord_encodetest2(i)\n",
    "    \n",
    "ordinaltest_tf['functional_ord'] = amestest_cat_ordinal['functional'].map(functional_dict)\n",
    "\n",
    "ordinaltest_tf.drop('init',axis=1,inplace=True)\n",
    "\n",
    "ordinaltest_tf.shape"
   ]
  },
  {
   "cell_type": "markdown",
   "metadata": {},
   "source": [
    "**Cleaning Binary Test Vars**"
   ]
  },
  {
   "cell_type": "code",
   "execution_count": 751,
   "metadata": {},
   "outputs": [],
   "source": [
    "binarytest_tf = pd.DataFrame(columns=['init']) #creating an empty dataframe to store my transformed ordinal variables\n",
    "binarytest_tf['central_air_dum'] = [1 if i == 'Y' else 0 for i in amestest_cat_binary['central_air']]\n",
    "\n",
    "binarytest_tf['paved_drive_dum'] = [1 if i == 'Y' else 0 for i in amestest_cat_binary['paved_drive']]\n",
    "\n",
    "binarytest_tf['misc_feature_dum'] = [1 if i in ['Elev','Gar2','Othr','Shed','TenC'] \n",
    "                                 else 0 for i in amestest_cat_binary['misc_feature']]\n",
    "#find out how to code for NaN values e.g. 0 if i == 'NaN' > this code did not work \n",
    "binarytest_tf.drop('init',axis=1,inplace=True)"
   ]
  },
  {
   "cell_type": "code",
   "execution_count": 752,
   "metadata": {},
   "outputs": [
    {
     "data": {
      "text/plain": [
       "(879, 3)"
      ]
     },
     "execution_count": 752,
     "metadata": {},
     "output_type": "execute_result"
    }
   ],
   "source": [
    "binarytest_tf.shape"
   ]
  },
  {
   "cell_type": "markdown",
   "metadata": {},
   "source": [
    "neighborhood and alley - getting dummies for these guys (or i could just drop them from the model...) "
   ]
  },
  {
   "cell_type": "code",
   "execution_count": 771,
   "metadata": {},
   "outputs": [
    {
     "data": {
      "text/html": [
       "<div>\n",
       "<style scoped>\n",
       "    .dataframe tbody tr th:only-of-type {\n",
       "        vertical-align: middle;\n",
       "    }\n",
       "\n",
       "    .dataframe tbody tr th {\n",
       "        vertical-align: top;\n",
       "    }\n",
       "\n",
       "    .dataframe thead th {\n",
       "        text-align: right;\n",
       "    }\n",
       "</style>\n",
       "<table border=\"1\" class=\"dataframe\">\n",
       "  <thead>\n",
       "    <tr style=\"text-align: right;\">\n",
       "      <th></th>\n",
       "      <th>Blueste</th>\n",
       "      <th>BrDale</th>\n",
       "      <th>BrkSide</th>\n",
       "      <th>ClearCr</th>\n",
       "      <th>CollgCr</th>\n",
       "      <th>Crawfor</th>\n",
       "      <th>Edwards</th>\n",
       "      <th>Gilbert</th>\n",
       "      <th>Greens</th>\n",
       "      <th>IDOTRR</th>\n",
       "      <th>...</th>\n",
       "      <th>NoRidge</th>\n",
       "      <th>NridgHt</th>\n",
       "      <th>OldTown</th>\n",
       "      <th>SWISU</th>\n",
       "      <th>Sawyer</th>\n",
       "      <th>SawyerW</th>\n",
       "      <th>Somerst</th>\n",
       "      <th>StoneBr</th>\n",
       "      <th>Timber</th>\n",
       "      <th>Veenker</th>\n",
       "    </tr>\n",
       "  </thead>\n",
       "  <tbody>\n",
       "    <tr>\n",
       "      <td>0</td>\n",
       "      <td>0</td>\n",
       "      <td>0</td>\n",
       "      <td>0</td>\n",
       "      <td>0</td>\n",
       "      <td>0</td>\n",
       "      <td>0</td>\n",
       "      <td>0</td>\n",
       "      <td>0</td>\n",
       "      <td>0</td>\n",
       "      <td>0</td>\n",
       "      <td>...</td>\n",
       "      <td>0</td>\n",
       "      <td>0</td>\n",
       "      <td>1</td>\n",
       "      <td>0</td>\n",
       "      <td>0</td>\n",
       "      <td>0</td>\n",
       "      <td>0</td>\n",
       "      <td>0</td>\n",
       "      <td>0</td>\n",
       "      <td>0</td>\n",
       "    </tr>\n",
       "    <tr>\n",
       "      <td>1</td>\n",
       "      <td>0</td>\n",
       "      <td>0</td>\n",
       "      <td>0</td>\n",
       "      <td>0</td>\n",
       "      <td>0</td>\n",
       "      <td>0</td>\n",
       "      <td>0</td>\n",
       "      <td>0</td>\n",
       "      <td>0</td>\n",
       "      <td>0</td>\n",
       "      <td>...</td>\n",
       "      <td>0</td>\n",
       "      <td>0</td>\n",
       "      <td>0</td>\n",
       "      <td>0</td>\n",
       "      <td>1</td>\n",
       "      <td>0</td>\n",
       "      <td>0</td>\n",
       "      <td>0</td>\n",
       "      <td>0</td>\n",
       "      <td>0</td>\n",
       "    </tr>\n",
       "    <tr>\n",
       "      <td>2</td>\n",
       "      <td>0</td>\n",
       "      <td>0</td>\n",
       "      <td>0</td>\n",
       "      <td>0</td>\n",
       "      <td>0</td>\n",
       "      <td>0</td>\n",
       "      <td>0</td>\n",
       "      <td>1</td>\n",
       "      <td>0</td>\n",
       "      <td>0</td>\n",
       "      <td>...</td>\n",
       "      <td>0</td>\n",
       "      <td>0</td>\n",
       "      <td>0</td>\n",
       "      <td>0</td>\n",
       "      <td>0</td>\n",
       "      <td>0</td>\n",
       "      <td>0</td>\n",
       "      <td>0</td>\n",
       "      <td>0</td>\n",
       "      <td>0</td>\n",
       "    </tr>\n",
       "    <tr>\n",
       "      <td>3</td>\n",
       "      <td>0</td>\n",
       "      <td>0</td>\n",
       "      <td>0</td>\n",
       "      <td>0</td>\n",
       "      <td>0</td>\n",
       "      <td>0</td>\n",
       "      <td>0</td>\n",
       "      <td>0</td>\n",
       "      <td>0</td>\n",
       "      <td>0</td>\n",
       "      <td>...</td>\n",
       "      <td>0</td>\n",
       "      <td>0</td>\n",
       "      <td>1</td>\n",
       "      <td>0</td>\n",
       "      <td>0</td>\n",
       "      <td>0</td>\n",
       "      <td>0</td>\n",
       "      <td>0</td>\n",
       "      <td>0</td>\n",
       "      <td>0</td>\n",
       "    </tr>\n",
       "    <tr>\n",
       "      <td>4</td>\n",
       "      <td>0</td>\n",
       "      <td>0</td>\n",
       "      <td>0</td>\n",
       "      <td>0</td>\n",
       "      <td>0</td>\n",
       "      <td>0</td>\n",
       "      <td>0</td>\n",
       "      <td>0</td>\n",
       "      <td>0</td>\n",
       "      <td>0</td>\n",
       "      <td>...</td>\n",
       "      <td>0</td>\n",
       "      <td>0</td>\n",
       "      <td>0</td>\n",
       "      <td>0</td>\n",
       "      <td>0</td>\n",
       "      <td>0</td>\n",
       "      <td>0</td>\n",
       "      <td>0</td>\n",
       "      <td>0</td>\n",
       "      <td>0</td>\n",
       "    </tr>\n",
       "  </tbody>\n",
       "</table>\n",
       "<p>5 rows × 25 columns</p>\n",
       "</div>"
      ],
      "text/plain": [
       "   Blueste  BrDale  BrkSide  ClearCr  CollgCr  Crawfor  Edwards  Gilbert  \\\n",
       "0        0       0        0        0        0        0        0        0   \n",
       "1        0       0        0        0        0        0        0        0   \n",
       "2        0       0        0        0        0        0        0        1   \n",
       "3        0       0        0        0        0        0        0        0   \n",
       "4        0       0        0        0        0        0        0        0   \n",
       "\n",
       "   Greens  IDOTRR  ...  NoRidge  NridgHt  OldTown  SWISU  Sawyer  SawyerW  \\\n",
       "0       0       0  ...        0        0        1      0       0        0   \n",
       "1       0       0  ...        0        0        0      0       1        0   \n",
       "2       0       0  ...        0        0        0      0       0        0   \n",
       "3       0       0  ...        0        0        1      0       0        0   \n",
       "4       0       0  ...        0        0        0      0       0        0   \n",
       "\n",
       "   Somerst  StoneBr  Timber  Veenker  \n",
       "0        0        0       0        0  \n",
       "1        0        0       0        0  \n",
       "2        0        0       0        0  \n",
       "3        0        0       0        0  \n",
       "4        0        0       0        0  \n",
       "\n",
       "[5 rows x 25 columns]"
      ]
     },
     "execution_count": 771,
     "metadata": {},
     "output_type": "execute_result"
    }
   ],
   "source": [
    "nh_dummy = pd.get_dummies(ames_test['neighborhood'], drop_first=True)\n",
    "nh_dummy.head()\n",
    "#generating n-1 dummy variables"
   ]
  },
  {
   "cell_type": "code",
   "execution_count": 772,
   "metadata": {},
   "outputs": [
    {
     "data": {
      "text/plain": [
       "(879, 25)"
      ]
     },
     "execution_count": 772,
     "metadata": {},
     "output_type": "execute_result"
    }
   ],
   "source": [
    "nh_dummy.shape"
   ]
  },
  {
   "cell_type": "code",
   "execution_count": 755,
   "metadata": {},
   "outputs": [],
   "source": [
    "nh_dummy.drop(['Blueste','BrDale','BrkSide','Edwards','Greens','Gilbert',\n",
    "               'IDOTRR','MeadowV','NPkVill','NWAmes','OldTown','SWISU','SawyerW'],axis=1,inplace=True)"
   ]
  },
  {
   "cell_type": "code",
   "execution_count": 756,
   "metadata": {
    "scrolled": true
   },
   "outputs": [
    {
     "data": {
      "text/html": [
       "<div>\n",
       "<style scoped>\n",
       "    .dataframe tbody tr th:only-of-type {\n",
       "        vertical-align: middle;\n",
       "    }\n",
       "\n",
       "    .dataframe tbody tr th {\n",
       "        vertical-align: top;\n",
       "    }\n",
       "\n",
       "    .dataframe thead th {\n",
       "        text-align: right;\n",
       "    }\n",
       "</style>\n",
       "<table border=\"1\" class=\"dataframe\">\n",
       "  <thead>\n",
       "    <tr style=\"text-align: right;\">\n",
       "      <th></th>\n",
       "      <th>Pave</th>\n",
       "    </tr>\n",
       "  </thead>\n",
       "  <tbody>\n",
       "    <tr>\n",
       "      <td>0</td>\n",
       "      <td>0</td>\n",
       "    </tr>\n",
       "    <tr>\n",
       "      <td>1</td>\n",
       "      <td>0</td>\n",
       "    </tr>\n",
       "    <tr>\n",
       "      <td>2</td>\n",
       "      <td>0</td>\n",
       "    </tr>\n",
       "    <tr>\n",
       "      <td>3</td>\n",
       "      <td>0</td>\n",
       "    </tr>\n",
       "    <tr>\n",
       "      <td>4</td>\n",
       "      <td>0</td>\n",
       "    </tr>\n",
       "  </tbody>\n",
       "</table>\n",
       "</div>"
      ],
      "text/plain": [
       "   Pave\n",
       "0     0\n",
       "1     0\n",
       "2     0\n",
       "3     0\n",
       "4     0"
      ]
     },
     "execution_count": 756,
     "metadata": {},
     "output_type": "execute_result"
    }
   ],
   "source": [
    "alley_dummy = pd.get_dummies(ames_test['alley'], drop_first=True)\n",
    "alley_dummy.head()"
   ]
  },
  {
   "cell_type": "code",
   "execution_count": 757,
   "metadata": {},
   "outputs": [
    {
     "data": {
      "text/plain": [
       "(879, 1)"
      ]
     },
     "execution_count": 757,
     "metadata": {},
     "output_type": "execute_result"
    }
   ],
   "source": [
    "alley_dummy.shape"
   ]
  },
  {
   "cell_type": "code",
   "execution_count": 758,
   "metadata": {
    "scrolled": true
   },
   "outputs": [
    {
     "data": {
      "text/html": [
       "<div>\n",
       "<style scoped>\n",
       "    .dataframe tbody tr th:only-of-type {\n",
       "        vertical-align: middle;\n",
       "    }\n",
       "\n",
       "    .dataframe tbody tr th {\n",
       "        vertical-align: top;\n",
       "    }\n",
       "\n",
       "    .dataframe thead th {\n",
       "        text-align: right;\n",
       "    }\n",
       "</style>\n",
       "<table border=\"1\" class=\"dataframe\">\n",
       "  <thead>\n",
       "    <tr style=\"text-align: right;\">\n",
       "      <th></th>\n",
       "      <th>central_air_dum</th>\n",
       "      <th>paved_drive_dum</th>\n",
       "      <th>misc_feature_dum</th>\n",
       "      <th>ClearCr</th>\n",
       "      <th>CollgCr</th>\n",
       "      <th>Crawfor</th>\n",
       "      <th>Mitchel</th>\n",
       "      <th>NAmes</th>\n",
       "      <th>NoRidge</th>\n",
       "      <th>NridgHt</th>\n",
       "      <th>Sawyer</th>\n",
       "      <th>Somerst</th>\n",
       "      <th>StoneBr</th>\n",
       "      <th>Timber</th>\n",
       "      <th>Veenker</th>\n",
       "    </tr>\n",
       "  </thead>\n",
       "  <tbody>\n",
       "    <tr>\n",
       "      <td>0</td>\n",
       "      <td>0</td>\n",
       "      <td>1</td>\n",
       "      <td>0</td>\n",
       "      <td>0</td>\n",
       "      <td>0</td>\n",
       "      <td>0</td>\n",
       "      <td>0</td>\n",
       "      <td>0</td>\n",
       "      <td>0</td>\n",
       "      <td>0</td>\n",
       "      <td>0</td>\n",
       "      <td>0</td>\n",
       "      <td>0</td>\n",
       "      <td>0</td>\n",
       "      <td>0</td>\n",
       "    </tr>\n",
       "    <tr>\n",
       "      <td>1</td>\n",
       "      <td>1</td>\n",
       "      <td>1</td>\n",
       "      <td>0</td>\n",
       "      <td>0</td>\n",
       "      <td>0</td>\n",
       "      <td>0</td>\n",
       "      <td>0</td>\n",
       "      <td>0</td>\n",
       "      <td>0</td>\n",
       "      <td>0</td>\n",
       "      <td>1</td>\n",
       "      <td>0</td>\n",
       "      <td>0</td>\n",
       "      <td>0</td>\n",
       "      <td>0</td>\n",
       "    </tr>\n",
       "    <tr>\n",
       "      <td>2</td>\n",
       "      <td>1</td>\n",
       "      <td>1</td>\n",
       "      <td>0</td>\n",
       "      <td>0</td>\n",
       "      <td>0</td>\n",
       "      <td>0</td>\n",
       "      <td>0</td>\n",
       "      <td>0</td>\n",
       "      <td>0</td>\n",
       "      <td>0</td>\n",
       "      <td>0</td>\n",
       "      <td>0</td>\n",
       "      <td>0</td>\n",
       "      <td>0</td>\n",
       "      <td>0</td>\n",
       "    </tr>\n",
       "    <tr>\n",
       "      <td>3</td>\n",
       "      <td>1</td>\n",
       "      <td>0</td>\n",
       "      <td>0</td>\n",
       "      <td>0</td>\n",
       "      <td>0</td>\n",
       "      <td>0</td>\n",
       "      <td>0</td>\n",
       "      <td>0</td>\n",
       "      <td>0</td>\n",
       "      <td>0</td>\n",
       "      <td>0</td>\n",
       "      <td>0</td>\n",
       "      <td>0</td>\n",
       "      <td>0</td>\n",
       "      <td>0</td>\n",
       "    </tr>\n",
       "    <tr>\n",
       "      <td>4</td>\n",
       "      <td>1</td>\n",
       "      <td>1</td>\n",
       "      <td>0</td>\n",
       "      <td>0</td>\n",
       "      <td>0</td>\n",
       "      <td>0</td>\n",
       "      <td>0</td>\n",
       "      <td>1</td>\n",
       "      <td>0</td>\n",
       "      <td>0</td>\n",
       "      <td>0</td>\n",
       "      <td>0</td>\n",
       "      <td>0</td>\n",
       "      <td>0</td>\n",
       "      <td>0</td>\n",
       "    </tr>\n",
       "  </tbody>\n",
       "</table>\n",
       "</div>"
      ],
      "text/plain": [
       "   central_air_dum  paved_drive_dum  misc_feature_dum  ClearCr  CollgCr  \\\n",
       "0                0                1                 0        0        0   \n",
       "1                1                1                 0        0        0   \n",
       "2                1                1                 0        0        0   \n",
       "3                1                0                 0        0        0   \n",
       "4                1                1                 0        0        0   \n",
       "\n",
       "   Crawfor  Mitchel  NAmes  NoRidge  NridgHt  Sawyer  Somerst  StoneBr  \\\n",
       "0        0        0      0        0        0       0        0        0   \n",
       "1        0        0      0        0        0       1        0        0   \n",
       "2        0        0      0        0        0       0        0        0   \n",
       "3        0        0      0        0        0       0        0        0   \n",
       "4        0        0      1        0        0       0        0        0   \n",
       "\n",
       "   Timber  Veenker  \n",
       "0       0        0  \n",
       "1       0        0  \n",
       "2       0        0  \n",
       "3       0        0  \n",
       "4       0        0  "
      ]
     },
     "execution_count": 758,
     "metadata": {},
     "output_type": "execute_result"
    }
   ],
   "source": [
    "#Concatenating the dummy variable columns with the other binary vars \n",
    "binarytest_tf = pd.concat([binarytest_tf, nh_dummy], axis=1)\n",
    "binarytest_tf.head()"
   ]
  },
  {
   "cell_type": "code",
   "execution_count": 759,
   "metadata": {},
   "outputs": [
    {
     "data": {
      "text/plain": [
       "(879, 15)"
      ]
     },
     "execution_count": 759,
     "metadata": {},
     "output_type": "execute_result"
    }
   ],
   "source": [
    "binarytest_tf.shape #3 binary vars + 25 + 1 = 29 so that's good "
   ]
  },
  {
   "cell_type": "markdown",
   "metadata": {},
   "source": [
    "**Merging cleaned test set (numerical and all categorial vars) back into a single dataframe**"
   ]
  },
  {
   "cell_type": "code",
   "execution_count": 760,
   "metadata": {},
   "outputs": [],
   "source": [
    "all_testfeatures = pd.concat([amestest_allnum , ordinaltest_tf, binarytest_tf], axis=1)\n",
    "all_testfeatures.fillna(0,inplace=True)"
   ]
  },
  {
   "cell_type": "code",
   "execution_count": 761,
   "metadata": {},
   "outputs": [
    {
     "data": {
      "text/plain": [
       "(879, 70)"
      ]
     },
     "execution_count": 761,
     "metadata": {},
     "output_type": "execute_result"
    }
   ],
   "source": [
    "all_testfeatures.shape"
   ]
  },
  {
   "cell_type": "code",
   "execution_count": 768,
   "metadata": {
    "scrolled": true
   },
   "outputs": [
    {
     "data": {
      "text/plain": [
       "Index(['id', 'pid', 'ms_subclass', 'lot_frontage', 'lot_area', 'overall_qual',\n",
       "       'overall_cond', 'year_built', 'year_remod/add', 'mas_vnr_area',\n",
       "       'bsmtfin_sf_1', 'bsmtfin_sf_2', 'bsmt_unf_sf', 'total_bsmt_sf',\n",
       "       '1st_flr_sf', '2nd_flr_sf', 'low_qual_fin_sf', 'gr_liv_area',\n",
       "       'bsmt_full_bath', 'bsmt_half_bath', 'full_bath', 'half_bath',\n",
       "       'bedroom_abvgr', 'kitchen_abvgr', 'totrms_abvgrd', 'fireplaces',\n",
       "       'garage_yr_blt', 'garage_cars', 'garage_area', 'wood_deck_sf',\n",
       "       'open_porch_sf', 'enclosed_porch', '3ssn_porch', 'screen_porch',\n",
       "       'pool_area', 'misc_val', 'mo_sold', 'yr_sold', 'garage_finish_ord',\n",
       "       'lot_shape_ord', 'utilities_ord', 'fence_ord', 'pool_qc_ord',\n",
       "       'exter_qual_ord', 'exter_cond_ord', 'bsmt_qual_ord', 'bsmt_cond_ord',\n",
       "       'heating_qc_ord', 'kitchen_qual_ord', 'fireplace_qu_ord',\n",
       "       'garage_qual_ord', 'garage_cond_ord', 'bsmtfin_type_1_ord',\n",
       "       'bsmtfin_type_2_ord', 'functional_ord', 'central_air_dum',\n",
       "       'paved_drive_dum', 'misc_feature_dum', 'ClearCr', 'CollgCr', 'Crawfor',\n",
       "       'Mitchel', 'NAmes', 'NoRidge', 'NridgHt', 'Sawyer', 'Somerst',\n",
       "       'StoneBr', 'Timber', 'Veenker'],\n",
       "      dtype='object')"
      ]
     },
     "execution_count": 768,
     "metadata": {},
     "output_type": "execute_result"
    }
   ],
   "source": [
    "all_testfeatures.columns"
   ]
  },
  {
   "cell_type": "code",
   "execution_count": 792,
   "metadata": {
    "scrolled": true
   },
   "outputs": [
    {
     "data": {
      "text/plain": [
       "(2051, 20)"
      ]
     },
     "execution_count": 792,
     "metadata": {},
     "output_type": "execute_result"
    }
   ],
   "source": [
    "all_features2.shape"
   ]
  },
  {
   "cell_type": "code",
   "execution_count": 793,
   "metadata": {
    "scrolled": true
   },
   "outputs": [
    {
     "data": {
      "text/plain": [
       "Index(['overall_qual', 'gr_liv_area', 'garage_area', '1st_flr_sf',\n",
       "       'exter_qual_ord', 'kitchen_qual_ord', 'bsmt_qual_ord',\n",
       "       'garage_finish_ord', 'ClearCr', 'CollgCr', 'Crawfor', 'Mitchel',\n",
       "       'NAmes', 'NoRidge', 'NridgHt', 'Sawyer', 'Somerst', 'StoneBr', 'Timber',\n",
       "       'Veenker'],\n",
       "      dtype='object')"
      ]
     },
     "execution_count": 793,
     "metadata": {},
     "output_type": "execute_result"
    }
   ],
   "source": [
    "all_features2.columns"
   ]
  },
  {
   "cell_type": "markdown",
   "metadata": {},
   "source": [
    "making sure that my test set has the same columns as the columns that were used to fit my base model \n",
    "\n",
    "apprently the test set does not have 'GrnHill' so we are dropping it from the base model "
   ]
  },
  {
   "cell_type": "code",
   "execution_count": 794,
   "metadata": {
    "scrolled": true
   },
   "outputs": [],
   "source": [
    "all_testfeatures = all_testfeatures[[k for k in all_features2]]"
   ]
  },
  {
   "cell_type": "code",
   "execution_count": 1028,
   "metadata": {},
   "outputs": [
    {
     "name": "stdout",
     "output_type": "stream",
     "text": [
      "<class 'pandas.core.frame.DataFrame'>\n",
      "RangeIndex: 2051 entries, 0 to 2050\n",
      "Data columns (total 21 columns):\n",
      "overall_qual         2051 non-null int64\n",
      "gr_liv_area          2051 non-null int64\n",
      "garage_area          2051 non-null float64\n",
      "1st_flr_sf           2051 non-null int64\n",
      "exter_qual_ord       2051 non-null int64\n",
      "kitchen_qual_ord     2051 non-null int64\n",
      "bsmt_qual_ord        2051 non-null float64\n",
      "garage_finish_ord    2051 non-null float64\n",
      "ClearCr              2051 non-null uint8\n",
      "CollgCr              2051 non-null uint8\n",
      "Crawfor              2051 non-null uint8\n",
      "Mitchel              2051 non-null uint8\n",
      "NAmes                2051 non-null uint8\n",
      "NoRidge              2051 non-null uint8\n",
      "NridgHt              2051 non-null uint8\n",
      "Sawyer               2051 non-null uint8\n",
      "Somerst              2051 non-null uint8\n",
      "StoneBr              2051 non-null uint8\n",
      "Timber               2051 non-null uint8\n",
      "Veenker              2051 non-null uint8\n",
      "id                   2051 non-null int64\n",
      "dtypes: float64(3), int64(6), uint8(12)\n",
      "memory usage: 168.4 KB\n"
     ]
    }
   ],
   "source": [
    "all_features2.info()"
   ]
  },
  {
   "cell_type": "markdown",
   "metadata": {},
   "source": [
    "**Scaling**"
   ]
  },
  {
   "cell_type": "code",
   "execution_count": 803,
   "metadata": {},
   "outputs": [],
   "source": [
    "ss = StandardScaler()\n",
    "all_testfeatures = ss.fit_transform(all_testfeatures)\n",
    "#fitting the scaler model to our entire test set's predictor vars \n"
   ]
  },
  {
   "cell_type": "code",
   "execution_count": 804,
   "metadata": {
    "scrolled": false
   },
   "outputs": [
    {
     "data": {
      "text/plain": [
       "(879, 20)"
      ]
     },
     "execution_count": 804,
     "metadata": {},
     "output_type": "execute_result"
    }
   ],
   "source": [
    "all_testfeatures.shape"
   ]
  },
  {
   "cell_type": "code",
   "execution_count": 805,
   "metadata": {},
   "outputs": [
    {
     "data": {
      "text/plain": [
       "(2051, 20)"
      ]
     },
     "execution_count": 805,
     "metadata": {},
     "output_type": "execute_result"
    }
   ],
   "source": [
    "all_features2.shape #ok now both thes training and test sets have the same columns(features)"
   ]
  },
  {
   "cell_type": "markdown",
   "metadata": {},
   "source": [
    "**Predicting values for test set**\n",
    "\n",
    "Going to use model2 to predict the target values (saleprice) on the test set "
   ]
  },
  {
   "cell_type": "code",
   "execution_count": 806,
   "metadata": {},
   "outputs": [
    {
     "data": {
      "text/plain": [
       "LinearRegression(copy_X=True, fit_intercept=True, n_jobs=None, normalize=False)"
      ]
     },
     "execution_count": 806,
     "metadata": {},
     "output_type": "execute_result"
    }
   ],
   "source": [
    "model2"
   ]
  },
  {
   "cell_type": "code",
   "execution_count": 807,
   "metadata": {},
   "outputs": [],
   "source": [
    "y_test_predict = model2.predict(all_testfeatures)"
   ]
  },
  {
   "cell_type": "code",
   "execution_count": 808,
   "metadata": {
    "scrolled": true
   },
   "outputs": [
    {
     "data": {
      "text/plain": [
       "array([141562.50523193, 209807.38752405, 189445.35822487, 128284.50426541,\n",
       "       176269.22453232,  91513.56805623, 104243.65267081, 152919.43691092,\n",
       "       216499.18579049, 158854.13033214])"
      ]
     },
     "execution_count": 808,
     "metadata": {},
     "output_type": "execute_result"
    }
   ],
   "source": [
    "y_test_predict[:10]"
   ]
  },
  {
   "cell_type": "markdown",
   "metadata": {},
   "source": [
    "Notes: (after first round) The predicted sale prices here look a bit ridiculous (too high) realised i haven't scaled my test variables so i am going to go back to do that.\n",
    "\n",
    "Sale prices now look alot more reasonable now after scaling the test data. "
   ]
  },
  {
   "cell_type": "markdown",
   "metadata": {},
   "source": [
    "submission format:\n",
    "\n",
    "Id,SalePrice\n",
    "1461,169000.1\n",
    "1462,187724.1233\n",
    "1463,175221\n",
    "etc."
   ]
  },
  {
   "cell_type": "code",
   "execution_count": 980,
   "metadata": {},
   "outputs": [],
   "source": [
    "ames_testid = ames_test['id']"
   ]
  },
  {
   "cell_type": "code",
   "execution_count": 992,
   "metadata": {},
   "outputs": [],
   "source": [
    "#converting the predicted results from an array format into a series format \n",
    "y_test_predict_srs = pd.Series(y_test_predict)"
   ]
  },
  {
   "cell_type": "markdown",
   "metadata": {},
   "source": [
    "**Creating a final dataframe containing just the house id and predicted house sale price for submission**"
   ]
  },
  {
   "cell_type": "code",
   "execution_count": 1020,
   "metadata": {},
   "outputs": [],
   "source": [
    "test_predict2 = pd.concat([ames_testid, y_test_predict_srs], axis=1)"
   ]
  },
  {
   "cell_type": "code",
   "execution_count": 1021,
   "metadata": {},
   "outputs": [],
   "source": [
    "test_predict2.columns = ['Id', 'SalePrice']"
   ]
  },
  {
   "cell_type": "code",
   "execution_count": 1022,
   "metadata": {},
   "outputs": [
    {
     "data": {
      "text/plain": [
       "(879, 2)"
      ]
     },
     "execution_count": 1022,
     "metadata": {},
     "output_type": "execute_result"
    }
   ],
   "source": [
    "test_predict2.shape"
   ]
  },
  {
   "cell_type": "code",
   "execution_count": 1029,
   "metadata": {
    "scrolled": true
   },
   "outputs": [
    {
     "data": {
      "text/html": [
       "<div>\n",
       "<style scoped>\n",
       "    .dataframe tbody tr th:only-of-type {\n",
       "        vertical-align: middle;\n",
       "    }\n",
       "\n",
       "    .dataframe tbody tr th {\n",
       "        vertical-align: top;\n",
       "    }\n",
       "\n",
       "    .dataframe thead th {\n",
       "        text-align: right;\n",
       "    }\n",
       "</style>\n",
       "<table border=\"1\" class=\"dataframe\">\n",
       "  <thead>\n",
       "    <tr style=\"text-align: right;\">\n",
       "      <th></th>\n",
       "      <th>Id</th>\n",
       "      <th>SalePrice</th>\n",
       "    </tr>\n",
       "  </thead>\n",
       "  <tbody>\n",
       "    <tr>\n",
       "      <td>0</td>\n",
       "      <td>2658</td>\n",
       "      <td>141562.505232</td>\n",
       "    </tr>\n",
       "    <tr>\n",
       "      <td>1</td>\n",
       "      <td>2718</td>\n",
       "      <td>209807.387524</td>\n",
       "    </tr>\n",
       "    <tr>\n",
       "      <td>2</td>\n",
       "      <td>2414</td>\n",
       "      <td>189445.358225</td>\n",
       "    </tr>\n",
       "    <tr>\n",
       "      <td>3</td>\n",
       "      <td>1989</td>\n",
       "      <td>128284.504265</td>\n",
       "    </tr>\n",
       "    <tr>\n",
       "      <td>4</td>\n",
       "      <td>625</td>\n",
       "      <td>176269.224532</td>\n",
       "    </tr>\n",
       "  </tbody>\n",
       "</table>\n",
       "</div>"
      ],
      "text/plain": [
       "     Id      SalePrice\n",
       "0  2658  141562.505232\n",
       "1  2718  209807.387524\n",
       "2  2414  189445.358225\n",
       "3  1989  128284.504265\n",
       "4   625  176269.224532"
      ]
     },
     "execution_count": 1029,
     "metadata": {},
     "output_type": "execute_result"
    }
   ],
   "source": [
    "#finally looking in good shape\n",
    "test_predict2.head()"
   ]
  },
  {
   "cell_type": "markdown",
   "metadata": {},
   "source": [
    "Calculating the average error rate using RMSE generated from kaggle submission over the average predicted houe price"
   ]
  },
  {
   "cell_type": "code",
   "execution_count": 1030,
   "metadata": {},
   "outputs": [
    {
     "data": {
      "text/plain": [
       "181718.52743902465"
      ]
     },
     "execution_count": 1030,
     "metadata": {},
     "output_type": "execute_result"
    }
   ],
   "source": [
    "test_predict2['SalePrice'].mean()"
   ]
  },
  {
   "cell_type": "code",
   "execution_count": 1031,
   "metadata": {},
   "outputs": [
    {
     "data": {
      "text/plain": [
       "0.18435157771932334"
      ]
     },
     "execution_count": 1031,
     "metadata": {},
     "output_type": "execute_result"
    }
   ],
   "source": [
    "33500/181718"
   ]
  },
  {
   "cell_type": "markdown",
   "metadata": {},
   "source": [
    "**Exporting dataframe to csv**"
   ]
  },
  {
   "cell_type": "markdown",
   "metadata": {},
   "source": [
    "index = false drops the index columns - important, if not kaggle will not accept the submission "
   ]
  },
  {
   "cell_type": "code",
   "execution_count": 1025,
   "metadata": {},
   "outputs": [],
   "source": [
    "test_predict2.to_csv(r\"./datasets/test_predict2.csv\", index=False)"
   ]
  },
  {
   "cell_type": "markdown",
   "metadata": {},
   "source": [
    "notes to self to improve model: \n",
    "    \n",
    "- actually can just remove the id from the model (can add it later to the results)\n",
    "- try using VIF to deal with multicollinearity (remove those with VIF >5) \n",
    "    "
   ]
  }
 ],
 "metadata": {
  "kernelspec": {
   "display_name": "Python 3",
   "language": "python",
   "name": "python3"
  },
  "language_info": {
   "codemirror_mode": {
    "name": "ipython",
    "version": 3
   },
   "file_extension": ".py",
   "mimetype": "text/x-python",
   "name": "python",
   "nbconvert_exporter": "python",
   "pygments_lexer": "ipython3",
   "version": "3.7.4"
  }
 },
 "nbformat": 4,
 "nbformat_minor": 2
}
