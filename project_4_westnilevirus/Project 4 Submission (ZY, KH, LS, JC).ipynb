{
 "cells": [
  {
   "cell_type": "markdown",
   "metadata": {},
   "source": [
    "# Project 4 - West Nile (Kaggle)"
   ]
  },
  {
   "cell_type": "markdown",
   "metadata": {},
   "source": [
    "## Problem Statement"
   ]
  },
  {
   "cell_type": "markdown",
   "metadata": {},
   "source": [
    "A recent epidemic of West Nile Virus in the Windy City has led to the Department of Public Health set up a surveillance and control system. A greater understanding of the mosquito population and its association with the spread of the West Nile Virus needs to be acquired."
   ]
  },
  {
   "cell_type": "markdown",
   "metadata": {},
   "source": [
    "## Executive Summary"
   ]
  },
  {
   "cell_type": "markdown",
   "metadata": {},
   "source": [
    "This project seeks to build an ML model that can help provide recommendations on controlling the mosquito population that will help curtail the spread of the West Nile virus.\n",
    "\n",
    "### Contents:\n",
    "- [Importing Libraries & Loading Data](#Importing-Libraries-&-Loading-Data)\n",
    "- [Exploratory Data Analysis](#Exploratory-Data-Analysis)\n",
    "- [Feature Engineering](#Feature-Engineering)\n",
    "- [Modelling](#Modelling)\n",
    "- [Key Findings](#Key-Findings)\n",
    "- [Cost-Benefit Analysis & Recommendations](#Cost-Benefit-Analysis-&-Recommendations)"
   ]
  },
  {
   "cell_type": "markdown",
   "metadata": {},
   "source": [
    "## Importing Libraries & Loading Data"
   ]
  },
  {
   "cell_type": "code",
   "execution_count": 1,
   "metadata": {},
   "outputs": [
    {
     "name": "stderr",
     "output_type": "stream",
     "text": [
      "Using TensorFlow backend.\n",
      "/Users/zhiyong/anaconda3/lib/python3.7/site-packages/statsmodels/compat/pandas.py:23: FutureWarning: The Panel class is removed from pandas. Accessing it from the top-level namespace will also be removed in the next version\n",
      "  data_klasses = (pandas.Series, pandas.DataFrame, pandas.Panel)\n"
     ]
    }
   ],
   "source": [
    "import pandas as pd\n",
    "import numpy as np\n",
    "from scipy import stats\n",
    "import geopy.distance\n",
    "\n",
    "from datetime import datetime\n",
    "from datetime import timedelta\n",
    "\n",
    "import matplotlib.pyplot as plt\n",
    "import matplotlib as mpl\n",
    "import seaborn as sns\n",
    "\n",
    "from imblearn.over_sampling import SMOTE\n",
    "\n",
    "import sklearn\n",
    "from sklearn import preprocessing\n",
    "from sklearn.pipeline import Pipeline\n",
    "from sklearn.preprocessing import StandardScaler\n",
    "\n",
    "from sklearn.model_selection import train_test_split, cross_val_score\n",
    "from sklearn.ensemble import RandomForestRegressor\n",
    "from sklearn.ensemble import RandomForestClassifier\n",
    "from sklearn.tree import DecisionTreeClassifier\n",
    "from sklearn.preprocessing import OneHotEncoder\n",
    "\n",
    "from statsmodels.tsa.stattools import acf, pacf\n",
    "from statsmodels.graphics.tsaplots import plot_acf, plot_pacf\n",
    "\n",
    "from sklearn.linear_model import LogisticRegression, LinearRegression\n",
    "from sklearn.model_selection import GridSearchCV\n",
    "from sklearn.metrics import classification_report, confusion_matrix, roc_auc_score\n",
    "\n",
    "from sklearn.decomposition import PCA\n",
    "from sklearn.ensemble import RandomForestClassifier, AdaBoostClassifier, GradientBoostingClassifier, ExtraTreesClassifier, VotingClassifier"
   ]
  },
  {
   "cell_type": "code",
   "execution_count": 2,
   "metadata": {},
   "outputs": [],
   "source": [
    "train = pd.read_csv ('./train.csv')\n",
    "test = pd.read_csv ('./test.csv')\n",
    "weather = pd.read_csv ('./weather.csv')\n",
    "spray = pd.read_csv ('./spray.csv')"
   ]
  },
  {
   "cell_type": "markdown",
   "metadata": {},
   "source": [
    "## Exploratory Data Analysis"
   ]
  },
  {
   "cell_type": "markdown",
   "metadata": {},
   "source": [
    "### Train Dataset"
   ]
  },
  {
   "cell_type": "code",
   "execution_count": 3,
   "metadata": {},
   "outputs": [
    {
     "data": {
      "text/html": [
       "<div>\n",
       "<style scoped>\n",
       "    .dataframe tbody tr th:only-of-type {\n",
       "        vertical-align: middle;\n",
       "    }\n",
       "\n",
       "    .dataframe tbody tr th {\n",
       "        vertical-align: top;\n",
       "    }\n",
       "\n",
       "    .dataframe thead th {\n",
       "        text-align: right;\n",
       "    }\n",
       "</style>\n",
       "<table border=\"1\" class=\"dataframe\">\n",
       "  <thead>\n",
       "    <tr style=\"text-align: right;\">\n",
       "      <th></th>\n",
       "      <th>Date</th>\n",
       "      <th>Address</th>\n",
       "      <th>Species</th>\n",
       "      <th>Trap</th>\n",
       "      <th>Latitude</th>\n",
       "      <th>Longitude</th>\n",
       "      <th>AddressAccuracy</th>\n",
       "      <th>NumMosquitos</th>\n",
       "      <th>WnvPresent</th>\n",
       "    </tr>\n",
       "  </thead>\n",
       "  <tbody>\n",
       "    <tr>\n",
       "      <th>0</th>\n",
       "      <td>2007-05-29</td>\n",
       "      <td>4100 North Oak Park Avenue, Chicago, IL 60634,...</td>\n",
       "      <td>CULEX PIPIENS/RESTUANS</td>\n",
       "      <td>T002</td>\n",
       "      <td>41.954690</td>\n",
       "      <td>-87.800991</td>\n",
       "      <td>9</td>\n",
       "      <td>1</td>\n",
       "      <td>0</td>\n",
       "    </tr>\n",
       "    <tr>\n",
       "      <th>1</th>\n",
       "      <td>2007-05-29</td>\n",
       "      <td>4100 North Oak Park Avenue, Chicago, IL 60634,...</td>\n",
       "      <td>CULEX RESTUANS</td>\n",
       "      <td>T002</td>\n",
       "      <td>41.954690</td>\n",
       "      <td>-87.800991</td>\n",
       "      <td>9</td>\n",
       "      <td>1</td>\n",
       "      <td>0</td>\n",
       "    </tr>\n",
       "    <tr>\n",
       "      <th>2</th>\n",
       "      <td>2007-05-29</td>\n",
       "      <td>6200 North Mandell Avenue, Chicago, IL 60646, USA</td>\n",
       "      <td>CULEX RESTUANS</td>\n",
       "      <td>T007</td>\n",
       "      <td>41.994991</td>\n",
       "      <td>-87.769279</td>\n",
       "      <td>9</td>\n",
       "      <td>1</td>\n",
       "      <td>0</td>\n",
       "    </tr>\n",
       "    <tr>\n",
       "      <th>3</th>\n",
       "      <td>2007-05-29</td>\n",
       "      <td>7900 West Foster Avenue, Chicago, IL 60656, USA</td>\n",
       "      <td>CULEX PIPIENS/RESTUANS</td>\n",
       "      <td>T015</td>\n",
       "      <td>41.974089</td>\n",
       "      <td>-87.824812</td>\n",
       "      <td>8</td>\n",
       "      <td>1</td>\n",
       "      <td>0</td>\n",
       "    </tr>\n",
       "    <tr>\n",
       "      <th>4</th>\n",
       "      <td>2007-05-29</td>\n",
       "      <td>7900 West Foster Avenue, Chicago, IL 60656, USA</td>\n",
       "      <td>CULEX RESTUANS</td>\n",
       "      <td>T015</td>\n",
       "      <td>41.974089</td>\n",
       "      <td>-87.824812</td>\n",
       "      <td>8</td>\n",
       "      <td>4</td>\n",
       "      <td>0</td>\n",
       "    </tr>\n",
       "  </tbody>\n",
       "</table>\n",
       "</div>"
      ],
      "text/plain": [
       "         Date                                            Address  \\\n",
       "0  2007-05-29  4100 North Oak Park Avenue, Chicago, IL 60634,...   \n",
       "1  2007-05-29  4100 North Oak Park Avenue, Chicago, IL 60634,...   \n",
       "2  2007-05-29  6200 North Mandell Avenue, Chicago, IL 60646, USA   \n",
       "3  2007-05-29    7900 West Foster Avenue, Chicago, IL 60656, USA   \n",
       "4  2007-05-29    7900 West Foster Avenue, Chicago, IL 60656, USA   \n",
       "\n",
       "                  Species  Trap   Latitude  Longitude  AddressAccuracy  \\\n",
       "0  CULEX PIPIENS/RESTUANS  T002  41.954690 -87.800991                9   \n",
       "1          CULEX RESTUANS  T002  41.954690 -87.800991                9   \n",
       "2          CULEX RESTUANS  T007  41.994991 -87.769279                9   \n",
       "3  CULEX PIPIENS/RESTUANS  T015  41.974089 -87.824812                8   \n",
       "4          CULEX RESTUANS  T015  41.974089 -87.824812                8   \n",
       "\n",
       "   NumMosquitos  WnvPresent  \n",
       "0             1           0  \n",
       "1             1           0  \n",
       "2             1           0  \n",
       "3             1           0  \n",
       "4             4           0  "
      ]
     },
     "execution_count": 3,
     "metadata": {},
     "output_type": "execute_result"
    }
   ],
   "source": [
    "# Drop Columns for Train Dataset (Details already in \"Address\")\n",
    "train.drop(columns = ['Street','Block','AddressNumberAndStreet'], inplace=True)\n",
    "train.head()"
   ]
  },
  {
   "cell_type": "code",
   "execution_count": 4,
   "metadata": {
    "scrolled": true
   },
   "outputs": [
    {
     "name": "stdout",
     "output_type": "stream",
     "text": [
      "<class 'pandas.core.frame.DataFrame'>\n",
      "RangeIndex: 10506 entries, 0 to 10505\n",
      "Data columns (total 9 columns):\n",
      "Date               10506 non-null object\n",
      "Address            10506 non-null object\n",
      "Species            10506 non-null object\n",
      "Trap               10506 non-null object\n",
      "Latitude           10506 non-null float64\n",
      "Longitude          10506 non-null float64\n",
      "AddressAccuracy    10506 non-null int64\n",
      "NumMosquitos       10506 non-null int64\n",
      "WnvPresent         10506 non-null int64\n",
      "dtypes: float64(2), int64(3), object(4)\n",
      "memory usage: 738.8+ KB\n"
     ]
    }
   ],
   "source": [
    "train.info()"
   ]
  },
  {
   "cell_type": "code",
   "execution_count": 5,
   "metadata": {},
   "outputs": [
    {
     "data": {
      "text/html": [
       "<div>\n",
       "<style scoped>\n",
       "    .dataframe tbody tr th:only-of-type {\n",
       "        vertical-align: middle;\n",
       "    }\n",
       "\n",
       "    .dataframe tbody tr th {\n",
       "        vertical-align: top;\n",
       "    }\n",
       "\n",
       "    .dataframe thead th {\n",
       "        text-align: right;\n",
       "    }\n",
       "</style>\n",
       "<table border=\"1\" class=\"dataframe\">\n",
       "  <thead>\n",
       "    <tr style=\"text-align: right;\">\n",
       "      <th></th>\n",
       "      <th>Date</th>\n",
       "      <th>Address</th>\n",
       "      <th>Species</th>\n",
       "      <th>Trap</th>\n",
       "      <th>Latitude</th>\n",
       "      <th>Longitude</th>\n",
       "      <th>AddressAccuracy</th>\n",
       "      <th>NumMosquitos</th>\n",
       "      <th>WnvPresent</th>\n",
       "    </tr>\n",
       "  </thead>\n",
       "  <tbody>\n",
       "    <tr>\n",
       "      <th>0</th>\n",
       "      <td>2007-05-29</td>\n",
       "      <td>4100 North Oak Park Avenue, Chicago, IL 60634,...</td>\n",
       "      <td>CULEX PIPIENS/RESTUANS</td>\n",
       "      <td>T002</td>\n",
       "      <td>41.954690</td>\n",
       "      <td>-87.800991</td>\n",
       "      <td>9</td>\n",
       "      <td>1</td>\n",
       "      <td>0</td>\n",
       "    </tr>\n",
       "    <tr>\n",
       "      <th>1</th>\n",
       "      <td>2007-05-29</td>\n",
       "      <td>4100 North Oak Park Avenue, Chicago, IL 60634,...</td>\n",
       "      <td>CULEX RESTUANS</td>\n",
       "      <td>T002</td>\n",
       "      <td>41.954690</td>\n",
       "      <td>-87.800991</td>\n",
       "      <td>9</td>\n",
       "      <td>1</td>\n",
       "      <td>0</td>\n",
       "    </tr>\n",
       "    <tr>\n",
       "      <th>2</th>\n",
       "      <td>2007-05-29</td>\n",
       "      <td>6200 North Mandell Avenue, Chicago, IL 60646, USA</td>\n",
       "      <td>CULEX RESTUANS</td>\n",
       "      <td>T007</td>\n",
       "      <td>41.994991</td>\n",
       "      <td>-87.769279</td>\n",
       "      <td>9</td>\n",
       "      <td>1</td>\n",
       "      <td>0</td>\n",
       "    </tr>\n",
       "    <tr>\n",
       "      <th>3</th>\n",
       "      <td>2007-05-29</td>\n",
       "      <td>7900 West Foster Avenue, Chicago, IL 60656, USA</td>\n",
       "      <td>CULEX PIPIENS/RESTUANS</td>\n",
       "      <td>T015</td>\n",
       "      <td>41.974089</td>\n",
       "      <td>-87.824812</td>\n",
       "      <td>8</td>\n",
       "      <td>1</td>\n",
       "      <td>0</td>\n",
       "    </tr>\n",
       "    <tr>\n",
       "      <th>4</th>\n",
       "      <td>2007-05-29</td>\n",
       "      <td>7900 West Foster Avenue, Chicago, IL 60656, USA</td>\n",
       "      <td>CULEX RESTUANS</td>\n",
       "      <td>T015</td>\n",
       "      <td>41.974089</td>\n",
       "      <td>-87.824812</td>\n",
       "      <td>8</td>\n",
       "      <td>4</td>\n",
       "      <td>0</td>\n",
       "    </tr>\n",
       "  </tbody>\n",
       "</table>\n",
       "</div>"
      ],
      "text/plain": [
       "         Date                                            Address  \\\n",
       "0  2007-05-29  4100 North Oak Park Avenue, Chicago, IL 60634,...   \n",
       "1  2007-05-29  4100 North Oak Park Avenue, Chicago, IL 60634,...   \n",
       "2  2007-05-29  6200 North Mandell Avenue, Chicago, IL 60646, USA   \n",
       "3  2007-05-29    7900 West Foster Avenue, Chicago, IL 60656, USA   \n",
       "4  2007-05-29    7900 West Foster Avenue, Chicago, IL 60656, USA   \n",
       "\n",
       "                  Species  Trap   Latitude  Longitude  AddressAccuracy  \\\n",
       "0  CULEX PIPIENS/RESTUANS  T002  41.954690 -87.800991                9   \n",
       "1          CULEX RESTUANS  T002  41.954690 -87.800991                9   \n",
       "2          CULEX RESTUANS  T007  41.994991 -87.769279                9   \n",
       "3  CULEX PIPIENS/RESTUANS  T015  41.974089 -87.824812                8   \n",
       "4          CULEX RESTUANS  T015  41.974089 -87.824812                8   \n",
       "\n",
       "   NumMosquitos  WnvPresent  \n",
       "0             1           0  \n",
       "1             1           0  \n",
       "2             1           0  \n",
       "3             1           0  \n",
       "4             4           0  "
      ]
     },
     "execution_count": 5,
     "metadata": {},
     "output_type": "execute_result"
    }
   ],
   "source": [
    "train.head()"
   ]
  },
  {
   "cell_type": "code",
   "execution_count": 6,
   "metadata": {},
   "outputs": [],
   "source": [
    "train.Date = pd.to_datetime(train.Date)"
   ]
  },
  {
   "cell_type": "markdown",
   "metadata": {},
   "source": [
    "### Test Dataset"
   ]
  },
  {
   "cell_type": "code",
   "execution_count": 7,
   "metadata": {},
   "outputs": [
    {
     "name": "stdout",
     "output_type": "stream",
     "text": [
      "<class 'pandas.core.frame.DataFrame'>\n",
      "RangeIndex: 116293 entries, 0 to 116292\n",
      "Data columns (total 11 columns):\n",
      "Id                        116293 non-null int64\n",
      "Date                      116293 non-null object\n",
      "Address                   116293 non-null object\n",
      "Species                   116293 non-null object\n",
      "Block                     116293 non-null int64\n",
      "Street                    116293 non-null object\n",
      "Trap                      116293 non-null object\n",
      "AddressNumberAndStreet    116293 non-null object\n",
      "Latitude                  116293 non-null float64\n",
      "Longitude                 116293 non-null float64\n",
      "AddressAccuracy           116293 non-null int64\n",
      "dtypes: float64(2), int64(3), object(6)\n",
      "memory usage: 9.8+ MB\n"
     ]
    }
   ],
   "source": [
    "test.info()"
   ]
  },
  {
   "cell_type": "code",
   "execution_count": 8,
   "metadata": {},
   "outputs": [
    {
     "data": {
      "text/html": [
       "<div>\n",
       "<style scoped>\n",
       "    .dataframe tbody tr th:only-of-type {\n",
       "        vertical-align: middle;\n",
       "    }\n",
       "\n",
       "    .dataframe tbody tr th {\n",
       "        vertical-align: top;\n",
       "    }\n",
       "\n",
       "    .dataframe thead th {\n",
       "        text-align: right;\n",
       "    }\n",
       "</style>\n",
       "<table border=\"1\" class=\"dataframe\">\n",
       "  <thead>\n",
       "    <tr style=\"text-align: right;\">\n",
       "      <th></th>\n",
       "      <th>Id</th>\n",
       "      <th>Date</th>\n",
       "      <th>Address</th>\n",
       "      <th>Species</th>\n",
       "      <th>Block</th>\n",
       "      <th>Street</th>\n",
       "      <th>Trap</th>\n",
       "      <th>AddressNumberAndStreet</th>\n",
       "      <th>Latitude</th>\n",
       "      <th>Longitude</th>\n",
       "      <th>AddressAccuracy</th>\n",
       "    </tr>\n",
       "  </thead>\n",
       "  <tbody>\n",
       "    <tr>\n",
       "      <th>0</th>\n",
       "      <td>1</td>\n",
       "      <td>2008-06-11</td>\n",
       "      <td>4100 North Oak Park Avenue, Chicago, IL 60634,...</td>\n",
       "      <td>CULEX PIPIENS/RESTUANS</td>\n",
       "      <td>41</td>\n",
       "      <td>N OAK PARK AVE</td>\n",
       "      <td>T002</td>\n",
       "      <td>4100  N OAK PARK AVE, Chicago, IL</td>\n",
       "      <td>41.95469</td>\n",
       "      <td>-87.800991</td>\n",
       "      <td>9</td>\n",
       "    </tr>\n",
       "    <tr>\n",
       "      <th>1</th>\n",
       "      <td>2</td>\n",
       "      <td>2008-06-11</td>\n",
       "      <td>4100 North Oak Park Avenue, Chicago, IL 60634,...</td>\n",
       "      <td>CULEX RESTUANS</td>\n",
       "      <td>41</td>\n",
       "      <td>N OAK PARK AVE</td>\n",
       "      <td>T002</td>\n",
       "      <td>4100  N OAK PARK AVE, Chicago, IL</td>\n",
       "      <td>41.95469</td>\n",
       "      <td>-87.800991</td>\n",
       "      <td>9</td>\n",
       "    </tr>\n",
       "    <tr>\n",
       "      <th>2</th>\n",
       "      <td>3</td>\n",
       "      <td>2008-06-11</td>\n",
       "      <td>4100 North Oak Park Avenue, Chicago, IL 60634,...</td>\n",
       "      <td>CULEX PIPIENS</td>\n",
       "      <td>41</td>\n",
       "      <td>N OAK PARK AVE</td>\n",
       "      <td>T002</td>\n",
       "      <td>4100  N OAK PARK AVE, Chicago, IL</td>\n",
       "      <td>41.95469</td>\n",
       "      <td>-87.800991</td>\n",
       "      <td>9</td>\n",
       "    </tr>\n",
       "    <tr>\n",
       "      <th>3</th>\n",
       "      <td>4</td>\n",
       "      <td>2008-06-11</td>\n",
       "      <td>4100 North Oak Park Avenue, Chicago, IL 60634,...</td>\n",
       "      <td>CULEX SALINARIUS</td>\n",
       "      <td>41</td>\n",
       "      <td>N OAK PARK AVE</td>\n",
       "      <td>T002</td>\n",
       "      <td>4100  N OAK PARK AVE, Chicago, IL</td>\n",
       "      <td>41.95469</td>\n",
       "      <td>-87.800991</td>\n",
       "      <td>9</td>\n",
       "    </tr>\n",
       "    <tr>\n",
       "      <th>4</th>\n",
       "      <td>5</td>\n",
       "      <td>2008-06-11</td>\n",
       "      <td>4100 North Oak Park Avenue, Chicago, IL 60634,...</td>\n",
       "      <td>CULEX TERRITANS</td>\n",
       "      <td>41</td>\n",
       "      <td>N OAK PARK AVE</td>\n",
       "      <td>T002</td>\n",
       "      <td>4100  N OAK PARK AVE, Chicago, IL</td>\n",
       "      <td>41.95469</td>\n",
       "      <td>-87.800991</td>\n",
       "      <td>9</td>\n",
       "    </tr>\n",
       "  </tbody>\n",
       "</table>\n",
       "</div>"
      ],
      "text/plain": [
       "   Id        Date                                            Address  \\\n",
       "0   1  2008-06-11  4100 North Oak Park Avenue, Chicago, IL 60634,...   \n",
       "1   2  2008-06-11  4100 North Oak Park Avenue, Chicago, IL 60634,...   \n",
       "2   3  2008-06-11  4100 North Oak Park Avenue, Chicago, IL 60634,...   \n",
       "3   4  2008-06-11  4100 North Oak Park Avenue, Chicago, IL 60634,...   \n",
       "4   5  2008-06-11  4100 North Oak Park Avenue, Chicago, IL 60634,...   \n",
       "\n",
       "                  Species  Block           Street  Trap  \\\n",
       "0  CULEX PIPIENS/RESTUANS     41   N OAK PARK AVE  T002   \n",
       "1          CULEX RESTUANS     41   N OAK PARK AVE  T002   \n",
       "2           CULEX PIPIENS     41   N OAK PARK AVE  T002   \n",
       "3        CULEX SALINARIUS     41   N OAK PARK AVE  T002   \n",
       "4         CULEX TERRITANS     41   N OAK PARK AVE  T002   \n",
       "\n",
       "              AddressNumberAndStreet  Latitude  Longitude  AddressAccuracy  \n",
       "0  4100  N OAK PARK AVE, Chicago, IL  41.95469 -87.800991                9  \n",
       "1  4100  N OAK PARK AVE, Chicago, IL  41.95469 -87.800991                9  \n",
       "2  4100  N OAK PARK AVE, Chicago, IL  41.95469 -87.800991                9  \n",
       "3  4100  N OAK PARK AVE, Chicago, IL  41.95469 -87.800991                9  \n",
       "4  4100  N OAK PARK AVE, Chicago, IL  41.95469 -87.800991                9  "
      ]
     },
     "execution_count": 8,
     "metadata": {},
     "output_type": "execute_result"
    }
   ],
   "source": [
    "test.head()"
   ]
  },
  {
   "cell_type": "code",
   "execution_count": 9,
   "metadata": {},
   "outputs": [
    {
     "data": {
      "text/html": [
       "<div>\n",
       "<style scoped>\n",
       "    .dataframe tbody tr th:only-of-type {\n",
       "        vertical-align: middle;\n",
       "    }\n",
       "\n",
       "    .dataframe tbody tr th {\n",
       "        vertical-align: top;\n",
       "    }\n",
       "\n",
       "    .dataframe thead th {\n",
       "        text-align: right;\n",
       "    }\n",
       "</style>\n",
       "<table border=\"1\" class=\"dataframe\">\n",
       "  <thead>\n",
       "    <tr style=\"text-align: right;\">\n",
       "      <th></th>\n",
       "      <th>Id</th>\n",
       "      <th>Date</th>\n",
       "      <th>Address</th>\n",
       "      <th>Species</th>\n",
       "      <th>Trap</th>\n",
       "      <th>Latitude</th>\n",
       "      <th>Longitude</th>\n",
       "      <th>AddressAccuracy</th>\n",
       "    </tr>\n",
       "  </thead>\n",
       "  <tbody>\n",
       "    <tr>\n",
       "      <th>0</th>\n",
       "      <td>1</td>\n",
       "      <td>2008-06-11</td>\n",
       "      <td>4100 North Oak Park Avenue, Chicago, IL 60634,...</td>\n",
       "      <td>CULEX PIPIENS/RESTUANS</td>\n",
       "      <td>T002</td>\n",
       "      <td>41.95469</td>\n",
       "      <td>-87.800991</td>\n",
       "      <td>9</td>\n",
       "    </tr>\n",
       "    <tr>\n",
       "      <th>1</th>\n",
       "      <td>2</td>\n",
       "      <td>2008-06-11</td>\n",
       "      <td>4100 North Oak Park Avenue, Chicago, IL 60634,...</td>\n",
       "      <td>CULEX RESTUANS</td>\n",
       "      <td>T002</td>\n",
       "      <td>41.95469</td>\n",
       "      <td>-87.800991</td>\n",
       "      <td>9</td>\n",
       "    </tr>\n",
       "    <tr>\n",
       "      <th>2</th>\n",
       "      <td>3</td>\n",
       "      <td>2008-06-11</td>\n",
       "      <td>4100 North Oak Park Avenue, Chicago, IL 60634,...</td>\n",
       "      <td>CULEX PIPIENS</td>\n",
       "      <td>T002</td>\n",
       "      <td>41.95469</td>\n",
       "      <td>-87.800991</td>\n",
       "      <td>9</td>\n",
       "    </tr>\n",
       "    <tr>\n",
       "      <th>3</th>\n",
       "      <td>4</td>\n",
       "      <td>2008-06-11</td>\n",
       "      <td>4100 North Oak Park Avenue, Chicago, IL 60634,...</td>\n",
       "      <td>CULEX SALINARIUS</td>\n",
       "      <td>T002</td>\n",
       "      <td>41.95469</td>\n",
       "      <td>-87.800991</td>\n",
       "      <td>9</td>\n",
       "    </tr>\n",
       "    <tr>\n",
       "      <th>4</th>\n",
       "      <td>5</td>\n",
       "      <td>2008-06-11</td>\n",
       "      <td>4100 North Oak Park Avenue, Chicago, IL 60634,...</td>\n",
       "      <td>CULEX TERRITANS</td>\n",
       "      <td>T002</td>\n",
       "      <td>41.95469</td>\n",
       "      <td>-87.800991</td>\n",
       "      <td>9</td>\n",
       "    </tr>\n",
       "  </tbody>\n",
       "</table>\n",
       "</div>"
      ],
      "text/plain": [
       "   Id        Date                                            Address  \\\n",
       "0   1  2008-06-11  4100 North Oak Park Avenue, Chicago, IL 60634,...   \n",
       "1   2  2008-06-11  4100 North Oak Park Avenue, Chicago, IL 60634,...   \n",
       "2   3  2008-06-11  4100 North Oak Park Avenue, Chicago, IL 60634,...   \n",
       "3   4  2008-06-11  4100 North Oak Park Avenue, Chicago, IL 60634,...   \n",
       "4   5  2008-06-11  4100 North Oak Park Avenue, Chicago, IL 60634,...   \n",
       "\n",
       "                  Species  Trap  Latitude  Longitude  AddressAccuracy  \n",
       "0  CULEX PIPIENS/RESTUANS  T002  41.95469 -87.800991                9  \n",
       "1          CULEX RESTUANS  T002  41.95469 -87.800991                9  \n",
       "2           CULEX PIPIENS  T002  41.95469 -87.800991                9  \n",
       "3        CULEX SALINARIUS  T002  41.95469 -87.800991                9  \n",
       "4         CULEX TERRITANS  T002  41.95469 -87.800991                9  "
      ]
     },
     "execution_count": 9,
     "metadata": {},
     "output_type": "execute_result"
    }
   ],
   "source": [
    "# Drop Columns for Test Dataset (Details already in \"Address\")\n",
    "test.drop(columns = ['Street','Block','AddressNumberAndStreet'], inplace=True)\n",
    "test.head()"
   ]
  },
  {
   "cell_type": "code",
   "execution_count": 10,
   "metadata": {},
   "outputs": [],
   "source": [
    "test.Date = pd.to_datetime(test.Date)"
   ]
  },
  {
   "cell_type": "markdown",
   "metadata": {},
   "source": [
    "### Weather Dataset"
   ]
  },
  {
   "cell_type": "code",
   "execution_count": 11,
   "metadata": {},
   "outputs": [
    {
     "name": "stdout",
     "output_type": "stream",
     "text": [
      "<class 'pandas.core.frame.DataFrame'>\n",
      "RangeIndex: 2944 entries, 0 to 2943\n",
      "Data columns (total 22 columns):\n",
      "Station        2944 non-null int64\n",
      "Date           2944 non-null object\n",
      "Tmax           2944 non-null int64\n",
      "Tmin           2944 non-null int64\n",
      "Tavg           2944 non-null object\n",
      "Depart         2944 non-null object\n",
      "DewPoint       2944 non-null int64\n",
      "WetBulb        2944 non-null object\n",
      "Heat           2944 non-null object\n",
      "Cool           2944 non-null object\n",
      "Sunrise        2944 non-null object\n",
      "Sunset         2944 non-null object\n",
      "CodeSum        2944 non-null object\n",
      "Depth          2944 non-null object\n",
      "Water1         2944 non-null object\n",
      "SnowFall       2944 non-null object\n",
      "PrecipTotal    2944 non-null object\n",
      "StnPressure    2944 non-null object\n",
      "SeaLevel       2944 non-null object\n",
      "ResultSpeed    2944 non-null float64\n",
      "ResultDir      2944 non-null int64\n",
      "AvgSpeed       2944 non-null object\n",
      "dtypes: float64(1), int64(5), object(16)\n",
      "memory usage: 506.1+ KB\n"
     ]
    }
   ],
   "source": [
    "weather.info()"
   ]
  },
  {
   "cell_type": "code",
   "execution_count": 12,
   "metadata": {},
   "outputs": [
    {
     "data": {
      "text/html": [
       "<div>\n",
       "<style scoped>\n",
       "    .dataframe tbody tr th:only-of-type {\n",
       "        vertical-align: middle;\n",
       "    }\n",
       "\n",
       "    .dataframe tbody tr th {\n",
       "        vertical-align: top;\n",
       "    }\n",
       "\n",
       "    .dataframe thead th {\n",
       "        text-align: right;\n",
       "    }\n",
       "</style>\n",
       "<table border=\"1\" class=\"dataframe\">\n",
       "  <thead>\n",
       "    <tr style=\"text-align: right;\">\n",
       "      <th></th>\n",
       "      <th>Station</th>\n",
       "      <th>Date</th>\n",
       "      <th>Tmax</th>\n",
       "      <th>Tmin</th>\n",
       "      <th>Tavg</th>\n",
       "      <th>Depart</th>\n",
       "      <th>DewPoint</th>\n",
       "      <th>WetBulb</th>\n",
       "      <th>Heat</th>\n",
       "      <th>Cool</th>\n",
       "      <th>...</th>\n",
       "      <th>CodeSum</th>\n",
       "      <th>Depth</th>\n",
       "      <th>Water1</th>\n",
       "      <th>SnowFall</th>\n",
       "      <th>PrecipTotal</th>\n",
       "      <th>StnPressure</th>\n",
       "      <th>SeaLevel</th>\n",
       "      <th>ResultSpeed</th>\n",
       "      <th>ResultDir</th>\n",
       "      <th>AvgSpeed</th>\n",
       "    </tr>\n",
       "  </thead>\n",
       "  <tbody>\n",
       "    <tr>\n",
       "      <th>0</th>\n",
       "      <td>1</td>\n",
       "      <td>2007-05-01</td>\n",
       "      <td>83</td>\n",
       "      <td>50</td>\n",
       "      <td>67</td>\n",
       "      <td>14</td>\n",
       "      <td>51</td>\n",
       "      <td>56</td>\n",
       "      <td>0</td>\n",
       "      <td>2</td>\n",
       "      <td>...</td>\n",
       "      <td></td>\n",
       "      <td>0</td>\n",
       "      <td>M</td>\n",
       "      <td>0.0</td>\n",
       "      <td>0.00</td>\n",
       "      <td>29.10</td>\n",
       "      <td>29.82</td>\n",
       "      <td>1.7</td>\n",
       "      <td>27</td>\n",
       "      <td>9.2</td>\n",
       "    </tr>\n",
       "    <tr>\n",
       "      <th>1</th>\n",
       "      <td>2</td>\n",
       "      <td>2007-05-01</td>\n",
       "      <td>84</td>\n",
       "      <td>52</td>\n",
       "      <td>68</td>\n",
       "      <td>M</td>\n",
       "      <td>51</td>\n",
       "      <td>57</td>\n",
       "      <td>0</td>\n",
       "      <td>3</td>\n",
       "      <td>...</td>\n",
       "      <td></td>\n",
       "      <td>M</td>\n",
       "      <td>M</td>\n",
       "      <td>M</td>\n",
       "      <td>0.00</td>\n",
       "      <td>29.18</td>\n",
       "      <td>29.82</td>\n",
       "      <td>2.7</td>\n",
       "      <td>25</td>\n",
       "      <td>9.6</td>\n",
       "    </tr>\n",
       "    <tr>\n",
       "      <th>2</th>\n",
       "      <td>1</td>\n",
       "      <td>2007-05-02</td>\n",
       "      <td>59</td>\n",
       "      <td>42</td>\n",
       "      <td>51</td>\n",
       "      <td>-3</td>\n",
       "      <td>42</td>\n",
       "      <td>47</td>\n",
       "      <td>14</td>\n",
       "      <td>0</td>\n",
       "      <td>...</td>\n",
       "      <td>BR</td>\n",
       "      <td>0</td>\n",
       "      <td>M</td>\n",
       "      <td>0.0</td>\n",
       "      <td>0.00</td>\n",
       "      <td>29.38</td>\n",
       "      <td>30.09</td>\n",
       "      <td>13.0</td>\n",
       "      <td>4</td>\n",
       "      <td>13.4</td>\n",
       "    </tr>\n",
       "    <tr>\n",
       "      <th>3</th>\n",
       "      <td>2</td>\n",
       "      <td>2007-05-02</td>\n",
       "      <td>60</td>\n",
       "      <td>43</td>\n",
       "      <td>52</td>\n",
       "      <td>M</td>\n",
       "      <td>42</td>\n",
       "      <td>47</td>\n",
       "      <td>13</td>\n",
       "      <td>0</td>\n",
       "      <td>...</td>\n",
       "      <td>BR HZ</td>\n",
       "      <td>M</td>\n",
       "      <td>M</td>\n",
       "      <td>M</td>\n",
       "      <td>0.00</td>\n",
       "      <td>29.44</td>\n",
       "      <td>30.08</td>\n",
       "      <td>13.3</td>\n",
       "      <td>2</td>\n",
       "      <td>13.4</td>\n",
       "    </tr>\n",
       "    <tr>\n",
       "      <th>4</th>\n",
       "      <td>1</td>\n",
       "      <td>2007-05-03</td>\n",
       "      <td>66</td>\n",
       "      <td>46</td>\n",
       "      <td>56</td>\n",
       "      <td>2</td>\n",
       "      <td>40</td>\n",
       "      <td>48</td>\n",
       "      <td>9</td>\n",
       "      <td>0</td>\n",
       "      <td>...</td>\n",
       "      <td></td>\n",
       "      <td>0</td>\n",
       "      <td>M</td>\n",
       "      <td>0.0</td>\n",
       "      <td>0.00</td>\n",
       "      <td>29.39</td>\n",
       "      <td>30.12</td>\n",
       "      <td>11.7</td>\n",
       "      <td>7</td>\n",
       "      <td>11.9</td>\n",
       "    </tr>\n",
       "  </tbody>\n",
       "</table>\n",
       "<p>5 rows × 22 columns</p>\n",
       "</div>"
      ],
      "text/plain": [
       "   Station        Date  Tmax  Tmin Tavg Depart  DewPoint WetBulb Heat Cool  \\\n",
       "0        1  2007-05-01    83    50   67     14        51      56    0    2   \n",
       "1        2  2007-05-01    84    52   68      M        51      57    0    3   \n",
       "2        1  2007-05-02    59    42   51     -3        42      47   14    0   \n",
       "3        2  2007-05-02    60    43   52      M        42      47   13    0   \n",
       "4        1  2007-05-03    66    46   56      2        40      48    9    0   \n",
       "\n",
       "   ... CodeSum Depth Water1 SnowFall PrecipTotal StnPressure SeaLevel  \\\n",
       "0  ...             0      M      0.0        0.00       29.10    29.82   \n",
       "1  ...             M      M        M        0.00       29.18    29.82   \n",
       "2  ...      BR     0      M      0.0        0.00       29.38    30.09   \n",
       "3  ...   BR HZ     M      M        M        0.00       29.44    30.08   \n",
       "4  ...             0      M      0.0        0.00       29.39    30.12   \n",
       "\n",
       "  ResultSpeed ResultDir  AvgSpeed  \n",
       "0         1.7        27       9.2  \n",
       "1         2.7        25       9.6  \n",
       "2        13.0         4      13.4  \n",
       "3        13.3         2      13.4  \n",
       "4        11.7         7      11.9  \n",
       "\n",
       "[5 rows x 22 columns]"
      ]
     },
     "execution_count": 12,
     "metadata": {},
     "output_type": "execute_result"
    }
   ],
   "source": [
    "weather.head()"
   ]
  },
  {
   "cell_type": "code",
   "execution_count": 13,
   "metadata": {},
   "outputs": [
    {
     "name": "stdout",
     "output_type": "stream",
     "text": [
      "Station 0\n",
      "Date 0\n",
      "Tmax 0\n",
      "Tmin 0\n",
      "Tavg 11\n",
      "Depart 1472\n",
      "DewPoint 0\n",
      "WetBulb 4\n",
      "Heat 11\n",
      "Cool 11\n",
      "Sunrise 0\n",
      "Sunset 0\n",
      "CodeSum 0\n",
      "Depth 1472\n",
      "Water1 2944\n",
      "SnowFall 1472\n",
      "PrecipTotal 2\n",
      "StnPressure 4\n",
      "SeaLevel 9\n",
      "ResultSpeed 0\n",
      "ResultDir 0\n",
      "AvgSpeed 3\n"
     ]
    }
   ],
   "source": [
    "# Check for missing values 'M' or NaN\n",
    "for c in weather.columns:\n",
    "    print(c, weather[weather[c].isin(['M', 'T'])][c].count())"
   ]
  },
  {
   "cell_type": "markdown",
   "metadata": {},
   "source": [
    "### Average Temperature"
   ]
  },
  {
   "cell_type": "code",
   "execution_count": 14,
   "metadata": {},
   "outputs": [],
   "source": [
    "# Replace missing values with average of max and min temperature\n",
    "\n",
    "weather['Tavg'].replace('M',(weather['Tmax']+ weather['Tmin'])/2,inplace=True)"
   ]
  },
  {
   "cell_type": "markdown",
   "metadata": {},
   "source": [
    "### Depart Temperature"
   ]
  },
  {
   "cell_type": "code",
   "execution_count": 15,
   "metadata": {},
   "outputs": [],
   "source": [
    "# Replace missing values via forward-filling\n",
    "\n",
    "weather['Depart'] = weather['Depart'].replace('M',np.nan)\n",
    "weather['Depart'].ffill(axis='rows',inplace=True)"
   ]
  },
  {
   "cell_type": "markdown",
   "metadata": {},
   "source": [
    "### Wet Bulb Temperature"
   ]
  },
  {
   "cell_type": "code",
   "execution_count": 16,
   "metadata": {},
   "outputs": [
    {
     "name": "stdout",
     "output_type": "stream",
     "text": [
      "0 848\n",
      "1 2410\n",
      "2 2412\n",
      "3 2415\n"
     ]
    }
   ],
   "source": [
    "# Replace missing values with corresponding station's wetbulb temperature\n",
    "\n",
    "for i,index in enumerate(weather[weather['WetBulb']=='M'].index):\n",
    "    print(i,index)\n",
    "    if weather.loc[index,'Station'] == 1:\n",
    "        weather.loc[index,'WetBulb'] = weather.loc[index+1,'WetBulb']\n",
    "    else:\n",
    "        weather.loc[index,'WetBulb'] = weather.loc[index-1,'WetBulb']"
   ]
  },
  {
   "cell_type": "markdown",
   "metadata": {},
   "source": [
    "### Heating & Cooling"
   ]
  },
  {
   "cell_type": "code",
   "execution_count": 17,
   "metadata": {},
   "outputs": [
    {
     "name": "stdout",
     "output_type": "stream",
     "text": [
      "0 7\n",
      "1 505\n",
      "2 675\n",
      "3 1637\n",
      "4 2067\n",
      "5 2211\n",
      "6 2501\n",
      "7 2511\n",
      "8 2525\n",
      "9 2579\n",
      "10 2811\n"
     ]
    }
   ],
   "source": [
    "# Using T-avg value to derive heating and cooling temperature for missing values\n",
    "\n",
    "for i,index in enumerate(weather[weather['Heat']=='M'].index):\n",
    "    print(i,index)\n",
    "    result = weather.loc[index, 'Tavg'] - 65\n",
    "    if result > 0:\n",
    "        weather.loc[index, 'Heat'] = int(result)\n",
    "        weather.loc[index, 'Cool'] = int(0)\n",
    "    else:\n",
    "        weather.loc[index, 'Cool'] = abs(result)\n",
    "        weather.loc[index, 'Heat'] = int(0)"
   ]
  },
  {
   "cell_type": "markdown",
   "metadata": {},
   "source": [
    "### Sunrise and Sunset"
   ]
  },
  {
   "cell_type": "code",
   "execution_count": 18,
   "metadata": {},
   "outputs": [],
   "source": [
    "# Forward-filling missing values\n",
    "\n",
    "weather['Sunrise'] = weather['Sunrise'].replace('-',np.nan)\n",
    "weather['Sunrise'].ffill(axis='rows',inplace=True)\n",
    "\n",
    "weather['Sunset'] = weather['Sunset'].replace('-',np.nan)\n",
    "weather['Sunset'].ffill(axis='rows',inplace=True)"
   ]
  },
  {
   "cell_type": "markdown",
   "metadata": {},
   "source": [
    "### Converting Variables To Correct Data Types"
   ]
  },
  {
   "cell_type": "code",
   "execution_count": 19,
   "metadata": {},
   "outputs": [],
   "source": [
    "#convert 'Date' to date datatype\n",
    "weather['Date']= pd.to_datetime(weather['Date']) \n",
    "\n",
    "#convert 'Tavg' to int\n",
    "weather['Tavg'] = weather['Tavg'].astype(int)\n",
    "\n",
    "#convert 'Depart' to int\n",
    "weather['Depart'] = weather['Depart'].astype(int)\n",
    "\n",
    "#convert 'WetBulb' to int\n",
    "weather['WetBulb'] = weather['WetBulb'].astype(int)\n",
    "\n",
    "#convert 'Heat','Cool' to int\n",
    "weather['Heat'] = weather['Heat'].astype(int)\n",
    "weather['Cool'] = weather['Cool'].astype(int)"
   ]
  },
  {
   "cell_type": "markdown",
   "metadata": {},
   "source": [
    "### Code Sum"
   ]
  },
  {
   "cell_type": "code",
   "execution_count": 20,
   "metadata": {},
   "outputs": [],
   "source": [
    "#Replace empty values as 'No Sign'\n",
    "weather['CodeSum'] = weather['CodeSum'].replace(to_replace = ' ', value = 'No Sign')"
   ]
  },
  {
   "cell_type": "markdown",
   "metadata": {},
   "source": [
    "### Depth, Water1, Snowfall"
   ]
  },
  {
   "cell_type": "code",
   "execution_count": 21,
   "metadata": {},
   "outputs": [],
   "source": [
    "# Replace missing values with 0 and converting to numeric type\n",
    "\n",
    "weather['Depth'] = weather['Depth'].replace('M', 0)\n",
    "weather['Depth']=pd.to_numeric(weather['Depth'])"
   ]
  },
  {
   "cell_type": "code",
   "execution_count": 22,
   "metadata": {},
   "outputs": [],
   "source": [
    "# Drop Water1 column as there are too many missing values\n",
    "\n",
    "weather = weather.drop(['Water1'], axis=1)"
   ]
  },
  {
   "cell_type": "code",
   "execution_count": 23,
   "metadata": {},
   "outputs": [],
   "source": [
    "# Replace missing and trace values with 0 and converting to numeric type\n",
    "\n",
    "weather['SnowFall'] = weather['SnowFall'].replace('M', 0)\n",
    "weather['SnowFall'] = weather['SnowFall'].replace('  T', 0)\n",
    "weather['SnowFall'] = pd.to_numeric(weather['SnowFall'])"
   ]
  },
  {
   "cell_type": "markdown",
   "metadata": {},
   "source": [
    "### Precipitation"
   ]
  },
  {
   "cell_type": "code",
   "execution_count": 24,
   "metadata": {},
   "outputs": [],
   "source": [
    "# Replace missing and trace values with 0\n",
    "\n",
    "weather['PrecipTotal'] = weather['PrecipTotal'].replace('  T', 0.00)\n",
    "weather['PrecipTotal'] = weather['PrecipTotal'].replace('M', 0.00)\n",
    "weather['PrecipTotal'] = pd.to_numeric(weather['PrecipTotal'])"
   ]
  },
  {
   "cell_type": "markdown",
   "metadata": {},
   "source": [
    "### Station Pressure"
   ]
  },
  {
   "cell_type": "code",
   "execution_count": 25,
   "metadata": {},
   "outputs": [],
   "source": [
    "# Replace missing values with NaN values and fill it with mean value\n",
    "\n",
    "weather['StnPressure'] = weather['StnPressure'].replace(to_replace='M', value=np.nan)\n",
    "weather['StnPressure'] = weather['StnPressure'].fillna(round(weather['StnPressure'].astype(float).mean(),2))\n",
    "weather['StnPressure']=pd.to_numeric(weather['StnPressure'])"
   ]
  },
  {
   "cell_type": "markdown",
   "metadata": {},
   "source": [
    "### Sea Level"
   ]
  },
  {
   "cell_type": "code",
   "execution_count": 26,
   "metadata": {},
   "outputs": [],
   "source": [
    "# Replace missing values with NaN values and converting to float type\n",
    "\n",
    "weather['SeaLevel'] = weather['SeaLevel'].apply(lambda x: np.nan if x == 'M' else x)\n",
    "weather['SeaLevel'] = weather['SeaLevel'].fillna(round(weather['SeaLevel'].astype(float).mean(),2))\n",
    "weather['SeaLevel'] = pd.to_numeric(weather['SeaLevel'])"
   ]
  },
  {
   "cell_type": "markdown",
   "metadata": {},
   "source": [
    "### Average Speed"
   ]
  },
  {
   "cell_type": "code",
   "execution_count": 27,
   "metadata": {},
   "outputs": [],
   "source": [
    "# Replace missing values with NaN values and forward-fill before converting to numeric type\n",
    "\n",
    "weather['AvgSpeed'] = weather['AvgSpeed'].replace('M', np.nan)\n",
    "weather['AvgSpeed'].ffill(axis='rows', inplace=True)\n",
    "weather['AvgSpeed']=pd.to_numeric(weather['AvgSpeed'])"
   ]
  },
  {
   "cell_type": "code",
   "execution_count": 28,
   "metadata": {},
   "outputs": [
    {
     "data": {
      "text/plain": [
       "Station        0\n",
       "Date           0\n",
       "Tmax           0\n",
       "Tmin           0\n",
       "Tavg           0\n",
       "Depart         0\n",
       "DewPoint       0\n",
       "WetBulb        0\n",
       "Heat           0\n",
       "Cool           0\n",
       "Sunrise        0\n",
       "Sunset         0\n",
       "CodeSum        0\n",
       "Depth          0\n",
       "SnowFall       0\n",
       "PrecipTotal    0\n",
       "StnPressure    0\n",
       "SeaLevel       0\n",
       "ResultSpeed    0\n",
       "ResultDir      0\n",
       "AvgSpeed       0\n",
       "dtype: int64"
      ]
     },
     "execution_count": 28,
     "metadata": {},
     "output_type": "execute_result"
    }
   ],
   "source": [
    "# Check for null values\n",
    "\n",
    "weather.isnull().sum()"
   ]
  },
  {
   "cell_type": "code",
   "execution_count": 29,
   "metadata": {},
   "outputs": [
    {
     "data": {
      "text/plain": [
       "Station                 int64\n",
       "Date           datetime64[ns]\n",
       "Tmax                    int64\n",
       "Tmin                    int64\n",
       "Tavg                    int64\n",
       "Depart                  int64\n",
       "DewPoint                int64\n",
       "WetBulb                 int64\n",
       "Heat                    int64\n",
       "Cool                    int64\n",
       "Sunrise                object\n",
       "Sunset                 object\n",
       "CodeSum                object\n",
       "Depth                   int64\n",
       "SnowFall              float64\n",
       "PrecipTotal           float64\n",
       "StnPressure           float64\n",
       "SeaLevel              float64\n",
       "ResultSpeed           float64\n",
       "ResultDir               int64\n",
       "AvgSpeed              float64\n",
       "dtype: object"
      ]
     },
     "execution_count": 29,
     "metadata": {},
     "output_type": "execute_result"
    }
   ],
   "source": [
    "weather.dtypes"
   ]
  },
  {
   "cell_type": "markdown",
   "metadata": {},
   "source": [
    "### Spray Dataset"
   ]
  },
  {
   "cell_type": "code",
   "execution_count": 30,
   "metadata": {},
   "outputs": [
    {
     "name": "stdout",
     "output_type": "stream",
     "text": [
      "<class 'pandas.core.frame.DataFrame'>\n",
      "RangeIndex: 14835 entries, 0 to 14834\n",
      "Data columns (total 4 columns):\n",
      "Date         14835 non-null object\n",
      "Time         14251 non-null object\n",
      "Latitude     14835 non-null float64\n",
      "Longitude    14835 non-null float64\n",
      "dtypes: float64(2), object(2)\n",
      "memory usage: 463.7+ KB\n"
     ]
    }
   ],
   "source": [
    "spray.info()"
   ]
  },
  {
   "cell_type": "code",
   "execution_count": 31,
   "metadata": {},
   "outputs": [
    {
     "data": {
      "text/plain": [
       "Date          object\n",
       "Time          object\n",
       "Latitude     float64\n",
       "Longitude    float64\n",
       "dtype: object"
      ]
     },
     "execution_count": 31,
     "metadata": {},
     "output_type": "execute_result"
    }
   ],
   "source": [
    "spray.dtypes"
   ]
  },
  {
   "cell_type": "code",
   "execution_count": 32,
   "metadata": {},
   "outputs": [
    {
     "data": {
      "text/plain": [
       "Date           0\n",
       "Time         584\n",
       "Latitude       0\n",
       "Longitude      0\n",
       "dtype: int64"
      ]
     },
     "execution_count": 32,
     "metadata": {},
     "output_type": "execute_result"
    }
   ],
   "source": [
    "spray.isnull().sum()"
   ]
  },
  {
   "cell_type": "code",
   "execution_count": 33,
   "metadata": {},
   "outputs": [
    {
     "data": {
      "text/html": [
       "<div>\n",
       "<style scoped>\n",
       "    .dataframe tbody tr th:only-of-type {\n",
       "        vertical-align: middle;\n",
       "    }\n",
       "\n",
       "    .dataframe tbody tr th {\n",
       "        vertical-align: top;\n",
       "    }\n",
       "\n",
       "    .dataframe thead th {\n",
       "        text-align: right;\n",
       "    }\n",
       "</style>\n",
       "<table border=\"1\" class=\"dataframe\">\n",
       "  <thead>\n",
       "    <tr style=\"text-align: right;\">\n",
       "      <th></th>\n",
       "      <th>Date</th>\n",
       "      <th>Time</th>\n",
       "      <th>Latitude</th>\n",
       "      <th>Longitude</th>\n",
       "    </tr>\n",
       "  </thead>\n",
       "  <tbody>\n",
       "    <tr>\n",
       "      <th>0</th>\n",
       "      <td>2011-08-29</td>\n",
       "      <td>6:56:58 PM</td>\n",
       "      <td>42.391623</td>\n",
       "      <td>-88.089163</td>\n",
       "    </tr>\n",
       "    <tr>\n",
       "      <th>1</th>\n",
       "      <td>2011-08-29</td>\n",
       "      <td>6:57:08 PM</td>\n",
       "      <td>42.391348</td>\n",
       "      <td>-88.089163</td>\n",
       "    </tr>\n",
       "    <tr>\n",
       "      <th>2</th>\n",
       "      <td>2011-08-29</td>\n",
       "      <td>6:57:18 PM</td>\n",
       "      <td>42.391022</td>\n",
       "      <td>-88.089157</td>\n",
       "    </tr>\n",
       "    <tr>\n",
       "      <th>3</th>\n",
       "      <td>2011-08-29</td>\n",
       "      <td>6:57:28 PM</td>\n",
       "      <td>42.390637</td>\n",
       "      <td>-88.089158</td>\n",
       "    </tr>\n",
       "    <tr>\n",
       "      <th>4</th>\n",
       "      <td>2011-08-29</td>\n",
       "      <td>6:57:38 PM</td>\n",
       "      <td>42.390410</td>\n",
       "      <td>-88.088858</td>\n",
       "    </tr>\n",
       "  </tbody>\n",
       "</table>\n",
       "</div>"
      ],
      "text/plain": [
       "         Date        Time   Latitude  Longitude\n",
       "0  2011-08-29  6:56:58 PM  42.391623 -88.089163\n",
       "1  2011-08-29  6:57:08 PM  42.391348 -88.089163\n",
       "2  2011-08-29  6:57:18 PM  42.391022 -88.089157\n",
       "3  2011-08-29  6:57:28 PM  42.390637 -88.089158\n",
       "4  2011-08-29  6:57:38 PM  42.390410 -88.088858"
      ]
     },
     "execution_count": 33,
     "metadata": {},
     "output_type": "execute_result"
    }
   ],
   "source": [
    "spray.head()"
   ]
  },
  {
   "cell_type": "code",
   "execution_count": 34,
   "metadata": {},
   "outputs": [
    {
     "data": {
      "text/html": [
       "<div>\n",
       "<style scoped>\n",
       "    .dataframe tbody tr th:only-of-type {\n",
       "        vertical-align: middle;\n",
       "    }\n",
       "\n",
       "    .dataframe tbody tr th {\n",
       "        vertical-align: top;\n",
       "    }\n",
       "\n",
       "    .dataframe thead th {\n",
       "        text-align: right;\n",
       "    }\n",
       "</style>\n",
       "<table border=\"1\" class=\"dataframe\">\n",
       "  <thead>\n",
       "    <tr style=\"text-align: right;\">\n",
       "      <th></th>\n",
       "      <th>Date</th>\n",
       "      <th>Time</th>\n",
       "      <th>Latitude</th>\n",
       "      <th>Longitude</th>\n",
       "    </tr>\n",
       "  </thead>\n",
       "  <tbody>\n",
       "    <tr>\n",
       "      <th>1030</th>\n",
       "      <td>2011-09-07</td>\n",
       "      <td>NaN</td>\n",
       "      <td>41.987092</td>\n",
       "      <td>-87.794286</td>\n",
       "    </tr>\n",
       "    <tr>\n",
       "      <th>1031</th>\n",
       "      <td>2011-09-07</td>\n",
       "      <td>NaN</td>\n",
       "      <td>41.987620</td>\n",
       "      <td>-87.794382</td>\n",
       "    </tr>\n",
       "    <tr>\n",
       "      <th>1032</th>\n",
       "      <td>2011-09-07</td>\n",
       "      <td>NaN</td>\n",
       "      <td>41.988004</td>\n",
       "      <td>-87.794574</td>\n",
       "    </tr>\n",
       "    <tr>\n",
       "      <th>1033</th>\n",
       "      <td>2011-09-07</td>\n",
       "      <td>NaN</td>\n",
       "      <td>41.988292</td>\n",
       "      <td>-87.795486</td>\n",
       "    </tr>\n",
       "    <tr>\n",
       "      <th>1034</th>\n",
       "      <td>2011-09-07</td>\n",
       "      <td>NaN</td>\n",
       "      <td>41.988100</td>\n",
       "      <td>-87.796014</td>\n",
       "    </tr>\n",
       "    <tr>\n",
       "      <th>...</th>\n",
       "      <td>...</td>\n",
       "      <td>...</td>\n",
       "      <td>...</td>\n",
       "      <td>...</td>\n",
       "    </tr>\n",
       "    <tr>\n",
       "      <th>1609</th>\n",
       "      <td>2011-09-07</td>\n",
       "      <td>NaN</td>\n",
       "      <td>41.995876</td>\n",
       "      <td>-87.811615</td>\n",
       "    </tr>\n",
       "    <tr>\n",
       "      <th>1610</th>\n",
       "      <td>2011-09-07</td>\n",
       "      <td>NaN</td>\n",
       "      <td>41.995972</td>\n",
       "      <td>-87.810271</td>\n",
       "    </tr>\n",
       "    <tr>\n",
       "      <th>1611</th>\n",
       "      <td>2011-09-07</td>\n",
       "      <td>NaN</td>\n",
       "      <td>41.995684</td>\n",
       "      <td>-87.810319</td>\n",
       "    </tr>\n",
       "    <tr>\n",
       "      <th>1612</th>\n",
       "      <td>2011-09-07</td>\n",
       "      <td>NaN</td>\n",
       "      <td>41.994724</td>\n",
       "      <td>-87.810415</td>\n",
       "    </tr>\n",
       "    <tr>\n",
       "      <th>1613</th>\n",
       "      <td>2011-09-07</td>\n",
       "      <td>NaN</td>\n",
       "      <td>41.993092</td>\n",
       "      <td>-87.810415</td>\n",
       "    </tr>\n",
       "  </tbody>\n",
       "</table>\n",
       "<p>584 rows × 4 columns</p>\n",
       "</div>"
      ],
      "text/plain": [
       "            Date Time   Latitude  Longitude\n",
       "1030  2011-09-07  NaN  41.987092 -87.794286\n",
       "1031  2011-09-07  NaN  41.987620 -87.794382\n",
       "1032  2011-09-07  NaN  41.988004 -87.794574\n",
       "1033  2011-09-07  NaN  41.988292 -87.795486\n",
       "1034  2011-09-07  NaN  41.988100 -87.796014\n",
       "...          ...  ...        ...        ...\n",
       "1609  2011-09-07  NaN  41.995876 -87.811615\n",
       "1610  2011-09-07  NaN  41.995972 -87.810271\n",
       "1611  2011-09-07  NaN  41.995684 -87.810319\n",
       "1612  2011-09-07  NaN  41.994724 -87.810415\n",
       "1613  2011-09-07  NaN  41.993092 -87.810415\n",
       "\n",
       "[584 rows x 4 columns]"
      ]
     },
     "execution_count": 34,
     "metadata": {},
     "output_type": "execute_result"
    }
   ],
   "source": [
    "# Check for null values\n",
    "\n",
    "spray[spray['Time'].isnull()]"
   ]
  },
  {
   "cell_type": "code",
   "execution_count": 35,
   "metadata": {},
   "outputs": [
    {
     "data": {
      "text/html": [
       "<div>\n",
       "<style scoped>\n",
       "    .dataframe tbody tr th:only-of-type {\n",
       "        vertical-align: middle;\n",
       "    }\n",
       "\n",
       "    .dataframe tbody tr th {\n",
       "        vertical-align: top;\n",
       "    }\n",
       "\n",
       "    .dataframe thead th {\n",
       "        text-align: right;\n",
       "    }\n",
       "</style>\n",
       "<table border=\"1\" class=\"dataframe\">\n",
       "  <thead>\n",
       "    <tr style=\"text-align: right;\">\n",
       "      <th></th>\n",
       "      <th>Date</th>\n",
       "      <th>Time</th>\n",
       "      <th>Latitude</th>\n",
       "      <th>Longitude</th>\n",
       "    </tr>\n",
       "  </thead>\n",
       "  <tbody>\n",
       "    <tr>\n",
       "      <th>1029</th>\n",
       "      <td>2011-09-07</td>\n",
       "      <td>7:44:32 PM</td>\n",
       "      <td>41.986460</td>\n",
       "      <td>-87.794225</td>\n",
       "    </tr>\n",
       "    <tr>\n",
       "      <th>1614</th>\n",
       "      <td>2011-09-07</td>\n",
       "      <td>7:46:30 PM</td>\n",
       "      <td>41.973465</td>\n",
       "      <td>-87.827643</td>\n",
       "    </tr>\n",
       "  </tbody>\n",
       "</table>\n",
       "</div>"
      ],
      "text/plain": [
       "            Date        Time   Latitude  Longitude\n",
       "1029  2011-09-07  7:44:32 PM  41.986460 -87.794225\n",
       "1614  2011-09-07  7:46:30 PM  41.973465 -87.827643"
      ]
     },
     "execution_count": 35,
     "metadata": {},
     "output_type": "execute_result"
    }
   ],
   "source": [
    "# Check for observations before and after null values\n",
    "\n",
    "spray.iloc[[1029, 1614]]"
   ]
  },
  {
   "cell_type": "code",
   "execution_count": 36,
   "metadata": {},
   "outputs": [],
   "source": [
    "# Fill NaN values with time between afore-mentioned observations\n",
    "\n",
    "spray.fillna('7:45:00 PM', inplace = True)"
   ]
  },
  {
   "cell_type": "code",
   "execution_count": 37,
   "metadata": {},
   "outputs": [],
   "source": [
    "spray['Time'] = pd.to_datetime(spray['Time'],format= '%I:%M:%S %p').dt.time"
   ]
  },
  {
   "cell_type": "code",
   "execution_count": 38,
   "metadata": {},
   "outputs": [],
   "source": [
    "spray.Date = pd.to_datetime(spray.Date)"
   ]
  },
  {
   "cell_type": "markdown",
   "metadata": {},
   "source": [
    "## Feature Engineering"
   ]
  },
  {
   "cell_type": "code",
   "execution_count": 39,
   "metadata": {},
   "outputs": [],
   "source": [
    "# Function to calculate distance to station 1 and 2 & return correct station\n",
    "\n",
    "def get_nearest_station(lat, long):\n",
    "    station1_lat = 41.995\n",
    "    station1_long = -87.933\n",
    "    station2_lat = 41.786\n",
    "    station2_long = -87.752\n",
    "    \n",
    "    station1_km = geopy.distance.vincenty((station1_lat,station1_long),(lat,long)).km\n",
    "    station2_km = geopy.distance.vincenty((station2_lat,station2_long),(lat,long)).km\n",
    "    \n",
    "    if station1_km < station2_km: \n",
    "        return 1\n",
    "    else:\n",
    "        return 2"
   ]
  },
  {
   "cell_type": "code",
   "execution_count": 40,
   "metadata": {},
   "outputs": [
    {
     "name": "stderr",
     "output_type": "stream",
     "text": [
      "/Users/zhiyong/anaconda3/lib/python3.7/site-packages/ipykernel_launcher.py:9: DeprecationWarning: Vincenty is deprecated and is going to be removed in geopy 2.0. Use `geopy.distance.geodesic` (or the default `geopy.distance.distance`) instead, which is more accurate and always converges.\n",
      "  if __name__ == '__main__':\n",
      "/Users/zhiyong/anaconda3/lib/python3.7/site-packages/ipykernel_launcher.py:10: DeprecationWarning: Vincenty is deprecated and is going to be removed in geopy 2.0. Use `geopy.distance.geodesic` (or the default `geopy.distance.distance`) instead, which is more accurate and always converges.\n",
      "  # Remove the CWD from sys.path while we load stuff.\n"
     ]
    },
    {
     "data": {
      "text/plain": [
       "2    7208\n",
       "1    3298\n",
       "Name: Station, dtype: int64"
      ]
     },
     "execution_count": 40,
     "metadata": {},
     "output_type": "execute_result"
    }
   ],
   "source": [
    "# Create new train copy and create 'Station' column with corresponding values calculated from 'get_nearest_station' function\n",
    "\n",
    "train_prep = train.copy()\n",
    "\n",
    "for index in train_prep.index:    \n",
    "    train_prep.loc[index,'Station'] = get_nearest_station(train_prep.loc[index,'Latitude'],train_prep.loc[index,'Longitude'])\n",
    "\n",
    "train_prep['Station'] = train_prep['Station'].astype(int)\n",
    "train_prep['Station'].value_counts()"
   ]
  },
  {
   "cell_type": "code",
   "execution_count": 41,
   "metadata": {},
   "outputs": [
    {
     "name": "stderr",
     "output_type": "stream",
     "text": [
      "/Users/zhiyong/anaconda3/lib/python3.7/site-packages/ipykernel_launcher.py:9: DeprecationWarning: Vincenty is deprecated and is going to be removed in geopy 2.0. Use `geopy.distance.geodesic` (or the default `geopy.distance.distance`) instead, which is more accurate and always converges.\n",
      "  if __name__ == '__main__':\n",
      "/Users/zhiyong/anaconda3/lib/python3.7/site-packages/ipykernel_launcher.py:10: DeprecationWarning: Vincenty is deprecated and is going to be removed in geopy 2.0. Use `geopy.distance.geodesic` (or the default `geopy.distance.distance`) instead, which is more accurate and always converges.\n",
      "  # Remove the CWD from sys.path while we load stuff.\n"
     ]
    },
    {
     "data": {
      "text/plain": [
       "2    80892\n",
       "1    35401\n",
       "Name: Station, dtype: int64"
      ]
     },
     "execution_count": 41,
     "metadata": {},
     "output_type": "execute_result"
    }
   ],
   "source": [
    "# Create new train copy and create 'Station' column with corresponding values calculated from 'get_nearest_station' function\n",
    "\n",
    "test_prep = test.copy()\n",
    "\n",
    "for index in test_prep.index:\n",
    "    test_prep.loc[index,'Station'] = get_nearest_station(test_prep.loc[index,'Latitude'],test_prep.loc[index,'Longitude'])\n",
    "    \n",
    "test_prep['Station'] = test_prep['Station'].astype(int)\n",
    "test_prep['Station'].value_counts()"
   ]
  },
  {
   "cell_type": "code",
   "execution_count": 42,
   "metadata": {},
   "outputs": [],
   "source": [
    "# Join train_prep data with weather data on date/station to merge them into the same dataframe\n",
    "\n",
    "train_weather = pd.merge(train_prep,weather,how='left', on=['Date','Station'])"
   ]
  },
  {
   "cell_type": "code",
   "execution_count": 43,
   "metadata": {},
   "outputs": [],
   "source": [
    "# Join test_prep data with weather data on date/station to merge them into the same dataframe\n",
    "\n",
    "test_weather = pd.merge(test_prep,weather,how='left', on=['Date','Station'])"
   ]
  },
  {
   "cell_type": "markdown",
   "metadata": {},
   "source": [
    "### Distribution of Data"
   ]
  },
  {
   "cell_type": "code",
   "execution_count": 44,
   "metadata": {},
   "outputs": [
    {
     "data": {
      "image/png": "[encoded data removed]",
      "text/plain": [
       "<Figure size 864x432 with 25 Axes>"
      ]
     },
     "metadata": {
      "needs_background": "light"
     },
     "output_type": "display_data"
    }
   ],
   "source": [
    "# Plot histogram of distributions of features\n",
    "\n",
    "train_weather.hist(figsize = (12, 6));\n",
    "plt.tight_layout()"
   ]
  },
  {
   "cell_type": "code",
   "execution_count": 45,
   "metadata": {},
   "outputs": [],
   "source": [
    "# Creating Columns for Year, Month, Week, Day\n",
    "train_weather['year'] = train_weather['Date'].dt.year\n",
    "train_weather['month'] = train_weather['Date'].dt.month\n",
    "train_weather['week'] = train_weather['Date'].dt.week\n",
    "train_weather['day'] = train_weather['Date'].dt.day"
   ]
  },
  {
   "cell_type": "code",
   "execution_count": 46,
   "metadata": {},
   "outputs": [
    {
     "data": {
      "text/html": [
       "<div>\n",
       "<style scoped>\n",
       "    .dataframe tbody tr th:only-of-type {\n",
       "        vertical-align: middle;\n",
       "    }\n",
       "\n",
       "    .dataframe tbody tr th {\n",
       "        vertical-align: top;\n",
       "    }\n",
       "\n",
       "    .dataframe thead th {\n",
       "        text-align: right;\n",
       "    }\n",
       "</style>\n",
       "<table border=\"1\" class=\"dataframe\">\n",
       "  <thead>\n",
       "    <tr style=\"text-align: right;\">\n",
       "      <th></th>\n",
       "      <th></th>\n",
       "      <th></th>\n",
       "      <th>WnvPresent</th>\n",
       "      <th>NumMosquitos</th>\n",
       "    </tr>\n",
       "    <tr>\n",
       "      <th>year</th>\n",
       "      <th>month</th>\n",
       "      <th>day</th>\n",
       "      <th></th>\n",
       "      <th></th>\n",
       "    </tr>\n",
       "  </thead>\n",
       "  <tbody>\n",
       "    <tr>\n",
       "      <th rowspan=\"5\" valign=\"top\">2007</th>\n",
       "      <th>5</th>\n",
       "      <th>29</th>\n",
       "      <td>0</td>\n",
       "      <td>40</td>\n",
       "    </tr>\n",
       "    <tr>\n",
       "      <th rowspan=\"3\" valign=\"top\">6</th>\n",
       "      <th>5</th>\n",
       "      <td>0</td>\n",
       "      <td>127</td>\n",
       "    </tr>\n",
       "    <tr>\n",
       "      <th>26</th>\n",
       "      <td>0</td>\n",
       "      <td>216</td>\n",
       "    </tr>\n",
       "    <tr>\n",
       "      <th>29</th>\n",
       "      <td>0</td>\n",
       "      <td>85</td>\n",
       "    </tr>\n",
       "    <tr>\n",
       "      <th>7</th>\n",
       "      <th>2</th>\n",
       "      <td>0</td>\n",
       "      <td>240</td>\n",
       "    </tr>\n",
       "    <tr>\n",
       "      <th>...</th>\n",
       "      <th>...</th>\n",
       "      <th>...</th>\n",
       "      <td>...</td>\n",
       "      <td>...</td>\n",
       "    </tr>\n",
       "    <tr>\n",
       "      <th rowspan=\"5\" valign=\"top\">2013</th>\n",
       "      <th>8</th>\n",
       "      <th>29</th>\n",
       "      <td>38</td>\n",
       "      <td>2645</td>\n",
       "    </tr>\n",
       "    <tr>\n",
       "      <th rowspan=\"4\" valign=\"top\">9</th>\n",
       "      <th>6</th>\n",
       "      <td>32</td>\n",
       "      <td>2510</td>\n",
       "    </tr>\n",
       "    <tr>\n",
       "      <th>12</th>\n",
       "      <td>23</td>\n",
       "      <td>2210</td>\n",
       "    </tr>\n",
       "    <tr>\n",
       "      <th>19</th>\n",
       "      <td>11</td>\n",
       "      <td>1030</td>\n",
       "    </tr>\n",
       "    <tr>\n",
       "      <th>26</th>\n",
       "      <td>4</td>\n",
       "      <td>505</td>\n",
       "    </tr>\n",
       "  </tbody>\n",
       "</table>\n",
       "<p>95 rows × 2 columns</p>\n",
       "</div>"
      ],
      "text/plain": [
       "                WnvPresent  NumMosquitos\n",
       "year month day                          \n",
       "2007 5     29            0            40\n",
       "     6     5             0           127\n",
       "           26            0           216\n",
       "           29            0            85\n",
       "     7     2             0           240\n",
       "...                    ...           ...\n",
       "2013 8     29           38          2645\n",
       "     9     6            32          2510\n",
       "           12           23          2210\n",
       "           19           11          1030\n",
       "           26            4           505\n",
       "\n",
       "[95 rows x 2 columns]"
      ]
     },
     "execution_count": 46,
     "metadata": {},
     "output_type": "execute_result"
    }
   ],
   "source": [
    "# Groupby year, month and day to find the total number of Mosquitos caught on that day and the number of observations of WnvPresent\n",
    "train_weather_gb = train_weather.groupby(['year','month','day'])[['WnvPresent', 'NumMosquitos']].sum()\n",
    "train_weather_gb"
   ]
  },
  {
   "cell_type": "code",
   "execution_count": 47,
   "metadata": {},
   "outputs": [
    {
     "data": {
      "text/plain": [
       "<matplotlib.axes._subplots.AxesSubplot at 0x1c403a1400>"
      ]
     },
     "execution_count": 47,
     "metadata": {},
     "output_type": "execute_result"
    },
    {
     "data": {
      "image/png": "[encoded data removed]",
      "text/plain": [
       "<Figure size 1152x1296 with 2 Axes>"
      ]
     },
     "metadata": {
      "needs_background": "light"
     },
     "output_type": "display_data"
    }
   ],
   "source": [
    "# Plot Barplots for WnvPresent and NumMosquitos\n",
    "plt.figure(figsize=(16,18))\n",
    "plt.subplot(211)\n",
    "plt.title(\"Total Number of Mosquitos by Year/Month\", fontsize=15)\n",
    "train_weather_gb.groupby(['year','month'])['NumMosquitos'].sum().plot.bar(color = 'b',width = 0.4, align = 'edge')\n",
    "plt.subplot(212)\n",
    "plt.title(\"Number of Positive West Nile Virus Observations by Year/Month\", fontsize=15)\n",
    "train_weather_gb.groupby(['year','month'])['WnvPresent'].sum().plot.bar(color = 'r',width = 0.4, align = 'edge')"
   ]
  },
  {
   "cell_type": "markdown",
   "metadata": {},
   "source": [
    "#### It can be observed that mosquito populations and number of West Nile virus observations peak during the July-August period."
   ]
  },
  {
   "cell_type": "code",
   "execution_count": 48,
   "metadata": {},
   "outputs": [
    {
     "data": {
      "text/plain": [
       "[<matplotlib.lines.Line2D at 0x1c3fb38b00>]"
      ]
     },
     "execution_count": 48,
     "metadata": {},
     "output_type": "execute_result"
    },
    {
     "data": {
      "image/png": "[encoded data removed]",
      "text/plain": [
       "<Figure size 864x648 with 4 Axes>"
      ]
     },
     "metadata": {
      "needs_background": "light"
     },
     "output_type": "display_data"
    }
   ],
   "source": [
    "# Plot Average Temperature Across Different Years\n",
    "\n",
    "temp_df = weather.set_index('Date')\n",
    "fig, axes = plt.subplots(nrows=4, figsize=(12,9))\n",
    "axes[0].set_title(\"Average Temperature by Year\", fontsize=15)\n",
    "axes[0].plot(temp_df['2007-05' : '2007-12']['Tavg'],c='b') # first plot\n",
    "axes[1].plot(temp_df['2009-05' : '2009-12']['Tavg'],c='g') # second plot\n",
    "axes[2].plot(temp_df['2011-05' : '2011-12']['Tavg'],c='y') # third plot\n",
    "axes[3].plot(temp_df['2011-05' : '2011-12']['Tavg'],c='r') # third plot"
   ]
  },
  {
   "cell_type": "markdown",
   "metadata": {},
   "source": [
    "#### It can be observed that the average temperature also peaks during the July-August period."
   ]
  },
  {
   "cell_type": "code",
   "execution_count": 49,
   "metadata": {},
   "outputs": [
    {
     "data": {
      "image/png": "[encoded data removed]",
      "text/plain": [
       "<Figure size 864x648 with 4 Axes>"
      ]
     },
     "metadata": {
      "needs_background": "light"
     },
     "output_type": "display_data"
    }
   ],
   "source": [
    "# Plot Dewpoint Temperature Across the Years\n",
    "\n",
    "fig, axes = plt.subplots(nrows=4, figsize=(12,9))\n",
    "axes[0].set_title(\"DewPoint by Year\", fontsize=15)\n",
    "axes[0].plot(temp_df['2007-05' : '2007-12']['DewPoint'],c='b') # first plot\n",
    "axes[1].plot(temp_df['2009-05' : '2009-12']['DewPoint'],c='g') # second plot\n",
    "axes[2].plot(temp_df['2011-05' : '2011-12']['DewPoint'],c='y') # third plot\n",
    "axes[3].plot(temp_df['2013-05' : '2013-12']['DewPoint'],c='r'); # third plot"
   ]
  },
  {
   "cell_type": "markdown",
   "metadata": {},
   "source": [
    "#### It can be observed that the average dewpoint temperature also peaks during the July-August period."
   ]
  },
  {
   "cell_type": "code",
   "execution_count": 50,
   "metadata": {},
   "outputs": [
    {
     "data": {
      "text/plain": [
       "[<matplotlib.lines.Line2D at 0x1c401c39b0>]"
      ]
     },
     "execution_count": 50,
     "metadata": {},
     "output_type": "execute_result"
    },
    {
     "data": {
      "image/png": "[encoded data removed]",
      "text/plain": [
       "<Figure size 864x648 with 4 Axes>"
      ]
     },
     "metadata": {
      "needs_background": "light"
     },
     "output_type": "display_data"
    }
   ],
   "source": [
    "# Plot Wetbulb Temperature Across The Years\n",
    "\n",
    "fig, axes = plt.subplots(nrows=4, figsize=(12,9))\n",
    "axes[0].set_title(\"Wetbulb by Year\", fontsize=15)\n",
    "axes[0].plot(temp_df['2007-05' : '2007-12']['WetBulb'],c='b') # first plot\n",
    "axes[1].plot(temp_df['2009-05' : '2009-12']['WetBulb'],c='g') # second plot\n",
    "axes[2].plot(temp_df['2011-05' : '2011-12']['WetBulb'],c='y') # third plot\n",
    "axes[3].plot(temp_df['2013-05' : '2013-12']['WetBulb'],c='r') # third plot"
   ]
  },
  {
   "cell_type": "markdown",
   "metadata": {},
   "source": [
    "#### It can be observed that the average dewpoint temperature also peaks during the July-August period."
   ]
  },
  {
   "cell_type": "markdown",
   "metadata": {},
   "source": [
    "### Creating CountPlot Function"
   ]
  },
  {
   "cell_type": "code",
   "execution_count": 51,
   "metadata": {},
   "outputs": [],
   "source": [
    "def draw_countplot(df, x, title, xlabel = None, ylabel = 'Number of Observations', hue = 'WnvPresent', loc = 'upper right', annot = True):\n",
    "    fig, ax = plt.subplots(figsize=(18, 8))\n",
    "    sns.set_style(\"white\")\n",
    "    sns.countplot(x = x, hue = hue, data = df, dodge = True, palette = ['blue', 'red'])\n",
    "    ax.set_title(title, fontsize = 20)\n",
    "    ax.set_ylabel(ylabel, fontsize = 20)\n",
    "    ax.set_xlabel(xlabel, fontsize = 20)\n",
    "    legend = plt.legend(loc = loc)\n",
    "    legend.get_texts()[0].set_text('West Nile Virus Not Detected')\n",
    "    legend.get_texts()[1].set_text('West Nile Virus Detected')\n",
    "    \n",
    "    if annot == True:\n",
    "        for p in ax.patches:\n",
    "            ax.annotate(format(p.get_height()), (p.get_x() + p.get_width() / 2, p.get_height()), \n",
    "                        ha = 'center', va = 'center', xytext = (0, 10), textcoords = 'offset points', size = 10)"
   ]
  },
  {
   "cell_type": "code",
   "execution_count": 52,
   "metadata": {},
   "outputs": [
    {
     "data": {
      "image/png": "[encoded data removed]",
      "text/plain": [
       "<Figure size 1296x576 with 1 Axes>"
      ]
     },
     "metadata": {
      "needs_background": "light"
     },
     "output_type": "display_data"
    }
   ],
   "source": [
    "# Plot West Nile Observations Against Species\n",
    "\n",
    "draw_countplot(train_weather, 'Species', 'Observations Based on Species', annot = True)"
   ]
  },
  {
   "cell_type": "markdown",
   "metadata": {},
   "source": [
    "#### Only 3 species have been found to contain positive West Nile virus observations."
   ]
  },
  {
   "cell_type": "code",
   "execution_count": 53,
   "metadata": {},
   "outputs": [
    {
     "data": {
      "image/png": "[encoded data removed]",
      "text/plain": [
       "<Figure size 1296x576 with 1 Axes>"
      ]
     },
     "metadata": {},
     "output_type": "display_data"
    }
   ],
   "source": [
    "# Plot West Nile Observations Against Station\n",
    "\n",
    "draw_countplot(train_weather, 'Station', 'Number of Observations Based on Stations')"
   ]
  },
  {
   "cell_type": "markdown",
   "metadata": {},
   "source": [
    "#### Stations 1 and 2 have almost similar number of positive West Nile virus observations but Station 2 has comparably much more negative West Nile virus observations."
   ]
  },
  {
   "cell_type": "markdown",
   "metadata": {},
   "source": [
    "### Creating Barplot Function"
   ]
  },
  {
   "cell_type": "code",
   "execution_count": 54,
   "metadata": {},
   "outputs": [],
   "source": [
    "from scipy.stats import norm\n",
    "\n",
    "def draw_barplot (df, groupby, target, title, xlabel = None,  ylabel = 'Number of Observations', rotation = 0):\n",
    "    fig, ax = plt.subplots(figsize=(18, 8))\n",
    "    ax.grid(False)\n",
    "    df.groupby([groupby])[target].sum().plot.bar(color = 'r')\n",
    "    ax.set_title(title, fontsize = 20)\n",
    "    ax.set_xlabel(xlabel, fontsize = 20)\n",
    "    ax.set_xticklabels(ax.get_xticklabels(), rotation = rotation)\n",
    "    ax.set_ylabel(ylabel, fontsize = 20)\n",
    "    for p in ax.patches:\n",
    "        ax.annotate(format(p.get_height()), (p.get_x() + p.get_width() / 2, p.get_height()), \n",
    "                ha = 'center', va = 'center', xytext = (0, 10), textcoords = 'offset points', size = 10)"
   ]
  },
  {
   "cell_type": "code",
   "execution_count": 55,
   "metadata": {},
   "outputs": [
    {
     "data": {
      "image/png": "[encoded data removed]",
      "text/plain": [
       "<Figure size 1296x576 with 1 Axes>"
      ]
     },
     "metadata": {},
     "output_type": "display_data"
    }
   ],
   "source": [
    "# Plot Positive West Nile virus counts based on number of mosquitoes caught in trap\n",
    "\n",
    "draw_barplot(train_weather, 'NumMosquitos', 'WnvPresent', 'Positive Observations Based on Counts of Mosquitos in Trap', xlabel = \"No. of Mosquitos Caught in Trap\")"
   ]
  },
  {
   "cell_type": "markdown",
   "metadata": {},
   "source": [
    "#### The above shows the presence of West Nile Virus based on the number of mosquitos caught by trap. For all traps with 50 mosquitos caughtes, the total count of positive observation is 108."
   ]
  },
  {
   "cell_type": "code",
   "execution_count": 56,
   "metadata": {},
   "outputs": [
    {
     "data": {
      "image/png": "[encoded data removed]",
      "text/plain": [
       "<Figure size 1296x576 with 1 Axes>"
      ]
     },
     "metadata": {},
     "output_type": "display_data"
    }
   ],
   "source": [
    "# Plot Positive West Nile virus counts based on Tavg temperature\n",
    "\n",
    "draw_barplot(train_weather, 'Tavg', 'WnvPresent', 'Positive Observation Based On Average Temperature (Fahrenheit)', xlabel = 'Average Temperature')"
   ]
  },
  {
   "cell_type": "markdown",
   "metadata": {},
   "source": [
    "#### The number of positive observations peaks when the average temperature is between 71F and 80F."
   ]
  },
  {
   "cell_type": "code",
   "execution_count": 57,
   "metadata": {},
   "outputs": [
    {
     "data": {
      "image/png": "[encoded data removed]",
      "text/plain": [
       "<Figure size 1296x576 with 1 Axes>"
      ]
     },
     "metadata": {},
     "output_type": "display_data"
    }
   ],
   "source": [
    "# Plot West Nile virus counts based on Dewpoint Temperature\n",
    "\n",
    "draw_barplot(train_weather, 'DewPoint', 'WnvPresent', 'Positive Temperature Based on Dewpoint Temperature (Fahrenheit)', xlabel = 'Dewpoint Temperature')"
   ]
  },
  {
   "cell_type": "markdown",
   "metadata": {},
   "source": [
    "#### The number of positive observations increases when the dew point is around 55F to 70F."
   ]
  },
  {
   "cell_type": "code",
   "execution_count": 58,
   "metadata": {},
   "outputs": [
    {
     "data": {
      "image/png": "[encoded data removed]",
      "text/plain": [
       "<Figure size 1296x576 with 1 Axes>"
      ]
     },
     "metadata": {},
     "output_type": "display_data"
    }
   ],
   "source": [
    "# Plot West Nile virus counts based on Wetbulb Temperature\n",
    "\n",
    "draw_barplot(train_weather, 'WetBulb', 'WnvPresent', 'Positive Observations Based on Wetbulb Temperature (Fahrenheit)', xlabel = 'Wetbulb Temperature')"
   ]
  },
  {
   "cell_type": "markdown",
   "metadata": {},
   "source": [
    "#### The number of positive observations increases when the wetbulb temperature is around 62F to 73F."
   ]
  },
  {
   "cell_type": "code",
   "execution_count": 59,
   "metadata": {},
   "outputs": [],
   "source": [
    "# Add new columns for year,month,week,day for further analysis\n",
    "train_weather['year'] = train_weather['Date'].dt.year\n",
    "train_weather['month'] = train_weather['Date'].dt.month\n",
    "train_weather['week'] = train_weather['Date'].dt.week\n",
    "train_weather['day'] = train_weather['Date'].dt.day"
   ]
  },
  {
   "cell_type": "code",
   "execution_count": 60,
   "metadata": {},
   "outputs": [
    {
     "name": "stdout",
     "output_type": "stream",
     "text": [
      "train data\n",
      "[2007 2009 2011 2013] [ 5  6  7  8  9 10]\n",
      "test data\n",
      "[2008 2010 2012 2014] [ 6  7  8  9 10]\n",
      "weather data\n",
      "[2007 2008 2009 2010 2011 2012 2013 2014] [ 5  6  7  8  9 10]\n",
      "spray data\n",
      "[2011 2013] [8 9 7]\n"
     ]
    }
   ],
   "source": [
    "# Check on the time period of our datasets. We noticed that year 2007 and 2009 of spray data is not given.\n",
    "print('train data')\n",
    "print(train['Date'].dt.year.unique(),train['Date'].dt.month.unique())\n",
    "\n",
    "print('test data')\n",
    "print(test['Date'].dt.year.unique(),test['Date'].dt.month.unique())\n",
    "\n",
    "print('weather data')\n",
    "print(weather['Date'].dt.year.unique(),weather['Date'].dt.month.unique())\n",
    "\n",
    "print('spray data')\n",
    "print(spray['Date'].dt.year.unique(),spray['Date'].dt.month.unique())"
   ]
  },
  {
   "cell_type": "code",
   "execution_count": 61,
   "metadata": {},
   "outputs": [
    {
     "data": {
      "text/plain": [
       "Date               datetime64[ns]\n",
       "Address                    object\n",
       "Species                    object\n",
       "Trap                       object\n",
       "Latitude                  float64\n",
       "Longitude                 float64\n",
       "AddressAccuracy             int64\n",
       "NumMosquitos                int64\n",
       "WnvPresent                  int64\n",
       "Station                     int64\n",
       "Tmax                        int64\n",
       "Tmin                        int64\n",
       "Tavg                        int64\n",
       "Depart                      int64\n",
       "DewPoint                    int64\n",
       "WetBulb                     int64\n",
       "Heat                        int64\n",
       "Cool                        int64\n",
       "Sunrise                    object\n",
       "Sunset                     object\n",
       "CodeSum                    object\n",
       "Depth                       int64\n",
       "SnowFall                  float64\n",
       "PrecipTotal               float64\n",
       "StnPressure               float64\n",
       "SeaLevel                  float64\n",
       "ResultSpeed               float64\n",
       "ResultDir                   int64\n",
       "AvgSpeed                  float64\n",
       "year                        int64\n",
       "month                       int64\n",
       "week                        int64\n",
       "day                         int64\n",
       "dtype: object"
      ]
     },
     "execution_count": 61,
     "metadata": {},
     "output_type": "execute_result"
    }
   ],
   "source": [
    "train_weather.dtypes"
   ]
  },
  {
   "cell_type": "code",
   "execution_count": 62,
   "metadata": {},
   "outputs": [],
   "source": [
    "# Create function to feature-engineer new weather columns (1-7 days prior to current observation)\n",
    "\n",
    "def create_7daysshift_col(df, col):\n",
    "    df_test = df[['Date','Station']]\n",
    "    for c in [1,2,3,4,5,6,7]:\n",
    "        df_test = pd.concat([df_test,\n",
    "        df[[col]].shift(c*2).rename(columns={col:col+'_'+str(c)+'dayb'})], axis=1)\n",
    "\n",
    "    return df_test"
   ]
  },
  {
   "cell_type": "code",
   "execution_count": 63,
   "metadata": {},
   "outputs": [],
   "source": [
    "# Create readings for following weather features\n",
    "\n",
    "df1 = create_7daysshift_col(weather,'PrecipTotal')\n",
    "df2 = create_7daysshift_col(weather,'DewPoint')\n",
    "df3 = create_7daysshift_col(weather,'Tavg')\n",
    "df4 = create_7daysshift_col(weather,'WetBulb')\n",
    "\n",
    "df_7days = pd.concat([pd.concat([pd.concat([pd.concat([df1,df2],axis=1),df3],axis=1).drop(['Date','Station'],axis=1),\n",
    "                           df4],axis=1)],axis=1)\n",
    "df_7days.set_index(['Date','Station'],inplace=True)"
   ]
  },
  {
   "cell_type": "code",
   "execution_count": 64,
   "metadata": {},
   "outputs": [
    {
     "data": {
      "text/html": [
       "<div>\n",
       "<style scoped>\n",
       "    .dataframe tbody tr th:only-of-type {\n",
       "        vertical-align: middle;\n",
       "    }\n",
       "\n",
       "    .dataframe tbody tr th {\n",
       "        vertical-align: top;\n",
       "    }\n",
       "\n",
       "    .dataframe thead th {\n",
       "        text-align: right;\n",
       "    }\n",
       "</style>\n",
       "<table border=\"1\" class=\"dataframe\">\n",
       "  <thead>\n",
       "    <tr style=\"text-align: right;\">\n",
       "      <th></th>\n",
       "      <th></th>\n",
       "      <th>PrecipTotal_1dayb</th>\n",
       "      <th>PrecipTotal_2dayb</th>\n",
       "      <th>PrecipTotal_3dayb</th>\n",
       "      <th>PrecipTotal_4dayb</th>\n",
       "      <th>PrecipTotal_5dayb</th>\n",
       "      <th>PrecipTotal_6dayb</th>\n",
       "      <th>PrecipTotal_7dayb</th>\n",
       "      <th>DewPoint_1dayb</th>\n",
       "      <th>DewPoint_2dayb</th>\n",
       "      <th>DewPoint_3dayb</th>\n",
       "      <th>...</th>\n",
       "      <th>Tavg_5dayb</th>\n",
       "      <th>Tavg_6dayb</th>\n",
       "      <th>Tavg_7dayb</th>\n",
       "      <th>WetBulb_1dayb</th>\n",
       "      <th>WetBulb_2dayb</th>\n",
       "      <th>WetBulb_3dayb</th>\n",
       "      <th>WetBulb_4dayb</th>\n",
       "      <th>WetBulb_5dayb</th>\n",
       "      <th>WetBulb_6dayb</th>\n",
       "      <th>WetBulb_7dayb</th>\n",
       "    </tr>\n",
       "    <tr>\n",
       "      <th>Date</th>\n",
       "      <th>Station</th>\n",
       "      <th></th>\n",
       "      <th></th>\n",
       "      <th></th>\n",
       "      <th></th>\n",
       "      <th></th>\n",
       "      <th></th>\n",
       "      <th></th>\n",
       "      <th></th>\n",
       "      <th></th>\n",
       "      <th></th>\n",
       "      <th></th>\n",
       "      <th></th>\n",
       "      <th></th>\n",
       "      <th></th>\n",
       "      <th></th>\n",
       "      <th></th>\n",
       "      <th></th>\n",
       "      <th></th>\n",
       "      <th></th>\n",
       "      <th></th>\n",
       "      <th></th>\n",
       "    </tr>\n",
       "  </thead>\n",
       "  <tbody>\n",
       "    <tr>\n",
       "      <th rowspan=\"2\" valign=\"top\">2007-05-01</th>\n",
       "      <th>1</th>\n",
       "      <td>NaN</td>\n",
       "      <td>NaN</td>\n",
       "      <td>NaN</td>\n",
       "      <td>NaN</td>\n",
       "      <td>NaN</td>\n",
       "      <td>NaN</td>\n",
       "      <td>NaN</td>\n",
       "      <td>NaN</td>\n",
       "      <td>NaN</td>\n",
       "      <td>NaN</td>\n",
       "      <td>...</td>\n",
       "      <td>NaN</td>\n",
       "      <td>NaN</td>\n",
       "      <td>NaN</td>\n",
       "      <td>NaN</td>\n",
       "      <td>NaN</td>\n",
       "      <td>NaN</td>\n",
       "      <td>NaN</td>\n",
       "      <td>NaN</td>\n",
       "      <td>NaN</td>\n",
       "      <td>NaN</td>\n",
       "    </tr>\n",
       "    <tr>\n",
       "      <th>2</th>\n",
       "      <td>NaN</td>\n",
       "      <td>NaN</td>\n",
       "      <td>NaN</td>\n",
       "      <td>NaN</td>\n",
       "      <td>NaN</td>\n",
       "      <td>NaN</td>\n",
       "      <td>NaN</td>\n",
       "      <td>NaN</td>\n",
       "      <td>NaN</td>\n",
       "      <td>NaN</td>\n",
       "      <td>...</td>\n",
       "      <td>NaN</td>\n",
       "      <td>NaN</td>\n",
       "      <td>NaN</td>\n",
       "      <td>NaN</td>\n",
       "      <td>NaN</td>\n",
       "      <td>NaN</td>\n",
       "      <td>NaN</td>\n",
       "      <td>NaN</td>\n",
       "      <td>NaN</td>\n",
       "      <td>NaN</td>\n",
       "    </tr>\n",
       "    <tr>\n",
       "      <th rowspan=\"2\" valign=\"top\">2007-05-02</th>\n",
       "      <th>1</th>\n",
       "      <td>0.00</td>\n",
       "      <td>NaN</td>\n",
       "      <td>NaN</td>\n",
       "      <td>NaN</td>\n",
       "      <td>NaN</td>\n",
       "      <td>NaN</td>\n",
       "      <td>NaN</td>\n",
       "      <td>51.0</td>\n",
       "      <td>NaN</td>\n",
       "      <td>NaN</td>\n",
       "      <td>...</td>\n",
       "      <td>NaN</td>\n",
       "      <td>NaN</td>\n",
       "      <td>NaN</td>\n",
       "      <td>56.0</td>\n",
       "      <td>NaN</td>\n",
       "      <td>NaN</td>\n",
       "      <td>NaN</td>\n",
       "      <td>NaN</td>\n",
       "      <td>NaN</td>\n",
       "      <td>NaN</td>\n",
       "    </tr>\n",
       "    <tr>\n",
       "      <th>2</th>\n",
       "      <td>0.00</td>\n",
       "      <td>NaN</td>\n",
       "      <td>NaN</td>\n",
       "      <td>NaN</td>\n",
       "      <td>NaN</td>\n",
       "      <td>NaN</td>\n",
       "      <td>NaN</td>\n",
       "      <td>51.0</td>\n",
       "      <td>NaN</td>\n",
       "      <td>NaN</td>\n",
       "      <td>...</td>\n",
       "      <td>NaN</td>\n",
       "      <td>NaN</td>\n",
       "      <td>NaN</td>\n",
       "      <td>57.0</td>\n",
       "      <td>NaN</td>\n",
       "      <td>NaN</td>\n",
       "      <td>NaN</td>\n",
       "      <td>NaN</td>\n",
       "      <td>NaN</td>\n",
       "      <td>NaN</td>\n",
       "    </tr>\n",
       "    <tr>\n",
       "      <th>2007-05-03</th>\n",
       "      <th>1</th>\n",
       "      <td>0.00</td>\n",
       "      <td>0.00</td>\n",
       "      <td>NaN</td>\n",
       "      <td>NaN</td>\n",
       "      <td>NaN</td>\n",
       "      <td>NaN</td>\n",
       "      <td>NaN</td>\n",
       "      <td>42.0</td>\n",
       "      <td>51.0</td>\n",
       "      <td>NaN</td>\n",
       "      <td>...</td>\n",
       "      <td>NaN</td>\n",
       "      <td>NaN</td>\n",
       "      <td>NaN</td>\n",
       "      <td>47.0</td>\n",
       "      <td>56.0</td>\n",
       "      <td>NaN</td>\n",
       "      <td>NaN</td>\n",
       "      <td>NaN</td>\n",
       "      <td>NaN</td>\n",
       "      <td>NaN</td>\n",
       "    </tr>\n",
       "    <tr>\n",
       "      <th>...</th>\n",
       "      <th>...</th>\n",
       "      <td>...</td>\n",
       "      <td>...</td>\n",
       "      <td>...</td>\n",
       "      <td>...</td>\n",
       "      <td>...</td>\n",
       "      <td>...</td>\n",
       "      <td>...</td>\n",
       "      <td>...</td>\n",
       "      <td>...</td>\n",
       "      <td>...</td>\n",
       "      <td>...</td>\n",
       "      <td>...</td>\n",
       "      <td>...</td>\n",
       "      <td>...</td>\n",
       "      <td>...</td>\n",
       "      <td>...</td>\n",
       "      <td>...</td>\n",
       "      <td>...</td>\n",
       "      <td>...</td>\n",
       "      <td>...</td>\n",
       "      <td>...</td>\n",
       "    </tr>\n",
       "    <tr>\n",
       "      <th>2014-10-29</th>\n",
       "      <th>2</th>\n",
       "      <td>0.03</td>\n",
       "      <td>0.02</td>\n",
       "      <td>0.00</td>\n",
       "      <td>0.00</td>\n",
       "      <td>0.0</td>\n",
       "      <td>0.0</td>\n",
       "      <td>0.0</td>\n",
       "      <td>40.0</td>\n",
       "      <td>52.0</td>\n",
       "      <td>33.0</td>\n",
       "      <td>...</td>\n",
       "      <td>61.0</td>\n",
       "      <td>52.0</td>\n",
       "      <td>50.0</td>\n",
       "      <td>48.0</td>\n",
       "      <td>59.0</td>\n",
       "      <td>45.0</td>\n",
       "      <td>52.0</td>\n",
       "      <td>53.0</td>\n",
       "      <td>47.0</td>\n",
       "      <td>44.0</td>\n",
       "    </tr>\n",
       "    <tr>\n",
       "      <th rowspan=\"2\" valign=\"top\">2014-10-30</th>\n",
       "      <th>1</th>\n",
       "      <td>0.00</td>\n",
       "      <td>0.00</td>\n",
       "      <td>0.00</td>\n",
       "      <td>0.00</td>\n",
       "      <td>0.0</td>\n",
       "      <td>0.0</td>\n",
       "      <td>0.0</td>\n",
       "      <td>32.0</td>\n",
       "      <td>38.0</td>\n",
       "      <td>51.0</td>\n",
       "      <td>...</td>\n",
       "      <td>61.0</td>\n",
       "      <td>60.0</td>\n",
       "      <td>48.0</td>\n",
       "      <td>40.0</td>\n",
       "      <td>47.0</td>\n",
       "      <td>58.0</td>\n",
       "      <td>44.0</td>\n",
       "      <td>51.0</td>\n",
       "      <td>52.0</td>\n",
       "      <td>45.0</td>\n",
       "    </tr>\n",
       "    <tr>\n",
       "      <th>2</th>\n",
       "      <td>0.00</td>\n",
       "      <td>0.03</td>\n",
       "      <td>0.02</td>\n",
       "      <td>0.00</td>\n",
       "      <td>0.0</td>\n",
       "      <td>0.0</td>\n",
       "      <td>0.0</td>\n",
       "      <td>34.0</td>\n",
       "      <td>40.0</td>\n",
       "      <td>52.0</td>\n",
       "      <td>...</td>\n",
       "      <td>64.0</td>\n",
       "      <td>61.0</td>\n",
       "      <td>52.0</td>\n",
       "      <td>42.0</td>\n",
       "      <td>48.0</td>\n",
       "      <td>59.0</td>\n",
       "      <td>45.0</td>\n",
       "      <td>52.0</td>\n",
       "      <td>53.0</td>\n",
       "      <td>47.0</td>\n",
       "    </tr>\n",
       "    <tr>\n",
       "      <th rowspan=\"2\" valign=\"top\">2014-10-31</th>\n",
       "      <th>1</th>\n",
       "      <td>0.00</td>\n",
       "      <td>0.00</td>\n",
       "      <td>0.00</td>\n",
       "      <td>0.00</td>\n",
       "      <td>0.0</td>\n",
       "      <td>0.0</td>\n",
       "      <td>0.0</td>\n",
       "      <td>34.0</td>\n",
       "      <td>32.0</td>\n",
       "      <td>38.0</td>\n",
       "      <td>...</td>\n",
       "      <td>53.0</td>\n",
       "      <td>61.0</td>\n",
       "      <td>60.0</td>\n",
       "      <td>40.0</td>\n",
       "      <td>40.0</td>\n",
       "      <td>47.0</td>\n",
       "      <td>58.0</td>\n",
       "      <td>44.0</td>\n",
       "      <td>51.0</td>\n",
       "      <td>52.0</td>\n",
       "    </tr>\n",
       "    <tr>\n",
       "      <th>2</th>\n",
       "      <td>0.00</td>\n",
       "      <td>0.00</td>\n",
       "      <td>0.03</td>\n",
       "      <td>0.02</td>\n",
       "      <td>0.0</td>\n",
       "      <td>0.0</td>\n",
       "      <td>0.0</td>\n",
       "      <td>35.0</td>\n",
       "      <td>34.0</td>\n",
       "      <td>40.0</td>\n",
       "      <td>...</td>\n",
       "      <td>55.0</td>\n",
       "      <td>64.0</td>\n",
       "      <td>61.0</td>\n",
       "      <td>42.0</td>\n",
       "      <td>42.0</td>\n",
       "      <td>48.0</td>\n",
       "      <td>59.0</td>\n",
       "      <td>45.0</td>\n",
       "      <td>52.0</td>\n",
       "      <td>53.0</td>\n",
       "    </tr>\n",
       "  </tbody>\n",
       "</table>\n",
       "<p>2944 rows × 28 columns</p>\n",
       "</div>"
      ],
      "text/plain": [
       "                    PrecipTotal_1dayb  PrecipTotal_2dayb  PrecipTotal_3dayb  \\\n",
       "Date       Station                                                            \n",
       "2007-05-01 1                      NaN                NaN                NaN   \n",
       "           2                      NaN                NaN                NaN   \n",
       "2007-05-02 1                     0.00                NaN                NaN   \n",
       "           2                     0.00                NaN                NaN   \n",
       "2007-05-03 1                     0.00               0.00                NaN   \n",
       "...                               ...                ...                ...   \n",
       "2014-10-29 2                     0.03               0.02               0.00   \n",
       "2014-10-30 1                     0.00               0.00               0.00   \n",
       "           2                     0.00               0.03               0.02   \n",
       "2014-10-31 1                     0.00               0.00               0.00   \n",
       "           2                     0.00               0.00               0.03   \n",
       "\n",
       "                    PrecipTotal_4dayb  PrecipTotal_5dayb  PrecipTotal_6dayb  \\\n",
       "Date       Station                                                            \n",
       "2007-05-01 1                      NaN                NaN                NaN   \n",
       "           2                      NaN                NaN                NaN   \n",
       "2007-05-02 1                      NaN                NaN                NaN   \n",
       "           2                      NaN                NaN                NaN   \n",
       "2007-05-03 1                      NaN                NaN                NaN   \n",
       "...                               ...                ...                ...   \n",
       "2014-10-29 2                     0.00                0.0                0.0   \n",
       "2014-10-30 1                     0.00                0.0                0.0   \n",
       "           2                     0.00                0.0                0.0   \n",
       "2014-10-31 1                     0.00                0.0                0.0   \n",
       "           2                     0.02                0.0                0.0   \n",
       "\n",
       "                    PrecipTotal_7dayb  DewPoint_1dayb  DewPoint_2dayb  \\\n",
       "Date       Station                                                      \n",
       "2007-05-01 1                      NaN             NaN             NaN   \n",
       "           2                      NaN             NaN             NaN   \n",
       "2007-05-02 1                      NaN            51.0             NaN   \n",
       "           2                      NaN            51.0             NaN   \n",
       "2007-05-03 1                      NaN            42.0            51.0   \n",
       "...                               ...             ...             ...   \n",
       "2014-10-29 2                      0.0            40.0            52.0   \n",
       "2014-10-30 1                      0.0            32.0            38.0   \n",
       "           2                      0.0            34.0            40.0   \n",
       "2014-10-31 1                      0.0            34.0            32.0   \n",
       "           2                      0.0            35.0            34.0   \n",
       "\n",
       "                    DewPoint_3dayb  ...  Tavg_5dayb  Tavg_6dayb  Tavg_7dayb  \\\n",
       "Date       Station                  ...                                       \n",
       "2007-05-01 1                   NaN  ...         NaN         NaN         NaN   \n",
       "           2                   NaN  ...         NaN         NaN         NaN   \n",
       "2007-05-02 1                   NaN  ...         NaN         NaN         NaN   \n",
       "           2                   NaN  ...         NaN         NaN         NaN   \n",
       "2007-05-03 1                   NaN  ...         NaN         NaN         NaN   \n",
       "...                            ...  ...         ...         ...         ...   \n",
       "2014-10-29 2                  33.0  ...        61.0        52.0        50.0   \n",
       "2014-10-30 1                  51.0  ...        61.0        60.0        48.0   \n",
       "           2                  52.0  ...        64.0        61.0        52.0   \n",
       "2014-10-31 1                  38.0  ...        53.0        61.0        60.0   \n",
       "           2                  40.0  ...        55.0        64.0        61.0   \n",
       "\n",
       "                    WetBulb_1dayb  WetBulb_2dayb  WetBulb_3dayb  \\\n",
       "Date       Station                                                \n",
       "2007-05-01 1                  NaN            NaN            NaN   \n",
       "           2                  NaN            NaN            NaN   \n",
       "2007-05-02 1                 56.0            NaN            NaN   \n",
       "           2                 57.0            NaN            NaN   \n",
       "2007-05-03 1                 47.0           56.0            NaN   \n",
       "...                           ...            ...            ...   \n",
       "2014-10-29 2                 48.0           59.0           45.0   \n",
       "2014-10-30 1                 40.0           47.0           58.0   \n",
       "           2                 42.0           48.0           59.0   \n",
       "2014-10-31 1                 40.0           40.0           47.0   \n",
       "           2                 42.0           42.0           48.0   \n",
       "\n",
       "                    WetBulb_4dayb  WetBulb_5dayb  WetBulb_6dayb  WetBulb_7dayb  \n",
       "Date       Station                                                              \n",
       "2007-05-01 1                  NaN            NaN            NaN            NaN  \n",
       "           2                  NaN            NaN            NaN            NaN  \n",
       "2007-05-02 1                  NaN            NaN            NaN            NaN  \n",
       "           2                  NaN            NaN            NaN            NaN  \n",
       "2007-05-03 1                  NaN            NaN            NaN            NaN  \n",
       "...                           ...            ...            ...            ...  \n",
       "2014-10-29 2                 52.0           53.0           47.0           44.0  \n",
       "2014-10-30 1                 44.0           51.0           52.0           45.0  \n",
       "           2                 45.0           52.0           53.0           47.0  \n",
       "2014-10-31 1                 58.0           44.0           51.0           52.0  \n",
       "           2                 59.0           45.0           52.0           53.0  \n",
       "\n",
       "[2944 rows x 28 columns]"
      ]
     },
     "execution_count": 64,
     "metadata": {},
     "output_type": "execute_result"
    }
   ],
   "source": [
    "df_7days"
   ]
  },
  {
   "cell_type": "code",
   "execution_count": 65,
   "metadata": {},
   "outputs": [],
   "source": [
    "# Merge train and weather datasets\n",
    "\n",
    "train_weather = pd.merge(train_weather,df_7days,how='left', on=['Date','Station'])"
   ]
  },
  {
   "cell_type": "code",
   "execution_count": 66,
   "metadata": {},
   "outputs": [],
   "source": [
    "# Merge test and weather datasets\n",
    "\n",
    "test_weather = pd.merge(test_weather,df_7days,how='left', on=['Date','Station'])"
   ]
  },
  {
   "cell_type": "markdown",
   "metadata": {},
   "source": [
    "## Modelling"
   ]
  },
  {
   "cell_type": "code",
   "execution_count": 67,
   "metadata": {},
   "outputs": [
    {
     "data": {
      "text/plain": [
       "Date                 datetime64[ns]\n",
       "Address                      object\n",
       "Species                      object\n",
       "Trap                         object\n",
       "Latitude                    float64\n",
       "Longitude                   float64\n",
       "AddressAccuracy               int64\n",
       "NumMosquitos                  int64\n",
       "WnvPresent                    int64\n",
       "Station                       int64\n",
       "Tmax                          int64\n",
       "Tmin                          int64\n",
       "Tavg                          int64\n",
       "Depart                        int64\n",
       "DewPoint                      int64\n",
       "WetBulb                       int64\n",
       "Heat                          int64\n",
       "Cool                          int64\n",
       "Sunrise                      object\n",
       "Sunset                       object\n",
       "CodeSum                      object\n",
       "Depth                         int64\n",
       "SnowFall                    float64\n",
       "PrecipTotal                 float64\n",
       "StnPressure                 float64\n",
       "SeaLevel                    float64\n",
       "ResultSpeed                 float64\n",
       "ResultDir                     int64\n",
       "AvgSpeed                    float64\n",
       "year                          int64\n",
       "month                         int64\n",
       "week                          int64\n",
       "day                           int64\n",
       "PrecipTotal_1dayb           float64\n",
       "PrecipTotal_2dayb           float64\n",
       "PrecipTotal_3dayb           float64\n",
       "PrecipTotal_4dayb           float64\n",
       "PrecipTotal_5dayb           float64\n",
       "PrecipTotal_6dayb           float64\n",
       "PrecipTotal_7dayb           float64\n",
       "DewPoint_1dayb              float64\n",
       "DewPoint_2dayb              float64\n",
       "DewPoint_3dayb              float64\n",
       "DewPoint_4dayb              float64\n",
       "DewPoint_5dayb              float64\n",
       "DewPoint_6dayb              float64\n",
       "DewPoint_7dayb              float64\n",
       "Tavg_1dayb                  float64\n",
       "Tavg_2dayb                  float64\n",
       "Tavg_3dayb                  float64\n",
       "Tavg_4dayb                  float64\n",
       "Tavg_5dayb                  float64\n",
       "Tavg_6dayb                  float64\n",
       "Tavg_7dayb                  float64\n",
       "WetBulb_1dayb               float64\n",
       "WetBulb_2dayb               float64\n",
       "WetBulb_3dayb               float64\n",
       "WetBulb_4dayb               float64\n",
       "WetBulb_5dayb               float64\n",
       "WetBulb_6dayb               float64\n",
       "WetBulb_7dayb               float64\n",
       "dtype: object"
      ]
     },
     "execution_count": 67,
     "metadata": {},
     "output_type": "execute_result"
    }
   ],
   "source": [
    "pd.set_option('display.max_columns', None)\n",
    "pd.set_option('display.max_rows', None)\n",
    "train_weather.dtypes"
   ]
  },
  {
   "cell_type": "code",
   "execution_count": 68,
   "metadata": {},
   "outputs": [
    {
     "data": {
      "text/plain": [
       "Id                            int64\n",
       "Date                 datetime64[ns]\n",
       "Address                      object\n",
       "Species                      object\n",
       "Trap                         object\n",
       "Latitude                    float64\n",
       "Longitude                   float64\n",
       "AddressAccuracy               int64\n",
       "Station                       int64\n",
       "Tmax                          int64\n",
       "Tmin                          int64\n",
       "Tavg                          int64\n",
       "Depart                        int64\n",
       "DewPoint                      int64\n",
       "WetBulb                       int64\n",
       "Heat                          int64\n",
       "Cool                          int64\n",
       "Sunrise                      object\n",
       "Sunset                       object\n",
       "CodeSum                      object\n",
       "Depth                         int64\n",
       "SnowFall                    float64\n",
       "PrecipTotal                 float64\n",
       "StnPressure                 float64\n",
       "SeaLevel                    float64\n",
       "ResultSpeed                 float64\n",
       "ResultDir                     int64\n",
       "AvgSpeed                    float64\n",
       "PrecipTotal_1dayb           float64\n",
       "PrecipTotal_2dayb           float64\n",
       "PrecipTotal_3dayb           float64\n",
       "PrecipTotal_4dayb           float64\n",
       "PrecipTotal_5dayb           float64\n",
       "PrecipTotal_6dayb           float64\n",
       "PrecipTotal_7dayb           float64\n",
       "DewPoint_1dayb              float64\n",
       "DewPoint_2dayb              float64\n",
       "DewPoint_3dayb              float64\n",
       "DewPoint_4dayb              float64\n",
       "DewPoint_5dayb              float64\n",
       "DewPoint_6dayb              float64\n",
       "DewPoint_7dayb              float64\n",
       "Tavg_1dayb                  float64\n",
       "Tavg_2dayb                  float64\n",
       "Tavg_3dayb                  float64\n",
       "Tavg_4dayb                  float64\n",
       "Tavg_5dayb                  float64\n",
       "Tavg_6dayb                  float64\n",
       "Tavg_7dayb                  float64\n",
       "WetBulb_1dayb               float64\n",
       "WetBulb_2dayb               float64\n",
       "WetBulb_3dayb               float64\n",
       "WetBulb_4dayb               float64\n",
       "WetBulb_5dayb               float64\n",
       "WetBulb_6dayb               float64\n",
       "WetBulb_7dayb               float64\n",
       "dtype: object"
      ]
     },
     "execution_count": 68,
     "metadata": {},
     "output_type": "execute_result"
    }
   ],
   "source": [
    "test_weather.dtypes"
   ]
  },
  {
   "cell_type": "code",
   "execution_count": 69,
   "metadata": {},
   "outputs": [
    {
     "data": {
      "text/plain": [
       "(10506, 61)"
      ]
     },
     "execution_count": 69,
     "metadata": {},
     "output_type": "execute_result"
    }
   ],
   "source": [
    "train_weather.shape"
   ]
  },
  {
   "cell_type": "code",
   "execution_count": 70,
   "metadata": {},
   "outputs": [
    {
     "data": {
      "text/plain": [
       "(116293, 56)"
      ]
     },
     "execution_count": 70,
     "metadata": {},
     "output_type": "execute_result"
    }
   ],
   "source": [
    "test_weather.shape"
   ]
  },
  {
   "cell_type": "code",
   "execution_count": 71,
   "metadata": {},
   "outputs": [],
   "source": [
    "# Drop columns for train and test weather datasets\n",
    "cols_to_drop = ['Date', 'NumMosquitos','Latitude','Longitude', 'year','month','week','day', 'Address','AddressAccuracy','Depth', 'SnowFall']\n",
    "train_weather.drop(cols_to_drop,axis=1,inplace=True)\n",
    "\n",
    "cols_to_drop = ['Date', 'Latitude','Longitude','Address','AddressAccuracy','Depth', 'SnowFall']\n",
    "test_weather.drop(cols_to_drop,axis=1,inplace=True)"
   ]
  },
  {
   "cell_type": "code",
   "execution_count": 72,
   "metadata": {},
   "outputs": [],
   "source": [
    "#Before one-hot encoding for train_final, test_final, need to merge them first\n",
    "train_weather['is_train'] = 1\n",
    "test_weather['is_train'] = 0\n",
    "train_weather['Id'] = 0\n",
    "test_weather['WnvPresent'] = 9"
   ]
  },
  {
   "cell_type": "code",
   "execution_count": 73,
   "metadata": {},
   "outputs": [],
   "source": [
    "#Rearrange the column order in both train and test before merge them for one-hot encoding\n",
    "columnsTitles = train_weather.columns\n",
    "train_weather = train_weather.reindex(columns=columnsTitles)\n",
    "test_weather = test_weather.reindex(columns=columnsTitles)"
   ]
  },
  {
   "cell_type": "code",
   "execution_count": 74,
   "metadata": {},
   "outputs": [],
   "source": [
    "#One-hot encoding for train_final, test_final, merge them\n",
    "df_combined = pd.concat([train_weather, test_weather],axis=0)"
   ]
  },
  {
   "cell_type": "code",
   "execution_count": 75,
   "metadata": {},
   "outputs": [
    {
     "data": {
      "text/plain": [
       "(126799, 51)"
      ]
     },
     "execution_count": 75,
     "metadata": {},
     "output_type": "execute_result"
    }
   ],
   "source": [
    "df_combined.shape"
   ]
  },
  {
   "cell_type": "code",
   "execution_count": 76,
   "metadata": {},
   "outputs": [
    {
     "data": {
      "text/plain": [
       "(126799, 242)"
      ]
     },
     "execution_count": 76,
     "metadata": {},
     "output_type": "execute_result"
    }
   ],
   "source": [
    "#Perform one-hot encoding\n",
    "object_columns = ['Species','CodeSum','Trap']\n",
    "\n",
    "df_combined = pd.get_dummies(df_combined, columns = object_columns, drop_first = False)\n",
    "df_combined.shape"
   ]
  },
  {
   "cell_type": "code",
   "execution_count": 77,
   "metadata": {},
   "outputs": [],
   "source": [
    "#Split the combined set into train set and test set\n",
    "df_train = df_combined[df_combined['is_train']==1]\n",
    "df_test = df_combined[df_combined['is_train']==0]"
   ]
  },
  {
   "cell_type": "code",
   "execution_count": 78,
   "metadata": {},
   "outputs": [],
   "source": [
    "#Drop columns created previously for merging for one-hot encoding\n",
    "df_train = df_train.drop(['Id','is_train'],axis=1)\n",
    "df_test = df_test.drop(['WnvPresent','is_train'],axis=1)"
   ]
  },
  {
   "cell_type": "code",
   "execution_count": 79,
   "metadata": {},
   "outputs": [
    {
     "data": {
      "text/plain": [
       "(10506, 240)"
      ]
     },
     "execution_count": 79,
     "metadata": {},
     "output_type": "execute_result"
    }
   ],
   "source": [
    "df_train.shape"
   ]
  },
  {
   "cell_type": "code",
   "execution_count": 80,
   "metadata": {},
   "outputs": [
    {
     "data": {
      "text/plain": [
       "0    0.947554\n",
       "1    0.052446\n",
       "Name: WnvPresent, dtype: float64"
      ]
     },
     "execution_count": 80,
     "metadata": {},
     "output_type": "execute_result"
    }
   ],
   "source": [
    "df_train['WnvPresent'].value_counts(normalize=True)"
   ]
  },
  {
   "cell_type": "code",
   "execution_count": 81,
   "metadata": {},
   "outputs": [
    {
     "data": {
      "text/plain": [
       "(116293, 240)"
      ]
     },
     "execution_count": 81,
     "metadata": {},
     "output_type": "execute_result"
    }
   ],
   "source": [
    "df_test.shape"
   ]
  },
  {
   "cell_type": "code",
   "execution_count": 82,
   "metadata": {},
   "outputs": [],
   "source": [
    "X = df_train.loc[:,df_train.columns!='WnvPresent']\n",
    "y = df_train['WnvPresent']\n",
    "\n",
    "X_train, X_test, y_train, y_test = train_test_split(X, y, stratify=y, random_state=42)"
   ]
  },
  {
   "cell_type": "code",
   "execution_count": 83,
   "metadata": {},
   "outputs": [],
   "source": [
    "# Applying SMOTE\n",
    "smt = SMOTE(random_state=42)\n",
    "X_train, y_train = smt.fit_sample(X_train, y_train)"
   ]
  },
  {
   "cell_type": "code",
   "execution_count": 84,
   "metadata": {},
   "outputs": [
    {
     "data": {
      "text/plain": [
       "1    7466\n",
       "0    7466\n",
       "Name: WnvPresent, dtype: int64"
      ]
     },
     "execution_count": 84,
     "metadata": {},
     "output_type": "execute_result"
    }
   ],
   "source": [
    "y_train.value_counts()"
   ]
  },
  {
   "cell_type": "code",
   "execution_count": 85,
   "metadata": {},
   "outputs": [],
   "source": [
    "features = X.columns"
   ]
  },
  {
   "cell_type": "code",
   "execution_count": 86,
   "metadata": {},
   "outputs": [],
   "source": [
    "ss = StandardScaler()\n",
    "X_train_sc = ss.fit_transform(X_train)\n",
    "X_test_sc = ss.transform(X_test)"
   ]
  },
  {
   "cell_type": "markdown",
   "metadata": {},
   "source": [
    "### Feature Selection"
   ]
  },
  {
   "cell_type": "code",
   "execution_count": 87,
   "metadata": {},
   "outputs": [],
   "source": [
    "pca = PCA()\n",
    "p_train = pca.fit_transform(X_train_sc)\n",
    "p_test = pca.transform(X_test_sc)"
   ]
  },
  {
   "cell_type": "code",
   "execution_count": 88,
   "metadata": {},
   "outputs": [
    {
     "name": "stdout",
     "output_type": "stream",
     "text": [
      "Explained variance (first 140 components): [0.07  0.032 0.022 0.016 0.015 0.011 0.01  0.009 0.008 0.008 0.007 0.007\n",
      " 0.007 0.006 0.006 0.006 0.006 0.006 0.006 0.006 0.006 0.005 0.005 0.005\n",
      " 0.005 0.005 0.005 0.005 0.005 0.005 0.005 0.005 0.005 0.005 0.005 0.005\n",
      " 0.005 0.005 0.005 0.005 0.005 0.005 0.005 0.005 0.005 0.005 0.005 0.005\n",
      " 0.005 0.005 0.005 0.005 0.005 0.005 0.005 0.005 0.005 0.005 0.005 0.005\n",
      " 0.005 0.005 0.005 0.005 0.005 0.005 0.005 0.005 0.005 0.005 0.005 0.005\n",
      " 0.005 0.005 0.005 0.005 0.005 0.005 0.005 0.005 0.005 0.005 0.005 0.005\n",
      " 0.005 0.005 0.005 0.005 0.005 0.005 0.005 0.005 0.005 0.005 0.005 0.005\n",
      " 0.005 0.005 0.005 0.005 0.005 0.005 0.005 0.005 0.005 0.005 0.005 0.005\n",
      " 0.005 0.005 0.005 0.005 0.005 0.005 0.005 0.005 0.005 0.005 0.005 0.005\n",
      " 0.005 0.005 0.005 0.005 0.005 0.005 0.005 0.005 0.005 0.005 0.005 0.005\n",
      " 0.005 0.005 0.005 0.005 0.005 0.005 0.005 0.005]\n",
      "\n",
      "Cumulative explained variance (first 140 components): [0.07  0.102 0.124 0.14  0.155 0.165 0.176 0.185 0.193 0.202 0.209 0.216\n",
      " 0.222 0.229 0.235 0.241 0.247 0.253 0.259 0.264 0.27  0.275 0.281 0.286\n",
      " 0.291 0.297 0.302 0.307 0.312 0.317 0.322 0.327 0.332 0.337 0.342 0.347\n",
      " 0.352 0.357 0.362 0.366 0.371 0.376 0.38  0.385 0.39  0.395 0.399 0.404\n",
      " 0.409 0.413 0.418 0.423 0.427 0.432 0.437 0.441 0.446 0.451 0.455 0.46\n",
      " 0.465 0.469 0.474 0.478 0.483 0.488 0.492 0.497 0.502 0.506 0.511 0.516\n",
      " 0.52  0.525 0.53  0.534 0.539 0.544 0.548 0.553 0.558 0.562 0.567 0.572\n",
      " 0.576 0.581 0.585 0.59  0.595 0.599 0.604 0.609 0.613 0.618 0.623 0.627\n",
      " 0.632 0.637 0.641 0.646 0.65  0.655 0.66  0.664 0.669 0.674 0.678 0.683\n",
      " 0.688 0.692 0.697 0.702 0.706 0.711 0.715 0.72  0.725 0.729 0.734 0.739\n",
      " 0.743 0.748 0.752 0.757 0.762 0.766 0.771 0.776 0.78  0.785 0.79  0.794\n",
      " 0.799 0.803 0.808 0.813 0.817 0.822 0.827 0.831]\n"
     ]
    }
   ],
   "source": [
    "# Pull the explained variance attribute.\n",
    "var_exp = pca.explained_variance_ratio_\n",
    "print(f'Explained variance (first 140 components): {np.round(var_exp[:140],3)}')\n",
    "\n",
    "print('')\n",
    "\n",
    "# Generate the cumulative explained variance.\n",
    "cum_var_exp = np.cumsum(var_exp)\n",
    "print(f'Cumulative explained variance (first 140 components): {np.round(cum_var_exp[:140],3)}')"
   ]
  },
  {
   "cell_type": "code",
   "execution_count": 89,
   "metadata": {},
   "outputs": [],
   "source": [
    "# number of components\n",
    "n_pcs= pca.components_.shape[0]\n",
    "# get the index of the most important feature on EACH component\n",
    "most_important = [np.abs(pca.components_[i]).argmax() for i in range(n_pcs)]"
   ]
  },
  {
   "cell_type": "code",
   "execution_count": 90,
   "metadata": {},
   "outputs": [
    {
     "data": {
      "text/plain": [
       "[(38, 'WetBulb_1dayb', 0.06995240485695738),\n",
       " (43, 'WetBulb_6dayb', 0.032477574330258926),\n",
       " (40, 'WetBulb_3dayb', 0.02195105268304372),\n",
       " (17, 'PrecipTotal_1dayb', 0.015920539431096087),\n",
       " (9, 'Sunrise', 0.014571937545201589),\n",
       " (19, 'PrecipTotal_3dayb', 0.01058948212075165),\n",
       " (0, 'Station', 0.01042647666068921),\n",
       " (83, 'CodeSum_TSRA RA BR', 0.009143441285668585),\n",
       " (14, 'ResultSpeed', 0.008441151670170366),\n",
       " (60, 'CodeSum_No Sign', 0.008098953399511957),\n",
       " (47, 'Species_CULEX PIPIENS/RESTUANS', 0.007216962403027629),\n",
       " (23, 'PrecipTotal_7dayb', 0.007010510591756802),\n",
       " (55, 'CodeSum_BR HZ', 0.006609122914455609),\n",
       " (78, 'CodeSum_TSRA BR HZ', 0.006296710758317886),\n",
       " (78, 'CodeSum_TSRA BR HZ', 0.006241380973024108),\n",
       " (192, 'Trap_T149', 0.006189849729427405),\n",
       " (87, 'CodeSum_TSRA RA DZ BR HZ', 0.006060243162933046),\n",
       " (79, 'CodeSum_TSRA BR HZ VCTS', 0.005864562836018733),\n",
       " (77, 'CodeSum_TSRA BR', 0.005702716412166626),\n",
       " (51, 'Species_CULEX TERRITANS', 0.005632992639989422),\n",
       " (65, 'CodeSum_RA DZ BR', 0.0055968363893322),\n",
       " (65, 'CodeSum_RA DZ BR', 0.00547747417601964),\n",
       " (73, 'CodeSum_TS TSRA RA BR HZ VCTS', 0.005370688573128965),\n",
       " (69, 'CodeSum_TS TSRA BR', 0.005336062943297343),\n",
       " (49, 'Species_CULEX SALINARIUS', 0.005274898889165538),\n",
       " (79, 'CodeSum_TSRA BR HZ VCTS', 0.005255476961477871),\n",
       " (70, 'CodeSum_TS TSRA BR HZ', 0.005244215378701494),\n",
       " (87, 'CodeSum_TSRA RA DZ BR HZ', 0.005176109523146544),\n",
       " (62, 'CodeSum_RA BR', 0.005122315403107894),\n",
       " (86, 'CodeSum_TSRA RA BR VCTS', 0.00509786339098268),\n",
       " (50, 'Species_CULEX TARSALIS', 0.005082442090241289),\n",
       " (50, 'Species_CULEX TARSALIS', 0.005015457471467089),\n",
       " (66, 'CodeSum_TS', 0.004985634039527747),\n",
       " (76, 'CodeSum_TSRA', 0.004939204125562444),\n",
       " (58, 'CodeSum_FG BR HZ', 0.0049090631926804315),\n",
       " (237, 'Trap_T900', 0.004882494097998036),\n",
       " (81, 'CodeSum_TSRA HZ', 0.0048495913633290364),\n",
       " (91, 'Trap_T002', 0.004798812283694307),\n",
       " (237, 'Trap_T900', 0.004791406556117133),\n",
       " (45, 'Species_CULEX ERRATICUS', 0.004738345348050998),\n",
       " (112, 'Trap_T028', 0.004717887914037396),\n",
       " (179, 'Trap_T128', 0.004712225479650528),\n",
       " (179, 'Trap_T128', 0.004703921113434506),\n",
       " (179, 'Trap_T128', 0.004695643829530107),\n",
       " (231, 'Trap_T233', 0.004685658245164236),\n",
       " (179, 'Trap_T128', 0.004683194302663915),\n",
       " (131, 'Trap_T054', 0.004678828228844675),\n",
       " (201, 'Trap_T158', 0.004674489619148084),\n",
       " (194, 'Trap_T151', 0.004670568937919833),\n",
       " (182, 'Trap_T135', 0.004668985842547183),\n",
       " (182, 'Trap_T135', 0.004666281238869915),\n",
       " (131, 'Trap_T054', 0.004665017209341722),\n",
       " (177, 'Trap_T114', 0.004663488633983581),\n",
       " (137, 'Trap_T065', 0.004662953419451283),\n",
       " (194, 'Trap_T151', 0.004661689128548273),\n",
       " (201, 'Trap_T158', 0.0046607814951267045),\n",
       " (94, 'Trap_T003', 0.004660075278825311),\n",
       " (112, 'Trap_T028', 0.004659965019924251),\n",
       " (167, 'Trap_T094', 0.004658984881698124),\n",
       " (94, 'Trap_T003', 0.00465842653946242),\n",
       " (145, 'Trap_T073', 0.004657910802757601),\n",
       " (102, 'Trap_T012', 0.00465746633189886),\n",
       " (146, 'Trap_T074', 0.004656902970614868),\n",
       " (167, 'Trap_T094', 0.004656358939822103),\n",
       " (113, 'Trap_T030', 0.004655455252770182),\n",
       " (134, 'Trap_T061', 0.004655025782702097),\n",
       " (134, 'Trap_T061', 0.004654627044395036),\n",
       " (146, 'Trap_T074', 0.004654243462536105),\n",
       " (190, 'Trap_T147', 0.0046536536343889405),\n",
       " (125, 'Trap_T046', 0.004653231763810082),\n",
       " (169, 'Trap_T095', 0.0046527435392819585),\n",
       " (203, 'Trap_T160', 0.0046526409842638766),\n",
       " (195, 'Trap_T152', 0.004651876176996984),\n",
       " (151, 'Trap_T079', 0.004651526048466448),\n",
       " (152, 'Trap_T080', 0.004651435333430504),\n",
       " (195, 'Trap_T152', 0.004651108449503289),\n",
       " (152, 'Trap_T080', 0.00465075360675454),\n",
       " (115, 'Trap_T033', 0.00465047043969836),\n",
       " (188, 'Trap_T145', 0.004650114715969406),\n",
       " (225, 'Trap_T227', 0.004649946862682004),\n",
       " (128, 'Trap_T049', 0.004649722837064137),\n",
       " (151, 'Trap_T079', 0.004648988988039001),\n",
       " (220, 'Trap_T222', 0.0046485415568613435),\n",
       " (122, 'Trap_T043', 0.004648202856304865),\n",
       " (120, 'Trap_T039', 0.004647812989192854),\n",
       " (221, 'Trap_T223', 0.004647603367514279),\n",
       " (135, 'Trap_T062', 0.004647345316512633),\n",
       " (135, 'Trap_T062', 0.004647061328980504),\n",
       " (191, 'Trap_T148', 0.00464650970587106),\n",
       " (213, 'Trap_T218', 0.004646065916372181),\n",
       " (106, 'Trap_T016', 0.004645850302059301),\n",
       " (222, 'Trap_T224', 0.004645497431691387),\n",
       " (153, 'Trap_T081', 0.004644522417966891),\n",
       " (151, 'Trap_T079', 0.004644441433064668),\n",
       " (220, 'Trap_T222', 0.004644283576639567),\n",
       " (108, 'Trap_T018', 0.004643527392362714),\n",
       " (159, 'Trap_T088', 0.004643037959979657),\n",
       " (229, 'Trap_T231', 0.0046426644717452534),\n",
       " (153, 'Trap_T081', 0.0046421948775178055),\n",
       " (196, 'Trap_T153', 0.004641680343206895),\n",
       " (172, 'Trap_T099', 0.004641318662751818),\n",
       " (110, 'Trap_T025', 0.004641167556211921),\n",
       " (172, 'Trap_T099', 0.004640555572490274),\n",
       " (234, 'Trap_T236', 0.004640262470378632),\n",
       " (149, 'Trap_T077', 0.00463937038737537),\n",
       " (176, 'Trap_T107', 0.0046389016624152546),\n",
       " (98, 'Trap_T007', 0.004638668245424565),\n",
       " (105, 'Trap_T015', 0.004638346028565114),\n",
       " (159, 'Trap_T088', 0.004638019392313936),\n",
       " (149, 'Trap_T077', 0.004637561811897261),\n",
       " (105, 'Trap_T015', 0.004637023940467595),\n",
       " (119, 'Trap_T037', 0.004636904575249247),\n",
       " (227, 'Trap_T229', 0.004636780456849796),\n",
       " (184, 'Trap_T141', 0.004636543967442874),\n",
       " (165, 'Trap_T091', 0.0046362684220128784),\n",
       " (165, 'Trap_T091', 0.004636020612899702),\n",
       " (173, 'Trap_T100', 0.004635860157753999),\n",
       " (140, 'Trap_T067', 0.004635839151341679),\n",
       " (217, 'Trap_T219', 0.0046356996353084205),\n",
       " (156, 'Trap_T084', 0.004635439005936469),\n",
       " (166, 'Trap_T092', 0.004635258923129939),\n",
       " (109, 'Trap_T019', 0.004635232000069856),\n",
       " (109, 'Trap_T019', 0.004635135339909168),\n",
       " (204, 'Trap_T161', 0.004634617075101178),\n",
       " (205, 'Trap_T162', 0.004634401550402168),\n",
       " (116, 'Trap_T034', 0.004634287628457864),\n",
       " (199, 'Trap_T156', 0.004634140246773975),\n",
       " (90, 'Trap_T001', 0.004634002230324693),\n",
       " (200, 'Trap_T157', 0.004633667397904962),\n",
       " (200, 'Trap_T157', 0.004633615226505749),\n",
       " (200, 'Trap_T157', 0.004633519657470646),\n",
       " (95, 'Trap_T004', 0.004633223710044441),\n",
       " (150, 'Trap_T078', 0.004632672101176565),\n",
       " (121, 'Trap_T040', 0.004632289205151456),\n",
       " (235, 'Trap_T237', 0.004632249512760787),\n",
       " (212, 'Trap_T215', 0.004622415474580951),\n",
       " (123, 'Trap_T044', 0.0046212132008055925),\n",
       " (168, 'Trap_T094B', 0.004619242820003823),\n",
       " (132, 'Trap_T054C', 0.0046151766949840065),\n",
       " (45, 'Species_CULEX ERRATICUS', 0.004601479968559626),\n",
       " (170, 'Trap_T096', 0.004599969579259651),\n",
       " (236, 'Trap_T238', 0.004592856957359469),\n",
       " (45, 'Species_CULEX ERRATICUS', 0.004578118824584082),\n",
       " (229, 'Trap_T231', 0.004571225473573793),\n",
       " (170, 'Trap_T096', 0.004554427367844119),\n",
       " (161, 'Trap_T090', 0.00455101289538101),\n",
       " (96, 'Trap_T005', 0.004539547504738287),\n",
       " (170, 'Trap_T096', 0.004494249345027598),\n",
       " (65, 'CodeSum_RA DZ BR', 0.004466062888928396),\n",
       " (76, 'CodeSum_TSRA', 0.0044223839059456815),\n",
       " (108, 'Trap_T018', 0.004407142417627402),\n",
       " (67, 'CodeSum_TS BR', 0.004393466151269577),\n",
       " (81, 'CodeSum_TSRA HZ', 0.004374238880350494),\n",
       " (67, 'CodeSum_TS BR', 0.00430159321620505),\n",
       " (75, 'CodeSum_TS TSRA RA VCTS', 0.004284016778623525),\n",
       " (50, 'Species_CULEX TARSALIS', 0.00425562693914975),\n",
       " (62, 'CodeSum_RA BR', 0.004242575173117901),\n",
       " (49, 'Species_CULEX SALINARIUS', 0.004160214423291552),\n",
       " (79, 'CodeSum_TSRA BR HZ VCTS', 0.004127724179028386),\n",
       " (50, 'Species_CULEX TARSALIS', 0.004100516800132309),\n",
       " (70, 'CodeSum_TS TSRA BR HZ', 0.004066634932205334),\n",
       " (77, 'CodeSum_TSRA BR', 0.004026096167198304),\n",
       " (49, 'Species_CULEX SALINARIUS', 0.004017405167396967),\n",
       " (49, 'Species_CULEX SALINARIUS', 0.003968366925832247),\n",
       " (73, 'CodeSum_TS TSRA RA BR HZ VCTS', 0.0038163682338472472),\n",
       " (183, 'Trap_T138', 0.0037872419181010273),\n",
       " (51, 'Species_CULEX TERRITANS', 0.00372276998757284),\n",
       " (51, 'Species_CULEX TERRITANS', 0.0036588994809923),\n",
       " (48, 'Species_CULEX RESTUANS', 0.0035581122722379904),\n",
       " (77, 'CodeSum_TSRA BR', 0.0034456652030565287),\n",
       " (82, 'CodeSum_TSRA RA', 0.0033768537719669647),\n",
       " (78, 'CodeSum_TSRA BR HZ', 0.0031984313701057436),\n",
       " (192, 'Trap_T149', 0.0030836697356046855),\n",
       " (59, 'CodeSum_HZ', 0.0030066999131618754),\n",
       " (23, 'PrecipTotal_7dayb', 0.0027873153894400773),\n",
       " (20, 'PrecipTotal_4dayb', 0.002621364277804859),\n",
       " (66, 'CodeSum_TS', 0.0025800223038325095),\n",
       " (12, 'StnPressure', 0.0024730647651523808),\n",
       " (15, 'ResultDir', 0.0023061050977426687),\n",
       " (23, 'PrecipTotal_7dayb', 0.0020465853622443197),\n",
       " (22, 'PrecipTotal_6dayb', 0.0018712613775483781),\n",
       " (237, 'Trap_T900', 0.0016509163524292816),\n",
       " (83, 'CodeSum_TSRA RA BR', 0.0014765501184679493),\n",
       " (21, 'PrecipTotal_5dayb', 0.0013303060004134807),\n",
       " (7, 'Heat', 0.0010755806292618445),\n",
       " (36, 'Tavg_6dayb', 0.0009365223066344989),\n",
       " (36, 'Tavg_6dayb', 0.0008595113550945494),\n",
       " (19, 'PrecipTotal_3dayb', 0.0008347098554780944),\n",
       " (17, 'PrecipTotal_1dayb', 0.0007138808477595483),\n",
       " (47, 'Species_CULEX PIPIENS/RESTUANS', 0.0006243037672547259),\n",
       " (29, 'DewPoint_6dayb', 0.0005812307121769417),\n",
       " (0, 'Station', 0.000558695002231742),\n",
       " (34, 'Tavg_4dayb', 0.0003699829234995597),\n",
       " (32, 'Tavg_2dayb', 0.0003613265701426066),\n",
       " (27, 'DewPoint_4dayb', 0.0003229045730117132),\n",
       " (34, 'Tavg_4dayb', 0.00028896578260005694),\n",
       " (5, 'DewPoint', 0.00022141882374743002),\n",
       " (31, 'Tavg_1dayb', 0.00020450649352318615),\n",
       " (16, 'AvgSpeed', 0.0001827920454922903),\n",
       " (60, 'CodeSum_No Sign', 0.00017383710262474844),\n",
       " (35, 'Tavg_5dayb', 0.00014462474040477836),\n",
       " (35, 'Tavg_5dayb', 0.00011186166617015622),\n",
       " (4, 'Depart', 0.00010809268275204176),\n",
       " (31, 'Tavg_1dayb', 9.257908004108938e-05),\n",
       " (10, 'Sunset', 5.3380916755113236e-05),\n",
       " (12, 'StnPressure', 2.557770942781188e-05),\n",
       " (41, 'WetBulb_4dayb', 1.563510938043704e-05),\n",
       " (39, 'WetBulb_2dayb', 1.3183459794606998e-05),\n",
       " (43, 'WetBulb_6dayb', 1.141804735485807e-05),\n",
       " (40, 'WetBulb_3dayb', 9.039971241519733e-06),\n",
       " (42, 'WetBulb_5dayb', 8.22611500565942e-06),\n",
       " (41, 'WetBulb_4dayb', 7.749591670808733e-06),\n",
       " (44, 'WetBulb_7dayb', 6.855537429791768e-06),\n",
       " (38, 'WetBulb_1dayb', 5.2839182973840305e-06),\n",
       " (1, 'Tmax', 3.3444025455389873e-06),\n",
       " (3, 'Tavg', 3.385848389409303e-07),\n",
       " (52, 'Species_UNSPECIFIED CULEX', 1.3795679354461508e-32),\n",
       " (84, 'CodeSum_TSRA RA BR HZ', 1.623283347891062e-33),\n",
       " (68, 'CodeSum_TS RA', 6.05074699652398e-34),\n",
       " (164, 'Trap_T090C', 5.828239036381056e-34),\n",
       " (93, 'Trap_T002B', 5.713002958969784e-34),\n",
       " (56, 'CodeSum_DZ', 5.141583184233339e-34),\n",
       " (53, 'CodeSum_BCFG BR', 4.285597466473682e-34),\n",
       " (216, 'Trap_T218C', 4.285597466473682e-34),\n",
       " (162, 'Trap_T090A', 4.285597466473682e-34),\n",
       " (84, 'CodeSum_TSRA RA BR HZ', 4.285597466473682e-34),\n",
       " (215, 'Trap_T218B', 4.285597466473682e-34),\n",
       " (88, 'CodeSum_TSRA RA VCTS', 4.285597466473682e-34),\n",
       " (80, 'CodeSum_TSRA FG+ BR HZ', 4.285597466473682e-34),\n",
       " (207, 'Trap_T200A', 4.285597466473682e-34),\n",
       " (214, 'Trap_T218A', 4.285597466473682e-34),\n",
       " (216, 'Trap_T218C', 4.285597466473682e-34),\n",
       " (208, 'Trap_T200B', 4.285597466473682e-34),\n",
       " (232, 'Trap_T234', 4.285597466473682e-34),\n",
       " (64, 'CodeSum_RA DZ', 4.12315095876165e-34),\n",
       " (163, 'Trap_T090B', 2.0901396320747654e-34),\n",
       " (88, 'CodeSum_TSRA RA VCTS', 1.8002371569471057e-34),\n",
       " (162, 'Trap_T090A', 1.3685841218957509e-34),\n",
       " (138, 'Trap_T065A', 9.381988436935246e-35)]"
      ]
     },
     "execution_count": 90,
     "metadata": {},
     "output_type": "execute_result"
    }
   ],
   "source": [
    "# get the names\n",
    "most_important_names = [X.columns]\n",
    "# print pca and feature names\n",
    "pca_feature = list(zip(most_important, most_important_names[0][most_important],var_exp))\n",
    "pca_feature"
   ]
  },
  {
   "cell_type": "code",
   "execution_count": 91,
   "metadata": {},
   "outputs": [
    {
     "data": {
      "image/png": "[encoded data removed]",
      "text/plain": [
       "<Figure size 864x576 with 1 Axes>"
      ]
     },
     "metadata": {},
     "output_type": "display_data"
    }
   ],
   "source": [
    "# Plot the variance explained (and cumulative variance explained).\n",
    "\n",
    "# Set figure size.\n",
    "plt.figure(figsize=(12,8))\n",
    "\n",
    "# Plot the explained variance.\n",
    "plt.plot(range(len(var_exp)), var_exp, lw=3, label = 'Variance Explained')\n",
    "\n",
    "# Plot the cumulative explained variance.\n",
    "plt.plot(range(len(var_exp)), cum_var_exp, lw=3, color = 'orange', label = 'Cumulative Variance Explained')\n",
    "\n",
    "# Add horizontal lines at y=0 and y=1.\n",
    "plt.axhline(y=0, linewidth=1, color='grey', ls='dashed')\n",
    "plt.axhline(y=1, linewidth=1, color='grey', ls='dashed')\n",
    "\n",
    "# Set the limits of the axes.\n",
    "plt.xlim([-1,180])\n",
    "plt.ylim([-0.01,1.01])\n",
    "\n",
    "# Label the axes.\n",
    "plt.ylabel('Variance Explained', fontsize=20)\n",
    "plt.xlabel('Principal Component', fontsize=20)\n",
    "\n",
    "# Make the tick labels bigger\n",
    "plt.xticks(range(0, 180, 20), range(1, 180, 20), fontsize=12)\n",
    "plt.yticks(fontsize=12)\n",
    "    \n",
    "# Add title and legend.\n",
    "plt.title('Component vs. Variance Explained', fontsize=24)\n",
    "plt.legend(fontsize=11);"
   ]
  },
  {
   "cell_type": "code",
   "execution_count": 92,
   "metadata": {},
   "outputs": [],
   "source": [
    "top_feature_col = [x[1] for x in pca_feature][:134]"
   ]
  },
  {
   "cell_type": "markdown",
   "metadata": {},
   "source": [
    "### GridSearch"
   ]
  },
  {
   "cell_type": "code",
   "execution_count": 93,
   "metadata": {},
   "outputs": [],
   "source": [
    "def pipeline_gridsearch(pipe, pipe_params, X_train, y_train):\n",
    "    gs = GridSearchCV(pipe, param_grid=pipe_params, cv=5, n_jobs = -1)\n",
    "    gs.fit(X_train, y_train)\n",
    "    print(gs.best_score_) # best_score_ is gridsearch's function\n",
    "    print(gs.best_params_)# best_params_ is gridsearch's function"
   ]
  },
  {
   "cell_type": "markdown",
   "metadata": {},
   "source": [
    "### Logistic Regression"
   ]
  },
  {
   "cell_type": "code",
   "execution_count": 94,
   "metadata": {},
   "outputs": [],
   "source": [
    "pipe = Pipeline([\n",
    "    ('ss', StandardScaler()),\n",
    "    ('logit', LogisticRegression())])"
   ]
  },
  {
   "cell_type": "code",
   "execution_count": 95,
   "metadata": {},
   "outputs": [],
   "source": [
    "pipe_params = {  \n",
    "    'logit__C' : [1, 2], \n",
    "    'logit__class_weight' : [None, 'balanced'],\n",
    "    'logit__penalty' : ['l1', 'l2']}"
   ]
  },
  {
   "cell_type": "code",
   "execution_count": 96,
   "metadata": {},
   "outputs": [
    {
     "name": "stdout",
     "output_type": "stream",
     "text": [
      "0.7864330159424935\n",
      "{'logit__C': 1, 'logit__class_weight': None, 'logit__penalty': 'l2'}\n"
     ]
    }
   ],
   "source": [
    "pipeline_gridsearch(pipe,pipe_params, X_train[top_feature_col], y_train)"
   ]
  },
  {
   "cell_type": "markdown",
   "metadata": {},
   "source": [
    "### Random Forest"
   ]
  },
  {
   "cell_type": "code",
   "execution_count": 97,
   "metadata": {},
   "outputs": [],
   "source": [
    "pipe_rf = Pipeline([\n",
    "    ('ss', StandardScaler()),\n",
    "    ('rf', RandomForestClassifier())])"
   ]
  },
  {
   "cell_type": "code",
   "execution_count": 98,
   "metadata": {},
   "outputs": [],
   "source": [
    "pipe_params_rf = {\n",
    "    'rf__n_estimators' : [135,140,145],\n",
    "    'rf__max_features' : [25,30,35],\n",
    "    'rf__max_depth' : [50,55]\n",
    "}"
   ]
  },
  {
   "cell_type": "code",
   "execution_count": 99,
   "metadata": {},
   "outputs": [
    {
     "name": "stdout",
     "output_type": "stream",
     "text": [
      "0.8829371796651306\n",
      "{'rf__max_depth': 55, 'rf__max_features': 35, 'rf__n_estimators': 145}\n"
     ]
    }
   ],
   "source": [
    "pipeline_gridsearch(pipe_rf,pipe_params_rf, X_train[top_feature_col], y_train)"
   ]
  },
  {
   "cell_type": "markdown",
   "metadata": {},
   "source": [
    "### Decision Tree Classifier"
   ]
  },
  {
   "cell_type": "code",
   "execution_count": 100,
   "metadata": {},
   "outputs": [],
   "source": [
    "pipe = Pipeline([\n",
    "    ('ss', StandardScaler()),\n",
    "    ('dt', DecisionTreeClassifier())])"
   ]
  },
  {
   "cell_type": "code",
   "execution_count": 101,
   "metadata": {},
   "outputs": [],
   "source": [
    "pipe_params = {\n",
    "    'dt__max_depth' : [7, 10],\n",
    "    'dt__min_samples_split' : [5, 10],\n",
    "    'dt__min_samples_leaf' : [2, 3],\n",
    "    }"
   ]
  },
  {
   "cell_type": "code",
   "execution_count": 102,
   "metadata": {},
   "outputs": [
    {
     "name": "stdout",
     "output_type": "stream",
     "text": [
      "0.8579562116795015\n",
      "{'dt__max_depth': 10, 'dt__min_samples_leaf': 2, 'dt__min_samples_split': 5}\n"
     ]
    }
   ],
   "source": [
    "pipeline_gridsearch(pipe,pipe_params, X_train[top_feature_col], y_train)"
   ]
  },
  {
   "cell_type": "markdown",
   "metadata": {},
   "source": [
    "### (Random Forest) Fitting With Best Parameters"
   ]
  },
  {
   "cell_type": "code",
   "execution_count": 103,
   "metadata": {},
   "outputs": [],
   "source": [
    "X_new = X_train[top_feature_col]\n",
    "y_new = y_train\n",
    "X_new_test = df_test[top_feature_col]"
   ]
  },
  {
   "cell_type": "code",
   "execution_count": 104,
   "metadata": {},
   "outputs": [],
   "source": [
    "ss = StandardScaler()"
   ]
  },
  {
   "cell_type": "code",
   "execution_count": 105,
   "metadata": {},
   "outputs": [],
   "source": [
    "X_new = ss.fit_transform(X_new)\n",
    "X_new_test = ss.transform(X_new_test)"
   ]
  },
  {
   "cell_type": "code",
   "execution_count": 106,
   "metadata": {},
   "outputs": [
    {
     "data": {
      "text/plain": [
       "((14932, 134), (14932,), (116293, 134))"
      ]
     },
     "execution_count": 106,
     "metadata": {},
     "output_type": "execute_result"
    }
   ],
   "source": [
    "X_new.shape, y_new.shape, X_new_test.shape"
   ]
  },
  {
   "cell_type": "code",
   "execution_count": 107,
   "metadata": {},
   "outputs": [],
   "source": [
    "best_rf = RandomForestClassifier(n_estimators = 145, max_features = 35, max_depth= 50)"
   ]
  },
  {
   "cell_type": "code",
   "execution_count": 108,
   "metadata": {},
   "outputs": [
    {
     "name": "stdout",
     "output_type": "stream",
     "text": [
      "Training Score: 0.9191\n"
     ]
    }
   ],
   "source": [
    "best_rf.fit(X_new, y_new)\n",
    "print('Training Score: {}'.format(round(best_rf.score(X_new, y_new), 4)))"
   ]
  },
  {
   "cell_type": "code",
   "execution_count": 109,
   "metadata": {},
   "outputs": [],
   "source": [
    "y_test_new = best_rf.predict(X_new)"
   ]
  },
  {
   "cell_type": "code",
   "execution_count": 110,
   "metadata": {},
   "outputs": [
    {
     "data": {
      "image/png": "[encoded data removed]",
      "text/plain": [
       "<Figure size 864x432 with 1 Axes>"
      ]
     },
     "metadata": {},
     "output_type": "display_data"
    }
   ],
   "source": [
    "features = pd.DataFrame(list(zip(X.columns, best_rf.feature_importances_)), columns = ['Features', 'Importance'])\n",
    "features.sort_values(by = 'Importance', ascending = False).head(10).plot(kind = 'barh', x = 'Features', y = 'Importance', figsize = (12, 6));"
   ]
  },
  {
   "cell_type": "markdown",
   "metadata": {},
   "source": [
    "### Model Evaluation"
   ]
  },
  {
   "cell_type": "code",
   "execution_count": 111,
   "metadata": {},
   "outputs": [],
   "source": [
    "cm_1 = confusion_matrix(y_new, y_test_new)"
   ]
  },
  {
   "cell_type": "code",
   "execution_count": 112,
   "metadata": {},
   "outputs": [
    {
     "name": "stdout",
     "output_type": "stream",
     "text": [
      "True Neg: 6601\n",
      "False Pos: 865\n",
      "False Neg: 343\n",
      "True Pos: 7123\n"
     ]
    }
   ],
   "source": [
    "# Save TN/FP/FN/TP values.\n",
    "\n",
    "tn, fp, fn, tp = cm_1.ravel()\n",
    "\n",
    "print(f'True Neg: {tn}')\n",
    "print(f'False Pos: {fp}')\n",
    "print(f'False Neg: {fn}')\n",
    "print(f'True Pos: {tp}')"
   ]
  },
  {
   "cell_type": "code",
   "execution_count": 113,
   "metadata": {},
   "outputs": [
    {
     "data": {
      "text/html": [
       "<div>\n",
       "<style scoped>\n",
       "    .dataframe tbody tr th:only-of-type {\n",
       "        vertical-align: middle;\n",
       "    }\n",
       "\n",
       "    .dataframe tbody tr th {\n",
       "        vertical-align: top;\n",
       "    }\n",
       "\n",
       "    .dataframe thead th {\n",
       "        text-align: right;\n",
       "    }\n",
       "</style>\n",
       "<table border=\"1\" class=\"dataframe\">\n",
       "  <thead>\n",
       "    <tr style=\"text-align: right;\">\n",
       "      <th></th>\n",
       "      <th>pred Wnv Not Present</th>\n",
       "      <th>Wnv Present</th>\n",
       "    </tr>\n",
       "  </thead>\n",
       "  <tbody>\n",
       "    <tr>\n",
       "      <th>actual Wnv Not Present</th>\n",
       "      <td>6601</td>\n",
       "      <td>865</td>\n",
       "    </tr>\n",
       "    <tr>\n",
       "      <th>actual Wnv Present</th>\n",
       "      <td>343</td>\n",
       "      <td>7123</td>\n",
       "    </tr>\n",
       "  </tbody>\n",
       "</table>\n",
       "</div>"
      ],
      "text/plain": [
       "                        pred Wnv Not Present  Wnv Present\n",
       "actual Wnv Not Present                  6601          865\n",
       "actual Wnv Present                       343         7123"
      ]
     },
     "execution_count": 113,
     "metadata": {},
     "output_type": "execute_result"
    }
   ],
   "source": [
    "cm_df_1 = pd.DataFrame(cm_1, columns=['pred Wnv Not Present', 'Wnv Present'], index=['actual Wnv Not Present', 'actual Wnv Present'])\n",
    "cm_df_1"
   ]
  },
  {
   "cell_type": "code",
   "execution_count": 114,
   "metadata": {},
   "outputs": [
    {
     "name": "stdout",
     "output_type": "stream",
     "text": [
      "Sensitivity: 0.9541\n"
     ]
    }
   ],
   "source": [
    "# Number of correct positive predictions divided by total number of positives\n",
    "\n",
    "sens = tp / (tp + fn)\n",
    "\n",
    "print(f'Sensitivity: {round(sens,4)}')"
   ]
  },
  {
   "cell_type": "code",
   "execution_count": 115,
   "metadata": {},
   "outputs": [
    {
     "name": "stdout",
     "output_type": "stream",
     "text": [
      "Specificity: 0.8841\n"
     ]
    }
   ],
   "source": [
    "# Number of correct negative predictions divided by the total number of negatives\n",
    "\n",
    "spec = tn / (tn + fp)\n",
    "\n",
    "print(f'Specificity: {round(spec,4)}')"
   ]
  },
  {
   "cell_type": "code",
   "execution_count": 116,
   "metadata": {},
   "outputs": [],
   "source": [
    "y_pred = best_rf.predict_proba(X_new_test)[:,1]"
   ]
  },
  {
   "cell_type": "code",
   "execution_count": 117,
   "metadata": {},
   "outputs": [],
   "source": [
    "output = pd.DataFrame({'Id': df_test['Id'], 'WnvPresent': y_pred})\n",
    "output.to_csv('./rf_proba.csv', index=False)"
   ]
  },
  {
   "cell_type": "markdown",
   "metadata": {},
   "source": [
    "## Cost-Benefit Analysis & Recommendations"
   ]
  },
  {
   "cell_type": "code",
   "execution_count": 118,
   "metadata": {},
   "outputs": [],
   "source": [
    "spray['Date'] = pd.to_datetime(spray['Date'])\n",
    "train['Date'] = pd.to_datetime(train['Date'])"
   ]
  },
  {
   "cell_type": "code",
   "execution_count": 119,
   "metadata": {},
   "outputs": [],
   "source": [
    "spray['year'] = spray['Date'].dt.year\n",
    "spray['month'] = spray['Date'].dt.month\n",
    "spray['week'] = spray['Date'].dt.week\n",
    "train['year'] = train['Date'].dt.year\n",
    "train['month'] = train['Date'].dt.month\n",
    "train['week'] = train['Date'].dt.week"
   ]
  },
  {
   "cell_type": "code",
   "execution_count": 120,
   "metadata": {},
   "outputs": [
    {
     "data": {
      "text/plain": [
       "<matplotlib.axes._subplots.AxesSubplot at 0x1c40d1a4e0>"
      ]
     },
     "execution_count": 120,
     "metadata": {},
     "output_type": "execute_result"
    },
    {
     "data": {
      "image/png": "[encoded data removed]",
      "text/plain": [
       "<Figure size 864x432 with 1 Axes>"
      ]
     },
     "metadata": {},
     "output_type": "display_data"
    }
   ],
   "source": [
    "train[train['year'] == 2011].groupby(['week'])['NumMosquitos'].sum().plot(kind = 'bar', title = 'Total Mosquitoes for Year 2011 by week', figsize = (12, 6))"
   ]
  },
  {
   "cell_type": "code",
   "execution_count": 121,
   "metadata": {},
   "outputs": [
    {
     "data": {
      "text/plain": [
       "array([35, 36])"
      ]
     },
     "execution_count": 121,
     "metadata": {},
     "output_type": "execute_result"
    }
   ],
   "source": [
    "spray[(spray['year']== 2011)]['week'].unique()"
   ]
  },
  {
   "cell_type": "code",
   "execution_count": 122,
   "metadata": {},
   "outputs": [
    {
     "data": {
      "image/png": "[encoded data removed]",
      "text/plain": [
       "<Figure size 864x432 with 1 Axes>"
      ]
     },
     "metadata": {},
     "output_type": "display_data"
    }
   ],
   "source": [
    "train[train['year'] == 2013].groupby(['week'])['NumMosquitos'].sum().plot(kind = 'bar', title = 'Total Mosquitoes for Year 2013 by week', figsize = (12, 6));"
   ]
  },
  {
   "cell_type": "code",
   "execution_count": 123,
   "metadata": {},
   "outputs": [
    {
     "data": {
      "text/plain": [
       "array([29, 30, 32, 33, 34, 35, 36])"
      ]
     },
     "execution_count": 123,
     "metadata": {},
     "output_type": "execute_result"
    }
   ],
   "source": [
    "spray[(spray['year']== 2013)]['week'].unique()"
   ]
  },
  {
   "cell_type": "code",
   "execution_count": 124,
   "metadata": {},
   "outputs": [
    {
     "data": {
      "text/html": [
       "<div>\n",
       "<style scoped>\n",
       "    .dataframe tbody tr th:only-of-type {\n",
       "        vertical-align: middle;\n",
       "    }\n",
       "\n",
       "    .dataframe tbody tr th {\n",
       "        vertical-align: top;\n",
       "    }\n",
       "\n",
       "    .dataframe thead th {\n",
       "        text-align: right;\n",
       "    }\n",
       "</style>\n",
       "<table border=\"1\" class=\"dataframe\">\n",
       "  <thead>\n",
       "    <tr style=\"text-align: right;\">\n",
       "      <th></th>\n",
       "      <th>Date</th>\n",
       "      <th>Time</th>\n",
       "      <th>Latitude</th>\n",
       "      <th>Longitude</th>\n",
       "      <th>year</th>\n",
       "      <th>month</th>\n",
       "      <th>week</th>\n",
       "    </tr>\n",
       "  </thead>\n",
       "  <tbody>\n",
       "    <tr>\n",
       "      <th>2209</th>\n",
       "      <td>2013-07-17</td>\n",
       "      <td>19:45:45</td>\n",
       "      <td>41.997728</td>\n",
       "      <td>-87.767532</td>\n",
       "      <td>2013</td>\n",
       "      <td>7</td>\n",
       "      <td>29</td>\n",
       "    </tr>\n",
       "    <tr>\n",
       "      <th>2210</th>\n",
       "      <td>2013-07-17</td>\n",
       "      <td>19:45:55</td>\n",
       "      <td>41.997990</td>\n",
       "      <td>-87.768085</td>\n",
       "      <td>2013</td>\n",
       "      <td>7</td>\n",
       "      <td>29</td>\n",
       "    </tr>\n",
       "    <tr>\n",
       "      <th>2211</th>\n",
       "      <td>2013-07-17</td>\n",
       "      <td>19:46:05</td>\n",
       "      <td>41.998237</td>\n",
       "      <td>-87.768623</td>\n",
       "      <td>2013</td>\n",
       "      <td>7</td>\n",
       "      <td>29</td>\n",
       "    </tr>\n",
       "    <tr>\n",
       "      <th>2212</th>\n",
       "      <td>2013-07-17</td>\n",
       "      <td>19:46:15</td>\n",
       "      <td>41.998510</td>\n",
       "      <td>-87.769225</td>\n",
       "      <td>2013</td>\n",
       "      <td>7</td>\n",
       "      <td>29</td>\n",
       "    </tr>\n",
       "    <tr>\n",
       "      <th>2213</th>\n",
       "      <td>2013-07-17</td>\n",
       "      <td>19:46:25</td>\n",
       "      <td>41.998793</td>\n",
       "      <td>-87.769833</td>\n",
       "      <td>2013</td>\n",
       "      <td>7</td>\n",
       "      <td>29</td>\n",
       "    </tr>\n",
       "  </tbody>\n",
       "</table>\n",
       "</div>"
      ],
      "text/plain": [
       "           Date      Time   Latitude  Longitude  year  month  week\n",
       "2209 2013-07-17  19:45:45  41.997728 -87.767532  2013      7    29\n",
       "2210 2013-07-17  19:45:55  41.997990 -87.768085  2013      7    29\n",
       "2211 2013-07-17  19:46:05  41.998237 -87.768623  2013      7    29\n",
       "2212 2013-07-17  19:46:15  41.998510 -87.769225  2013      7    29\n",
       "2213 2013-07-17  19:46:25  41.998793 -87.769833  2013      7    29"
      ]
     },
     "execution_count": 124,
     "metadata": {},
     "output_type": "execute_result"
    }
   ],
   "source": [
    "spray[(spray['year']== 2013) & (spray['week']== 29)].head()"
   ]
  },
  {
   "cell_type": "code",
   "execution_count": 125,
   "metadata": {},
   "outputs": [
    {
     "data": {
      "text/html": [
       "<div>\n",
       "<style scoped>\n",
       "    .dataframe tbody tr th:only-of-type {\n",
       "        vertical-align: middle;\n",
       "    }\n",
       "\n",
       "    .dataframe tbody tr th {\n",
       "        vertical-align: top;\n",
       "    }\n",
       "\n",
       "    .dataframe thead th {\n",
       "        text-align: right;\n",
       "    }\n",
       "</style>\n",
       "<table border=\"1\" class=\"dataframe\">\n",
       "  <thead>\n",
       "    <tr style=\"text-align: right;\">\n",
       "      <th></th>\n",
       "      <th>Date</th>\n",
       "      <th>Time</th>\n",
       "      <th>Latitude</th>\n",
       "      <th>Longitude</th>\n",
       "      <th>year</th>\n",
       "      <th>month</th>\n",
       "      <th>week</th>\n",
       "    </tr>\n",
       "  </thead>\n",
       "  <tbody>\n",
       "    <tr>\n",
       "      <th>6018</th>\n",
       "      <td>2013-08-08</td>\n",
       "      <td>20:22:35</td>\n",
       "      <td>41.919128</td>\n",
       "      <td>-87.696737</td>\n",
       "      <td>2013</td>\n",
       "      <td>8</td>\n",
       "      <td>32</td>\n",
       "    </tr>\n",
       "    <tr>\n",
       "      <th>6019</th>\n",
       "      <td>2013-08-08</td>\n",
       "      <td>20:23:05</td>\n",
       "      <td>41.918935</td>\n",
       "      <td>-87.696405</td>\n",
       "      <td>2013</td>\n",
       "      <td>8</td>\n",
       "      <td>32</td>\n",
       "    </tr>\n",
       "    <tr>\n",
       "      <th>6020</th>\n",
       "      <td>2013-08-08</td>\n",
       "      <td>20:23:15</td>\n",
       "      <td>41.918665</td>\n",
       "      <td>-87.695948</td>\n",
       "      <td>2013</td>\n",
       "      <td>8</td>\n",
       "      <td>32</td>\n",
       "    </tr>\n",
       "    <tr>\n",
       "      <th>6021</th>\n",
       "      <td>2013-08-08</td>\n",
       "      <td>20:23:25</td>\n",
       "      <td>41.918520</td>\n",
       "      <td>-87.695568</td>\n",
       "      <td>2013</td>\n",
       "      <td>8</td>\n",
       "      <td>32</td>\n",
       "    </tr>\n",
       "    <tr>\n",
       "      <th>6022</th>\n",
       "      <td>2013-08-08</td>\n",
       "      <td>20:23:45</td>\n",
       "      <td>41.918023</td>\n",
       "      <td>-87.694743</td>\n",
       "      <td>2013</td>\n",
       "      <td>8</td>\n",
       "      <td>32</td>\n",
       "    </tr>\n",
       "  </tbody>\n",
       "</table>\n",
       "</div>"
      ],
      "text/plain": [
       "           Date      Time   Latitude  Longitude  year  month  week\n",
       "6018 2013-08-08  20:22:35  41.919128 -87.696737  2013      8    32\n",
       "6019 2013-08-08  20:23:05  41.918935 -87.696405  2013      8    32\n",
       "6020 2013-08-08  20:23:15  41.918665 -87.695948  2013      8    32\n",
       "6021 2013-08-08  20:23:25  41.918520 -87.695568  2013      8    32\n",
       "6022 2013-08-08  20:23:45  41.918023 -87.694743  2013      8    32"
      ]
     },
     "execution_count": 125,
     "metadata": {},
     "output_type": "execute_result"
    }
   ],
   "source": [
    "spray[(spray['year']== 2013) & (spray['week']== 32)].head()"
   ]
  },
  {
   "cell_type": "markdown",
   "metadata": {},
   "source": [
    "We conclude our best ML model to be RandomForestClassifier, with a Kaggle Private Score of 0.64530 and Public Score of 0.6619.\n",
    "\n",
    "We have identified the features that are deemed to be most influential in the prediction of West Nile Virus:\n",
    "\n",
    "- Temperature measurements as higher temperatures would let mosquitoes reach biting age sooner and speed multiplication of the virus within insects.\n",
    "\n",
    "- Humidity-related measurements as they can stimulate mosquitoes to bite and create pools of water in which they can breed.\n",
    "\n",
    "As pesticide-spraying seems to have shown some effect in July and August in 2013, we suggest that these efforts can be concentrated within these two months."
   ]
  }
 ],
 "metadata": {
  "kernelspec": {
   "display_name": "Python 3",
   "language": "python",
   "name": "python3"
  },
  "language_info": {
   "codemirror_mode": {
    "name": "ipython",
    "version": 3
   },
   "file_extension": ".py",
   "mimetype": "text/x-python",
   "name": "python",
   "nbconvert_exporter": "python",
   "pygments_lexer": "ipython3",
   "version": "3.7.3"
  }
 },
 "nbformat": 4,
 "nbformat_minor": 2
}
